{
 "cells": [
  {
   "cell_type": "code",
   "execution_count": 1,
   "metadata": {},
   "outputs": [],
   "source": [
    "from sklearn.ensemble import RandomForestRegressor\n",
    "from sklearn.model_selection import train_test_split\n",
    "from sklearn.metrics import mean_absolute_error\n",
    "import pandas as pd\n",
    "import numpy as np\n",
    "import matplotlib.pyplot as plt\n",
    "import sklearn.metrics as metrics\n",
    "import seaborn as sns\n",
    "from pathlib import Path \n",
    "import warnings\n",
    "warnings.filterwarnings(\"ignore\")\n",
    "import pyreadr\n",
    "import random\n",
    "from sklearn.preprocessing import OneHotEncoder"
   ]
  },
  {
   "cell_type": "code",
   "execution_count": 31,
   "metadata": {},
   "outputs": [],
   "source": [
    "df = pyreadr.read_r('I80_1st15minutes_complete.rds')\n",
    "df= df[None]\n"
   ]
  },
  {
   "cell_type": "code",
   "execution_count": 33,
   "metadata": {},
   "outputs": [],
   "source": [
    "df[\"Vehicle.ID\"]=df[\"Vehicle.ID\"].astype(str)\n",
    "df[\"Preceding.Vehicle.ID\"]=df[\"Preceding.Vehicle.ID\"].astype(str)\n",
    "df[\"LF_pairs\"] = df[\"Preceding.Vehicle.ID\"]+ \"_\"+ df[\"Vehicle.ID\"]"
   ]
  },
  {
   "cell_type": "code",
   "execution_count": 34,
   "metadata": {},
   "outputs": [],
   "source": [
    "df[\"nextframeAcc\"]=df.groupby([\"LF_pairs\"],as_index=False)[\"sacc\"].shift(-1)\n",
    "df[\"nextframesvel\"]=df.groupby([\"LF_pairs\"],as_index=False)[\"svel\"].shift(-1)\n",
    "df[\"nextframeposition\"]=df.groupby([\"LF_pairs\"],as_index=False)[\"Local.Y\"].shift(-1)"
   ]
  },
  {
   "cell_type": "code",
   "execution_count": 35,
   "metadata": {},
   "outputs": [],
   "source": [
    "df['Pair_Time_Duration']=(df.groupby(['LF_pairs'],as_index=False).cumcount()*0.1) +0.1"
   ]
  },
  {
   "cell_type": "code",
   "execution_count": 36,
   "metadata": {},
   "outputs": [],
   "source": [
    "df = df[df[\"PrecVehClass\"].notna()]\n",
    "\n",
    "df = df[df[\"svel\"].notna()]\n",
    "\n",
    "df = df[df[\"spacing\"].notna()]\n",
    "\n",
    "df = df[df[\"frspacing\"].notna()]\n",
    "\n",
    "df = df[df[\"Local.Y\"].notna()]\n",
    "\n",
    "df = df[df[\"nextframeAcc\"].notna()]\n",
    "\n",
    "df = df[df[\"Pair_Time_Duration\"].notna()]\n",
    "\n",
    "df = df[df[\"nextframeposition\"].notna()]\n",
    "\n",
    "df = df[df[\"nextframesvel\"].notna()]"
   ]
  },
  {
   "cell_type": "code",
   "execution_count": 38,
   "metadata": {},
   "outputs": [],
   "source": [
    "df['PrecVehType'] = df['PrecVehType'].map({'Motorcycle': 1, 'Car': 2, 'Heavy-Vehicle': 3})\n",
    "df['Vehicle.type'] = df['Vehicle.type'].map({'Motorcycle': 1, 'Car': 2, 'Heavy-Vehicle': 3})"
   ]
  },
  {
   "cell_type": "code",
   "execution_count": 40,
   "metadata": {},
   "outputs": [],
   "source": [
    "def training_pairs(data):\n",
    "    random.seed(2109)\n",
    "    pairs = data[\"LF_pairs\"].unique()\n",
    "    pairs = pairs.tolist()\n",
    "    v = round(len(pairs)*0.7)   \n",
    "    pairs = random.sample(pairs, v)\n",
    "    return pairs\n",
    "my_pairs=training_pairs(df)\n",
    "#converting the total dataset to 70/30% pair for train and test. \n",
    "train = df[df['LF_pairs'].isin(my_pairs)]\n",
    "\n",
    "test = df[~df['LF_pairs'].isin(my_pairs)]"
   ]
  },
  {
   "cell_type": "code",
   "execution_count": 43,
   "metadata": {},
   "outputs": [],
   "source": [
    "X_train = train[[\"spacing\",'PrecVehType','Vehicle.type','dV','svel']]\n",
    "y_train= train['nextframeAcc']\n",
    "X_test = test[[\"spacing\",'PrecVehType','Vehicle.type','dV','svel']]\n",
    "y_test= test['nextframeAcc']\n",
    "rf = RandomForestRegressor(n_estimators = 150,n_jobs=-1)\n",
    "rf.fit(X_train,y_train)"
   ]
  },
  {
   "cell_type": "code",
   "execution_count": 52,
   "metadata": {},
   "outputs": [],
   "source": [
    "def data_in_parts(test,rangefrom,rangeto):\n",
    "    a=test['LF_pairs'].unique()\n",
    "    b = a.tolist()\n",
    "    b = b[rangefrom:rangeto]\n",
    "    c= len(a)/30\n",
    "    return c,b \n",
    "\n",
    "\n",
    "def prediction(test,b,target_variable,RFReg):\n",
    "    F_df = []\n",
    "    r = []\n",
    "    Q = pd.DataFrame()\n",
    "# b is the test range\n",
    "    for i in b:\n",
    "# Q this is the input data frame\n",
    "        Q = test[test['LF_pairs']== i]\n",
    "        vel=np.zeros(Q.shape[0])\n",
    "        PrecVehType =  np.zeros(Q.shape[0])\n",
    "        FollVehtype = np.zeros(Q.shape[0])\n",
    "        spacing = np.zeros(Q.shape[0])\n",
    "        dv = np.zeros(Q.shape[0])\n",
    "        pred_acc = np.zeros(Q.shape[0])\n",
    "        \n",
    "    \n",
    "        #adding first value of the vehicle\n",
    "        vel[0]=Q.iloc[0]['svel']\n",
    "        PrecVehType[0]=Q.iloc[0]['PrecVehType']\n",
    "        FollVehtype[0] = Q.iloc[0]['Vehicle.type']\n",
    "        spacing[0] = Q.iloc[0]['spacing']\n",
    "        \n",
    "        dv[0] = Q.iloc[0]['dV']   \n",
    "        #pred_speed[0] = Q.iloc[0]['svel']\n",
    "    #?? verify this     \n",
    "        pred_acc[0] = Q.iloc[1][target_variable]\n",
    "     \n",
    "    \n",
    "\n",
    "#     #predicting first value of acceleration\n",
    "            #check here\n",
    "        pred_acc[1]= rf.predict(np.array([vel[0],PrecVehType[0],FollVehtype[0],dv[0],spacing[0]]).reshape(1,-1))\n",
    "            \n",
    "\n",
    "#     #calculating vel,frspacing,local.y,dv from the predicted acceleration.\n",
    "            #check here\n",
    "    \n",
    "    \n",
    "        for j in range(2,len(Q)):\n",
    "#         ########\n",
    "#         #print(j)\n",
    "#         ########\n",
    "            vel[j] = vel[j-1]+(pred_acc[j]*0.1)\n",
    "            dv[j] = vel[j] - Q.iloc[j]['PrecVehVel']\n",
    "            spacing[j] = spacing[j-1]+((vel[j-1]*0.1)+ (0.5*pred_acc[j]*pow(0.1,2)))\n",
    "            PrecVehType[j]= PrecVehType[j-1]\n",
    "            FollVehtype[j]=FollVehtype[j-1]\n",
    "#         ########\n",
    "#         ## localy: s = ut + 0.5*a*t^2\n",
    "#         ########\n",
    "            \n",
    "            if j == len(Q)-1:\n",
    "                break\n",
    "            pred_acc[j+1] = rf.predict(np.array([PrecVehType[j],FollVehtype[j],vel[j],dv[j],spacing[j]]).reshape(1, -1))\n",
    "#         ########\n",
    "#         #print(pred_acc)\n",
    "#         ########\n",
    "        Q['pacc']=pred_acc\n",
    "        Q['pvel']=vel\n",
    "        Q['PrecVehType']= PrecVehType\n",
    "        Q['FollVehtype']= FollVehtype\n",
    "        Q['pdv']= dv\n",
    "        Q['spacing']=spacing\n",
    "\n",
    "        F_df.append(Q)\n",
    "        result = pd.concat(F_df)\n",
    "        #r.append(r2_score(Q[target_variable], Q['pacc']))\n",
    "        \n",
    " \n",
    "    return result\n"
   ]
  },
  {
   "cell_type": "code",
   "execution_count": 53,
   "metadata": {},
   "outputs": [
    {
     "name": "stdout",
     "output_type": "stream",
     "text": [
      "['3355_1', '17_12']\n"
     ]
    }
   ],
   "source": [
    "c, b = data_in_parts(test,0,2)\n",
    "print(b)\n",
    "\n",
    "\n",
    "#Predicted acceleration\n",
    "target_variable = 'nextframeAcc'\n",
    "F = prediction(test, b, target_variable, rf)"
   ]
  },
  {
   "cell_type": "code",
   "execution_count": 54,
   "metadata": {},
   "outputs": [
    {
     "data": {
      "text/html": [
       "<div>\n",
       "<style scoped>\n",
       "    .dataframe tbody tr th:only-of-type {\n",
       "        vertical-align: middle;\n",
       "    }\n",
       "\n",
       "    .dataframe tbody tr th {\n",
       "        vertical-align: top;\n",
       "    }\n",
       "\n",
       "    .dataframe thead th {\n",
       "        text-align: right;\n",
       "    }\n",
       "</style>\n",
       "<table border=\"1\" class=\"dataframe\">\n",
       "  <thead>\n",
       "    <tr style=\"text-align: right;\">\n",
       "      <th></th>\n",
       "      <th>Vehicle.ID</th>\n",
       "      <th>Frame.ID</th>\n",
       "      <th>Lane</th>\n",
       "      <th>Local.Y</th>\n",
       "      <th>svel</th>\n",
       "      <th>sacc</th>\n",
       "      <th>Vehicle.Length</th>\n",
       "      <th>Vehicle.class</th>\n",
       "      <th>Following.Vehicle.ID</th>\n",
       "      <th>Preceding.Vehicle.ID</th>\n",
       "      <th>...</th>\n",
       "      <th>dA</th>\n",
       "      <th>LF_pairs</th>\n",
       "      <th>nextframeAcc</th>\n",
       "      <th>nextframesvel</th>\n",
       "      <th>nextframeposition</th>\n",
       "      <th>Pair_Time_Duration</th>\n",
       "      <th>pacc</th>\n",
       "      <th>pvel</th>\n",
       "      <th>FollVehtype</th>\n",
       "      <th>pdv</th>\n",
       "    </tr>\n",
       "  </thead>\n",
       "  <tbody>\n",
       "    <tr>\n",
       "      <th>334</th>\n",
       "      <td>1</td>\n",
       "      <td>481</td>\n",
       "      <td>2</td>\n",
       "      <td>173.27443</td>\n",
       "      <td>6.94512</td>\n",
       "      <td>-0.96402</td>\n",
       "      <td>4.3591</td>\n",
       "      <td>2</td>\n",
       "      <td>11</td>\n",
       "      <td>3355</td>\n",
       "      <td>...</td>\n",
       "      <td>0.65758</td>\n",
       "      <td>3355_1</td>\n",
       "      <td>-1.20074</td>\n",
       "      <td>6.82504</td>\n",
       "      <td>173.95693</td>\n",
       "      <td>0.1</td>\n",
       "      <td>-1.398330</td>\n",
       "      <td>6.945120</td>\n",
       "      <td>2.0</td>\n",
       "      <td>-2.068960</td>\n",
       "    </tr>\n",
       "    <tr>\n",
       "      <th>335</th>\n",
       "      <td>1</td>\n",
       "      <td>482</td>\n",
       "      <td>2</td>\n",
       "      <td>173.95693</td>\n",
       "      <td>6.82504</td>\n",
       "      <td>-1.20074</td>\n",
       "      <td>4.3591</td>\n",
       "      <td>2</td>\n",
       "      <td>11</td>\n",
       "      <td>3355</td>\n",
       "      <td>...</td>\n",
       "      <td>0.01280</td>\n",
       "      <td>3355_1</td>\n",
       "      <td>-1.39833</td>\n",
       "      <td>6.68521</td>\n",
       "      <td>174.62545</td>\n",
       "      <td>0.2</td>\n",
       "      <td>-0.713837</td>\n",
       "      <td>0.000000</td>\n",
       "      <td>0.0</td>\n",
       "      <td>0.000000</td>\n",
       "    </tr>\n",
       "    <tr>\n",
       "      <th>336</th>\n",
       "      <td>1</td>\n",
       "      <td>483</td>\n",
       "      <td>2</td>\n",
       "      <td>174.62545</td>\n",
       "      <td>6.68521</td>\n",
       "      <td>-1.39833</td>\n",
       "      <td>4.3591</td>\n",
       "      <td>2</td>\n",
       "      <td>11</td>\n",
       "      <td>3355</td>\n",
       "      <td>...</td>\n",
       "      <td>-0.56450</td>\n",
       "      <td>3355_1</td>\n",
       "      <td>-1.46441</td>\n",
       "      <td>6.53877</td>\n",
       "      <td>175.27933</td>\n",
       "      <td>0.3</td>\n",
       "      <td>0.000000</td>\n",
       "      <td>0.000000</td>\n",
       "      <td>0.0</td>\n",
       "      <td>-8.809350</td>\n",
       "    </tr>\n",
       "    <tr>\n",
       "      <th>337</th>\n",
       "      <td>1</td>\n",
       "      <td>484</td>\n",
       "      <td>2</td>\n",
       "      <td>175.27933</td>\n",
       "      <td>6.53877</td>\n",
       "      <td>-1.46441</td>\n",
       "      <td>4.3591</td>\n",
       "      <td>2</td>\n",
       "      <td>11</td>\n",
       "      <td>3355</td>\n",
       "      <td>...</td>\n",
       "      <td>-0.91793</td>\n",
       "      <td>3355_1</td>\n",
       "      <td>-1.34976</td>\n",
       "      <td>6.40379</td>\n",
       "      <td>175.91971</td>\n",
       "      <td>0.4</td>\n",
       "      <td>0.831972</td>\n",
       "      <td>0.083197</td>\n",
       "      <td>0.0</td>\n",
       "      <td>-8.671503</td>\n",
       "    </tr>\n",
       "    <tr>\n",
       "      <th>338</th>\n",
       "      <td>1</td>\n",
       "      <td>485</td>\n",
       "      <td>2</td>\n",
       "      <td>175.91971</td>\n",
       "      <td>6.40379</td>\n",
       "      <td>-1.34976</td>\n",
       "      <td>4.3591</td>\n",
       "      <td>2</td>\n",
       "      <td>11</td>\n",
       "      <td>3355</td>\n",
       "      <td>...</td>\n",
       "      <td>-0.99473</td>\n",
       "      <td>3355_1</td>\n",
       "      <td>-1.08862</td>\n",
       "      <td>6.29493</td>\n",
       "      <td>176.54920</td>\n",
       "      <td>0.5</td>\n",
       "      <td>0.831972</td>\n",
       "      <td>0.166394</td>\n",
       "      <td>0.0</td>\n",
       "      <td>-8.552806</td>\n",
       "    </tr>\n",
       "    <tr>\n",
       "      <th>...</th>\n",
       "      <td>...</td>\n",
       "      <td>...</td>\n",
       "      <td>...</td>\n",
       "      <td>...</td>\n",
       "      <td>...</td>\n",
       "      <td>...</td>\n",
       "      <td>...</td>\n",
       "      <td>...</td>\n",
       "      <td>...</td>\n",
       "      <td>...</td>\n",
       "      <td>...</td>\n",
       "      <td>...</td>\n",
       "      <td>...</td>\n",
       "      <td>...</td>\n",
       "      <td>...</td>\n",
       "      <td>...</td>\n",
       "      <td>...</td>\n",
       "      <td>...</td>\n",
       "      <td>...</td>\n",
       "      <td>...</td>\n",
       "      <td>...</td>\n",
       "    </tr>\n",
       "    <tr>\n",
       "      <th>3603</th>\n",
       "      <td>12</td>\n",
       "      <td>633</td>\n",
       "      <td>1</td>\n",
       "      <td>223.33817</td>\n",
       "      <td>18.19996</td>\n",
       "      <td>1.62162</td>\n",
       "      <td>2.5606</td>\n",
       "      <td>1</td>\n",
       "      <td>25</td>\n",
       "      <td>17</td>\n",
       "      <td>...</td>\n",
       "      <td>0.92154</td>\n",
       "      <td>17_12</td>\n",
       "      <td>1.77765</td>\n",
       "      <td>18.37772</td>\n",
       "      <td>225.17594</td>\n",
       "      <td>9.6</td>\n",
       "      <td>-0.088647</td>\n",
       "      <td>2.391000</td>\n",
       "      <td>0.0</td>\n",
       "      <td>-12.737440</td>\n",
       "    </tr>\n",
       "    <tr>\n",
       "      <th>3604</th>\n",
       "      <td>12</td>\n",
       "      <td>634</td>\n",
       "      <td>1</td>\n",
       "      <td>225.17594</td>\n",
       "      <td>18.37772</td>\n",
       "      <td>1.77765</td>\n",
       "      <td>2.5606</td>\n",
       "      <td>1</td>\n",
       "      <td>25</td>\n",
       "      <td>17</td>\n",
       "      <td>...</td>\n",
       "      <td>1.19882</td>\n",
       "      <td>17_12</td>\n",
       "      <td>1.69884</td>\n",
       "      <td>18.54761</td>\n",
       "      <td>227.03070</td>\n",
       "      <td>9.7</td>\n",
       "      <td>-0.088647</td>\n",
       "      <td>2.382135</td>\n",
       "      <td>0.0</td>\n",
       "      <td>-12.804185</td>\n",
       "    </tr>\n",
       "    <tr>\n",
       "      <th>3605</th>\n",
       "      <td>12</td>\n",
       "      <td>635</td>\n",
       "      <td>1</td>\n",
       "      <td>227.03070</td>\n",
       "      <td>18.54761</td>\n",
       "      <td>1.69884</td>\n",
       "      <td>2.5606</td>\n",
       "      <td>1</td>\n",
       "      <td>25</td>\n",
       "      <td>17</td>\n",
       "      <td>...</td>\n",
       "      <td>1.25375</td>\n",
       "      <td>17_12</td>\n",
       "      <td>1.43750</td>\n",
       "      <td>18.69136</td>\n",
       "      <td>228.89984</td>\n",
       "      <td>9.8</td>\n",
       "      <td>-0.088647</td>\n",
       "      <td>2.373271</td>\n",
       "      <td>0.0</td>\n",
       "      <td>-12.857559</td>\n",
       "    </tr>\n",
       "    <tr>\n",
       "      <th>3606</th>\n",
       "      <td>12</td>\n",
       "      <td>636</td>\n",
       "      <td>1</td>\n",
       "      <td>228.89984</td>\n",
       "      <td>18.69136</td>\n",
       "      <td>1.43750</td>\n",
       "      <td>2.5606</td>\n",
       "      <td>1</td>\n",
       "      <td>25</td>\n",
       "      <td>17</td>\n",
       "      <td>...</td>\n",
       "      <td>1.13695</td>\n",
       "      <td>17_12</td>\n",
       "      <td>1.13538</td>\n",
       "      <td>18.80489</td>\n",
       "      <td>230.78033</td>\n",
       "      <td>9.9</td>\n",
       "      <td>-0.088647</td>\n",
       "      <td>2.364406</td>\n",
       "      <td>0.0</td>\n",
       "      <td>-12.896484</td>\n",
       "    </tr>\n",
       "    <tr>\n",
       "      <th>3607</th>\n",
       "      <td>12</td>\n",
       "      <td>637</td>\n",
       "      <td>1</td>\n",
       "      <td>230.78033</td>\n",
       "      <td>18.80489</td>\n",
       "      <td>1.13538</td>\n",
       "      <td>2.5606</td>\n",
       "      <td>1</td>\n",
       "      <td>25</td>\n",
       "      <td>17</td>\n",
       "      <td>...</td>\n",
       "      <td>0.98640</td>\n",
       "      <td>17_12</td>\n",
       "      <td>0.93709</td>\n",
       "      <td>18.89860</td>\n",
       "      <td>232.67019</td>\n",
       "      <td>10.0</td>\n",
       "      <td>-0.088647</td>\n",
       "      <td>2.355541</td>\n",
       "      <td>0.0</td>\n",
       "      <td>-12.920239</td>\n",
       "    </tr>\n",
       "  </tbody>\n",
       "</table>\n",
       "<p>181 rows × 46 columns</p>\n",
       "</div>"
      ],
      "text/plain": [
       "     Vehicle.ID  Frame.ID  Lane    Local.Y      svel     sacc  Vehicle.Length  \\\n",
       "334           1       481     2  173.27443   6.94512 -0.96402          4.3591   \n",
       "335           1       482     2  173.95693   6.82504 -1.20074          4.3591   \n",
       "336           1       483     2  174.62545   6.68521 -1.39833          4.3591   \n",
       "337           1       484     2  175.27933   6.53877 -1.46441          4.3591   \n",
       "338           1       485     2  175.91971   6.40379 -1.34976          4.3591   \n",
       "...         ...       ...   ...        ...       ...      ...             ...   \n",
       "3603         12       633     1  223.33817  18.19996  1.62162          2.5606   \n",
       "3604         12       634     1  225.17594  18.37772  1.77765          2.5606   \n",
       "3605         12       635     1  227.03070  18.54761  1.69884          2.5606   \n",
       "3606         12       636     1  228.89984  18.69136  1.43750          2.5606   \n",
       "3607         12       637     1  230.78033  18.80489  1.13538          2.5606   \n",
       "\n",
       "      Vehicle.class  Following.Vehicle.ID Preceding.Vehicle.ID  ...       dA  \\\n",
       "334               2                    11                 3355  ...  0.65758   \n",
       "335               2                    11                 3355  ...  0.01280   \n",
       "336               2                    11                 3355  ... -0.56450   \n",
       "337               2                    11                 3355  ... -0.91793   \n",
       "338               2                    11                 3355  ... -0.99473   \n",
       "...             ...                   ...                  ...  ...      ...   \n",
       "3603              1                    25                   17  ...  0.92154   \n",
       "3604              1                    25                   17  ...  1.19882   \n",
       "3605              1                    25                   17  ...  1.25375   \n",
       "3606              1                    25                   17  ...  1.13695   \n",
       "3607              1                    25                   17  ...  0.98640   \n",
       "\n",
       "     LF_pairs nextframeAcc  nextframesvel  nextframeposition  \\\n",
       "334    3355_1     -1.20074        6.82504          173.95693   \n",
       "335    3355_1     -1.39833        6.68521          174.62545   \n",
       "336    3355_1     -1.46441        6.53877          175.27933   \n",
       "337    3355_1     -1.34976        6.40379          175.91971   \n",
       "338    3355_1     -1.08862        6.29493          176.54920   \n",
       "...       ...          ...            ...                ...   \n",
       "3603    17_12      1.77765       18.37772          225.17594   \n",
       "3604    17_12      1.69884       18.54761          227.03070   \n",
       "3605    17_12      1.43750       18.69136          228.89984   \n",
       "3606    17_12      1.13538       18.80489          230.78033   \n",
       "3607    17_12      0.93709       18.89860          232.67019   \n",
       "\n",
       "     Pair_Time_Duration      pacc      pvel  FollVehtype        pdv  \n",
       "334                 0.1 -1.398330  6.945120          2.0  -2.068960  \n",
       "335                 0.2 -0.713837  0.000000          0.0   0.000000  \n",
       "336                 0.3  0.000000  0.000000          0.0  -8.809350  \n",
       "337                 0.4  0.831972  0.083197          0.0  -8.671503  \n",
       "338                 0.5  0.831972  0.166394          0.0  -8.552806  \n",
       "...                 ...       ...       ...          ...        ...  \n",
       "3603                9.6 -0.088647  2.391000          0.0 -12.737440  \n",
       "3604                9.7 -0.088647  2.382135          0.0 -12.804185  \n",
       "3605                9.8 -0.088647  2.373271          0.0 -12.857559  \n",
       "3606                9.9 -0.088647  2.364406          0.0 -12.896484  \n",
       "3607               10.0 -0.088647  2.355541          0.0 -12.920239  \n",
       "\n",
       "[181 rows x 46 columns]"
      ]
     },
     "execution_count": 54,
     "metadata": {},
     "output_type": "execute_result"
    }
   ],
   "source": [
    "F"
   ]
  },
  {
   "cell_type": "code",
   "execution_count": 57,
   "metadata": {},
   "outputs": [],
   "source": [
    "F1 = F[F[\"LF_pairs\"] == \"3355_1\"]"
   ]
  },
  {
   "cell_type": "code",
   "execution_count": 60,
   "metadata": {},
   "outputs": [],
   "source": [
    "F2 = F[F[\"LF_pairs\"] == \"17_12\"]"
   ]
  },
  {
   "cell_type": "code",
   "execution_count": 62,
   "metadata": {},
   "outputs": [
    {
     "data": {
      "image/png": "[encoded data removed]",
      "text/plain": [
       "<Figure size 360x504 with 1 Axes>"
      ]
     },
     "metadata": {
      "needs_background": "light"
     },
     "output_type": "display_data"
    }
   ],
   "source": [
    "import seaborn as sns\n",
    "plt.figure(figsize=(5, 7))\n",
    "\n",
    "\n",
    "ax = sns.lineplot(x=F1[\"Pair_Time_Duration\"], y = F1[\"nextframeAcc\"], color=\"r\", label=\"Actual Value\")\n",
    "sns.lineplot(x=F1[\"Pair_Time_Duration\"], y =F1[\"pacc\"],  color=\"b\", label=\"Fitted Values\" )\n",
    "\n",
    "\n",
    "plt.title('Actual vs Fitted Values')\n",
    "\n",
    "\n",
    "plt.show()\n",
    "plt.close()"
   ]
  },
  {
   "cell_type": "code",
   "execution_count": 63,
   "metadata": {},
   "outputs": [
    {
     "data": {
      "image/png": "[encoded data removed]",
      "text/plain": [
       "<Figure size 360x504 with 1 Axes>"
      ]
     },
     "metadata": {
      "needs_background": "light"
     },
     "output_type": "display_data"
    }
   ],
   "source": [
    "import seaborn as sns\n",
    "plt.figure(figsize=(5, 7))\n",
    "\n",
    "\n",
    "ax = sns.lineplot(x=F2[\"Pair_Time_Duration\"], y = F2[\"nextframeAcc\"], color=\"r\", label=\"Actual Value\")\n",
    "sns.lineplot(x=F2[\"Pair_Time_Duration\"], y =F2[\"pacc\"],  color=\"b\", label=\"Fitted Values\" )\n",
    "\n",
    "\n",
    "plt.title('Actual vs Fitted Values')\n",
    "\n",
    "\n",
    "plt.show()\n",
    "plt.close()"
   ]
  },
  {
   "cell_type": "code",
   "execution_count": 71,
   "metadata": {},
   "outputs": [],
   "source": [
    "F0 = F[F[\"LF_pairs\"] == \"3355_1\"]"
   ]
  },
  {
   "cell_type": "code",
   "execution_count": 72,
   "metadata": {},
   "outputs": [
    {
     "data": {
      "image/png": "[encoded data removed]",
      "text/plain": [
       "<Figure size 432x288 with 1 Axes>"
      ]
     },
     "metadata": {
      "needs_background": "light"
     },
     "output_type": "display_data"
    }
   ],
   "source": [
    "ax = sns.lineplot(x=F0[\"Pair_Time_Duration\"], y = F0[\"nextframeAcc\"], color=\"r\", label=\"Actual Value\")\n",
    "sns.lineplot(x=F0[\"Pair_Time_Duration\"], y =F0[\"pacc1\"],  color=\"b\", label=\"Fitted Values\" )\n",
    "\n",
    "\n",
    "plt.title('Actual vs Fitted Values')\n",
    "\n",
    "\n",
    "plt.show()\n",
    "plt.close()"
   ]
  },
  {
   "cell_type": "code",
   "execution_count": null,
   "metadata": {},
   "outputs": [],
   "source": []
  },
  {
   "cell_type": "code",
   "execution_count": null,
   "metadata": {},
   "outputs": [],
   "source": []
  },
  {
   "cell_type": "code",
   "execution_count": 81,
   "metadata": {},
   "outputs": [],
   "source": [
    "def data_in_parts(test,rangefrom,rangeto):\n",
    "    a=test['LF_pairs'].unique()\n",
    "    b = a.tolist()\n",
    "    b = b[rangefrom:rangeto]\n",
    "    c= len(a)/30\n",
    "    return c,b \n",
    "\n",
    "\n",
    "def prediction(test,b,target_variable,RFReg):\n",
    "    F_df = []\n",
    "    r = []\n",
    "    Q = pd.DataFrame()\n",
    "# b is the test range\n",
    "    for i in b:\n",
    "# Q this is the input data frame\n",
    "        Q = test[test['LF_pairs']== i]\n",
    "        vel=np.zeros(Q.shape[0])\n",
    "        PrecVehType =  np.zeros(Q.shape[0])\n",
    "        FollVehtype = np.zeros(Q.shape[0])\n",
    "        spacing = np.zeros(Q.shape[0])\n",
    "        dv = np.zeros(Q.shape[0])\n",
    "        pred_acc = np.zeros(Q.shape[0])\n",
    "        \n",
    "    \n",
    "        #adding first value of the vehicle\n",
    "        vel[0]=Q.iloc[0]['svel']\n",
    "        PrecVehType[0]=Q.iloc[0]['PrecVehType']\n",
    "        FollVehtype[0] = Q.iloc[0]['Vehicle.type']\n",
    "        spacing[0] = Q.iloc[0]['spacing']\n",
    "        \n",
    "        dv[0] = Q.iloc[0]['dV']   \n",
    "        #pred_speed[0] = Q.iloc[0]['svel']\n",
    "    #?? verify this     \n",
    "        pred_acc[0] = Q.iloc[1][target_variable]\n",
    "     \n",
    "    \n",
    "\n",
    "#     #predicting first value of acceleration\n",
    "            #check here\n",
    "        pred_acc[1]= rf.predict(np.array([vel[0],PrecVehType[0],FollVehtype[0],dv[0],spacing[0]]).reshape(1,-1))\n",
    "            \n",
    "\n",
    "#     #calculating vel,frspacing,local.y,dv from the predicted acceleration.\n",
    "            #check here\n",
    "    \n",
    "    \n",
    "        for j in range(2,len(Q)):\n",
    "#         ########\n",
    "#         #print(j)\n",
    "#         ########\n",
    "            vel[j] = vel[j-1]+(pred_acc[j]*0.1)\n",
    "            dv[j] = vel[j] - Q.iloc[j]['PrecVehVel']\n",
    "            spacing[j] = ((vel[j-1]*0.1)+ (0.5*pred_acc[j]*pow(0.1,2))) ############################################################\n",
    "            PrecVehType[j]= PrecVehType[j-1]\n",
    "            FollVehtype[j]=FollVehtype[j-1]\n",
    "#         ########\n",
    "#         ## localy: s = ut + 0.5*a*t^2\n",
    "#         ########\n",
    "            \n",
    "            if j == len(Q)-1:\n",
    "                break\n",
    "            pred_acc[j+1] = rf.predict(np.array([PrecVehType[j],FollVehtype[j],vel[j],dv[j],spacing[j]]).reshape(1, -1))\n",
    "#         ########\n",
    "#         #print(pred_acc)\n",
    "#         ########\n",
    "        Q['pacc1']=pred_acc\n",
    "\n",
    "        F_df.append(Q)\n",
    "        result = pd.concat(F_df)\n",
    "        #r.append(r2_score(Q[target_variable], Q['pacc']))\n",
    "        \n",
    " \n",
    "    return result\n"
   ]
  },
  {
   "cell_type": "code",
   "execution_count": 87,
   "metadata": {},
   "outputs": [
    {
     "name": "stdout",
     "output_type": "stream",
     "text": [
      "['3355_1', '17_12', '15_13', '27_31', '25_39']\n"
     ]
    }
   ],
   "source": [
    "c, b = data_in_parts(test,0,5)\n",
    "print(b)\n",
    "\n",
    "\n",
    "#Predicted acceleration\n",
    "target_variable = 'nextframeAcc'\n",
    "F = prediction(test, b, target_variable, rf)"
   ]
  },
  {
   "cell_type": "code",
   "execution_count": 92,
   "metadata": {},
   "outputs": [
    {
     "data": {
      "text/plain": [
       "array(['3355_1', '17_12', '15_13', '27_31', '25_39'], dtype=object)"
      ]
     },
     "execution_count": 92,
     "metadata": {},
     "output_type": "execute_result"
    }
   ],
   "source": [
    "F[\"LF_pairs\"].unique()"
   ]
  },
  {
   "cell_type": "code",
   "execution_count": 83,
   "metadata": {},
   "outputs": [
    {
     "data": {
      "image/png": "[encoded data removed]",
      "text/plain": [
       "<Figure size 432x288 with 1 Axes>"
      ]
     },
     "metadata": {
      "needs_background": "light"
     },
     "output_type": "display_data"
    }
   ],
   "source": [
    "ax = sns.lineplot(x=F0[\"Pair_Time_Duration\"], y = F0[\"nextframeAcc\"], color=\"r\", label=\"Actual Value\")\n",
    "sns.lineplot(x=F0[\"Pair_Time_Duration\"], y =F0[\"pacc1\"],  color=\"b\", label=\"Fitted Values\" )\n",
    "\n",
    "\n",
    "plt.title('Actual vs Fitted Values')\n",
    "\n",
    "\n",
    "plt.show()\n",
    "plt.close()"
   ]
  },
  {
   "cell_type": "code",
   "execution_count": 93,
   "metadata": {},
   "outputs": [],
   "source": [
    "F00 = F[F[\"LF_pairs\"] == \"15_13\"]"
   ]
  },
  {
   "cell_type": "code",
   "execution_count": 94,
   "metadata": {},
   "outputs": [
    {
     "data": {
      "image/png": "[encoded data removed]",
      "text/plain": [
       "<Figure size 432x288 with 1 Axes>"
      ]
     },
     "metadata": {
      "needs_background": "light"
     },
     "output_type": "display_data"
    }
   ],
   "source": [
    "ax = sns.lineplot(x=F00[\"Pair_Time_Duration\"], y = F00[\"nextframeAcc\"], color=\"r\", label=\"Actual Value\")\n",
    "sns.lineplot(x=F00[\"Pair_Time_Duration\"], y =F00[\"pacc1\"],  color=\"b\", label=\"Fitted Values\" )\n",
    "\n",
    "\n",
    "plt.title('Actual vs Fitted Values')\n",
    "\n",
    "\n",
    "plt.show()\n",
    "plt.close()"
   ]
  },
  {
   "cell_type": "code",
   "execution_count": null,
   "metadata": {},
   "outputs": [],
   "source": []
  }
 ],
 "metadata": {
  "kernelspec": {
   "display_name": "Python 3.9.12 ('base')",
   "language": "python",
   "name": "python3"
  },
  "language_info": {
   "codemirror_mode": {
    "name": "ipython",
    "version": 3
   },
   "file_extension": ".py",
   "mimetype": "text/x-python",
   "name": "python",
   "nbconvert_exporter": "python",
   "pygments_lexer": "ipython3",
   "version": "3.9.12"
  },
  "orig_nbformat": 4,
  "vscode": {
   "interpreter": {
    "hash": "aa044723cc8c9a32e1f63c8c7d0ac0a1c9d2e4bf3cb98725963159024f0e908a"
   }
  }
 },
 "nbformat": 4,
 "nbformat_minor": 2
}
