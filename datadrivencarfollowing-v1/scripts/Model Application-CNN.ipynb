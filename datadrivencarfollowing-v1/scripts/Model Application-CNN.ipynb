{
    "cells": [
        {
            "cell_type": "markdown",
            "metadata": {},
            "source": [
                "Importing required libraries to predict acceleration using random forest, calculate RMSE (RootMeanSquaredError), and create plots to compare predicted and actual acceleration"
            ]
        },
        {
            "cell_type": "code",
            "execution_count": 1,
            "metadata": {},
            "outputs": [],
            "source": [
                "import pandas as pd\n",
                "import numpy as np\n",
                "\n",
                "#import src\n",
                "import FileProcessing\n",
                "import ModelClass\n"
            ]
        },
        {
            "cell_type": "markdown",
            "metadata": {},
            "source": [
                "Loading the cleaned ngsim data using pandas"
            ]
        },
        {
            "cell_type": "code",
            "execution_count": 2,
            "metadata": {},
            "outputs": [],
            "source": [
                "fileProcessing=FileProcessing.FileProcessing()\n",
                "model_obj=ModelClass.ModelClass()"
            ]
        },
        {
            "cell_type": "code",
            "execution_count": 3,
            "metadata": {},
            "outputs": [
                {
                    "name": "stdout",
                    "output_type": "stream",
                    "text": [
                        "original File path: c:\\Users\\StudentAccount\\Python\\Capstone\\gitcodelocation\\DataDrivenCarFollowing\\datadrivencarfollowing-v1\\scripts\n",
                        "Data File path: c:\\Users\\StudentAccount\\Python\\Capstone\\gitcodelocation\\DataDrivenCarFollowing\\datadrivencarfollowing-v1\\data\n"
                    ]
                }
            ],
            "source": [
                "file_name='Cleaned_NGSIM_Data'\n",
                "ngsim=fileProcessing.read_input(file_name)"
            ]
        },
        {
            "cell_type": "code",
            "execution_count": 4,
            "metadata": {},
            "outputs": [
                {
                    "name": "stdout",
                    "output_type": "stream",
                    "text": [
                        "Model: \"functional_1\"\n",
                        "_________________________________________________________________\n",
                        "Layer (type)                 Output Shape              Param #   \n",
                        "=================================================================\n",
                        "input_1 (InputLayer)         [(None, 5, 1)]            0         \n",
                        "_________________________________________________________________\n",
                        "Block1_Conv1 (Conv1D)        (None, 5, 16)             48        \n",
                        "_________________________________________________________________\n",
                        "Block1_Conv2 (Conv1D)        (None, 5, 16)             528       \n",
                        "_________________________________________________________________\n",
                        "batch_normalization (BatchNo (None, 5, 16)             64        \n",
                        "_________________________________________________________________\n",
                        "dropout (Dropout)            (None, 5, 16)             0         \n",
                        "_________________________________________________________________\n",
                        "Block2_Conv1 (Conv1D)        (None, 5, 32)             1056      \n",
                        "_________________________________________________________________\n",
                        "Block2_Conv2 (Conv1D)        (None, 5, 32)             2080      \n",
                        "_________________________________________________________________\n",
                        "dropout_1 (Dropout)          (None, 5, 32)             0         \n",
                        "_________________________________________________________________\n",
                        "Block3_Conv1 (Conv1D)        (None, 5, 32)             2080      \n",
                        "_________________________________________________________________\n",
                        "Block3_Conv2 (Conv1D)        (None, 5, 32)             2080      \n",
                        "_________________________________________________________________\n",
                        "batch_normalization_1 (Batch (None, 5, 32)             128       \n",
                        "_________________________________________________________________\n",
                        "dropout_2 (Dropout)          (None, 5, 32)             0         \n",
                        "_________________________________________________________________\n",
                        "flatten (Flatten)            (None, 160)               0         \n",
                        "_________________________________________________________________\n",
                        "dense (Dense)                (None, 128)               20608     \n",
                        "_________________________________________________________________\n",
                        "dense_1 (Dense)              (None, 64)                8256      \n",
                        "_________________________________________________________________\n",
                        "dense_2 (Dense)              (None, 16)                1040      \n",
                        "_________________________________________________________________\n",
                        "dense_3 (Dense)              (None, 1)                 17        \n",
                        "=================================================================\n",
                        "Total params: 37,985\n",
                        "Trainable params: 37,889\n",
                        "Non-trainable params: 96\n",
                        "_________________________________________________________________\n",
                        "Epoch 1/10\n",
                        "105703/105720 [============================>.] - ETA: 0s - loss: 1.6976 - accuracy: 0.2302"
                    ]
                }
            ],
            "source": [
                "delta_time=0.1\n",
                "ngsim_0_1, train_df_0_1, val_df_0_1, test_df_0_1, X_train_0_1, y_train_0_1, X_val_0_1, y_val_0_1, X_test_0_1, y_test_0_1,predicted_data_0_1,model_0_1= model_obj.fit_and_run_neural(ngsim, delta_time)"
            ]
        }
    ],
    "metadata": {
        "kernelspec": {
            "display_name": "Python 3.8.13 ('Project')",
            "language": "python",
            "name": "python3"
        },
        "language_info": {
            "codemirror_mode": {
                "name": "ipython",
                "version": 3
            },
            "file_extension": ".py",
            "mimetype": "text/x-python",
            "name": "python",
            "nbconvert_exporter": "python",
            "pygments_lexer": "ipython3",
            "version": "3.8.13"
        },
        "orig_nbformat": 4,
        "vscode": {
            "interpreter": {
                "hash": "32f9b5c64a9ffdfd44c75ce715a0c18d651d70bac5b5e0fedf911a0bbec25f03"
            }
        }
    },
    "nbformat": 4,
    "nbformat_minor": 2
}
