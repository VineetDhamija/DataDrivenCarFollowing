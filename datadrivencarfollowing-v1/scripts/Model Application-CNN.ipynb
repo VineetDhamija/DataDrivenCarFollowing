{
    "cells": [
        {
            "cell_type": "markdown",
            "metadata": {},
            "source": [
                "Importing required libraries to predict acceleration using random forest, calculate RMSE (RootMeanSquaredError), and create plots to compare predicted and actual acceleration"
            ]
        },
        {
            "cell_type": "code",
            "execution_count": 1,
            "metadata": {},
            "outputs": [
                {
                    "name": "stdout",
                    "output_type": "stream",
                    "text": [
                        "original File path: c:\\Users\\StudentAccount\\Python\\Capstone\\gitcodelocation\\DataDrivenCarFollowing\\datadrivencarfollowing-v1\\scripts\n",
                        "Data File path: c:\\Users\\StudentAccount\\Python\\Capstone\\gitcodelocation\\DataDrivenCarFollowing\\datadrivencarfollowing-v1\\data\n"
                    ]
                }
            ],
            "source": [
                "import pandas as pd\n",
                "import numpy as np\n",
                "\n",
                "#import src\n",
                "import FileProcessing\n",
                "import ModelClass\n"
            ]
        },
        {
            "cell_type": "markdown",
            "metadata": {},
            "source": [
                "Loading the cleaned ngsim data using pandas"
            ]
        },
        {
            "cell_type": "code",
            "execution_count": 2,
            "metadata": {},
            "outputs": [],
            "source": [
                "fileProcessing=FileProcessing.FileProcessing()\n",
                "model_obj=ModelClass.ModelClass()"
            ]
        },
        {
            "cell_type": "code",
            "execution_count": 3,
            "metadata": {},
            "outputs": [
                {
                    "name": "stdout",
                    "output_type": "stream",
                    "text": [
                        "File Read Complete: c:\\Users\\StudentAccount\\Python\\Capstone\\gitcodelocation\\DataDrivenCarFollowing\\datadrivencarfollowing-v1\\data/Cleaned_NGSIM_Data.csv\n"
                    ]
                }
            ],
            "source": [
                "file_name='Cleaned_NGSIM_Data'\n",
                "ngsim=fileProcessing.read_input(file_name)"
            ]
        },
        {
            "cell_type": "code",
            "execution_count": 4,
            "metadata": {},
            "outputs": [
                {
                    "name": "stdout",
                    "output_type": "stream",
                    "text": [
                        "Model: \"functional_1\"\n",
                        "_________________________________________________________________\n",
                        "Layer (type)                 Output Shape              Param #   \n",
                        "=================================================================\n",
                        "input_1 (InputLayer)         [(None, 5, 1)]            0         \n",
                        "_________________________________________________________________\n",
                        "Block1_Conv1 (Conv1D)        (None, 5, 16)             48        \n",
                        "_________________________________________________________________\n",
                        "Block1_Conv2 (Conv1D)        (None, 5, 16)             528       \n",
                        "_________________________________________________________________\n",
                        "batch_normalization (BatchNo (None, 5, 16)             64        \n",
                        "_________________________________________________________________\n",
                        "dropout (Dropout)            (None, 5, 16)             0         \n",
                        "_________________________________________________________________\n",
                        "Block2_Conv1 (Conv1D)        (None, 5, 32)             1056      \n",
                        "_________________________________________________________________\n",
                        "Block2_Conv2 (Conv1D)        (None, 5, 32)             2080      \n",
                        "_________________________________________________________________\n",
                        "dropout_1 (Dropout)          (None, 5, 32)             0         \n",
                        "_________________________________________________________________\n",
                        "Block3_Conv1 (Conv1D)        (None, 5, 32)             2080      \n",
                        "_________________________________________________________________\n",
                        "Block3_Conv2 (Conv1D)        (None, 5, 32)             2080      \n",
                        "_________________________________________________________________\n",
                        "batch_normalization_1 (Batch (None, 5, 32)             128       \n",
                        "_________________________________________________________________\n",
                        "dropout_2 (Dropout)          (None, 5, 32)             0         \n",
                        "_________________________________________________________________\n",
                        "flatten (Flatten)            (None, 160)               0         \n",
                        "_________________________________________________________________\n",
                        "dense (Dense)                (None, 128)               20608     \n",
                        "_________________________________________________________________\n",
                        "dense_1 (Dense)              (None, 64)                8256      \n",
                        "_________________________________________________________________\n",
                        "dense_2 (Dense)              (None, 16)                1040      \n",
                        "_________________________________________________________________\n",
                        "dense_3 (Dense)              (None, 1)                 17        \n",
                        "=================================================================\n",
                        "Total params: 37,985\n",
                        "Trainable params: 37,889\n",
                        "Non-trainable params: 96\n",
                        "_________________________________________________________________\n",
                        "Epoch 1/10\n",
                        "129071/129094 [============================>.] - ETA: 0s - loss: 1.6985 - mean_squared_error: 1.6985WARNING:tensorflow:Can save best model only with val_loss available, skipping.\n",
                        "WARNING:tensorflow:Early stopping conditioned on metric `val_accuracy` which is not available. Available metrics are: loss,mean_squared_error\n",
                        "129094/129094 [==============================] - 233s 2ms/step - loss: 1.6985 - mean_squared_error: 1.6985\n",
                        "Epoch 2/10\n",
                        "129091/129094 [============================>.] - ETA: 0s - loss: 1.6997 - mean_squared_error: 1.6997WARNING:tensorflow:Can save best model only with val_loss available, skipping.\n",
                        "WARNING:tensorflow:Early stopping conditioned on metric `val_accuracy` which is not available. Available metrics are: loss,mean_squared_error\n",
                        "129094/129094 [==============================] - 211s 2ms/step - loss: 1.6997 - mean_squared_error: 1.6997\n",
                        "Epoch 3/10\n",
                        "129091/129094 [============================>.] - ETA: 0s - loss: 1.6999 - mean_squared_error: 1.6999WARNING:tensorflow:Can save best model only with val_loss available, skipping.\n",
                        "WARNING:tensorflow:Early stopping conditioned on metric `val_accuracy` which is not available. Available metrics are: loss,mean_squared_error\n",
                        "129094/129094 [==============================] - 213s 2ms/step - loss: 1.6999 - mean_squared_error: 1.6999\n",
                        "Epoch 4/10\n",
                        "129080/129094 [============================>.] - ETA: 0s - loss: 1.7049 - mean_squared_error: 1.7049WARNING:tensorflow:Can save best model only with val_loss available, skipping.\n",
                        "WARNING:tensorflow:Early stopping conditioned on metric `val_accuracy` which is not available. Available metrics are: loss,mean_squared_error\n",
                        "129094/129094 [==============================] - 214s 2ms/step - loss: 1.7049 - mean_squared_error: 1.7049\n",
                        "Epoch 5/10\n",
                        "129093/129094 [============================>.] - ETA: 0s - loss: 1.7036 - mean_squared_error: 1.7036WARNING:tensorflow:Can save best model only with val_loss available, skipping.\n",
                        "WARNING:tensorflow:Early stopping conditioned on metric `val_accuracy` which is not available. Available metrics are: loss,mean_squared_error\n",
                        "129094/129094 [==============================] - 218s 2ms/step - loss: 1.7036 - mean_squared_error: 1.7036\n",
                        "Epoch 6/10\n",
                        "129086/129094 [============================>.] - ETA: 0s - loss: 1.7086 - mean_squared_error: 1.7086WARNING:tensorflow:Can save best model only with val_loss available, skipping.\n",
                        "WARNING:tensorflow:Early stopping conditioned on metric `val_accuracy` which is not available. Available metrics are: loss,mean_squared_error\n",
                        "129094/129094 [==============================] - 216s 2ms/step - loss: 1.7086 - mean_squared_error: 1.7086\n",
                        "Epoch 7/10\n",
                        "129061/129094 [============================>.] - ETA: 0s - loss: 1.7187 - mean_squared_error: 1.7187WARNING:tensorflow:Can save best model only with val_loss available, skipping.\n",
                        "WARNING:tensorflow:Early stopping conditioned on metric `val_accuracy` which is not available. Available metrics are: loss,mean_squared_error\n",
                        "129094/129094 [==============================] - 218s 2ms/step - loss: 1.7188 - mean_squared_error: 1.7188\n",
                        "Epoch 8/10\n",
                        "129068/129094 [============================>.] - ETA: 0s - loss: 1.7199 - mean_squared_error: 1.7199WARNING:tensorflow:Can save best model only with val_loss available, skipping.\n",
                        "WARNING:tensorflow:Early stopping conditioned on metric `val_accuracy` which is not available. Available metrics are: loss,mean_squared_error\n",
                        "129094/129094 [==============================] - 220s 2ms/step - loss: 1.7199 - mean_squared_error: 1.7199\n",
                        "Epoch 9/10\n",
                        "129083/129094 [============================>.] - ETA: 0s - loss: 1.7346 - mean_squared_error: 1.7346WARNING:tensorflow:Can save best model only with val_loss available, skipping.\n",
                        "WARNING:tensorflow:Early stopping conditioned on metric `val_accuracy` which is not available. Available metrics are: loss,mean_squared_error\n",
                        "129094/129094 [==============================] - 222s 2ms/step - loss: 1.7346 - mean_squared_error: 1.7346\n",
                        "Epoch 10/10\n",
                        "129093/129094 [============================>.] - ETA: 0s - loss: 1.7424 - mean_squared_error: 1.7424WARNING:tensorflow:Can save best model only with val_loss available, skipping.\n",
                        "WARNING:tensorflow:Early stopping conditioned on metric `val_accuracy` which is not available. Available metrics are: loss,mean_squared_error\n",
                        "129094/129094 [==============================] - 223s 2ms/step - loss: 1.7424 - mean_squared_error: 1.7424\n"
                    ]
                },
                {
                    "ename": "KeyError",
                    "evalue": "'val_loss'",
                    "output_type": "error",
                    "traceback": [
                        "\u001b[1;31m---------------------------------------------------------------------------\u001b[0m",
                        "\u001b[1;31mKeyError\u001b[0m                                  Traceback (most recent call last)",
                        "\u001b[1;32mc:\\Users\\StudentAccount\\Python\\Capstone\\gitcodelocation\\DataDrivenCarFollowing\\datadrivencarfollowing-v1\\scripts\\Model Application-CNN.ipynb Cell 6\u001b[0m in \u001b[0;36m<cell line: 2>\u001b[1;34m()\u001b[0m\n\u001b[0;32m      <a href='vscode-notebook-cell:/c%3A/Users/StudentAccount/Python/Capstone/gitcodelocation/DataDrivenCarFollowing/datadrivencarfollowing-v1/scripts/Model%20Application-CNN.ipynb#ch0000005?line=0'>1</a>\u001b[0m delta_time\u001b[39m=\u001b[39m\u001b[39m0.1\u001b[39m\n\u001b[1;32m----> <a href='vscode-notebook-cell:/c%3A/Users/StudentAccount/Python/Capstone/gitcodelocation/DataDrivenCarFollowing/datadrivencarfollowing-v1/scripts/Model%20Application-CNN.ipynb#ch0000005?line=1'>2</a>\u001b[0m ngsim_0_1, train_df_0_1, val_df_0_1, test_df_0_1, X_train_0_1, y_train_0_1, X_val_0_1, y_val_0_1, X_test_0_1, y_test_0_1,predicted_data_0_1,model_0_1\u001b[39m=\u001b[39m model_obj\u001b[39m.\u001b[39;49mfit_and_run_neural(ngsim, delta_time)\n",
                        "File \u001b[1;32m~\\Python\\Capstone\\gitcodelocation\\DataDrivenCarFollowing\\datadrivencarfollowing-v1\\src\\ModelClass.py:34\u001b[0m, in \u001b[0;36mModelClass.fit_and_run_neural\u001b[1;34m(self, df, time_frame)\u001b[0m\n\u001b[0;32m     31\u001b[0m df, train_df, val_df, test_df, X_train, y_train, X_val, y_val, X_test, y_test \u001b[39m=\u001b[39m \u001b[39mself\u001b[39m\u001b[39m.\u001b[39mpreprocessing(\n\u001b[0;32m     32\u001b[0m     df, shift_instance, \u001b[39mTrue\u001b[39;00m)\n\u001b[0;32m     33\u001b[0m model \u001b[39m=\u001b[39m \u001b[39mself\u001b[39m\u001b[39m.\u001b[39mdefine_neural_network(X_train)\n\u001b[1;32m---> 34\u001b[0m model \u001b[39m=\u001b[39m \u001b[39mself\u001b[39;49m\u001b[39m.\u001b[39;49mfit_neural_network(\n\u001b[0;32m     35\u001b[0m     model, X_train, y_train, X_val, y_val, time_frame)\n\u001b[0;32m     36\u001b[0m predict_on_pair \u001b[39m=\u001b[39m \u001b[39mself\u001b[39m\u001b[39m.\u001b[39mprediction_test_pairs(test_df, \u001b[39m10\u001b[39m, \u001b[39m12\u001b[39m)\n\u001b[0;32m     37\u001b[0m predict_on_pair[\u001b[39m0\u001b[39m]\n",
                        "File \u001b[1;32m~\\Python\\Capstone\\gitcodelocation\\DataDrivenCarFollowing\\datadrivencarfollowing-v1\\src\\ModelClass.py:206\u001b[0m, in \u001b[0;36mModelClass.fit_neural_network\u001b[1;34m(self, model, X_train, y_train, X_val, y_val, reaction_time)\u001b[0m\n\u001b[0;32m    203\u001b[0m history_dict \u001b[39m=\u001b[39m history\u001b[39m.\u001b[39mhistory\n\u001b[0;32m    205\u001b[0m loss_values \u001b[39m=\u001b[39m history_dict[\u001b[39m'\u001b[39m\u001b[39mloss\u001b[39m\u001b[39m'\u001b[39m]   \u001b[39m# training loss\u001b[39;00m\n\u001b[1;32m--> 206\u001b[0m val_loss_values \u001b[39m=\u001b[39m history_dict[\u001b[39m'\u001b[39;49m\u001b[39mval_loss\u001b[39;49m\u001b[39m'\u001b[39;49m]  \u001b[39m# validation loss\u001b[39;00m\n\u001b[0;32m    208\u001b[0m \u001b[39m# creates list of integers to match the number of epochs of training\u001b[39;00m\n\u001b[0;32m    209\u001b[0m epochs \u001b[39m=\u001b[39m \u001b[39mrange\u001b[39m(\u001b[39m1\u001b[39m, \u001b[39mlen\u001b[39m(loss_values)\u001b[39m+\u001b[39m\u001b[39m1\u001b[39m)\n",
                        "\u001b[1;31mKeyError\u001b[0m: 'val_loss'"
                    ]
                }
            ],
            "source": [
                "delta_time=0.1\n",
                "ngsim_0_1, train_df_0_1, val_df_0_1, test_df_0_1, X_train_0_1, y_train_0_1, X_val_0_1, y_val_0_1, X_test_0_1, y_test_0_1,predicted_data_0_1,model_0_1= model_obj.fit_and_run_neural(ngsim, delta_time)"
            ]
        }
    ],
    "metadata": {
        "kernelspec": {
            "display_name": "Python 3.8.13 ('Project')",
            "language": "python",
            "name": "python3"
        },
        "language_info": {
            "codemirror_mode": {
                "name": "ipython",
                "version": 3
            },
            "file_extension": ".py",
            "mimetype": "text/x-python",
            "name": "python",
            "nbconvert_exporter": "python",
            "pygments_lexer": "ipython3",
            "version": "3.8.13"
        },
        "orig_nbformat": 4,
        "vscode": {
            "interpreter": {
                "hash": "32f9b5c64a9ffdfd44c75ce715a0c18d651d70bac5b5e0fedf911a0bbec25f03"
            }
        }
    },
    "nbformat": 4,
    "nbformat_minor": 2
}
