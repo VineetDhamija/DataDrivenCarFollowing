{
 "cells": [
  {
   "cell_type": "code",
   "execution_count": 1,
   "metadata": {},
   "outputs": [
    {
     "data": {
      "text/html": [
       "        <script type=\"text/javascript\">\n",
       "        window.PlotlyConfig = {MathJaxConfig: 'local'};\n",
       "        if (window.MathJax && window.MathJax.Hub && window.MathJax.Hub.Config) {window.MathJax.Hub.Config({SVG: {font: \"STIX-Web\"}});}\n",
       "        if (typeof require !== 'undefined') {\n",
       "        require.undef(\"plotly\");\n",
       "        requirejs.config({\n",
       "            paths: {\n",
       "                'plotly': ['https://cdn.plot.ly/plotly-2.12.1.min']\n",
       "            }\n",
       "        });\n",
       "        require(['plotly'], function(Plotly) {\n",
       "            window._Plotly = Plotly;\n",
       "        });\n",
       "        }\n",
       "        </script>\n",
       "        "
      ]
     },
     "metadata": {},
     "output_type": "display_data"
    },
    {
     "name": "stdout",
     "output_type": "stream",
     "text": [
      "original File path: c:\\Users\\StudentAccount\\Python\\Capstone\\gitcodelocation\\DataDrivenCarFollowing\\datadrivencarfollowing-v1\\scripts\n",
      "c:\\Users\\StudentAccount\\Python\\Capstone\\gitcodelocation\\DataDrivenCarFollowing\\datadrivencarfollowing-v1\\scripts\n",
      "Updated File Path to pick from Data Library: c:\\Users\\StudentAccount\\Python\\Capstone\\gitcodelocation\\DataDrivenCarFollowing\\datadrivencarfollowing-v1\\data\n"
     ]
    }
   ],
   "source": [
    "#Import all the libraries\n",
    "import numpy as np # linear algebra\n",
    "import pandas as pd # data processing, CSV file I/O (e.g. pd.read_csv)\n",
    "\n",
    "import matplotlib.pyplot as plt#visualization\n",
    "from PIL import  Image\n",
    "%matplotlib inline\n",
    "#!pip install plotly\n",
    "\n",
    "import seaborn as sns#visualization\n",
    "import itertools\n",
    "import warnings\n",
    "warnings.filterwarnings(\"ignore\")\n",
    "\n",
    "import plotly.offline as py#visualization\n",
    "py.init_notebook_mode(connected=True)#visualization\n",
    "import plotly.graph_objs as go#visualization\n",
    "import plotly.subplots as sp #visualization\n",
    "import plotly.figure_factory as ff#visualization\n",
    "\n",
    "\n",
    "from pathlib import Path\n",
    "p = Path().cwd()\n",
    "print(f\"original File path: {p}\")\n",
    "print(p)\n",
    "#updating to add the data to the file path and removing the current ipynb code library\n",
    "stringpath= str(p)[0:str(p).rfind('\\\\')] + '\\\\data'\n",
    "print(f\"Updated File Path to pick from Data Library: { stringpath}\")\n",
    "ngsimfile=stringpath + '\\\\' + 'Next_Generation_Simulation__NGSIM__Vehicle_Trajectories_and_Supporting_Data.csv'\n",
    "ngsim = pd.read_csv(ngsimfile)\n",
    "\n"
   ]
  },
  {
   "cell_type": "code",
   "execution_count": 2,
   "metadata": {},
   "outputs": [],
   "source": [
    "\n",
    "ngsim[\"Vehicle_Class\"] = ngsim[\"v_Class\"].map({1:\"Motorcycle\", 2: \"Car\", 3: \"Heavy Vehicle\"})\n",
    "ngsim.rename(columns={'v_Vel': 'Vehicle_Velocity'},inplace=True) \n",
    "\n"
   ]
  },
  {
   "cell_type": "code",
   "execution_count": 3,
   "metadata": {},
   "outputs": [
    {
     "data": {
      "text/plain": [
       "Index(['Vehicle_ID', 'Frame_ID', 'Total_Frames', 'Global_Time', 'Local_X',\n",
       "       'Local_Y', 'Global_X', 'Global_Y', 'v_length', 'v_Width', 'v_Class',\n",
       "       'Vehicle_Velocity', 'v_Acc', 'Lane_ID', 'O_Zone', 'D_Zone', 'Int_ID',\n",
       "       'Section_ID', 'Direction', 'Movement', 'Preceding', 'Following',\n",
       "       'Space_Headway', 'Time_Headway', 'Location', 'Vehicle_Class'],\n",
       "      dtype='object')"
      ]
     },
     "execution_count": 3,
     "metadata": {},
     "output_type": "execute_result"
    }
   ],
   "source": [
    "ngsim.columns"
   ]
  },
  {
   "cell_type": "code",
   "execution_count": 4,
   "metadata": {},
   "outputs": [
    {
     "data": {
      "image/png": "[encoded data removed]",
      "text/plain": [
       "<Figure size 432x288 with 1 Axes>"
      ]
     },
     "metadata": {
      "needs_background": "light"
     },
     "output_type": "display_data"
    },
    {
     "data": {
      "image/png": "[encoded data removed]",
      "text/plain": [
       "<Figure size 432x288 with 1 Axes>"
      ]
     },
     "metadata": {
      "needs_background": "light"
     },
     "output_type": "display_data"
    }
   ],
   "source": [
    "from matplotlib.ticker import NullFormatter\n",
    "\n",
    "def formatter(x, pos):\n",
    "    return str(round(x / 1e6, 1)) + \" million\"\n",
    "\n",
    "plt.ylabel('Count(in Million)')\n",
    "fig, ax = plt.subplots()\n",
    "ax.yaxis.set_major_formatter(formatter)\n",
    "\n",
    "sns.countplot(data=ngsim,x=\"Vehicle_Class\",color='gray')\n",
    "ax.set(xlabel=None)\n",
    "\n",
    "#plt.ticklabel_format(style='plain', axis='y',useOffset=False)\n",
    "plt.show()  \n",
    "\n"
   ]
  },
  {
   "cell_type": "code",
   "execution_count": 5,
   "metadata": {},
   "outputs": [
    {
     "data": {
      "image/png": "[encoded data removed]",
      "text/plain": [
       "<Figure size 432x288 with 1 Axes>"
      ]
     },
     "metadata": {
      "needs_background": "light"
     },
     "output_type": "display_data"
    },
    {
     "data": {
      "image/png": "[encoded data removed]",
      "text/plain": [
       "<Figure size 432x288 with 1 Axes>"
      ]
     },
     "metadata": {
      "needs_background": "light"
     },
     "output_type": "display_data"
    }
   ],
   "source": [
    "plt.ylabel('Count(in Million)')\n",
    "#plt.ticklabel_format(style='plain', axis='y',useOffset=False)\n",
    "plt.show()  \n",
    "fig, ax = plt.subplots()\n",
    "ax.yaxis.set_major_formatter(formatter)\n",
    "ax.set(xlabel=None)\n",
    "\n",
    "\n",
    "sns.countplot(data=ngsim,x='Location',color='gray')\n",
    "#plt.ticklabel_format(style='plain', axis='y',useOffset=False)\n",
    "plt.show()  \n"
   ]
  },
  {
   "cell_type": "code",
   "execution_count": null,
   "metadata": {},
   "outputs": [],
   "source": []
  }
 ],
 "metadata": {
  "interpreter": {
   "hash": "66102dfb9f2e5b7365bdb29c60f74c4733e59ed799f4b54b51820e6de3573383"
  },
  "kernelspec": {
   "display_name": "Python 3.9.12 ('Project')",
   "language": "python",
   "name": "python3"
  },
  "language_info": {
   "codemirror_mode": {
    "name": "ipython",
    "version": 3
   },
   "file_extension": ".py",
   "mimetype": "text/x-python",
   "name": "python",
   "nbconvert_exporter": "python",
   "pygments_lexer": "ipython3",
   "version": "3.9.12"
  },
  "orig_nbformat": 4
 },
 "nbformat": 4,
 "nbformat_minor": 2
}
