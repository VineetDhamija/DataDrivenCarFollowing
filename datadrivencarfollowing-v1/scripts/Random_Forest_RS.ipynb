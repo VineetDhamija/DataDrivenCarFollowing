{
 "cells": [
  {
   "cell_type": "code",
   "execution_count": 454,
   "metadata": {},
   "outputs": [],
   "source": [
    "import pandas as pd\n",
    "import numpy as np\n",
    "from matplotlib import pyplot as plt\n",
    "from sklearn.model_selection import train_test_split\n",
    "from sklearn.ensemble import RandomForestRegressor\n",
    "from sklearn import metrics\n",
    "import random \n",
    "import pyreadr\n",
    "import warnings\n",
    "warnings.filterwarnings('ignore')"
   ]
  },
  {
   "cell_type": "code",
   "execution_count": 455,
   "metadata": {},
   "outputs": [
    {
     "name": "stdout",
     "output_type": "stream",
     "text": [
      "original File path: c:\\Users\\rakes\\car following model\\DataDrivenCarFollowing\\datadrivencarfollowing-v1\\scripts\n",
      "Updated File Path to pick from Data Library: c:\\Users\\rakes\\car following model\\DataDrivenCarFollowing\\datadrivencarfollowing-v1\\data\n"
     ]
    }
   ],
   "source": [
    "from pathlib import Path\n",
    "p = Path().cwd()\n",
    "print(f\"original File path: {p}\")\n",
    "stringpath= str(p)[0:str(p).rfind('\\\\')] + '\\\\data'\n",
    "print(f\"Updated File Path to pick from Data Library: { stringpath}\")\n",
    "#ngsimfile=stringpath + '/' + 'Sample_Cleaned_NGSIM_Data_Part_2.csv'\n",
    "ngsimfile=stringpath + '/' + 'I80_1st15minutes_complete.rds'\n",
    "#ngsim = pd.read_csv(ngsimfile,low_memory=False, index_col=0)\n",
    "df = pyreadr.read_r(ngsimfile)"
   ]
  },
  {
   "cell_type": "code",
   "execution_count": 456,
   "metadata": {},
   "outputs": [],
   "source": [
    "ngsim=df[None]"
   ]
  },
  {
   "cell_type": "code",
   "execution_count": 457,
   "metadata": {},
   "outputs": [
    {
     "data": {
      "text/html": [
       "<div>\n",
       "<style scoped>\n",
       "    .dataframe tbody tr th:only-of-type {\n",
       "        vertical-align: middle;\n",
       "    }\n",
       "\n",
       "    .dataframe tbody tr th {\n",
       "        vertical-align: top;\n",
       "    }\n",
       "\n",
       "    .dataframe thead th {\n",
       "        text-align: right;\n",
       "    }\n",
       "</style>\n",
       "<table border=\"1\" class=\"dataframe\">\n",
       "  <thead>\n",
       "    <tr style=\"text-align: right;\">\n",
       "      <th></th>\n",
       "      <th>Vehicle.ID</th>\n",
       "      <th>Frame.ID</th>\n",
       "      <th>Lane</th>\n",
       "      <th>Local.Y</th>\n",
       "      <th>svel</th>\n",
       "      <th>sacc</th>\n",
       "      <th>Vehicle.Length</th>\n",
       "      <th>Vehicle.class</th>\n",
       "      <th>Following.Vehicle.ID</th>\n",
       "      <th>Preceding.Vehicle.ID</th>\n",
       "      <th>...</th>\n",
       "      <th>frspacing</th>\n",
       "      <th>entryLane</th>\n",
       "      <th>entry</th>\n",
       "      <th>LCType</th>\n",
       "      <th>dV</th>\n",
       "      <th>svelkm</th>\n",
       "      <th>PrecVehVelkm</th>\n",
       "      <th>svelkm.level</th>\n",
       "      <th>PrecVehVelkm.level</th>\n",
       "      <th>dA</th>\n",
       "    </tr>\n",
       "  </thead>\n",
       "  <tbody>\n",
       "    <tr>\n",
       "      <th>0</th>\n",
       "      <td>1</td>\n",
       "      <td>147</td>\n",
       "      <td>2</td>\n",
       "      <td>50.08315</td>\n",
       "      <td>2.84104</td>\n",
       "      <td>1.46320</td>\n",
       "      <td>4.3591</td>\n",
       "      <td>2</td>\n",
       "      <td>-1</td>\n",
       "      <td>-1</td>\n",
       "      <td>...</td>\n",
       "      <td>NaN</td>\n",
       "      <td>2</td>\n",
       "      <td>MainLine</td>\n",
       "      <td>CFonly</td>\n",
       "      <td>NaN</td>\n",
       "      <td>10.227744</td>\n",
       "      <td>NaN</td>\n",
       "      <td>(10,15]</td>\n",
       "      <td>NaN</td>\n",
       "      <td>NaN</td>\n",
       "    </tr>\n",
       "    <tr>\n",
       "      <th>1</th>\n",
       "      <td>1</td>\n",
       "      <td>148</td>\n",
       "      <td>2</td>\n",
       "      <td>50.38612</td>\n",
       "      <td>3.02972</td>\n",
       "      <td>1.88680</td>\n",
       "      <td>4.3591</td>\n",
       "      <td>2</td>\n",
       "      <td>-1</td>\n",
       "      <td>-1</td>\n",
       "      <td>...</td>\n",
       "      <td>NaN</td>\n",
       "      <td>2</td>\n",
       "      <td>MainLine</td>\n",
       "      <td>CFonly</td>\n",
       "      <td>NaN</td>\n",
       "      <td>10.906992</td>\n",
       "      <td>NaN</td>\n",
       "      <td>(10,15]</td>\n",
       "      <td>NaN</td>\n",
       "      <td>NaN</td>\n",
       "    </tr>\n",
       "    <tr>\n",
       "      <th>2</th>\n",
       "      <td>1</td>\n",
       "      <td>149</td>\n",
       "      <td>2</td>\n",
       "      <td>50.69421</td>\n",
       "      <td>3.08086</td>\n",
       "      <td>0.51134</td>\n",
       "      <td>4.3591</td>\n",
       "      <td>2</td>\n",
       "      <td>-1</td>\n",
       "      <td>-1</td>\n",
       "      <td>...</td>\n",
       "      <td>NaN</td>\n",
       "      <td>2</td>\n",
       "      <td>MainLine</td>\n",
       "      <td>CFonly</td>\n",
       "      <td>NaN</td>\n",
       "      <td>11.091096</td>\n",
       "      <td>NaN</td>\n",
       "      <td>(10,15]</td>\n",
       "      <td>NaN</td>\n",
       "      <td>NaN</td>\n",
       "    </tr>\n",
       "    <tr>\n",
       "      <th>3</th>\n",
       "      <td>1</td>\n",
       "      <td>150</td>\n",
       "      <td>2</td>\n",
       "      <td>51.00658</td>\n",
       "      <td>3.12377</td>\n",
       "      <td>0.42912</td>\n",
       "      <td>4.3591</td>\n",
       "      <td>2</td>\n",
       "      <td>-1</td>\n",
       "      <td>-1</td>\n",
       "      <td>...</td>\n",
       "      <td>NaN</td>\n",
       "      <td>2</td>\n",
       "      <td>MainLine</td>\n",
       "      <td>CFonly</td>\n",
       "      <td>NaN</td>\n",
       "      <td>11.245572</td>\n",
       "      <td>NaN</td>\n",
       "      <td>(10,15]</td>\n",
       "      <td>NaN</td>\n",
       "      <td>NaN</td>\n",
       "    </tr>\n",
       "    <tr>\n",
       "      <th>4</th>\n",
       "      <td>1</td>\n",
       "      <td>151</td>\n",
       "      <td>2</td>\n",
       "      <td>51.32203</td>\n",
       "      <td>3.15445</td>\n",
       "      <td>0.30681</td>\n",
       "      <td>4.3591</td>\n",
       "      <td>2</td>\n",
       "      <td>-1</td>\n",
       "      <td>-1</td>\n",
       "      <td>...</td>\n",
       "      <td>NaN</td>\n",
       "      <td>2</td>\n",
       "      <td>MainLine</td>\n",
       "      <td>CFonly</td>\n",
       "      <td>NaN</td>\n",
       "      <td>11.356020</td>\n",
       "      <td>NaN</td>\n",
       "      <td>(10,15]</td>\n",
       "      <td>NaN</td>\n",
       "      <td>NaN</td>\n",
       "    </tr>\n",
       "    <tr>\n",
       "      <th>...</th>\n",
       "      <td>...</td>\n",
       "      <td>...</td>\n",
       "      <td>...</td>\n",
       "      <td>...</td>\n",
       "      <td>...</td>\n",
       "      <td>...</td>\n",
       "      <td>...</td>\n",
       "      <td>...</td>\n",
       "      <td>...</td>\n",
       "      <td>...</td>\n",
       "      <td>...</td>\n",
       "      <td>...</td>\n",
       "      <td>...</td>\n",
       "      <td>...</td>\n",
       "      <td>...</td>\n",
       "      <td>...</td>\n",
       "      <td>...</td>\n",
       "      <td>...</td>\n",
       "      <td>...</td>\n",
       "      <td>...</td>\n",
       "      <td>...</td>\n",
       "    </tr>\n",
       "    <tr>\n",
       "      <th>1059016</th>\n",
       "      <td>3366</td>\n",
       "      <td>3198</td>\n",
       "      <td>1</td>\n",
       "      <td>440.79796</td>\n",
       "      <td>18.61708</td>\n",
       "      <td>0.18434</td>\n",
       "      <td>5.1212</td>\n",
       "      <td>2</td>\n",
       "      <td>978</td>\n",
       "      <td>-1</td>\n",
       "      <td>...</td>\n",
       "      <td>NaN</td>\n",
       "      <td>1</td>\n",
       "      <td>MainLine</td>\n",
       "      <td>CFonly</td>\n",
       "      <td>NaN</td>\n",
       "      <td>67.021488</td>\n",
       "      <td>NaN</td>\n",
       "      <td>(65,70]</td>\n",
       "      <td>NaN</td>\n",
       "      <td>NaN</td>\n",
       "    </tr>\n",
       "    <tr>\n",
       "      <th>1059017</th>\n",
       "      <td>3366</td>\n",
       "      <td>3199</td>\n",
       "      <td>1</td>\n",
       "      <td>442.66070</td>\n",
       "      <td>18.62743</td>\n",
       "      <td>0.10346</td>\n",
       "      <td>5.1212</td>\n",
       "      <td>2</td>\n",
       "      <td>978</td>\n",
       "      <td>-1</td>\n",
       "      <td>...</td>\n",
       "      <td>NaN</td>\n",
       "      <td>1</td>\n",
       "      <td>MainLine</td>\n",
       "      <td>CFonly</td>\n",
       "      <td>NaN</td>\n",
       "      <td>67.058748</td>\n",
       "      <td>NaN</td>\n",
       "      <td>(65,70]</td>\n",
       "      <td>NaN</td>\n",
       "      <td>NaN</td>\n",
       "    </tr>\n",
       "    <tr>\n",
       "      <th>1059018</th>\n",
       "      <td>3366</td>\n",
       "      <td>3200</td>\n",
       "      <td>1</td>\n",
       "      <td>444.52374</td>\n",
       "      <td>18.63045</td>\n",
       "      <td>0.03020</td>\n",
       "      <td>5.1212</td>\n",
       "      <td>2</td>\n",
       "      <td>978</td>\n",
       "      <td>-1</td>\n",
       "      <td>...</td>\n",
       "      <td>NaN</td>\n",
       "      <td>1</td>\n",
       "      <td>MainLine</td>\n",
       "      <td>CFonly</td>\n",
       "      <td>NaN</td>\n",
       "      <td>67.069620</td>\n",
       "      <td>NaN</td>\n",
       "      <td>(65,70]</td>\n",
       "      <td>NaN</td>\n",
       "      <td>NaN</td>\n",
       "    </tr>\n",
       "    <tr>\n",
       "      <th>1059019</th>\n",
       "      <td>3366</td>\n",
       "      <td>3201</td>\n",
       "      <td>1</td>\n",
       "      <td>446.38651</td>\n",
       "      <td>18.62770</td>\n",
       "      <td>-0.02746</td>\n",
       "      <td>5.1212</td>\n",
       "      <td>2</td>\n",
       "      <td>978</td>\n",
       "      <td>-1</td>\n",
       "      <td>...</td>\n",
       "      <td>NaN</td>\n",
       "      <td>1</td>\n",
       "      <td>MainLine</td>\n",
       "      <td>CFonly</td>\n",
       "      <td>NaN</td>\n",
       "      <td>67.059720</td>\n",
       "      <td>NaN</td>\n",
       "      <td>(65,70]</td>\n",
       "      <td>NaN</td>\n",
       "      <td>NaN</td>\n",
       "    </tr>\n",
       "    <tr>\n",
       "      <th>1059020</th>\n",
       "      <td>3366</td>\n",
       "      <td>3202</td>\n",
       "      <td>1</td>\n",
       "      <td>448.24867</td>\n",
       "      <td>18.62153</td>\n",
       "      <td>-0.06169</td>\n",
       "      <td>5.1212</td>\n",
       "      <td>2</td>\n",
       "      <td>978</td>\n",
       "      <td>-1</td>\n",
       "      <td>...</td>\n",
       "      <td>NaN</td>\n",
       "      <td>1</td>\n",
       "      <td>MainLine</td>\n",
       "      <td>CFonly</td>\n",
       "      <td>NaN</td>\n",
       "      <td>67.037508</td>\n",
       "      <td>NaN</td>\n",
       "      <td>(65,70]</td>\n",
       "      <td>NaN</td>\n",
       "      <td>NaN</td>\n",
       "    </tr>\n",
       "  </tbody>\n",
       "</table>\n",
       "<p>1059021 rows × 37 columns</p>\n",
       "</div>"
      ],
      "text/plain": [
       "         Vehicle.ID  Frame.ID  Lane    Local.Y      svel     sacc  \\\n",
       "0                 1       147     2   50.08315   2.84104  1.46320   \n",
       "1                 1       148     2   50.38612   3.02972  1.88680   \n",
       "2                 1       149     2   50.69421   3.08086  0.51134   \n",
       "3                 1       150     2   51.00658   3.12377  0.42912   \n",
       "4                 1       151     2   51.32203   3.15445  0.30681   \n",
       "...             ...       ...   ...        ...       ...      ...   \n",
       "1059016        3366      3198     1  440.79796  18.61708  0.18434   \n",
       "1059017        3366      3199     1  442.66070  18.62743  0.10346   \n",
       "1059018        3366      3200     1  444.52374  18.63045  0.03020   \n",
       "1059019        3366      3201     1  446.38651  18.62770 -0.02746   \n",
       "1059020        3366      3202     1  448.24867  18.62153 -0.06169   \n",
       "\n",
       "         Vehicle.Length  Vehicle.class  Following.Vehicle.ID  \\\n",
       "0                4.3591              2                    -1   \n",
       "1                4.3591              2                    -1   \n",
       "2                4.3591              2                    -1   \n",
       "3                4.3591              2                    -1   \n",
       "4                4.3591              2                    -1   \n",
       "...                 ...            ...                   ...   \n",
       "1059016          5.1212              2                   978   \n",
       "1059017          5.1212              2                   978   \n",
       "1059018          5.1212              2                   978   \n",
       "1059019          5.1212              2                   978   \n",
       "1059020          5.1212              2                   978   \n",
       "\n",
       "         Preceding.Vehicle.ID  ...  frspacing entryLane     entry  LCType  dV  \\\n",
       "0                          -1  ...        NaN         2  MainLine  CFonly NaN   \n",
       "1                          -1  ...        NaN         2  MainLine  CFonly NaN   \n",
       "2                          -1  ...        NaN         2  MainLine  CFonly NaN   \n",
       "3                          -1  ...        NaN         2  MainLine  CFonly NaN   \n",
       "4                          -1  ...        NaN         2  MainLine  CFonly NaN   \n",
       "...                       ...  ...        ...       ...       ...     ...  ..   \n",
       "1059016                    -1  ...        NaN         1  MainLine  CFonly NaN   \n",
       "1059017                    -1  ...        NaN         1  MainLine  CFonly NaN   \n",
       "1059018                    -1  ...        NaN         1  MainLine  CFonly NaN   \n",
       "1059019                    -1  ...        NaN         1  MainLine  CFonly NaN   \n",
       "1059020                    -1  ...        NaN         1  MainLine  CFonly NaN   \n",
       "\n",
       "            svelkm  PrecVehVelkm  svelkm.level  PrecVehVelkm.level  dA  \n",
       "0        10.227744           NaN       (10,15]                 NaN NaN  \n",
       "1        10.906992           NaN       (10,15]                 NaN NaN  \n",
       "2        11.091096           NaN       (10,15]                 NaN NaN  \n",
       "3        11.245572           NaN       (10,15]                 NaN NaN  \n",
       "4        11.356020           NaN       (10,15]                 NaN NaN  \n",
       "...            ...           ...           ...                 ...  ..  \n",
       "1059016  67.021488           NaN       (65,70]                 NaN NaN  \n",
       "1059017  67.058748           NaN       (65,70]                 NaN NaN  \n",
       "1059018  67.069620           NaN       (65,70]                 NaN NaN  \n",
       "1059019  67.059720           NaN       (65,70]                 NaN NaN  \n",
       "1059020  67.037508           NaN       (65,70]                 NaN NaN  \n",
       "\n",
       "[1059021 rows x 37 columns]"
      ]
     },
     "execution_count": 457,
     "metadata": {},
     "output_type": "execute_result"
    }
   ],
   "source": [
    "ngsim"
   ]
  },
  {
   "cell_type": "code",
   "execution_count": 458,
   "metadata": {},
   "outputs": [
    {
     "data": {
      "text/plain": [
       "Index(['Vehicle.ID', 'Frame.ID', 'Lane', 'Local.Y', 'svel', 'sacc',\n",
       "       'Vehicle.Length', 'Vehicle.class', 'Following.Vehicle.ID',\n",
       "       'Preceding.Vehicle.ID', 'Vehicle.Width.ft', 'PrecVehClass',\n",
       "       'FollVehClass', 'PrecVehLength', 'FollVehLength', 'lane.change',\n",
       "       'PrecVehVel', 'PrecVehAcc', 'FollVehVel', 'FollVehAcc', 'Vehicle.type',\n",
       "       'PrecVehType', 'lanechng', 'PrecVehLocalY', 'FollVehLocalY', 'spacing',\n",
       "       'headway', 'frspacing', 'entryLane', 'entry', 'LCType', 'dV', 'svelkm',\n",
       "       'PrecVehVelkm', 'svelkm.level', 'PrecVehVelkm.level', 'dA'],\n",
       "      dtype='object')"
      ]
     },
     "execution_count": 458,
     "metadata": {},
     "output_type": "execute_result"
    }
   ],
   "source": [
    "ngsim.columns"
   ]
  },
  {
   "cell_type": "code",
   "execution_count": 459,
   "metadata": {},
   "outputs": [
    {
     "name": "stdout",
     "output_type": "stream",
     "text": [
      "<class 'pandas.core.frame.DataFrame'>\n",
      "RangeIndex: 1059021 entries, 0 to 1059020\n",
      "Data columns (total 37 columns):\n",
      " #   Column                Non-Null Count    Dtype   \n",
      "---  ------                --------------    -----   \n",
      " 0   Vehicle.ID            1059021 non-null  int32   \n",
      " 1   Frame.ID              1059021 non-null  int32   \n",
      " 2   Lane                  1059021 non-null  int32   \n",
      " 3   Local.Y               1059021 non-null  float64 \n",
      " 4   svel                  1059021 non-null  float64 \n",
      " 5   sacc                  1059021 non-null  float64 \n",
      " 6   Vehicle.Length        1059021 non-null  float64 \n",
      " 7   Vehicle.class         1059021 non-null  int32   \n",
      " 8   Following.Vehicle.ID  1059021 non-null  int32   \n",
      " 9   Preceding.Vehicle.ID  1059021 non-null  int32   \n",
      " 10  Vehicle.Width.ft      1059021 non-null  float64 \n",
      " 11  PrecVehClass          992286 non-null   object  \n",
      " 12  FollVehClass          992007 non-null   object  \n",
      " 13  PrecVehLength         992286 non-null   float64 \n",
      " 14  FollVehLength         992007 non-null   float64 \n",
      " 15  lane.change           1059021 non-null  object  \n",
      " 16  PrecVehVel            992082 non-null   float64 \n",
      " 17  PrecVehAcc            992082 non-null   float64 \n",
      " 18  FollVehVel            991799 non-null   float64 \n",
      " 19  FollVehAcc            991799 non-null   float64 \n",
      " 20  Vehicle.type          1059021 non-null  object  \n",
      " 21  PrecVehType           992286 non-null   object  \n",
      " 22  lanechng              1059021 non-null  object  \n",
      " 23  PrecVehLocalY         992082 non-null   float64 \n",
      " 24  FollVehLocalY         991799 non-null   float64 \n",
      " 25  spacing               992082 non-null   float64 \n",
      " 26  headway               992082 non-null   float64 \n",
      " 27  frspacing             992082 non-null   float64 \n",
      " 28  entryLane             1059021 non-null  int32   \n",
      " 29  entry                 1059021 non-null  object  \n",
      " 30  LCType                1059021 non-null  object  \n",
      " 31  dV                    992082 non-null   float64 \n",
      " 32  svelkm                1059021 non-null  float64 \n",
      " 33  PrecVehVelkm          992082 non-null   float64 \n",
      " 34  svelkm.level          1059018 non-null  category\n",
      " 35  PrecVehVelkm.level    992070 non-null   category\n",
      " 36  dA                    992082 non-null   float64 \n",
      "dtypes: category(2), float64(20), int32(7), object(8)\n",
      "memory usage: 256.5+ MB\n"
     ]
    }
   ],
   "source": [
    "ngsim.info()"
   ]
  },
  {
   "cell_type": "code",
   "execution_count": 460,
   "metadata": {},
   "outputs": [],
   "source": [
    "ngsim = ngsim[ngsim[\"Preceding.Vehicle.ID\"] != -1]"
   ]
  },
  {
   "cell_type": "code",
   "execution_count": 461,
   "metadata": {},
   "outputs": [],
   "source": [
    "ngsim[\"Vehicle.ID\"]=ngsim[\"Vehicle.ID\"].astype(str)\n",
    "ngsim[\"Preceding.Vehicle.ID\"]=ngsim[\"Preceding.Vehicle.ID\"].astype(str)\n",
    "ngsim[\"LF_pairs\"] = ngsim[\"Vehicle.ID\"]+ \"_\"+ngsim[\"Preceding.Vehicle.ID\"]"
   ]
  },
  {
   "cell_type": "code",
   "execution_count": 462,
   "metadata": {},
   "outputs": [],
   "source": [
    "ngsim[\"Vehicle.class\"]=ngsim[\"Vehicle.class\"].astype(str)\n",
    "ngsim[\"PrecVehClass\"]=ngsim[\"PrecVehClass\"].astype(str)\n",
    "ngsim[\"Veh.cls.pairs\"] = ngsim[\"Vehicle.class\"]+ \"_\"+ngsim[\"PrecVehClass\"]"
   ]
  },
  {
   "cell_type": "code",
   "execution_count": 463,
   "metadata": {},
   "outputs": [],
   "source": [
    "ngsim[\"Time.per.frame\"] = 0.1"
   ]
  },
  {
   "cell_type": "code",
   "execution_count": 464,
   "metadata": {},
   "outputs": [],
   "source": [
    "ngsim_grp = ngsim.groupby([\"LF_pairs\"])"
   ]
  },
  {
   "cell_type": "code",
   "execution_count": 465,
   "metadata": {},
   "outputs": [],
   "source": [
    "ngsim['Time_duration']= ngsim.groupby([\"LF_pairs\"], as_index=False).cumcount()*0.1"
   ]
  },
  {
   "cell_type": "code",
   "execution_count": 466,
   "metadata": {},
   "outputs": [],
   "source": [
    "ngsim[\"nextframeAcc\"]=ngsim.groupby([\"LF_pairs\"],as_index=False)[\"sacc\"].shift(-1)"
   ]
  },
  {
   "cell_type": "code",
   "execution_count": 467,
   "metadata": {},
   "outputs": [],
   "source": [
    "ngsim[\"nextframesvel\"]=ngsim.groupby([\"LF_pairs\"],as_index=False)[\"svel\"].shift(-1)"
   ]
  },
  {
   "cell_type": "code",
   "execution_count": 468,
   "metadata": {},
   "outputs": [],
   "source": [
    "ngsim[\"nextframeposition\"]=ngsim.groupby([\"LF_pairs\"],as_index=False)[\"Local.Y\"].shift(-1)"
   ]
  },
  {
   "cell_type": "markdown",
   "metadata": {},
   "source": [
    "## one hot encoding on pairs"
   ]
  },
  {
   "cell_type": "code",
   "execution_count": 469,
   "metadata": {},
   "outputs": [],
   "source": [
    "from sklearn.preprocessing import OneHotEncoder"
   ]
  },
  {
   "cell_type": "code",
   "execution_count": 470,
   "metadata": {},
   "outputs": [
    {
     "data": {
      "text/html": [
       "<div>\n",
       "<style scoped>\n",
       "    .dataframe tbody tr th:only-of-type {\n",
       "        vertical-align: middle;\n",
       "    }\n",
       "\n",
       "    .dataframe tbody tr th {\n",
       "        vertical-align: top;\n",
       "    }\n",
       "\n",
       "    .dataframe thead th {\n",
       "        text-align: right;\n",
       "    }\n",
       "</style>\n",
       "<table border=\"1\" class=\"dataframe\">\n",
       "  <thead>\n",
       "    <tr style=\"text-align: right;\">\n",
       "      <th></th>\n",
       "      <th>Vehicle.ID</th>\n",
       "      <th>Frame.ID</th>\n",
       "      <th>Lane</th>\n",
       "      <th>Local.Y</th>\n",
       "      <th>svel</th>\n",
       "      <th>sacc</th>\n",
       "      <th>Vehicle.Length</th>\n",
       "      <th>Vehicle.class</th>\n",
       "      <th>Following.Vehicle.ID</th>\n",
       "      <th>Preceding.Vehicle.ID</th>\n",
       "      <th>...</th>\n",
       "      <th>nextframesvel</th>\n",
       "      <th>nextframeposition</th>\n",
       "      <th>Veh.cls.pairs.new</th>\n",
       "      <th>x0_0</th>\n",
       "      <th>x0_1</th>\n",
       "      <th>x0_2</th>\n",
       "      <th>x0_3</th>\n",
       "      <th>x0_4</th>\n",
       "      <th>x0_5</th>\n",
       "      <th>x0_6</th>\n",
       "    </tr>\n",
       "  </thead>\n",
       "  <tbody>\n",
       "    <tr>\n",
       "      <th>334</th>\n",
       "      <td>1</td>\n",
       "      <td>481</td>\n",
       "      <td>2</td>\n",
       "      <td>173.27443</td>\n",
       "      <td>6.94512</td>\n",
       "      <td>-0.96402</td>\n",
       "      <td>4.3591</td>\n",
       "      <td>2</td>\n",
       "      <td>11</td>\n",
       "      <td>3355</td>\n",
       "      <td>...</td>\n",
       "      <td>6.82504</td>\n",
       "      <td>173.95693</td>\n",
       "      <td>3</td>\n",
       "      <td>0.0</td>\n",
       "      <td>0.0</td>\n",
       "      <td>0.0</td>\n",
       "      <td>1.0</td>\n",
       "      <td>0.0</td>\n",
       "      <td>0.0</td>\n",
       "      <td>0.0</td>\n",
       "    </tr>\n",
       "    <tr>\n",
       "      <th>335</th>\n",
       "      <td>1</td>\n",
       "      <td>482</td>\n",
       "      <td>2</td>\n",
       "      <td>173.95693</td>\n",
       "      <td>6.82504</td>\n",
       "      <td>-1.20074</td>\n",
       "      <td>4.3591</td>\n",
       "      <td>2</td>\n",
       "      <td>11</td>\n",
       "      <td>3355</td>\n",
       "      <td>...</td>\n",
       "      <td>6.68521</td>\n",
       "      <td>174.62545</td>\n",
       "      <td>3</td>\n",
       "      <td>0.0</td>\n",
       "      <td>0.0</td>\n",
       "      <td>0.0</td>\n",
       "      <td>1.0</td>\n",
       "      <td>0.0</td>\n",
       "      <td>0.0</td>\n",
       "      <td>0.0</td>\n",
       "    </tr>\n",
       "    <tr>\n",
       "      <th>336</th>\n",
       "      <td>1</td>\n",
       "      <td>483</td>\n",
       "      <td>2</td>\n",
       "      <td>174.62545</td>\n",
       "      <td>6.68521</td>\n",
       "      <td>-1.39833</td>\n",
       "      <td>4.3591</td>\n",
       "      <td>2</td>\n",
       "      <td>11</td>\n",
       "      <td>3355</td>\n",
       "      <td>...</td>\n",
       "      <td>6.53877</td>\n",
       "      <td>175.27933</td>\n",
       "      <td>3</td>\n",
       "      <td>0.0</td>\n",
       "      <td>0.0</td>\n",
       "      <td>0.0</td>\n",
       "      <td>1.0</td>\n",
       "      <td>0.0</td>\n",
       "      <td>0.0</td>\n",
       "      <td>0.0</td>\n",
       "    </tr>\n",
       "    <tr>\n",
       "      <th>337</th>\n",
       "      <td>1</td>\n",
       "      <td>484</td>\n",
       "      <td>2</td>\n",
       "      <td>175.27933</td>\n",
       "      <td>6.53877</td>\n",
       "      <td>-1.46441</td>\n",
       "      <td>4.3591</td>\n",
       "      <td>2</td>\n",
       "      <td>11</td>\n",
       "      <td>3355</td>\n",
       "      <td>...</td>\n",
       "      <td>6.40379</td>\n",
       "      <td>175.91971</td>\n",
       "      <td>3</td>\n",
       "      <td>0.0</td>\n",
       "      <td>0.0</td>\n",
       "      <td>0.0</td>\n",
       "      <td>1.0</td>\n",
       "      <td>0.0</td>\n",
       "      <td>0.0</td>\n",
       "      <td>0.0</td>\n",
       "    </tr>\n",
       "    <tr>\n",
       "      <th>338</th>\n",
       "      <td>1</td>\n",
       "      <td>485</td>\n",
       "      <td>2</td>\n",
       "      <td>175.91971</td>\n",
       "      <td>6.40379</td>\n",
       "      <td>-1.34976</td>\n",
       "      <td>4.3591</td>\n",
       "      <td>2</td>\n",
       "      <td>11</td>\n",
       "      <td>3355</td>\n",
       "      <td>...</td>\n",
       "      <td>6.29493</td>\n",
       "      <td>176.54920</td>\n",
       "      <td>3</td>\n",
       "      <td>0.0</td>\n",
       "      <td>0.0</td>\n",
       "      <td>0.0</td>\n",
       "      <td>1.0</td>\n",
       "      <td>0.0</td>\n",
       "      <td>0.0</td>\n",
       "      <td>0.0</td>\n",
       "    </tr>\n",
       "    <tr>\n",
       "      <th>...</th>\n",
       "      <td>...</td>\n",
       "      <td>...</td>\n",
       "      <td>...</td>\n",
       "      <td>...</td>\n",
       "      <td>...</td>\n",
       "      <td>...</td>\n",
       "      <td>...</td>\n",
       "      <td>...</td>\n",
       "      <td>...</td>\n",
       "      <td>...</td>\n",
       "      <td>...</td>\n",
       "      <td>...</td>\n",
       "      <td>...</td>\n",
       "      <td>...</td>\n",
       "      <td>...</td>\n",
       "      <td>...</td>\n",
       "      <td>...</td>\n",
       "      <td>...</td>\n",
       "      <td>...</td>\n",
       "      <td>...</td>\n",
       "      <td>...</td>\n",
       "    </tr>\n",
       "    <tr>\n",
       "      <th>1058995</th>\n",
       "      <td>3366</td>\n",
       "      <td>3177</td>\n",
       "      <td>1</td>\n",
       "      <td>401.98395</td>\n",
       "      <td>19.22258</td>\n",
       "      <td>-1.47646</td>\n",
       "      <td>5.1212</td>\n",
       "      <td>2</td>\n",
       "      <td>978</td>\n",
       "      <td>977</td>\n",
       "      <td>...</td>\n",
       "      <td>19.04817</td>\n",
       "      <td>403.88877</td>\n",
       "      <td>3</td>\n",
       "      <td>NaN</td>\n",
       "      <td>NaN</td>\n",
       "      <td>NaN</td>\n",
       "      <td>NaN</td>\n",
       "      <td>NaN</td>\n",
       "      <td>NaN</td>\n",
       "      <td>NaN</td>\n",
       "    </tr>\n",
       "    <tr>\n",
       "      <th>1058996</th>\n",
       "      <td>3366</td>\n",
       "      <td>3178</td>\n",
       "      <td>1</td>\n",
       "      <td>403.88877</td>\n",
       "      <td>19.04817</td>\n",
       "      <td>-1.74406</td>\n",
       "      <td>5.1212</td>\n",
       "      <td>2</td>\n",
       "      <td>978</td>\n",
       "      <td>977</td>\n",
       "      <td>...</td>\n",
       "      <td>18.85603</td>\n",
       "      <td>405.77437</td>\n",
       "      <td>3</td>\n",
       "      <td>NaN</td>\n",
       "      <td>NaN</td>\n",
       "      <td>NaN</td>\n",
       "      <td>NaN</td>\n",
       "      <td>NaN</td>\n",
       "      <td>NaN</td>\n",
       "      <td>NaN</td>\n",
       "    </tr>\n",
       "    <tr>\n",
       "      <th>1058997</th>\n",
       "      <td>3366</td>\n",
       "      <td>3179</td>\n",
       "      <td>1</td>\n",
       "      <td>405.77437</td>\n",
       "      <td>18.85603</td>\n",
       "      <td>-1.92143</td>\n",
       "      <td>5.1212</td>\n",
       "      <td>2</td>\n",
       "      <td>978</td>\n",
       "      <td>977</td>\n",
       "      <td>...</td>\n",
       "      <td>18.66341</td>\n",
       "      <td>407.64071</td>\n",
       "      <td>3</td>\n",
       "      <td>NaN</td>\n",
       "      <td>NaN</td>\n",
       "      <td>NaN</td>\n",
       "      <td>NaN</td>\n",
       "      <td>NaN</td>\n",
       "      <td>NaN</td>\n",
       "      <td>NaN</td>\n",
       "    </tr>\n",
       "    <tr>\n",
       "      <th>1058998</th>\n",
       "      <td>3366</td>\n",
       "      <td>3180</td>\n",
       "      <td>1</td>\n",
       "      <td>407.64071</td>\n",
       "      <td>18.66341</td>\n",
       "      <td>-1.92618</td>\n",
       "      <td>5.1212</td>\n",
       "      <td>2</td>\n",
       "      <td>978</td>\n",
       "      <td>977</td>\n",
       "      <td>...</td>\n",
       "      <td>18.50354</td>\n",
       "      <td>409.49107</td>\n",
       "      <td>3</td>\n",
       "      <td>NaN</td>\n",
       "      <td>NaN</td>\n",
       "      <td>NaN</td>\n",
       "      <td>NaN</td>\n",
       "      <td>NaN</td>\n",
       "      <td>NaN</td>\n",
       "      <td>NaN</td>\n",
       "    </tr>\n",
       "    <tr>\n",
       "      <th>1058999</th>\n",
       "      <td>3366</td>\n",
       "      <td>3181</td>\n",
       "      <td>1</td>\n",
       "      <td>409.49107</td>\n",
       "      <td>18.50354</td>\n",
       "      <td>-1.59872</td>\n",
       "      <td>5.1212</td>\n",
       "      <td>2</td>\n",
       "      <td>978</td>\n",
       "      <td>977</td>\n",
       "      <td>...</td>\n",
       "      <td>NaN</td>\n",
       "      <td>NaN</td>\n",
       "      <td>3</td>\n",
       "      <td>NaN</td>\n",
       "      <td>NaN</td>\n",
       "      <td>NaN</td>\n",
       "      <td>NaN</td>\n",
       "      <td>NaN</td>\n",
       "      <td>NaN</td>\n",
       "      <td>NaN</td>\n",
       "    </tr>\n",
       "  </tbody>\n",
       "</table>\n",
       "<p>992292 rows × 52 columns</p>\n",
       "</div>"
      ],
      "text/plain": [
       "        Vehicle.ID  Frame.ID  Lane    Local.Y      svel     sacc  \\\n",
       "334              1       481     2  173.27443   6.94512 -0.96402   \n",
       "335              1       482     2  173.95693   6.82504 -1.20074   \n",
       "336              1       483     2  174.62545   6.68521 -1.39833   \n",
       "337              1       484     2  175.27933   6.53877 -1.46441   \n",
       "338              1       485     2  175.91971   6.40379 -1.34976   \n",
       "...            ...       ...   ...        ...       ...      ...   \n",
       "1058995       3366      3177     1  401.98395  19.22258 -1.47646   \n",
       "1058996       3366      3178     1  403.88877  19.04817 -1.74406   \n",
       "1058997       3366      3179     1  405.77437  18.85603 -1.92143   \n",
       "1058998       3366      3180     1  407.64071  18.66341 -1.92618   \n",
       "1058999       3366      3181     1  409.49107  18.50354 -1.59872   \n",
       "\n",
       "         Vehicle.Length Vehicle.class  Following.Vehicle.ID  \\\n",
       "334              4.3591             2                    11   \n",
       "335              4.3591             2                    11   \n",
       "336              4.3591             2                    11   \n",
       "337              4.3591             2                    11   \n",
       "338              4.3591             2                    11   \n",
       "...                 ...           ...                   ...   \n",
       "1058995          5.1212             2                   978   \n",
       "1058996          5.1212             2                   978   \n",
       "1058997          5.1212             2                   978   \n",
       "1058998          5.1212             2                   978   \n",
       "1058999          5.1212             2                   978   \n",
       "\n",
       "        Preceding.Vehicle.ID  ...  nextframesvel nextframeposition  \\\n",
       "334                     3355  ...        6.82504         173.95693   \n",
       "335                     3355  ...        6.68521         174.62545   \n",
       "336                     3355  ...        6.53877         175.27933   \n",
       "337                     3355  ...        6.40379         175.91971   \n",
       "338                     3355  ...        6.29493         176.54920   \n",
       "...                      ...  ...            ...               ...   \n",
       "1058995                  977  ...       19.04817         403.88877   \n",
       "1058996                  977  ...       18.85603         405.77437   \n",
       "1058997                  977  ...       18.66341         407.64071   \n",
       "1058998                  977  ...       18.50354         409.49107   \n",
       "1058999                  977  ...            NaN               NaN   \n",
       "\n",
       "        Veh.cls.pairs.new  x0_0  x0_1 x0_2  x0_3  x0_4  x0_5  x0_6  \n",
       "334                     3   0.0   0.0  0.0   1.0   0.0   0.0   0.0  \n",
       "335                     3   0.0   0.0  0.0   1.0   0.0   0.0   0.0  \n",
       "336                     3   0.0   0.0  0.0   1.0   0.0   0.0   0.0  \n",
       "337                     3   0.0   0.0  0.0   1.0   0.0   0.0   0.0  \n",
       "338                     3   0.0   0.0  0.0   1.0   0.0   0.0   0.0  \n",
       "...                   ...   ...   ...  ...   ...   ...   ...   ...  \n",
       "1058995                 3   NaN   NaN  NaN   NaN   NaN   NaN   NaN  \n",
       "1058996                 3   NaN   NaN  NaN   NaN   NaN   NaN   NaN  \n",
       "1058997                 3   NaN   NaN  NaN   NaN   NaN   NaN   NaN  \n",
       "1058998                 3   NaN   NaN  NaN   NaN   NaN   NaN   NaN  \n",
       "1058999                 3   NaN   NaN  NaN   NaN   NaN   NaN   NaN  \n",
       "\n",
       "[992292 rows x 52 columns]"
      ]
     },
     "execution_count": 470,
     "metadata": {},
     "output_type": "execute_result"
    }
   ],
   "source": [
    "ngsim['Veh.cls.pairs'] = ngsim['Veh.cls.pairs'].astype('category')\n",
    "ngsim['Veh.cls.pairs.new'] = ngsim['Veh.cls.pairs'].cat.codes\n",
    "enc=OneHotEncoder()\n",
    "enc_data=pd.DataFrame(enc.fit_transform(ngsim[['Veh.cls.pairs.new']]).toarray())\n",
    "enc.get_feature_names()\n",
    "enc_data.columns = enc.get_feature_names()\n",
    "new_ngsim=ngsim.join(enc_data)\n",
    "\n",
    "new_ngsim"
   ]
  },
  {
   "cell_type": "code",
   "execution_count": 410,
   "metadata": {},
   "outputs": [],
   "source": [
    "#enc=OneHotEncoder()"
   ]
  },
  {
   "cell_type": "code",
   "execution_count": 411,
   "metadata": {},
   "outputs": [],
   "source": [
    "#enc_data=pd.DataFrame(enc.fit_transform(ngsim[['Veh.cls.pairs.new']]).toarray())"
   ]
  },
  {
   "cell_type": "code",
   "execution_count": 412,
   "metadata": {},
   "outputs": [],
   "source": [
    "#new_ngsim=ngsim.join(enc_data)"
   ]
  },
  {
   "cell_type": "code",
   "execution_count": 415,
   "metadata": {},
   "outputs": [
    {
     "data": {
      "text/plain": [
       "['2_2', '1_2', '3_2', '2_3', '3_3', '1_1', '1_nan']\n",
       "Categories (7, object): ['1_1', '1_2', '1_nan', '2_2', '2_3', '3_2', '3_3']"
      ]
     },
     "execution_count": 415,
     "metadata": {},
     "output_type": "execute_result"
    }
   ],
   "source": [
    "#ngsim['Veh.cls.pairs'].unique()"
   ]
  },
  {
   "cell_type": "markdown",
   "metadata": {},
   "source": [
    "## Random Forest model for reconstructed i-80 data "
   ]
  },
  {
   "cell_type": "code",
   "execution_count": 472,
   "metadata": {},
   "outputs": [],
   "source": [
    "new_ngsim.dropna(inplace = True)"
   ]
  },
  {
   "cell_type": "code",
   "execution_count": 473,
   "metadata": {},
   "outputs": [
    {
     "data": {
      "text/plain": [
       "(868409, 52)"
      ]
     },
     "execution_count": 473,
     "metadata": {},
     "output_type": "execute_result"
    }
   ],
   "source": [
    "new_ngsim.shape"
   ]
  },
  {
   "cell_type": "code",
   "execution_count": 474,
   "metadata": {},
   "outputs": [
    {
     "data": {
      "text/plain": [
       "Index(['Vehicle.ID', 'Frame.ID', 'Lane', 'Local.Y', 'svel', 'sacc',\n",
       "       'Vehicle.Length', 'Vehicle.class', 'Following.Vehicle.ID',\n",
       "       'Preceding.Vehicle.ID', 'Vehicle.Width.ft', 'PrecVehClass',\n",
       "       'FollVehClass', 'PrecVehLength', 'FollVehLength', 'lane.change',\n",
       "       'PrecVehVel', 'PrecVehAcc', 'FollVehVel', 'FollVehAcc', 'Vehicle.type',\n",
       "       'PrecVehType', 'lanechng', 'PrecVehLocalY', 'FollVehLocalY', 'spacing',\n",
       "       'headway', 'frspacing', 'entryLane', 'entry', 'LCType', 'dV', 'svelkm',\n",
       "       'PrecVehVelkm', 'svelkm.level', 'PrecVehVelkm.level', 'dA', 'LF_pairs',\n",
       "       'Veh.cls.pairs', 'Time.per.frame', 'Time_duration', 'nextframeAcc',\n",
       "       'nextframesvel', 'nextframeposition', 'Veh.cls.pairs.new', 'x0_0',\n",
       "       'x0_1', 'x0_2', 'x0_3', 'x0_4', 'x0_5', 'x0_6'],\n",
       "      dtype='object')"
      ]
     },
     "execution_count": 474,
     "metadata": {},
     "output_type": "execute_result"
    }
   ],
   "source": [
    "new_ngsim.columns"
   ]
  },
  {
   "cell_type": "code",
   "execution_count": 447,
   "metadata": {},
   "outputs": [],
   "source": [
    "X = new_ngsim[['x0_0','x0_1', 'x0_2', 'x0_3', 'x0_4', 'x0_5', 'x0_6', 'Local.Y', 'nextframeAcc', 'Time_duration', 'sacc', 'spacing', 'dV', 'dA']]\n",
    "Y = new_ngsim['nextframesvel']"
   ]
  },
  {
   "cell_type": "code",
   "execution_count": 449,
   "metadata": {},
   "outputs": [],
   "source": [
    "# Split into test and train\n",
    "X_train, X_test, y_train, y_test = train_test_split(X, Y, test_size=0.2, random_state=20)"
   ]
  },
  {
   "cell_type": "code",
   "execution_count": 450,
   "metadata": {},
   "outputs": [
    {
     "name": "stderr",
     "output_type": "stream",
     "text": [
      "c:\\Users\\rakes\\anaconda3\\lib\\site-packages\\sklearn\\utils\\validation.py:1688: FutureWarning: Feature names only support names that are all strings. Got feature names with dtypes: ['int', 'str']. An error will be raised in 1.2.\n",
      "  warnings.warn(\n"
     ]
    },
    {
     "data": {
      "text/plain": [
       "RandomForestRegressor(n_estimators=20, random_state=30)"
      ]
     },
     "execution_count": 450,
     "metadata": {},
     "output_type": "execute_result"
    }
   ],
   "source": [
    "# create model\n",
    "model = RandomForestRegressor(n_estimators = 20, random_state = 30)\n",
    "model.fit(X_train, y_train)"
   ]
  },
  {
   "cell_type": "code",
   "execution_count": 451,
   "metadata": {},
   "outputs": [],
   "source": [
    "def data_in_parts(new_ngsim,rangefrom,rangeto):\n",
    "    a=new_ngsim['LF_pairs'].unique()\n",
    "    b = a.tolist()\n",
    "    b = b[rangefrom:rangeto]\n",
    "    c= len(a)/30\n",
    "    return c,b "
   ]
  },
  {
   "cell_type": "code",
   "execution_count": 452,
   "metadata": {},
   "outputs": [],
   "source": [
    "def prediction(new_ngsim,b,target_variable,RFReg):\n",
    "    F_df = []\n",
    "    r = []\n",
    "    Q = pd.DataFrame()\n",
    "\n",
    "    for i in b:\n",
    "\n",
    "        Q = new_ngsim[new_ngsim['LF_pairs']== i]\n",
    "\n",
    "        vel=np.zeros(Q.shape[0])\n",
    "        local_y = np.zeros(Q.shape[0])\n",
    "        frspacing = np.zeros(Q.shape[0])\n",
    "        dv = np.zeros(Q.shape[0])\n",
    "        pred_acc = np.zeros(Q.shape[0])\n",
    "        dA = np.zeros(Q.shape[0])\n",
    "    \n",
    "        #adding first value of the vehicle\n",
    "        vel[0]=Q.iloc[0]['svel']\n",
    "        local_y[0] = Q.iloc[0]['Local.Y']\n",
    "        frspacing[0] = Q.iloc[0]['frspacing']\n",
    "   #check here\n",
    "        dv[0] = Q.iloc[0]['dV']\n",
    "        dA[0] = Q.iloc[0]['dA']    \n",
    "        #pred_speed[0] = Q.iloc[0]['svel']\n",
    "        pred_acc[0] = Q.iloc[1][target_variable]\n",
    "     \n",
    "    \n",
    "\n",
    "#     #predicting first value of acceleration\n",
    "            #check here\n",
    "        pred_acc[1]= RFReg.predict(np.array([frspacing[0],dv[0],vel[0],dA[0]]).reshape(1,-1))\n",
    "            \n",
    "\n",
    "#     #calculating vel,frspacing,local.y,dv from the predicted acceleration.\n",
    "            #check here\n",
    "        vel[1] = vel[0]+(pred_acc[1]*0.1)\n",
    "        dv[1] = vel[1] - Q.iloc[1]['PrecVehVel']\n",
    "\n",
    "#     ## localy: s = ut + 0.5*a*t^2\n",
    "        local_y[1] = local_y[0] + ((vel[0]*0.1)+ (0.5*pred_acc[1]*pow(0.1,2)))\n",
    "        frspacing[1] = Q.iloc[1]['PrecVehLocalY'] - local_y[1] - Q.iloc[1]['PrecVehLength']\n",
    "        dA[1] = Q.iloc[1]['dA']\n",
    "    \n",
    "    \n",
    "        for j in range(2,len(Q)):\n",
    "#         ########\n",
    "#         #print(j)\n",
    "#         ########\n",
    "            vel[j] = vel[j-1]+(pred_acc[j]*0.1)\n",
    "            dv[j] = vel[j] - Q.iloc[j]['PrecVehVel']\n",
    "#         ########\n",
    "#         ## localy: s = ut + 0.5*a*t^2\n",
    "#         ########\n",
    "            local_y[j] = local_y[j-1] + ((vel[j-1]*0.1)+ (0.5*pred_acc[j]*pow(0.1,2)))\n",
    "            frspacing[j] = Q.iloc[j]['PrecVehLocalY'] - local_y[j] - Q.iloc[j]['PrecVehLength']\n",
    "            dA\n",
    "            if j == len(Q)-1:\n",
    "                break\n",
    "            pred_acc[j+1] = RFReg.predict(np.array([frspacing[j],dv[j],vel[j],dA[j]]).reshape(1, -1))\n",
    "#         ########\n",
    "#         #print(pred_acc)\n",
    "#         ########\n",
    "        Q['pacc']=pred_acc\n",
    "        Q['pvel']=vel\n",
    "        Q['pposition']= local_y\n",
    "        Q['pdv']= dv\n",
    "        Q['pfrspacing']=frspacing\n",
    "        F_df.append(Q)\n",
    "        result = pd.concat(F_df)\n",
    "        #r.append(r2_score(Q[target_variable], Q['pacc']))\n",
    "        \n",
    " \n",
    "    return result"
   ]
  },
  {
   "cell_type": "code",
   "execution_count": null,
   "metadata": {},
   "outputs": [],
   "source": []
  },
  {
   "cell_type": "code",
   "execution_count": null,
   "metadata": {},
   "outputs": [],
   "source": []
  },
  {
   "cell_type": "code",
   "execution_count": null,
   "metadata": {},
   "outputs": [],
   "source": []
  },
  {
   "cell_type": "code",
   "execution_count": null,
   "metadata": {},
   "outputs": [],
   "source": []
  },
  {
   "cell_type": "markdown",
   "metadata": {},
   "source": [
    "# Complete NGSIM data"
   ]
  },
  {
   "cell_type": "code",
   "execution_count": 357,
   "metadata": {},
   "outputs": [],
   "source": [
    "#ngsim.replace([np.inf, -np.inf], np.nan, inplace=True)"
   ]
  },
  {
   "cell_type": "code",
   "execution_count": 358,
   "metadata": {},
   "outputs": [],
   "source": [
    "ngsim.dropna(inplace=True)"
   ]
  },
  {
   "cell_type": "code",
   "execution_count": 359,
   "metadata": {},
   "outputs": [],
   "source": [
    "# converting time from milliseconds to seconds\n",
    "ngsim[\"Relative_Time\"]= ngsim[\"Relative_Time\"]*0.001\n",
    "ngsim[\"Global_Time\"]= ngsim[\"Global_Time\"]*0.001"
   ]
  },
  {
   "cell_type": "code",
   "execution_count": 360,
   "metadata": {},
   "outputs": [],
   "source": [
    "ngsim = ngsim.sort_values(['Relative_Time'], ascending=True)"
   ]
  },
  {
   "cell_type": "code",
   "execution_count": 361,
   "metadata": {},
   "outputs": [],
   "source": [
    "ngsim[\"Vehicle_ID\"]=ngsim[\"Vehicle_ID\"].astype(str)\n",
    "ngsim[\"Preceding\"]=ngsim[\"Preceding\"].astype(str)\n",
    "ngsim[\"LF_pairs\"] = ngsim[\"Vehicle_ID\"]+ \"_\"+ngsim[\"Preceding\"]"
   ]
  },
  {
   "cell_type": "code",
   "execution_count": 362,
   "metadata": {},
   "outputs": [],
   "source": [
    "ngsim[\"v_Class\"]=ngsim[\"v_Class\"].astype(str)\n",
    "ngsim[\"Preceding_Vehicle_Class\"]=ngsim[\"Preceding_Vehicle_Class\"].astype(str)\n",
    "ngsim[\"Veh.cls.pairs\"] = ngsim[\"v_Class\"]+ \"_\"+ngsim[\"Preceding_Vehicle_Class\"]"
   ]
  },
  {
   "cell_type": "code",
   "execution_count": 363,
   "metadata": {},
   "outputs": [],
   "source": [
    "ngsim[\"Time.per.frame\"] = 0.1"
   ]
  },
  {
   "cell_type": "code",
   "execution_count": 364,
   "metadata": {},
   "outputs": [],
   "source": [
    "ngsim_grp = ngsim.groupby([\"LF_pairs\"])"
   ]
  },
  {
   "cell_type": "code",
   "execution_count": 365,
   "metadata": {},
   "outputs": [],
   "source": [
    "#Time duration per pair of each time frame.\n",
    "ngsim['Time_duration']= ngsim.groupby([\"LF_pairs\"], as_index=False).cumcount()*0.1"
   ]
  },
  {
   "cell_type": "code",
   "execution_count": 366,
   "metadata": {},
   "outputs": [
    {
     "data": {
      "text/html": [
       "<div>\n",
       "<style scoped>\n",
       "    .dataframe tbody tr th:only-of-type {\n",
       "        vertical-align: middle;\n",
       "    }\n",
       "\n",
       "    .dataframe tbody tr th {\n",
       "        vertical-align: top;\n",
       "    }\n",
       "\n",
       "    .dataframe thead th {\n",
       "        text-align: right;\n",
       "    }\n",
       "</style>\n",
       "<table border=\"1\" class=\"dataframe\">\n",
       "  <thead>\n",
       "    <tr style=\"text-align: right;\">\n",
       "      <th></th>\n",
       "      <th>Vehicle_ID</th>\n",
       "      <th>Preceding</th>\n",
       "      <th>Relative_Time</th>\n",
       "      <th>Global_Time</th>\n",
       "      <th>Local_X</th>\n",
       "      <th>Local_Y</th>\n",
       "      <th>Global_X</th>\n",
       "      <th>Global_Y</th>\n",
       "      <th>v_length</th>\n",
       "      <th>v_Class</th>\n",
       "      <th>...</th>\n",
       "      <th>Location</th>\n",
       "      <th>Preceding_Vehicle_Class</th>\n",
       "      <th>Rear_to_Front_Space_Headway</th>\n",
       "      <th>v_Class_Name</th>\n",
       "      <th>Vehicle_combination</th>\n",
       "      <th>Velocity Difference_Following-Preceding</th>\n",
       "      <th>LF_pairs</th>\n",
       "      <th>Veh.cls.pairs</th>\n",
       "      <th>Time.per.frame</th>\n",
       "      <th>Time_duration</th>\n",
       "    </tr>\n",
       "    <tr>\n",
       "      <th>id</th>\n",
       "      <th></th>\n",
       "      <th></th>\n",
       "      <th></th>\n",
       "      <th></th>\n",
       "      <th></th>\n",
       "      <th></th>\n",
       "      <th></th>\n",
       "      <th></th>\n",
       "      <th></th>\n",
       "      <th></th>\n",
       "      <th></th>\n",
       "      <th></th>\n",
       "      <th></th>\n",
       "      <th></th>\n",
       "      <th></th>\n",
       "      <th></th>\n",
       "      <th></th>\n",
       "      <th></th>\n",
       "      <th></th>\n",
       "      <th></th>\n",
       "      <th></th>\n",
       "    </tr>\n",
       "  </thead>\n",
       "  <tbody>\n",
       "    <tr>\n",
       "      <th>1530620</th>\n",
       "      <td>90</td>\n",
       "      <td>85</td>\n",
       "      <td>1.117686e+09</td>\n",
       "      <td>1.118849e+09</td>\n",
       "      <td>41.938</td>\n",
       "      <td>2101.760</td>\n",
       "      <td>6452634.349</td>\n",
       "      <td>1871966.378</td>\n",
       "      <td>3.81</td>\n",
       "      <td>2</td>\n",
       "      <td>...</td>\n",
       "      <td>us-101</td>\n",
       "      <td>Car</td>\n",
       "      <td>10.000488</td>\n",
       "      <td>Car</td>\n",
       "      <td>Car-Car</td>\n",
       "      <td>-3.444240</td>\n",
       "      <td>90_85</td>\n",
       "      <td>2_Car</td>\n",
       "      <td>0.1</td>\n",
       "      <td>144.3</td>\n",
       "    </tr>\n",
       "    <tr>\n",
       "      <th>18114</th>\n",
       "      <td>90</td>\n",
       "      <td>85</td>\n",
       "      <td>1.117686e+09</td>\n",
       "      <td>1.118849e+09</td>\n",
       "      <td>42.005</td>\n",
       "      <td>2102.586</td>\n",
       "      <td>6452634.960</td>\n",
       "      <td>1871965.806</td>\n",
       "      <td>3.81</td>\n",
       "      <td>2</td>\n",
       "      <td>...</td>\n",
       "      <td>us-101</td>\n",
       "      <td>Car</td>\n",
       "      <td>10.360152</td>\n",
       "      <td>Car</td>\n",
       "      <td>Car-Car</td>\n",
       "      <td>-3.532632</td>\n",
       "      <td>90_85</td>\n",
       "      <td>2_Car</td>\n",
       "      <td>0.1</td>\n",
       "      <td>144.4</td>\n",
       "    </tr>\n",
       "    <tr>\n",
       "      <th>1216839</th>\n",
       "      <td>90</td>\n",
       "      <td>85</td>\n",
       "      <td>1.117686e+09</td>\n",
       "      <td>1.118849e+09</td>\n",
       "      <td>42.072</td>\n",
       "      <td>2103.398</td>\n",
       "      <td>6452635.570</td>\n",
       "      <td>1871965.235</td>\n",
       "      <td>3.81</td>\n",
       "      <td>2</td>\n",
       "      <td>...</td>\n",
       "      <td>us-101</td>\n",
       "      <td>Car</td>\n",
       "      <td>10.725912</td>\n",
       "      <td>Car</td>\n",
       "      <td>Car-Car</td>\n",
       "      <td>-3.456432</td>\n",
       "      <td>90_85</td>\n",
       "      <td>2_Car</td>\n",
       "      <td>0.1</td>\n",
       "      <td>144.5</td>\n",
       "    </tr>\n",
       "    <tr>\n",
       "      <th>3942567</th>\n",
       "      <td>90</td>\n",
       "      <td>85</td>\n",
       "      <td>1.117686e+09</td>\n",
       "      <td>1.118849e+09</td>\n",
       "      <td>42.131</td>\n",
       "      <td>2104.237</td>\n",
       "      <td>6452636.161</td>\n",
       "      <td>1871964.689</td>\n",
       "      <td>3.81</td>\n",
       "      <td>2</td>\n",
       "      <td>...</td>\n",
       "      <td>us-101</td>\n",
       "      <td>Car</td>\n",
       "      <td>11.079480</td>\n",
       "      <td>Car</td>\n",
       "      <td>Car-Car</td>\n",
       "      <td>-3.243072</td>\n",
       "      <td>90_85</td>\n",
       "      <td>2_Car</td>\n",
       "      <td>0.1</td>\n",
       "      <td>144.6</td>\n",
       "    </tr>\n",
       "    <tr>\n",
       "      <th>1002253</th>\n",
       "      <td>90</td>\n",
       "      <td>85</td>\n",
       "      <td>1.117686e+09</td>\n",
       "      <td>1.118849e+09</td>\n",
       "      <td>42.123</td>\n",
       "      <td>2105.225</td>\n",
       "      <td>6452636.891</td>\n",
       "      <td>1871964.119</td>\n",
       "      <td>3.81</td>\n",
       "      <td>2</td>\n",
       "      <td>...</td>\n",
       "      <td>us-101</td>\n",
       "      <td>Car</td>\n",
       "      <td>11.387328</td>\n",
       "      <td>Car</td>\n",
       "      <td>Car-Car</td>\n",
       "      <td>-2.865120</td>\n",
       "      <td>90_85</td>\n",
       "      <td>2_Car</td>\n",
       "      <td>0.1</td>\n",
       "      <td>144.7</td>\n",
       "    </tr>\n",
       "  </tbody>\n",
       "</table>\n",
       "<p>5 rows × 24 columns</p>\n",
       "</div>"
      ],
      "text/plain": [
       "        Vehicle_ID Preceding  Relative_Time   Global_Time  Local_X   Local_Y  \\\n",
       "id                                                                             \n",
       "1530620         90        85   1.117686e+09  1.118849e+09   41.938  2101.760   \n",
       "18114           90        85   1.117686e+09  1.118849e+09   42.005  2102.586   \n",
       "1216839         90        85   1.117686e+09  1.118849e+09   42.072  2103.398   \n",
       "3942567         90        85   1.117686e+09  1.118849e+09   42.131  2104.237   \n",
       "1002253         90        85   1.117686e+09  1.118849e+09   42.123  2105.225   \n",
       "\n",
       "            Global_X     Global_Y  v_length v_Class  ...  Location  \\\n",
       "id                                                   ...             \n",
       "1530620  6452634.349  1871966.378      3.81       2  ...    us-101   \n",
       "18114    6452634.960  1871965.806      3.81       2  ...    us-101   \n",
       "1216839  6452635.570  1871965.235      3.81       2  ...    us-101   \n",
       "3942567  6452636.161  1871964.689      3.81       2  ...    us-101   \n",
       "1002253  6452636.891  1871964.119      3.81       2  ...    us-101   \n",
       "\n",
       "         Preceding_Vehicle_Class  Rear_to_Front_Space_Headway  v_Class_Name  \\\n",
       "id                                                                            \n",
       "1530620                      Car                    10.000488           Car   \n",
       "18114                        Car                    10.360152           Car   \n",
       "1216839                      Car                    10.725912           Car   \n",
       "3942567                      Car                    11.079480           Car   \n",
       "1002253                      Car                    11.387328           Car   \n",
       "\n",
       "        Vehicle_combination Velocity Difference_Following-Preceding  LF_pairs  \\\n",
       "id                                                                              \n",
       "1530620             Car-Car                               -3.444240     90_85   \n",
       "18114               Car-Car                               -3.532632     90_85   \n",
       "1216839             Car-Car                               -3.456432     90_85   \n",
       "3942567             Car-Car                               -3.243072     90_85   \n",
       "1002253             Car-Car                               -2.865120     90_85   \n",
       "\n",
       "        Veh.cls.pairs Time.per.frame  Time_duration  \n",
       "id                                                   \n",
       "1530620         2_Car            0.1          144.3  \n",
       "18114           2_Car            0.1          144.4  \n",
       "1216839         2_Car            0.1          144.5  \n",
       "3942567         2_Car            0.1          144.6  \n",
       "1002253         2_Car            0.1          144.7  \n",
       "\n",
       "[5 rows x 24 columns]"
      ]
     },
     "execution_count": 366,
     "metadata": {},
     "output_type": "execute_result"
    }
   ],
   "source": [
    "ngsim.tail()"
   ]
  },
  {
   "cell_type": "code",
   "execution_count": 367,
   "metadata": {},
   "outputs": [],
   "source": [
    "#shift Acceleration column uo bt 1 row for each group of Leading and Following vehicle pair\n",
    "ngsim[\"nextframeAcc\"]=ngsim.groupby([\"LF_pairs\"],as_index=False)[\"v_Acc\"].shift(-1)"
   ]
  },
  {
   "cell_type": "code",
   "execution_count": 368,
   "metadata": {},
   "outputs": [],
   "source": [
    "#shift velocity column uo bt 1 row for each group of Leading and Following vehicle pair\n",
    "ngsim[\"nextframesvel\"]=ngsim.groupby([\"LF_pairs\"],as_index=False)[\"v_Vel\"].shift(-1)"
   ]
  },
  {
   "cell_type": "code",
   "execution_count": 369,
   "metadata": {},
   "outputs": [],
   "source": [
    "#shift longitudinal frame position column uo bt 1 row for each group of Leading and Following vehicle pair\n",
    "ngsim[\"nextframeposition\"]=ngsim.groupby([\"LF_pairs\"],as_index=False)[\"Local_Y\"].shift(-1)"
   ]
  },
  {
   "cell_type": "code",
   "execution_count": null,
   "metadata": {},
   "outputs": [],
   "source": []
  },
  {
   "cell_type": "code",
   "execution_count": 370,
   "metadata": {},
   "outputs": [],
   "source": [
    "ngsim.replace([np.inf, -np.inf], np.nan, inplace=True)\n",
    "ngsim.dropna(inplace = True)"
   ]
  },
  {
   "cell_type": "code",
   "execution_count": null,
   "metadata": {},
   "outputs": [],
   "source": []
  },
  {
   "cell_type": "code",
   "execution_count": 371,
   "metadata": {},
   "outputs": [
    {
     "name": "stdout",
     "output_type": "stream",
     "text": [
      "<class 'pandas.core.frame.DataFrame'>\n",
      "Int64Index: 137817 entries, 1582061 to 3942567\n",
      "Data columns (total 27 columns):\n",
      " #   Column                                   Non-Null Count   Dtype  \n",
      "---  ------                                   --------------   -----  \n",
      " 0   Vehicle_ID                               137817 non-null  object \n",
      " 1   Preceding                                137817 non-null  object \n",
      " 2   Relative_Time                            137817 non-null  float64\n",
      " 3   Global_Time                              137817 non-null  float64\n",
      " 4   Local_X                                  137817 non-null  float64\n",
      " 5   Local_Y                                  137817 non-null  float64\n",
      " 6   Global_X                                 137817 non-null  float64\n",
      " 7   Global_Y                                 137817 non-null  float64\n",
      " 8   v_length                                 137817 non-null  float64\n",
      " 9   v_Class                                  137817 non-null  object \n",
      " 10  v_Vel                                    137817 non-null  float64\n",
      " 11  v_Acc                                    137817 non-null  float64\n",
      " 12  Space_Headway                            137817 non-null  float64\n",
      " 13  Time_Headway                             137817 non-null  float64\n",
      " 14  Location                                 137817 non-null  object \n",
      " 15  Preceding_Vehicle_Class                  137817 non-null  object \n",
      " 16  Rear_to_Front_Space_Headway              137817 non-null  float64\n",
      " 17  v_Class_Name                             137817 non-null  object \n",
      " 18  Vehicle_combination                      137817 non-null  object \n",
      " 19  Velocity Difference_Following-Preceding  137817 non-null  float64\n",
      " 20  LF_pairs                                 137817 non-null  object \n",
      " 21  Veh.cls.pairs                            137817 non-null  object \n",
      " 22  Time.per.frame                           137817 non-null  float64\n",
      " 23  Time_duration                            137817 non-null  float64\n",
      " 24  nextframeAcc                             137817 non-null  float64\n",
      " 25  nextframesvel                            137817 non-null  float64\n",
      " 26  nextframeposition                        137817 non-null  float64\n",
      "dtypes: float64(18), object(9)\n",
      "memory usage: 29.4+ MB\n"
     ]
    }
   ],
   "source": [
    "ngsim.info()"
   ]
  },
  {
   "cell_type": "code",
   "execution_count": 372,
   "metadata": {},
   "outputs": [
    {
     "data": {
      "text/plain": [
       "Index(['Vehicle_ID', 'Preceding', 'Relative_Time', 'Global_Time', 'Local_X',\n",
       "       'Local_Y', 'Global_X', 'Global_Y', 'v_length', 'v_Class', 'v_Vel',\n",
       "       'v_Acc', 'Space_Headway', 'Time_Headway', 'Location',\n",
       "       'Preceding_Vehicle_Class', 'Rear_to_Front_Space_Headway',\n",
       "       'v_Class_Name', 'Vehicle_combination',\n",
       "       'Velocity Difference_Following-Preceding', 'LF_pairs', 'Veh.cls.pairs',\n",
       "       'Time.per.frame', 'Time_duration', 'nextframeAcc', 'nextframesvel',\n",
       "       'nextframeposition'],\n",
       "      dtype='object')"
      ]
     },
     "execution_count": 372,
     "metadata": {},
     "output_type": "execute_result"
    }
   ],
   "source": [
    "ngsim.columns"
   ]
  },
  {
   "cell_type": "code",
   "execution_count": 373,
   "metadata": {},
   "outputs": [],
   "source": [
    "X = ngsim[[\"Rear_to_Front_Space_Headway\",'Velocity Difference_Following-Preceding','v_Vel', 'v_Acc', 'Time_duration','Local_Y']]"
   ]
  },
  {
   "cell_type": "code",
   "execution_count": 374,
   "metadata": {},
   "outputs": [],
   "source": [
    "Y = ngsim['nextframeAcc']"
   ]
  },
  {
   "cell_type": "code",
   "execution_count": 375,
   "metadata": {},
   "outputs": [],
   "source": [
    "# Split into test and train\n",
    "X_train, X_test, y_train, y_test = train_test_split(X, Y, test_size=0.2, random_state=20)"
   ]
  },
  {
   "cell_type": "code",
   "execution_count": 376,
   "metadata": {},
   "outputs": [],
   "source": [
    "# create model\n",
    "model = RandomForestRegressor(n_estimators = 20, random_state = 30)"
   ]
  },
  {
   "cell_type": "code",
   "execution_count": 377,
   "metadata": {},
   "outputs": [
    {
     "ename": "KeyboardInterrupt",
     "evalue": "",
     "output_type": "error",
     "traceback": [
      "\u001b[1;31m---------------------------------------------------------------------------\u001b[0m",
      "\u001b[1;31mKeyboardInterrupt\u001b[0m                         Traceback (most recent call last)",
      "\u001b[1;32mc:\\Users\\rakes\\car following model\\DataDrivenCarFollowing\\datadrivencarfollowing-v1\\scripts\\Random_Forest_RS.ipynb Cell 27'\u001b[0m in \u001b[0;36m<cell line: 1>\u001b[1;34m()\u001b[0m\n\u001b[1;32m----> <a href='vscode-notebook-cell:/c%3A/Users/rakes/car%20following%20model/DataDrivenCarFollowing/datadrivencarfollowing-v1/scripts/Random_Forest_RS.ipynb#ch0000010?line=0'>1</a>\u001b[0m model\u001b[39m.\u001b[39;49mfit(X_train, y_train)\n",
      "File \u001b[1;32mc:\\Users\\rakes\\anaconda3\\lib\\site-packages\\sklearn\\ensemble\\_forest.py:450\u001b[0m, in \u001b[0;36mBaseForest.fit\u001b[1;34m(self, X, y, sample_weight)\u001b[0m\n\u001b[0;32m    <a href='file:///c%3A/Users/rakes/anaconda3/lib/site-packages/sklearn/ensemble/_forest.py?line=438'>439</a>\u001b[0m trees \u001b[39m=\u001b[39m [\n\u001b[0;32m    <a href='file:///c%3A/Users/rakes/anaconda3/lib/site-packages/sklearn/ensemble/_forest.py?line=439'>440</a>\u001b[0m     \u001b[39mself\u001b[39m\u001b[39m.\u001b[39m_make_estimator(append\u001b[39m=\u001b[39m\u001b[39mFalse\u001b[39;00m, random_state\u001b[39m=\u001b[39mrandom_state)\n\u001b[0;32m    <a href='file:///c%3A/Users/rakes/anaconda3/lib/site-packages/sklearn/ensemble/_forest.py?line=440'>441</a>\u001b[0m     \u001b[39mfor\u001b[39;00m i \u001b[39min\u001b[39;00m \u001b[39mrange\u001b[39m(n_more_estimators)\n\u001b[0;32m    <a href='file:///c%3A/Users/rakes/anaconda3/lib/site-packages/sklearn/ensemble/_forest.py?line=441'>442</a>\u001b[0m ]\n\u001b[0;32m    <a href='file:///c%3A/Users/rakes/anaconda3/lib/site-packages/sklearn/ensemble/_forest.py?line=443'>444</a>\u001b[0m \u001b[39m# Parallel loop: we prefer the threading backend as the Cython code\u001b[39;00m\n\u001b[0;32m    <a href='file:///c%3A/Users/rakes/anaconda3/lib/site-packages/sklearn/ensemble/_forest.py?line=444'>445</a>\u001b[0m \u001b[39m# for fitting the trees is internally releasing the Python GIL\u001b[39;00m\n\u001b[0;32m    <a href='file:///c%3A/Users/rakes/anaconda3/lib/site-packages/sklearn/ensemble/_forest.py?line=445'>446</a>\u001b[0m \u001b[39m# making threading more efficient than multiprocessing in\u001b[39;00m\n\u001b[0;32m    <a href='file:///c%3A/Users/rakes/anaconda3/lib/site-packages/sklearn/ensemble/_forest.py?line=446'>447</a>\u001b[0m \u001b[39m# that case. However, for joblib 0.12+ we respect any\u001b[39;00m\n\u001b[0;32m    <a href='file:///c%3A/Users/rakes/anaconda3/lib/site-packages/sklearn/ensemble/_forest.py?line=447'>448</a>\u001b[0m \u001b[39m# parallel_backend contexts set at a higher level,\u001b[39;00m\n\u001b[0;32m    <a href='file:///c%3A/Users/rakes/anaconda3/lib/site-packages/sklearn/ensemble/_forest.py?line=448'>449</a>\u001b[0m \u001b[39m# since correctness does not rely on using threads.\u001b[39;00m\n\u001b[1;32m--> <a href='file:///c%3A/Users/rakes/anaconda3/lib/site-packages/sklearn/ensemble/_forest.py?line=449'>450</a>\u001b[0m trees \u001b[39m=\u001b[39m Parallel(\n\u001b[0;32m    <a href='file:///c%3A/Users/rakes/anaconda3/lib/site-packages/sklearn/ensemble/_forest.py?line=450'>451</a>\u001b[0m     n_jobs\u001b[39m=\u001b[39;49m\u001b[39mself\u001b[39;49m\u001b[39m.\u001b[39;49mn_jobs,\n\u001b[0;32m    <a href='file:///c%3A/Users/rakes/anaconda3/lib/site-packages/sklearn/ensemble/_forest.py?line=451'>452</a>\u001b[0m     verbose\u001b[39m=\u001b[39;49m\u001b[39mself\u001b[39;49m\u001b[39m.\u001b[39;49mverbose,\n\u001b[0;32m    <a href='file:///c%3A/Users/rakes/anaconda3/lib/site-packages/sklearn/ensemble/_forest.py?line=452'>453</a>\u001b[0m     \u001b[39m*\u001b[39;49m\u001b[39m*\u001b[39;49m_joblib_parallel_args(prefer\u001b[39m=\u001b[39;49m\u001b[39m\"\u001b[39;49m\u001b[39mthreads\u001b[39;49m\u001b[39m\"\u001b[39;49m),\n\u001b[0;32m    <a href='file:///c%3A/Users/rakes/anaconda3/lib/site-packages/sklearn/ensemble/_forest.py?line=453'>454</a>\u001b[0m )(\n\u001b[0;32m    <a href='file:///c%3A/Users/rakes/anaconda3/lib/site-packages/sklearn/ensemble/_forest.py?line=454'>455</a>\u001b[0m     delayed(_parallel_build_trees)(\n\u001b[0;32m    <a href='file:///c%3A/Users/rakes/anaconda3/lib/site-packages/sklearn/ensemble/_forest.py?line=455'>456</a>\u001b[0m         t,\n\u001b[0;32m    <a href='file:///c%3A/Users/rakes/anaconda3/lib/site-packages/sklearn/ensemble/_forest.py?line=456'>457</a>\u001b[0m         \u001b[39mself\u001b[39;49m,\n\u001b[0;32m    <a href='file:///c%3A/Users/rakes/anaconda3/lib/site-packages/sklearn/ensemble/_forest.py?line=457'>458</a>\u001b[0m         X,\n\u001b[0;32m    <a href='file:///c%3A/Users/rakes/anaconda3/lib/site-packages/sklearn/ensemble/_forest.py?line=458'>459</a>\u001b[0m         y,\n\u001b[0;32m    <a href='file:///c%3A/Users/rakes/anaconda3/lib/site-packages/sklearn/ensemble/_forest.py?line=459'>460</a>\u001b[0m         sample_weight,\n\u001b[0;32m    <a href='file:///c%3A/Users/rakes/anaconda3/lib/site-packages/sklearn/ensemble/_forest.py?line=460'>461</a>\u001b[0m         i,\n\u001b[0;32m    <a href='file:///c%3A/Users/rakes/anaconda3/lib/site-packages/sklearn/ensemble/_forest.py?line=461'>462</a>\u001b[0m         \u001b[39mlen\u001b[39;49m(trees),\n\u001b[0;32m    <a href='file:///c%3A/Users/rakes/anaconda3/lib/site-packages/sklearn/ensemble/_forest.py?line=462'>463</a>\u001b[0m         verbose\u001b[39m=\u001b[39;49m\u001b[39mself\u001b[39;49m\u001b[39m.\u001b[39;49mverbose,\n\u001b[0;32m    <a href='file:///c%3A/Users/rakes/anaconda3/lib/site-packages/sklearn/ensemble/_forest.py?line=463'>464</a>\u001b[0m         class_weight\u001b[39m=\u001b[39;49m\u001b[39mself\u001b[39;49m\u001b[39m.\u001b[39;49mclass_weight,\n\u001b[0;32m    <a href='file:///c%3A/Users/rakes/anaconda3/lib/site-packages/sklearn/ensemble/_forest.py?line=464'>465</a>\u001b[0m         n_samples_bootstrap\u001b[39m=\u001b[39;49mn_samples_bootstrap,\n\u001b[0;32m    <a href='file:///c%3A/Users/rakes/anaconda3/lib/site-packages/sklearn/ensemble/_forest.py?line=465'>466</a>\u001b[0m     )\n\u001b[0;32m    <a href='file:///c%3A/Users/rakes/anaconda3/lib/site-packages/sklearn/ensemble/_forest.py?line=466'>467</a>\u001b[0m     \u001b[39mfor\u001b[39;49;00m i, t \u001b[39min\u001b[39;49;00m \u001b[39menumerate\u001b[39;49m(trees)\n\u001b[0;32m    <a href='file:///c%3A/Users/rakes/anaconda3/lib/site-packages/sklearn/ensemble/_forest.py?line=467'>468</a>\u001b[0m )\n\u001b[0;32m    <a href='file:///c%3A/Users/rakes/anaconda3/lib/site-packages/sklearn/ensemble/_forest.py?line=469'>470</a>\u001b[0m \u001b[39m# Collect newly grown trees\u001b[39;00m\n\u001b[0;32m    <a href='file:///c%3A/Users/rakes/anaconda3/lib/site-packages/sklearn/ensemble/_forest.py?line=470'>471</a>\u001b[0m \u001b[39mself\u001b[39m\u001b[39m.\u001b[39mestimators_\u001b[39m.\u001b[39mextend(trees)\n",
      "File \u001b[1;32mc:\\Users\\rakes\\anaconda3\\lib\\site-packages\\joblib\\parallel.py:1046\u001b[0m, in \u001b[0;36mParallel.__call__\u001b[1;34m(self, iterable)\u001b[0m\n\u001b[0;32m   <a href='file:///c%3A/Users/rakes/anaconda3/lib/site-packages/joblib/parallel.py?line=1042'>1043</a>\u001b[0m \u001b[39mif\u001b[39;00m \u001b[39mself\u001b[39m\u001b[39m.\u001b[39mdispatch_one_batch(iterator):\n\u001b[0;32m   <a href='file:///c%3A/Users/rakes/anaconda3/lib/site-packages/joblib/parallel.py?line=1043'>1044</a>\u001b[0m     \u001b[39mself\u001b[39m\u001b[39m.\u001b[39m_iterating \u001b[39m=\u001b[39m \u001b[39mself\u001b[39m\u001b[39m.\u001b[39m_original_iterator \u001b[39mis\u001b[39;00m \u001b[39mnot\u001b[39;00m \u001b[39mNone\u001b[39;00m\n\u001b[1;32m-> <a href='file:///c%3A/Users/rakes/anaconda3/lib/site-packages/joblib/parallel.py?line=1045'>1046</a>\u001b[0m \u001b[39mwhile\u001b[39;00m \u001b[39mself\u001b[39;49m\u001b[39m.\u001b[39;49mdispatch_one_batch(iterator):\n\u001b[0;32m   <a href='file:///c%3A/Users/rakes/anaconda3/lib/site-packages/joblib/parallel.py?line=1046'>1047</a>\u001b[0m     \u001b[39mpass\u001b[39;00m\n\u001b[0;32m   <a href='file:///c%3A/Users/rakes/anaconda3/lib/site-packages/joblib/parallel.py?line=1048'>1049</a>\u001b[0m \u001b[39mif\u001b[39;00m pre_dispatch \u001b[39m==\u001b[39m \u001b[39m\"\u001b[39m\u001b[39mall\u001b[39m\u001b[39m\"\u001b[39m \u001b[39mor\u001b[39;00m n_jobs \u001b[39m==\u001b[39m \u001b[39m1\u001b[39m:\n\u001b[0;32m   <a href='file:///c%3A/Users/rakes/anaconda3/lib/site-packages/joblib/parallel.py?line=1049'>1050</a>\u001b[0m     \u001b[39m# The iterable was consumed all at once by the above for loop.\u001b[39;00m\n\u001b[0;32m   <a href='file:///c%3A/Users/rakes/anaconda3/lib/site-packages/joblib/parallel.py?line=1050'>1051</a>\u001b[0m     \u001b[39m# No need to wait for async callbacks to trigger to\u001b[39;00m\n\u001b[0;32m   <a href='file:///c%3A/Users/rakes/anaconda3/lib/site-packages/joblib/parallel.py?line=1051'>1052</a>\u001b[0m     \u001b[39m# consumption.\u001b[39;00m\n",
      "File \u001b[1;32mc:\\Users\\rakes\\anaconda3\\lib\\site-packages\\joblib\\parallel.py:861\u001b[0m, in \u001b[0;36mParallel.dispatch_one_batch\u001b[1;34m(self, iterator)\u001b[0m\n\u001b[0;32m    <a href='file:///c%3A/Users/rakes/anaconda3/lib/site-packages/joblib/parallel.py?line=858'>859</a>\u001b[0m     \u001b[39mreturn\u001b[39;00m \u001b[39mFalse\u001b[39;00m\n\u001b[0;32m    <a href='file:///c%3A/Users/rakes/anaconda3/lib/site-packages/joblib/parallel.py?line=859'>860</a>\u001b[0m \u001b[39melse\u001b[39;00m:\n\u001b[1;32m--> <a href='file:///c%3A/Users/rakes/anaconda3/lib/site-packages/joblib/parallel.py?line=860'>861</a>\u001b[0m     \u001b[39mself\u001b[39;49m\u001b[39m.\u001b[39;49m_dispatch(tasks)\n\u001b[0;32m    <a href='file:///c%3A/Users/rakes/anaconda3/lib/site-packages/joblib/parallel.py?line=861'>862</a>\u001b[0m     \u001b[39mreturn\u001b[39;00m \u001b[39mTrue\u001b[39;00m\n",
      "File \u001b[1;32mc:\\Users\\rakes\\anaconda3\\lib\\site-packages\\joblib\\parallel.py:779\u001b[0m, in \u001b[0;36mParallel._dispatch\u001b[1;34m(self, batch)\u001b[0m\n\u001b[0;32m    <a href='file:///c%3A/Users/rakes/anaconda3/lib/site-packages/joblib/parallel.py?line=776'>777</a>\u001b[0m \u001b[39mwith\u001b[39;00m \u001b[39mself\u001b[39m\u001b[39m.\u001b[39m_lock:\n\u001b[0;32m    <a href='file:///c%3A/Users/rakes/anaconda3/lib/site-packages/joblib/parallel.py?line=777'>778</a>\u001b[0m     job_idx \u001b[39m=\u001b[39m \u001b[39mlen\u001b[39m(\u001b[39mself\u001b[39m\u001b[39m.\u001b[39m_jobs)\n\u001b[1;32m--> <a href='file:///c%3A/Users/rakes/anaconda3/lib/site-packages/joblib/parallel.py?line=778'>779</a>\u001b[0m     job \u001b[39m=\u001b[39m \u001b[39mself\u001b[39;49m\u001b[39m.\u001b[39;49m_backend\u001b[39m.\u001b[39;49mapply_async(batch, callback\u001b[39m=\u001b[39;49mcb)\n\u001b[0;32m    <a href='file:///c%3A/Users/rakes/anaconda3/lib/site-packages/joblib/parallel.py?line=779'>780</a>\u001b[0m     \u001b[39m# A job can complete so quickly than its callback is\u001b[39;00m\n\u001b[0;32m    <a href='file:///c%3A/Users/rakes/anaconda3/lib/site-packages/joblib/parallel.py?line=780'>781</a>\u001b[0m     \u001b[39m# called before we get here, causing self._jobs to\u001b[39;00m\n\u001b[0;32m    <a href='file:///c%3A/Users/rakes/anaconda3/lib/site-packages/joblib/parallel.py?line=781'>782</a>\u001b[0m     \u001b[39m# grow. To ensure correct results ordering, .insert is\u001b[39;00m\n\u001b[0;32m    <a href='file:///c%3A/Users/rakes/anaconda3/lib/site-packages/joblib/parallel.py?line=782'>783</a>\u001b[0m     \u001b[39m# used (rather than .append) in the following line\u001b[39;00m\n\u001b[0;32m    <a href='file:///c%3A/Users/rakes/anaconda3/lib/site-packages/joblib/parallel.py?line=783'>784</a>\u001b[0m     \u001b[39mself\u001b[39m\u001b[39m.\u001b[39m_jobs\u001b[39m.\u001b[39minsert(job_idx, job)\n",
      "File \u001b[1;32mc:\\Users\\rakes\\anaconda3\\lib\\site-packages\\joblib\\_parallel_backends.py:208\u001b[0m, in \u001b[0;36mSequentialBackend.apply_async\u001b[1;34m(self, func, callback)\u001b[0m\n\u001b[0;32m    <a href='file:///c%3A/Users/rakes/anaconda3/lib/site-packages/joblib/_parallel_backends.py?line=205'>206</a>\u001b[0m \u001b[39mdef\u001b[39;00m \u001b[39mapply_async\u001b[39m(\u001b[39mself\u001b[39m, func, callback\u001b[39m=\u001b[39m\u001b[39mNone\u001b[39;00m):\n\u001b[0;32m    <a href='file:///c%3A/Users/rakes/anaconda3/lib/site-packages/joblib/_parallel_backends.py?line=206'>207</a>\u001b[0m     \u001b[39m\"\"\"Schedule a func to be run\"\"\"\u001b[39;00m\n\u001b[1;32m--> <a href='file:///c%3A/Users/rakes/anaconda3/lib/site-packages/joblib/_parallel_backends.py?line=207'>208</a>\u001b[0m     result \u001b[39m=\u001b[39m ImmediateResult(func)\n\u001b[0;32m    <a href='file:///c%3A/Users/rakes/anaconda3/lib/site-packages/joblib/_parallel_backends.py?line=208'>209</a>\u001b[0m     \u001b[39mif\u001b[39;00m callback:\n\u001b[0;32m    <a href='file:///c%3A/Users/rakes/anaconda3/lib/site-packages/joblib/_parallel_backends.py?line=209'>210</a>\u001b[0m         callback(result)\n",
      "File \u001b[1;32mc:\\Users\\rakes\\anaconda3\\lib\\site-packages\\joblib\\_parallel_backends.py:572\u001b[0m, in \u001b[0;36mImmediateResult.__init__\u001b[1;34m(self, batch)\u001b[0m\n\u001b[0;32m    <a href='file:///c%3A/Users/rakes/anaconda3/lib/site-packages/joblib/_parallel_backends.py?line=568'>569</a>\u001b[0m \u001b[39mdef\u001b[39;00m \u001b[39m__init__\u001b[39m(\u001b[39mself\u001b[39m, batch):\n\u001b[0;32m    <a href='file:///c%3A/Users/rakes/anaconda3/lib/site-packages/joblib/_parallel_backends.py?line=569'>570</a>\u001b[0m     \u001b[39m# Don't delay the application, to avoid keeping the input\u001b[39;00m\n\u001b[0;32m    <a href='file:///c%3A/Users/rakes/anaconda3/lib/site-packages/joblib/_parallel_backends.py?line=570'>571</a>\u001b[0m     \u001b[39m# arguments in memory\u001b[39;00m\n\u001b[1;32m--> <a href='file:///c%3A/Users/rakes/anaconda3/lib/site-packages/joblib/_parallel_backends.py?line=571'>572</a>\u001b[0m     \u001b[39mself\u001b[39m\u001b[39m.\u001b[39mresults \u001b[39m=\u001b[39m batch()\n",
      "File \u001b[1;32mc:\\Users\\rakes\\anaconda3\\lib\\site-packages\\joblib\\parallel.py:262\u001b[0m, in \u001b[0;36mBatchedCalls.__call__\u001b[1;34m(self)\u001b[0m\n\u001b[0;32m    <a href='file:///c%3A/Users/rakes/anaconda3/lib/site-packages/joblib/parallel.py?line=257'>258</a>\u001b[0m \u001b[39mdef\u001b[39;00m \u001b[39m__call__\u001b[39m(\u001b[39mself\u001b[39m):\n\u001b[0;32m    <a href='file:///c%3A/Users/rakes/anaconda3/lib/site-packages/joblib/parallel.py?line=258'>259</a>\u001b[0m     \u001b[39m# Set the default nested backend to self._backend but do not set the\u001b[39;00m\n\u001b[0;32m    <a href='file:///c%3A/Users/rakes/anaconda3/lib/site-packages/joblib/parallel.py?line=259'>260</a>\u001b[0m     \u001b[39m# change the default number of processes to -1\u001b[39;00m\n\u001b[0;32m    <a href='file:///c%3A/Users/rakes/anaconda3/lib/site-packages/joblib/parallel.py?line=260'>261</a>\u001b[0m     \u001b[39mwith\u001b[39;00m parallel_backend(\u001b[39mself\u001b[39m\u001b[39m.\u001b[39m_backend, n_jobs\u001b[39m=\u001b[39m\u001b[39mself\u001b[39m\u001b[39m.\u001b[39m_n_jobs):\n\u001b[1;32m--> <a href='file:///c%3A/Users/rakes/anaconda3/lib/site-packages/joblib/parallel.py?line=261'>262</a>\u001b[0m         \u001b[39mreturn\u001b[39;00m [func(\u001b[39m*\u001b[39margs, \u001b[39m*\u001b[39m\u001b[39m*\u001b[39mkwargs)\n\u001b[0;32m    <a href='file:///c%3A/Users/rakes/anaconda3/lib/site-packages/joblib/parallel.py?line=262'>263</a>\u001b[0m                 \u001b[39mfor\u001b[39;00m func, args, kwargs \u001b[39min\u001b[39;00m \u001b[39mself\u001b[39m\u001b[39m.\u001b[39mitems]\n",
      "File \u001b[1;32mc:\\Users\\rakes\\anaconda3\\lib\\site-packages\\joblib\\parallel.py:262\u001b[0m, in \u001b[0;36m<listcomp>\u001b[1;34m(.0)\u001b[0m\n\u001b[0;32m    <a href='file:///c%3A/Users/rakes/anaconda3/lib/site-packages/joblib/parallel.py?line=257'>258</a>\u001b[0m \u001b[39mdef\u001b[39;00m \u001b[39m__call__\u001b[39m(\u001b[39mself\u001b[39m):\n\u001b[0;32m    <a href='file:///c%3A/Users/rakes/anaconda3/lib/site-packages/joblib/parallel.py?line=258'>259</a>\u001b[0m     \u001b[39m# Set the default nested backend to self._backend but do not set the\u001b[39;00m\n\u001b[0;32m    <a href='file:///c%3A/Users/rakes/anaconda3/lib/site-packages/joblib/parallel.py?line=259'>260</a>\u001b[0m     \u001b[39m# change the default number of processes to -1\u001b[39;00m\n\u001b[0;32m    <a href='file:///c%3A/Users/rakes/anaconda3/lib/site-packages/joblib/parallel.py?line=260'>261</a>\u001b[0m     \u001b[39mwith\u001b[39;00m parallel_backend(\u001b[39mself\u001b[39m\u001b[39m.\u001b[39m_backend, n_jobs\u001b[39m=\u001b[39m\u001b[39mself\u001b[39m\u001b[39m.\u001b[39m_n_jobs):\n\u001b[1;32m--> <a href='file:///c%3A/Users/rakes/anaconda3/lib/site-packages/joblib/parallel.py?line=261'>262</a>\u001b[0m         \u001b[39mreturn\u001b[39;00m [func(\u001b[39m*\u001b[39margs, \u001b[39m*\u001b[39m\u001b[39m*\u001b[39mkwargs)\n\u001b[0;32m    <a href='file:///c%3A/Users/rakes/anaconda3/lib/site-packages/joblib/parallel.py?line=262'>263</a>\u001b[0m                 \u001b[39mfor\u001b[39;00m func, args, kwargs \u001b[39min\u001b[39;00m \u001b[39mself\u001b[39m\u001b[39m.\u001b[39mitems]\n",
      "File \u001b[1;32mc:\\Users\\rakes\\anaconda3\\lib\\site-packages\\sklearn\\utils\\fixes.py:216\u001b[0m, in \u001b[0;36m_FuncWrapper.__call__\u001b[1;34m(self, *args, **kwargs)\u001b[0m\n\u001b[0;32m    <a href='file:///c%3A/Users/rakes/anaconda3/lib/site-packages/sklearn/utils/fixes.py?line=213'>214</a>\u001b[0m \u001b[39mdef\u001b[39;00m \u001b[39m__call__\u001b[39m(\u001b[39mself\u001b[39m, \u001b[39m*\u001b[39margs, \u001b[39m*\u001b[39m\u001b[39m*\u001b[39mkwargs):\n\u001b[0;32m    <a href='file:///c%3A/Users/rakes/anaconda3/lib/site-packages/sklearn/utils/fixes.py?line=214'>215</a>\u001b[0m     \u001b[39mwith\u001b[39;00m config_context(\u001b[39m*\u001b[39m\u001b[39m*\u001b[39m\u001b[39mself\u001b[39m\u001b[39m.\u001b[39mconfig):\n\u001b[1;32m--> <a href='file:///c%3A/Users/rakes/anaconda3/lib/site-packages/sklearn/utils/fixes.py?line=215'>216</a>\u001b[0m         \u001b[39mreturn\u001b[39;00m \u001b[39mself\u001b[39m\u001b[39m.\u001b[39mfunction(\u001b[39m*\u001b[39margs, \u001b[39m*\u001b[39m\u001b[39m*\u001b[39mkwargs)\n",
      "File \u001b[1;32mc:\\Users\\rakes\\anaconda3\\lib\\site-packages\\sklearn\\ensemble\\_forest.py:185\u001b[0m, in \u001b[0;36m_parallel_build_trees\u001b[1;34m(tree, forest, X, y, sample_weight, tree_idx, n_trees, verbose, class_weight, n_samples_bootstrap)\u001b[0m\n\u001b[0;32m    <a href='file:///c%3A/Users/rakes/anaconda3/lib/site-packages/sklearn/ensemble/_forest.py?line=181'>182</a>\u001b[0m     \u001b[39melif\u001b[39;00m class_weight \u001b[39m==\u001b[39m \u001b[39m\"\u001b[39m\u001b[39mbalanced_subsample\u001b[39m\u001b[39m\"\u001b[39m:\n\u001b[0;32m    <a href='file:///c%3A/Users/rakes/anaconda3/lib/site-packages/sklearn/ensemble/_forest.py?line=182'>183</a>\u001b[0m         curr_sample_weight \u001b[39m*\u001b[39m\u001b[39m=\u001b[39m compute_sample_weight(\u001b[39m\"\u001b[39m\u001b[39mbalanced\u001b[39m\u001b[39m\"\u001b[39m, y, indices\u001b[39m=\u001b[39mindices)\n\u001b[1;32m--> <a href='file:///c%3A/Users/rakes/anaconda3/lib/site-packages/sklearn/ensemble/_forest.py?line=184'>185</a>\u001b[0m     tree\u001b[39m.\u001b[39;49mfit(X, y, sample_weight\u001b[39m=\u001b[39;49mcurr_sample_weight, check_input\u001b[39m=\u001b[39;49m\u001b[39mFalse\u001b[39;49;00m)\n\u001b[0;32m    <a href='file:///c%3A/Users/rakes/anaconda3/lib/site-packages/sklearn/ensemble/_forest.py?line=185'>186</a>\u001b[0m \u001b[39melse\u001b[39;00m:\n\u001b[0;32m    <a href='file:///c%3A/Users/rakes/anaconda3/lib/site-packages/sklearn/ensemble/_forest.py?line=186'>187</a>\u001b[0m     tree\u001b[39m.\u001b[39mfit(X, y, sample_weight\u001b[39m=\u001b[39msample_weight, check_input\u001b[39m=\u001b[39m\u001b[39mFalse\u001b[39;00m)\n",
      "File \u001b[1;32mc:\\Users\\rakes\\anaconda3\\lib\\site-packages\\sklearn\\tree\\_classes.py:1315\u001b[0m, in \u001b[0;36mDecisionTreeRegressor.fit\u001b[1;34m(self, X, y, sample_weight, check_input, X_idx_sorted)\u001b[0m\n\u001b[0;32m   <a href='file:///c%3A/Users/rakes/anaconda3/lib/site-packages/sklearn/tree/_classes.py?line=1277'>1278</a>\u001b[0m \u001b[39mdef\u001b[39;00m \u001b[39mfit\u001b[39m(\n\u001b[0;32m   <a href='file:///c%3A/Users/rakes/anaconda3/lib/site-packages/sklearn/tree/_classes.py?line=1278'>1279</a>\u001b[0m     \u001b[39mself\u001b[39m, X, y, sample_weight\u001b[39m=\u001b[39m\u001b[39mNone\u001b[39;00m, check_input\u001b[39m=\u001b[39m\u001b[39mTrue\u001b[39;00m, X_idx_sorted\u001b[39m=\u001b[39m\u001b[39m\"\u001b[39m\u001b[39mdeprecated\u001b[39m\u001b[39m\"\u001b[39m\n\u001b[0;32m   <a href='file:///c%3A/Users/rakes/anaconda3/lib/site-packages/sklearn/tree/_classes.py?line=1279'>1280</a>\u001b[0m ):\n\u001b[0;32m   <a href='file:///c%3A/Users/rakes/anaconda3/lib/site-packages/sklearn/tree/_classes.py?line=1280'>1281</a>\u001b[0m     \u001b[39m\"\"\"Build a decision tree regressor from the training set (X, y).\u001b[39;00m\n\u001b[0;32m   <a href='file:///c%3A/Users/rakes/anaconda3/lib/site-packages/sklearn/tree/_classes.py?line=1281'>1282</a>\u001b[0m \n\u001b[0;32m   <a href='file:///c%3A/Users/rakes/anaconda3/lib/site-packages/sklearn/tree/_classes.py?line=1282'>1283</a>\u001b[0m \u001b[39m    Parameters\u001b[39;00m\n\u001b[1;32m   (...)\u001b[0m\n\u001b[0;32m   <a href='file:///c%3A/Users/rakes/anaconda3/lib/site-packages/sklearn/tree/_classes.py?line=1311'>1312</a>\u001b[0m \u001b[39m        Fitted estimator.\u001b[39;00m\n\u001b[0;32m   <a href='file:///c%3A/Users/rakes/anaconda3/lib/site-packages/sklearn/tree/_classes.py?line=1312'>1313</a>\u001b[0m \u001b[39m    \"\"\"\u001b[39;00m\n\u001b[1;32m-> <a href='file:///c%3A/Users/rakes/anaconda3/lib/site-packages/sklearn/tree/_classes.py?line=1314'>1315</a>\u001b[0m     \u001b[39msuper\u001b[39;49m()\u001b[39m.\u001b[39;49mfit(\n\u001b[0;32m   <a href='file:///c%3A/Users/rakes/anaconda3/lib/site-packages/sklearn/tree/_classes.py?line=1315'>1316</a>\u001b[0m         X,\n\u001b[0;32m   <a href='file:///c%3A/Users/rakes/anaconda3/lib/site-packages/sklearn/tree/_classes.py?line=1316'>1317</a>\u001b[0m         y,\n\u001b[0;32m   <a href='file:///c%3A/Users/rakes/anaconda3/lib/site-packages/sklearn/tree/_classes.py?line=1317'>1318</a>\u001b[0m         sample_weight\u001b[39m=\u001b[39;49msample_weight,\n\u001b[0;32m   <a href='file:///c%3A/Users/rakes/anaconda3/lib/site-packages/sklearn/tree/_classes.py?line=1318'>1319</a>\u001b[0m         check_input\u001b[39m=\u001b[39;49mcheck_input,\n\u001b[0;32m   <a href='file:///c%3A/Users/rakes/anaconda3/lib/site-packages/sklearn/tree/_classes.py?line=1319'>1320</a>\u001b[0m         X_idx_sorted\u001b[39m=\u001b[39;49mX_idx_sorted,\n\u001b[0;32m   <a href='file:///c%3A/Users/rakes/anaconda3/lib/site-packages/sklearn/tree/_classes.py?line=1320'>1321</a>\u001b[0m     )\n\u001b[0;32m   <a href='file:///c%3A/Users/rakes/anaconda3/lib/site-packages/sklearn/tree/_classes.py?line=1321'>1322</a>\u001b[0m     \u001b[39mreturn\u001b[39;00m \u001b[39mself\u001b[39m\n",
      "File \u001b[1;32mc:\\Users\\rakes\\anaconda3\\lib\\site-packages\\sklearn\\tree\\_classes.py:420\u001b[0m, in \u001b[0;36mBaseDecisionTree.fit\u001b[1;34m(self, X, y, sample_weight, check_input, X_idx_sorted)\u001b[0m\n\u001b[0;32m    <a href='file:///c%3A/Users/rakes/anaconda3/lib/site-packages/sklearn/tree/_classes.py?line=408'>409</a>\u001b[0m \u001b[39melse\u001b[39;00m:\n\u001b[0;32m    <a href='file:///c%3A/Users/rakes/anaconda3/lib/site-packages/sklearn/tree/_classes.py?line=409'>410</a>\u001b[0m     builder \u001b[39m=\u001b[39m BestFirstTreeBuilder(\n\u001b[0;32m    <a href='file:///c%3A/Users/rakes/anaconda3/lib/site-packages/sklearn/tree/_classes.py?line=410'>411</a>\u001b[0m         splitter,\n\u001b[0;32m    <a href='file:///c%3A/Users/rakes/anaconda3/lib/site-packages/sklearn/tree/_classes.py?line=411'>412</a>\u001b[0m         min_samples_split,\n\u001b[1;32m   (...)\u001b[0m\n\u001b[0;32m    <a href='file:///c%3A/Users/rakes/anaconda3/lib/site-packages/sklearn/tree/_classes.py?line=416'>417</a>\u001b[0m         \u001b[39mself\u001b[39m\u001b[39m.\u001b[39mmin_impurity_decrease,\n\u001b[0;32m    <a href='file:///c%3A/Users/rakes/anaconda3/lib/site-packages/sklearn/tree/_classes.py?line=417'>418</a>\u001b[0m     )\n\u001b[1;32m--> <a href='file:///c%3A/Users/rakes/anaconda3/lib/site-packages/sklearn/tree/_classes.py?line=419'>420</a>\u001b[0m builder\u001b[39m.\u001b[39;49mbuild(\u001b[39mself\u001b[39;49m\u001b[39m.\u001b[39;49mtree_, X, y, sample_weight)\n\u001b[0;32m    <a href='file:///c%3A/Users/rakes/anaconda3/lib/site-packages/sklearn/tree/_classes.py?line=421'>422</a>\u001b[0m \u001b[39mif\u001b[39;00m \u001b[39mself\u001b[39m\u001b[39m.\u001b[39mn_outputs_ \u001b[39m==\u001b[39m \u001b[39m1\u001b[39m \u001b[39mand\u001b[39;00m is_classifier(\u001b[39mself\u001b[39m):\n\u001b[0;32m    <a href='file:///c%3A/Users/rakes/anaconda3/lib/site-packages/sklearn/tree/_classes.py?line=422'>423</a>\u001b[0m     \u001b[39mself\u001b[39m\u001b[39m.\u001b[39mn_classes_ \u001b[39m=\u001b[39m \u001b[39mself\u001b[39m\u001b[39m.\u001b[39mn_classes_[\u001b[39m0\u001b[39m]\n",
      "\u001b[1;31mKeyboardInterrupt\u001b[0m: "
     ]
    }
   ],
   "source": [
    "model.fit(X_train, y_train)"
   ]
  },
  {
   "cell_type": "code",
   "execution_count": null,
   "metadata": {},
   "outputs": [
    {
     "name": "stdout",
     "output_type": "stream",
     "text": [
      "Root Mean Squared Error: 0.7830565286464197\n"
     ]
    }
   ],
   "source": [
    "# use for loop for the predict\n",
    "prediction_test = model.predict(X_test)\n",
    "print ('Root Mean Squared Error:', np.sqrt(metrics.mean_squared_error(y_test, prediction_test)))\n"
   ]
  },
  {
   "cell_type": "code",
   "execution_count": null,
   "metadata": {},
   "outputs": [
    {
     "name": "stdout",
     "output_type": "stream",
     "text": [
      "v_Acc                                      0.690408\n",
      "Velocity Difference_Following-Preceding    0.072771\n",
      "Local_Y                                    0.065580\n",
      "v_Vel                                      0.055341\n",
      "Rear_to_Front_Space_Headway                0.043139\n",
      "Time_duration                              0.039406\n",
      "Vehicle_ID                                 0.033356\n",
      "dtype: float64\n"
     ]
    }
   ],
   "source": [
    "feature_list = list(X.columns)\n",
    "feature_imp = pd.Series(model.feature_importances_,index=feature_list).sort_values(ascending=False)\n",
    "print(feature_imp)"
   ]
  },
  {
   "cell_type": "code",
   "execution_count": null,
   "metadata": {},
   "outputs": [
    {
     "data": {
      "image/png": "[encoded data removed]",
      "text/plain": [
       "<Figure size 432x288 with 1 Axes>"
      ]
     },
     "metadata": {
      "needs_background": "light"
     },
     "output_type": "display_data"
    }
   ],
   "source": [
    "feature_imp.plot()\n",
    "plt.xticks(rotation = 90)\n",
    "plt.show()"
   ]
  },
  {
   "cell_type": "code",
   "execution_count": null,
   "metadata": {},
   "outputs": [
    {
     "data": {
      "text/plain": [
       "<AxesSubplot:>"
      ]
     },
     "execution_count": 331,
     "metadata": {},
     "output_type": "execute_result"
    },
    {
     "data": {
      "image/png": "[encoded data removed]",
      "text/plain": [
       "<Figure size 432x288 with 1 Axes>"
      ]
     },
     "metadata": {
      "needs_background": "light"
     },
     "output_type": "display_data"
    }
   ],
   "source": [
    "(pd.Series(model.feature_importances_, index=X.columns)\n",
    "   .plot(kind='barh'))"
   ]
  },
  {
   "cell_type": "code",
   "execution_count": null,
   "metadata": {},
   "outputs": [],
   "source": []
  }
 ],
 "metadata": {
  "interpreter": {
   "hash": "10726c0682e291841bfaf9b2b8d4b11087dac8ba665815177f56f37179a33510"
  },
  "kernelspec": {
   "display_name": "Python 3.9.12 ('base')",
   "language": "python",
   "name": "python3"
  },
  "language_info": {
   "codemirror_mode": {
    "name": "ipython",
    "version": 3
   },
   "file_extension": ".py",
   "mimetype": "text/x-python",
   "name": "python",
   "nbconvert_exporter": "python",
   "pygments_lexer": "ipython3",
   "version": "3.9.12"
  },
  "orig_nbformat": 4
 },
 "nbformat": 4,
 "nbformat_minor": 2
}
