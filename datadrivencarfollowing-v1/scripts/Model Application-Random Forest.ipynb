{
 "cells": [
  {
   "cell_type": "markdown",
   "metadata": {},
   "source": [
    "Importing required libraries to predict acceleration using random forest, calculate RMSE (RootMeanSquaredError), and create plots to compare predicted and actual acceleration"
   ]
  },
  {
   "cell_type": "code",
   "execution_count": 1,
   "metadata": {},
   "outputs": [],
   "source": [
    "import pandas as pd\n",
    "import numpy as np\n",
    "\n",
    "#import src\n",
    "import FileProcessing\n",
    "import ModelClass"
   ]
  },
  {
   "cell_type": "code",
   "execution_count": null,
   "metadata": {},
   "outputs": [],
   "source": [
    "fileProcessing=FileProcessing.FileProcessing()\n",
    "model_obj=ModelClass.ModelClass()"
   ]
  },
  {
   "cell_type": "code",
   "execution_count": null,
   "metadata": {},
   "outputs": [
    {
     "name": "stdout",
     "output_type": "stream",
     "text": [
      "File Read Complete: c:\\Users\\StudentAccount\\Python\\Capstone\\gitcodelocation\\DataDrivenCarFollowing\\datadrivencarfollowing-v1\\data/Cleaned_NGSIM_Data.csv\n"
     ]
    }
   ],
   "source": [
    "file_name='Cleaned_NGSIM_Data'\n",
    "ngsim=fileProcessing.read_input(file_name)"
   ]
  },
  {
   "cell_type": "code",
   "execution_count": null,
   "metadata": {},
   "outputs": [
    {
     "ename": "MemoryError",
     "evalue": "",
     "output_type": "error",
     "traceback": [
      "\u001b[1;31m---------------------------------------------------------------------------\u001b[0m",
      "\u001b[1;31mMemoryError\u001b[0m                               Traceback (most recent call last)",
      "\u001b[1;32mc:\\Users\\StudentAccount\\Python\\Capstone\\gitcodelocation\\DataDrivenCarFollowing\\datadrivencarfollowing-v1\\scripts\\Model Application-Random Forest.ipynb Cell 5\u001b[0m in \u001b[0;36m<cell line: 3>\u001b[1;34m()\u001b[0m\n\u001b[0;32m      <a href='vscode-notebook-cell:/c%3A/Users/StudentAccount/Python/Capstone/gitcodelocation/DataDrivenCarFollowing/datadrivencarfollowing-v1/scripts/Model%20Application-Random%20Forest.ipynb#ch0000004?line=0'>1</a>\u001b[0m delta_time\u001b[39m=\u001b[39m\u001b[39m0.1\u001b[39m\n\u001b[0;32m      <a href='vscode-notebook-cell:/c%3A/Users/StudentAccount/Python/Capstone/gitcodelocation/DataDrivenCarFollowing/datadrivencarfollowing-v1/scripts/Model%20Application-Random%20Forest.ipynb#ch0000004?line=1'>2</a>\u001b[0m number_of_estimators\u001b[39m=\u001b[39m\u001b[39m150\u001b[39m\n\u001b[1;32m----> <a href='vscode-notebook-cell:/c%3A/Users/StudentAccount/Python/Capstone/gitcodelocation/DataDrivenCarFollowing/datadrivencarfollowing-v1/scripts/Model%20Application-Random%20Forest.ipynb#ch0000004?line=2'>3</a>\u001b[0m ngsim_1, train_df_1, val_df_1, test_df_1, X_train_1, y_train_1, X_val_1, y_val_1, X_test_1, y_test_1,predicted_data_1,model\u001b[39m=\u001b[39m model_obj\u001b[39m.\u001b[39;49mfit_and_run_Random_Forest(ngsim, delta_time,number_of_estimators)\n",
      "File \u001b[1;32m~\\Python\\Capstone\\gitcodelocation\\DataDrivenCarFollowing\\datadrivencarfollowing-v1\\src\\ModelClass.py:295\u001b[0m, in \u001b[0;36mModelClass.fit_and_run_Random_Forest\u001b[1;34m(self, df, delta_time, number_of_estimators)\u001b[0m\n\u001b[0;32m    293\u001b[0m model \u001b[39m=\u001b[39m \u001b[39mself\u001b[39m\u001b[39m.\u001b[39mdefine_fit_RF(X_train, y_train, number_of_estimators)\n\u001b[0;32m    294\u001b[0m model_name \u001b[39m=\u001b[39m \u001b[39m'\u001b[39m\u001b[39mrandomForest\u001b[39m\u001b[39m'\u001b[39m \u001b[39m+\u001b[39m \u001b[39mstr\u001b[39m(delta_time) \u001b[39m+\u001b[39m \u001b[39m'\u001b[39m\u001b[39m.pkg\u001b[39m\u001b[39m'\u001b[39m\n\u001b[1;32m--> 295\u001b[0m pickle\u001b[39m.\u001b[39;49mdump(model, \u001b[39mopen\u001b[39;49m(model_name, \u001b[39m'\u001b[39;49m\u001b[39mwb\u001b[39;49m\u001b[39m'\u001b[39;49m))\n\u001b[0;32m    296\u001b[0m model_name \u001b[39m=\u001b[39m \u001b[39m'\u001b[39m\u001b[39m./randomForest\u001b[39m\u001b[39m'\u001b[39m \u001b[39m+\u001b[39m \u001b[39mstr\u001b[39m(delta_time) \u001b[39m+\u001b[39m \u001b[39m'\u001b[39m\u001b[39m.joblib\u001b[39m\u001b[39m'\u001b[39m\n\u001b[0;32m    297\u001b[0m joblib\u001b[39m.\u001b[39mdump(model, model_name)\n",
      "\u001b[1;31mMemoryError\u001b[0m: "
     ]
    }
   ],
   "source": [
    "delta_time=0.1\n",
    "number_of_estimators=30\n",
    "ngsim_1, train_df_1, val_df_1, test_df_1, X_train_1, y_train_1, X_val_1, y_val_1, X_test_1, y_test_1,predicted_data_1,model= model_obj.fit_and_run_Random_Forest(ngsim, delta_time,number_of_estimators)"
   ]
  }
 ],
 "metadata": {
  "kernelspec": {
   "display_name": "Python 3 (ipykernel)",
   "language": "python",
   "name": "python3"
  },
  "language_info": {
   "codemirror_mode": {
    "name": "ipython",
    "version": 3
   },
   "file_extension": ".py",
   "mimetype": "text/x-python",
   "name": "python",
   "nbconvert_exporter": "python",
   "pygments_lexer": "ipython3",
   "version": "3.8.13"
  },
  "vscode": {
   "interpreter": {
    "hash": "32f9b5c64a9ffdfd44c75ce715a0c18d651d70bac5b5e0fedf911a0bbec25f03"
   }
  }
 },
 "nbformat": 4,
 "nbformat_minor": 4
}
