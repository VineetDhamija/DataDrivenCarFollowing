{
 "cells": [
  {
   "cell_type": "code",
   "execution_count": 10,
   "metadata": {},
   "outputs": [],
   "source": [
    "from sklearn.ensemble import RandomForestRegressor\n",
    "from sklearn.model_selection import train_test_split\n",
    "from sklearn.metrics import mean_absolute_error\n",
    "import pandas as pd\n",
    "import numpy as np\n",
    "import matplotlib.pyplot as plt\n",
    "import sklearn.metrics as metrics\n",
    "import seaborn as sns\n",
    "from pathlib import Path "
   ]
  },
  {
   "cell_type": "code",
   "execution_count": 11,
   "metadata": {},
   "outputs": [],
   "source": [
    "import warnings\n",
    "warnings.filterwarnings(\"ignore\")"
   ]
  },
  {
   "cell_type": "code",
   "execution_count": 247,
   "metadata": {},
   "outputs": [
    {
     "name": "stdout",
     "output_type": "stream",
     "text": [
      "original File path: c:\\Users\\neels\\car following model\\DataDrivenCarFollowing-1\\datadrivencarfollowing-v1\\scripts\n",
      "Updated File Path to pick from Data Library: c:\\Users\\neels\\car following model\\DataDrivenCarFollowing-1\\datadrivencarfollowing-v1\\data\n",
      "0 duplicate values have been removed\n"
     ]
    }
   ],
   "source": [
    "from pathlib import Path\n",
    "\n",
    "p = Path().cwd()\n",
    "print(f\"original File path: {p}\")\n",
    "stringpath= str(p)[0:str(p).rfind('\\\\')] + '\\\\data'\n",
    "print(f\"Updated File Path to pick from Data Library: { stringpath}\")\n",
    "ngsimfile=stringpath + '/' + 'Sample_Cleaned_NGSIM_Data_Part_2.csv'\n",
    "ngsim = pd.read_csv(ngsimfile,low_memory=False)\n",
    "print(f\"{ngsim.duplicated().sum()} duplicate values have been removed\")\n",
    "ngsim.drop_duplicates(inplace=True)"
   ]
  },
  {
   "cell_type": "code",
   "execution_count": 248,
   "metadata": {},
   "outputs": [
    {
     "name": "stdout",
     "output_type": "stream",
     "text": [
      "<class 'pandas.core.frame.DataFrame'>\n",
      "Int64Index: 154804 entries, 0 to 154803\n",
      "Data columns (total 22 columns):\n",
      " #   Column                                       Non-Null Count   Dtype  \n",
      "---  ------                                       --------------   -----  \n",
      " 0   id                                           154804 non-null  int64  \n",
      " 1   Vehicle_ID                                   154804 non-null  int64  \n",
      " 2   Preceding                                    154804 non-null  int64  \n",
      " 3   Relative_Time                                154804 non-null  int64  \n",
      " 4   Global_Time                                  154804 non-null  int64  \n",
      " 5   Local_X                                      154804 non-null  float64\n",
      " 6   Local_Y                                      154804 non-null  float64\n",
      " 7   Global_X                                     154804 non-null  float64\n",
      " 8   Global_Y                                     154804 non-null  float64\n",
      " 9   v_length                                     154804 non-null  float64\n",
      " 10  v_Class                                      154804 non-null  int64  \n",
      " 11  v_Vel                                        154804 non-null  float64\n",
      " 12  v_Acc                                        154804 non-null  float64\n",
      " 13  Space_Headway                                154804 non-null  float64\n",
      " 14  Time_Headway                                 154804 non-null  float64\n",
      " 15  Location                                     154804 non-null  object \n",
      " 16  Preceding_Vehicle_Class                      138260 non-null  object \n",
      " 17  Rear_to_Front_Space_Headway                  138260 non-null  float64\n",
      " 18  v_Class_Name                                 154804 non-null  object \n",
      " 19  Vehicle_combination                          138260 non-null  object \n",
      " 20  Velocity Difference_Following-Preceding      154804 non-null  float64\n",
      " 21  Acceleration Difference_Following-Preceding  154804 non-null  float64\n",
      "dtypes: float64(12), int64(6), object(4)\n",
      "memory usage: 27.2+ MB\n"
     ]
    }
   ],
   "source": [
    "ngsim.info()"
   ]
  },
  {
   "cell_type": "code",
   "execution_count": 250,
   "metadata": {},
   "outputs": [
    {
     "data": {
      "text/html": [
       "<div>\n",
       "<style scoped>\n",
       "    .dataframe tbody tr th:only-of-type {\n",
       "        vertical-align: middle;\n",
       "    }\n",
       "\n",
       "    .dataframe tbody tr th {\n",
       "        vertical-align: top;\n",
       "    }\n",
       "\n",
       "    .dataframe thead th {\n",
       "        text-align: right;\n",
       "    }\n",
       "</style>\n",
       "<table border=\"1\" class=\"dataframe\">\n",
       "  <thead>\n",
       "    <tr style=\"text-align: right;\">\n",
       "      <th></th>\n",
       "      <th>id</th>\n",
       "      <th>Vehicle_ID</th>\n",
       "      <th>Preceding</th>\n",
       "      <th>Relative_Time</th>\n",
       "      <th>Global_Time</th>\n",
       "      <th>Local_X</th>\n",
       "      <th>Local_Y</th>\n",
       "      <th>Global_X</th>\n",
       "      <th>Global_Y</th>\n",
       "      <th>v_length</th>\n",
       "      <th>...</th>\n",
       "      <th>v_Acc</th>\n",
       "      <th>Space_Headway</th>\n",
       "      <th>Time_Headway</th>\n",
       "      <th>Location</th>\n",
       "      <th>Preceding_Vehicle_Class</th>\n",
       "      <th>Rear_to_Front_Space_Headway</th>\n",
       "      <th>v_Class_Name</th>\n",
       "      <th>Vehicle_combination</th>\n",
       "      <th>Velocity Difference_Following-Preceding</th>\n",
       "      <th>Acceleration Difference_Following-Preceding</th>\n",
       "    </tr>\n",
       "  </thead>\n",
       "  <tbody>\n",
       "    <tr>\n",
       "      <th>0</th>\n",
       "      <td>11</td>\n",
       "      <td>5</td>\n",
       "      <td>0</td>\n",
       "      <td>1117684841001</td>\n",
       "      <td>1118847860100</td>\n",
       "      <td>4.948</td>\n",
       "      <td>149.178</td>\n",
       "      <td>6451195.587</td>\n",
       "      <td>1873298.132</td>\n",
       "      <td>3.9624</td>\n",
       "      <td>...</td>\n",
       "      <td>0.000000</td>\n",
       "      <td>0.000000</td>\n",
       "      <td>0.00</td>\n",
       "      <td>us-101</td>\n",
       "      <td>NaN</td>\n",
       "      <td>NaN</td>\n",
       "      <td>Car</td>\n",
       "      <td>NaN</td>\n",
       "      <td>0.000000</td>\n",
       "      <td>0.000000</td>\n",
       "    </tr>\n",
       "    <tr>\n",
       "      <th>1</th>\n",
       "      <td>44</td>\n",
       "      <td>52</td>\n",
       "      <td>48</td>\n",
       "      <td>1117685817401</td>\n",
       "      <td>1118848836500</td>\n",
       "      <td>42.059</td>\n",
       "      <td>1471.840</td>\n",
       "      <td>6452155.548</td>\n",
       "      <td>1872378.779</td>\n",
       "      <td>4.5720</td>\n",
       "      <td>...</td>\n",
       "      <td>-0.045720</td>\n",
       "      <td>19.028664</td>\n",
       "      <td>1.95</td>\n",
       "      <td>us-101</td>\n",
       "      <td>Car</td>\n",
       "      <td>14.202664</td>\n",
       "      <td>Car</td>\n",
       "      <td>Car-Car</td>\n",
       "      <td>0.606552</td>\n",
       "      <td>-0.045720</td>\n",
       "    </tr>\n",
       "    <tr>\n",
       "      <th>2</th>\n",
       "      <td>51</td>\n",
       "      <td>73</td>\n",
       "      <td>67</td>\n",
       "      <td>1117684928901</td>\n",
       "      <td>1118847948000</td>\n",
       "      <td>18.751</td>\n",
       "      <td>1853.192</td>\n",
       "      <td>6452453.921</td>\n",
       "      <td>1872148.756</td>\n",
       "      <td>4.8768</td>\n",
       "      <td>...</td>\n",
       "      <td>-3.413760</td>\n",
       "      <td>45.067728</td>\n",
       "      <td>2.34</td>\n",
       "      <td>us-101</td>\n",
       "      <td>Car</td>\n",
       "      <td>41.156128</td>\n",
       "      <td>Car</td>\n",
       "      <td>Car-Car</td>\n",
       "      <td>1.341120</td>\n",
       "      <td>-2.298192</td>\n",
       "    </tr>\n",
       "    <tr>\n",
       "      <th>3</th>\n",
       "      <td>91</td>\n",
       "      <td>6</td>\n",
       "      <td>2</td>\n",
       "      <td>1117685787801</td>\n",
       "      <td>1118848806900</td>\n",
       "      <td>30.783</td>\n",
       "      <td>1083.438</td>\n",
       "      <td>6451870.511</td>\n",
       "      <td>1872642.596</td>\n",
       "      <td>4.7244</td>\n",
       "      <td>...</td>\n",
       "      <td>-0.054864</td>\n",
       "      <td>18.284952</td>\n",
       "      <td>1.72</td>\n",
       "      <td>us-101</td>\n",
       "      <td>Car</td>\n",
       "      <td>13.052552</td>\n",
       "      <td>Car</td>\n",
       "      <td>Car-Car</td>\n",
       "      <td>-0.009144</td>\n",
       "      <td>-0.054864</td>\n",
       "    </tr>\n",
       "    <tr>\n",
       "      <th>4</th>\n",
       "      <td>112</td>\n",
       "      <td>41</td>\n",
       "      <td>35</td>\n",
       "      <td>1117684872901</td>\n",
       "      <td>1118847892000</td>\n",
       "      <td>5.515</td>\n",
       "      <td>217.059</td>\n",
       "      <td>6451241.586</td>\n",
       "      <td>1873248.046</td>\n",
       "      <td>4.4196</td>\n",
       "      <td>...</td>\n",
       "      <td>0.000000</td>\n",
       "      <td>38.889432</td>\n",
       "      <td>5.43</td>\n",
       "      <td>us-101</td>\n",
       "      <td>Car</td>\n",
       "      <td>33.961832</td>\n",
       "      <td>Car</td>\n",
       "      <td>Car-Car</td>\n",
       "      <td>-3.093720</td>\n",
       "      <td>0.000000</td>\n",
       "    </tr>\n",
       "    <tr>\n",
       "      <th>...</th>\n",
       "      <td>...</td>\n",
       "      <td>...</td>\n",
       "      <td>...</td>\n",
       "      <td>...</td>\n",
       "      <td>...</td>\n",
       "      <td>...</td>\n",
       "      <td>...</td>\n",
       "      <td>...</td>\n",
       "      <td>...</td>\n",
       "      <td>...</td>\n",
       "      <td>...</td>\n",
       "      <td>...</td>\n",
       "      <td>...</td>\n",
       "      <td>...</td>\n",
       "      <td>...</td>\n",
       "      <td>...</td>\n",
       "      <td>...</td>\n",
       "      <td>...</td>\n",
       "      <td>...</td>\n",
       "      <td>...</td>\n",
       "      <td>...</td>\n",
       "    </tr>\n",
       "    <tr>\n",
       "      <th>154799</th>\n",
       "      <td>4098686</td>\n",
       "      <td>14</td>\n",
       "      <td>11</td>\n",
       "      <td>1117685780801</td>\n",
       "      <td>1118848799900</td>\n",
       "      <td>8.080</td>\n",
       "      <td>763.707</td>\n",
       "      <td>6451644.802</td>\n",
       "      <td>1872870.288</td>\n",
       "      <td>4.7244</td>\n",
       "      <td>...</td>\n",
       "      <td>0.000000</td>\n",
       "      <td>16.459200</td>\n",
       "      <td>2.70</td>\n",
       "      <td>us-101</td>\n",
       "      <td>Car</td>\n",
       "      <td>11.353800</td>\n",
       "      <td>Car</td>\n",
       "      <td>Car-Car</td>\n",
       "      <td>0.003048</td>\n",
       "      <td>0.118872</td>\n",
       "    </tr>\n",
       "    <tr>\n",
       "      <th>154800</th>\n",
       "      <td>4098797</td>\n",
       "      <td>83</td>\n",
       "      <td>76</td>\n",
       "      <td>1117683997501</td>\n",
       "      <td>1118847016600</td>\n",
       "      <td>28.136</td>\n",
       "      <td>720.064</td>\n",
       "      <td>6451624.899</td>\n",
       "      <td>1872861.072</td>\n",
       "      <td>4.7244</td>\n",
       "      <td>...</td>\n",
       "      <td>0.000000</td>\n",
       "      <td>30.324552</td>\n",
       "      <td>1.99</td>\n",
       "      <td>us-101</td>\n",
       "      <td>Car</td>\n",
       "      <td>26.260552</td>\n",
       "      <td>Car</td>\n",
       "      <td>Car-Car</td>\n",
       "      <td>-1.182624</td>\n",
       "      <td>2.200656</td>\n",
       "    </tr>\n",
       "    <tr>\n",
       "      <th>154801</th>\n",
       "      <td>4098811</td>\n",
       "      <td>83</td>\n",
       "      <td>90</td>\n",
       "      <td>1117684899701</td>\n",
       "      <td>1118847918800</td>\n",
       "      <td>53.700</td>\n",
       "      <td>339.360</td>\n",
       "      <td>6451294.610</td>\n",
       "      <td>1873126.692</td>\n",
       "      <td>4.7244</td>\n",
       "      <td>...</td>\n",
       "      <td>0.067056</td>\n",
       "      <td>17.023080</td>\n",
       "      <td>1.69</td>\n",
       "      <td>us-101</td>\n",
       "      <td>Car</td>\n",
       "      <td>12.654280</td>\n",
       "      <td>Car</td>\n",
       "      <td>Car-Car</td>\n",
       "      <td>1.572768</td>\n",
       "      <td>-3.346704</td>\n",
       "    </tr>\n",
       "    <tr>\n",
       "      <th>154802</th>\n",
       "      <td>4098864</td>\n",
       "      <td>39</td>\n",
       "      <td>32</td>\n",
       "      <td>1117684866701</td>\n",
       "      <td>1118847885800</td>\n",
       "      <td>27.243</td>\n",
       "      <td>107.097</td>\n",
       "      <td>6451150.647</td>\n",
       "      <td>1873314.362</td>\n",
       "      <td>4.7244</td>\n",
       "      <td>...</td>\n",
       "      <td>-0.822960</td>\n",
       "      <td>13.222224</td>\n",
       "      <td>2.67</td>\n",
       "      <td>us-101</td>\n",
       "      <td>Car</td>\n",
       "      <td>8.421624</td>\n",
       "      <td>Car</td>\n",
       "      <td>Car-Car</td>\n",
       "      <td>-0.384048</td>\n",
       "      <td>-0.783336</td>\n",
       "    </tr>\n",
       "    <tr>\n",
       "      <th>154803</th>\n",
       "      <td>4098873</td>\n",
       "      <td>75</td>\n",
       "      <td>68</td>\n",
       "      <td>1117685841201</td>\n",
       "      <td>1118848860300</td>\n",
       "      <td>7.427</td>\n",
       "      <td>1911.339</td>\n",
       "      <td>6452509.268</td>\n",
       "      <td>1872115.550</td>\n",
       "      <td>4.7244</td>\n",
       "      <td>...</td>\n",
       "      <td>3.413760</td>\n",
       "      <td>18.949416</td>\n",
       "      <td>1.88</td>\n",
       "      <td>us-101</td>\n",
       "      <td>Car</td>\n",
       "      <td>15.139416</td>\n",
       "      <td>Car</td>\n",
       "      <td>Car-Car</td>\n",
       "      <td>-0.155448</td>\n",
       "      <td>1.969008</td>\n",
       "    </tr>\n",
       "  </tbody>\n",
       "</table>\n",
       "<p>154804 rows × 22 columns</p>\n",
       "</div>"
      ],
      "text/plain": [
       "             id  Vehicle_ID  Preceding  Relative_Time    Global_Time  Local_X  \\\n",
       "0            11           5          0  1117684841001  1118847860100    4.948   \n",
       "1            44          52         48  1117685817401  1118848836500   42.059   \n",
       "2            51          73         67  1117684928901  1118847948000   18.751   \n",
       "3            91           6          2  1117685787801  1118848806900   30.783   \n",
       "4           112          41         35  1117684872901  1118847892000    5.515   \n",
       "...         ...         ...        ...            ...            ...      ...   \n",
       "154799  4098686          14         11  1117685780801  1118848799900    8.080   \n",
       "154800  4098797          83         76  1117683997501  1118847016600   28.136   \n",
       "154801  4098811          83         90  1117684899701  1118847918800   53.700   \n",
       "154802  4098864          39         32  1117684866701  1118847885800   27.243   \n",
       "154803  4098873          75         68  1117685841201  1118848860300    7.427   \n",
       "\n",
       "         Local_Y     Global_X     Global_Y  v_length  ...     v_Acc  \\\n",
       "0        149.178  6451195.587  1873298.132    3.9624  ...  0.000000   \n",
       "1       1471.840  6452155.548  1872378.779    4.5720  ... -0.045720   \n",
       "2       1853.192  6452453.921  1872148.756    4.8768  ... -3.413760   \n",
       "3       1083.438  6451870.511  1872642.596    4.7244  ... -0.054864   \n",
       "4        217.059  6451241.586  1873248.046    4.4196  ...  0.000000   \n",
       "...          ...          ...          ...       ...  ...       ...   \n",
       "154799   763.707  6451644.802  1872870.288    4.7244  ...  0.000000   \n",
       "154800   720.064  6451624.899  1872861.072    4.7244  ...  0.000000   \n",
       "154801   339.360  6451294.610  1873126.692    4.7244  ...  0.067056   \n",
       "154802   107.097  6451150.647  1873314.362    4.7244  ... -0.822960   \n",
       "154803  1911.339  6452509.268  1872115.550    4.7244  ...  3.413760   \n",
       "\n",
       "        Space_Headway  Time_Headway  Location  Preceding_Vehicle_Class  \\\n",
       "0            0.000000          0.00    us-101                      NaN   \n",
       "1           19.028664          1.95    us-101                      Car   \n",
       "2           45.067728          2.34    us-101                      Car   \n",
       "3           18.284952          1.72    us-101                      Car   \n",
       "4           38.889432          5.43    us-101                      Car   \n",
       "...               ...           ...       ...                      ...   \n",
       "154799      16.459200          2.70    us-101                      Car   \n",
       "154800      30.324552          1.99    us-101                      Car   \n",
       "154801      17.023080          1.69    us-101                      Car   \n",
       "154802      13.222224          2.67    us-101                      Car   \n",
       "154803      18.949416          1.88    us-101                      Car   \n",
       "\n",
       "       Rear_to_Front_Space_Headway v_Class_Name  Vehicle_combination  \\\n",
       "0                              NaN          Car                  NaN   \n",
       "1                        14.202664          Car              Car-Car   \n",
       "2                        41.156128          Car              Car-Car   \n",
       "3                        13.052552          Car              Car-Car   \n",
       "4                        33.961832          Car              Car-Car   \n",
       "...                            ...          ...                  ...   \n",
       "154799                   11.353800          Car              Car-Car   \n",
       "154800                   26.260552          Car              Car-Car   \n",
       "154801                   12.654280          Car              Car-Car   \n",
       "154802                    8.421624          Car              Car-Car   \n",
       "154803                   15.139416          Car              Car-Car   \n",
       "\n",
       "       Velocity Difference_Following-Preceding  \\\n",
       "0                                     0.000000   \n",
       "1                                     0.606552   \n",
       "2                                     1.341120   \n",
       "3                                    -0.009144   \n",
       "4                                    -3.093720   \n",
       "...                                        ...   \n",
       "154799                                0.003048   \n",
       "154800                               -1.182624   \n",
       "154801                                1.572768   \n",
       "154802                               -0.384048   \n",
       "154803                               -0.155448   \n",
       "\n",
       "       Acceleration Difference_Following-Preceding  \n",
       "0                                         0.000000  \n",
       "1                                        -0.045720  \n",
       "2                                        -2.298192  \n",
       "3                                        -0.054864  \n",
       "4                                         0.000000  \n",
       "...                                            ...  \n",
       "154799                                    0.118872  \n",
       "154800                                    2.200656  \n",
       "154801                                   -3.346704  \n",
       "154802                                   -0.783336  \n",
       "154803                                    1.969008  \n",
       "\n",
       "[154804 rows x 22 columns]"
      ]
     },
     "execution_count": 250,
     "metadata": {},
     "output_type": "execute_result"
    }
   ],
   "source": [
    "ngsim"
   ]
  },
  {
   "cell_type": "code",
   "execution_count": 251,
   "metadata": {},
   "outputs": [],
   "source": [
    "\n",
    "ngsim[\"Relative_Time\"]= ngsim[\"Relative_Time\"]*0.001\n",
    "ngsim[\"Global_Time\"]= ngsim[\"Global_Time\"]*0.001"
   ]
  },
  {
   "cell_type": "code",
   "execution_count": 252,
   "metadata": {},
   "outputs": [],
   "source": [
    "ngsim = ngsim.sort_values(['Relative_Time'], ascending=True)"
   ]
  },
  {
   "cell_type": "code",
   "execution_count": 253,
   "metadata": {},
   "outputs": [],
   "source": [
    "df = ngsim "
   ]
  },
  {
   "cell_type": "code",
   "execution_count": 254,
   "metadata": {},
   "outputs": [],
   "source": [
    "df[\"Vehicle_ID\"]=df[\"Vehicle_ID\"].astype(str)\n",
    "df[\"Preceding\"]=df[\"Preceding\"].astype(str)\n",
    "df[\"LF_pairs\"] = df[\"Vehicle_ID\"]+ \"_\"+df[\"Preceding\"]"
   ]
  },
  {
   "cell_type": "code",
   "execution_count": 255,
   "metadata": {},
   "outputs": [],
   "source": [
    "df[\"Time.per.frame\"] = 0.1"
   ]
  },
  {
   "cell_type": "code",
   "execution_count": 256,
   "metadata": {},
   "outputs": [],
   "source": [
    "df_grp = df.groupby([\"LF_pairs\"])"
   ]
  },
  {
   "cell_type": "code",
   "execution_count": 257,
   "metadata": {},
   "outputs": [
    {
     "data": {
      "text/plain": [
       "<pandas.core.groupby.generic.DataFrameGroupBy object at 0x00000275754CE5E0>"
      ]
     },
     "execution_count": 257,
     "metadata": {},
     "output_type": "execute_result"
    }
   ],
   "source": [
    "df_grp"
   ]
  },
  {
   "cell_type": "code",
   "execution_count": 258,
   "metadata": {},
   "outputs": [],
   "source": [
    "#Time duration per pair of each time frame.\n",
    "df['Time_duration']= df.groupby([\"LF_pairs\"], as_index=False).cumcount()*0.1"
   ]
  },
  {
   "cell_type": "code",
   "execution_count": 225,
   "metadata": {},
   "outputs": [
    {
     "data": {
      "text/html": [
       "<div>\n",
       "<style scoped>\n",
       "    .dataframe tbody tr th:only-of-type {\n",
       "        vertical-align: middle;\n",
       "    }\n",
       "\n",
       "    .dataframe tbody tr th {\n",
       "        vertical-align: top;\n",
       "    }\n",
       "\n",
       "    .dataframe thead th {\n",
       "        text-align: right;\n",
       "    }\n",
       "</style>\n",
       "<table border=\"1\" class=\"dataframe\">\n",
       "  <thead>\n",
       "    <tr style=\"text-align: right;\">\n",
       "      <th></th>\n",
       "      <th>Vehicle_ID</th>\n",
       "      <th>Frame_ID</th>\n",
       "      <th>Global_Time</th>\n",
       "      <th>Local_X</th>\n",
       "      <th>Local_Y</th>\n",
       "      <th>Global_X</th>\n",
       "      <th>Global_Y</th>\n",
       "      <th>v_length</th>\n",
       "      <th>v_Class</th>\n",
       "      <th>v_Vel</th>\n",
       "      <th>...</th>\n",
       "      <th>Time_Headway</th>\n",
       "      <th>Location</th>\n",
       "      <th>Relative_Time</th>\n",
       "      <th>Preceding_Vehicle_Class</th>\n",
       "      <th>Rear_to_Front_Space_Headway</th>\n",
       "      <th>v_Class_Name</th>\n",
       "      <th>Vehicle_combination</th>\n",
       "      <th>LF_pairs</th>\n",
       "      <th>Time.per.frame</th>\n",
       "      <th>Time_duration</th>\n",
       "    </tr>\n",
       "  </thead>\n",
       "  <tbody>\n",
       "    <tr>\n",
       "      <th>8654867</th>\n",
       "      <td>1355</td>\n",
       "      <td>5622</td>\n",
       "      <td>1113438127100</td>\n",
       "      <td>18.275</td>\n",
       "      <td>1464.336</td>\n",
       "      <td>6042648.149</td>\n",
       "      <td>2134520.896</td>\n",
       "      <td>3.74904</td>\n",
       "      <td>2</td>\n",
       "      <td>0.515112</td>\n",
       "      <td>...</td>\n",
       "      <td>15.92</td>\n",
       "      <td>i-80</td>\n",
       "      <td>1112275108001</td>\n",
       "      <td>Car</td>\n",
       "      <td>3.518408</td>\n",
       "      <td>Car</td>\n",
       "      <td>Car-Car</td>\n",
       "      <td>1355_1351</td>\n",
       "      <td>0.1</td>\n",
       "      <td>92.1</td>\n",
       "    </tr>\n",
       "    <tr>\n",
       "      <th>8654868</th>\n",
       "      <td>1474</td>\n",
       "      <td>5688</td>\n",
       "      <td>1113438133700</td>\n",
       "      <td>5.509</td>\n",
       "      <td>560.412</td>\n",
       "      <td>6042767.840</td>\n",
       "      <td>2133624.549</td>\n",
       "      <td>5.42544</td>\n",
       "      <td>2</td>\n",
       "      <td>13.088112</td>\n",
       "      <td>...</td>\n",
       "      <td>1.73</td>\n",
       "      <td>i-80</td>\n",
       "      <td>1112275114601</td>\n",
       "      <td>Car</td>\n",
       "      <td>18.488152</td>\n",
       "      <td>Car</td>\n",
       "      <td>Car-Car</td>\n",
       "      <td>1474_1468</td>\n",
       "      <td>0.1</td>\n",
       "      <td>63.3</td>\n",
       "    </tr>\n",
       "    <tr>\n",
       "      <th>8654869</th>\n",
       "      <td>398</td>\n",
       "      <td>2368</td>\n",
       "      <td>1113437801700</td>\n",
       "      <td>18.903</td>\n",
       "      <td>635.841</td>\n",
       "      <td>6042771.741</td>\n",
       "      <td>2133701.076</td>\n",
       "      <td>4.63296</td>\n",
       "      <td>2</td>\n",
       "      <td>7.351776</td>\n",
       "      <td>...</td>\n",
       "      <td>3.77</td>\n",
       "      <td>i-80</td>\n",
       "      <td>1112274782601</td>\n",
       "      <td>Car</td>\n",
       "      <td>23.271480</td>\n",
       "      <td>Car</td>\n",
       "      <td>Car-Car</td>\n",
       "      <td>398_385</td>\n",
       "      <td>0.1</td>\n",
       "      <td>35.0</td>\n",
       "    </tr>\n",
       "    <tr>\n",
       "      <th>8654870</th>\n",
       "      <td>599</td>\n",
       "      <td>875</td>\n",
       "      <td>1113436854400</td>\n",
       "      <td>77.094</td>\n",
       "      <td>621.358</td>\n",
       "      <td>6042831.282</td>\n",
       "      <td>2133693.854</td>\n",
       "      <td>4.66344</td>\n",
       "      <td>2</td>\n",
       "      <td>3.962400</td>\n",
       "      <td>...</td>\n",
       "      <td>0.00</td>\n",
       "      <td>i-80</td>\n",
       "      <td>1112273835301</td>\n",
       "      <td>NaN</td>\n",
       "      <td>NaN</td>\n",
       "      <td>Car</td>\n",
       "      <td>NaN</td>\n",
       "      <td>599_0</td>\n",
       "      <td>0.1</td>\n",
       "      <td>16.1</td>\n",
       "    </tr>\n",
       "    <tr>\n",
       "      <th>8654871</th>\n",
       "      <td>2006</td>\n",
       "      <td>6461</td>\n",
       "      <td>1113437413000</td>\n",
       "      <td>73.816</td>\n",
       "      <td>695.035</td>\n",
       "      <td>6042818.859</td>\n",
       "      <td>2133766.666</td>\n",
       "      <td>4.51104</td>\n",
       "      <td>2</td>\n",
       "      <td>3.435096</td>\n",
       "      <td>...</td>\n",
       "      <td>2.26</td>\n",
       "      <td>i-80</td>\n",
       "      <td>1112274393901</td>\n",
       "      <td>Car</td>\n",
       "      <td>3.023616</td>\n",
       "      <td>Car</td>\n",
       "      <td>Car-Car</td>\n",
       "      <td>2006_2009</td>\n",
       "      <td>0.1</td>\n",
       "      <td>47.5</td>\n",
       "    </tr>\n",
       "  </tbody>\n",
       "</table>\n",
       "<p>5 rows × 23 columns</p>\n",
       "</div>"
      ],
      "text/plain": [
       "        Vehicle_ID  Frame_ID    Global_Time  Local_X   Local_Y     Global_X  \\\n",
       "8654867       1355      5622  1113438127100   18.275  1464.336  6042648.149   \n",
       "8654868       1474      5688  1113438133700    5.509   560.412  6042767.840   \n",
       "8654869        398      2368  1113437801700   18.903   635.841  6042771.741   \n",
       "8654870        599       875  1113436854400   77.094   621.358  6042831.282   \n",
       "8654871       2006      6461  1113437413000   73.816   695.035  6042818.859   \n",
       "\n",
       "            Global_Y  v_length  v_Class      v_Vel  ...  Time_Headway  \\\n",
       "8654867  2134520.896   3.74904        2   0.515112  ...         15.92   \n",
       "8654868  2133624.549   5.42544        2  13.088112  ...          1.73   \n",
       "8654869  2133701.076   4.63296        2   7.351776  ...          3.77   \n",
       "8654870  2133693.854   4.66344        2   3.962400  ...          0.00   \n",
       "8654871  2133766.666   4.51104        2   3.435096  ...          2.26   \n",
       "\n",
       "        Location  Relative_Time  Preceding_Vehicle_Class  \\\n",
       "8654867     i-80  1112275108001                      Car   \n",
       "8654868     i-80  1112275114601                      Car   \n",
       "8654869     i-80  1112274782601                      Car   \n",
       "8654870     i-80  1112273835301                      NaN   \n",
       "8654871     i-80  1112274393901                      Car   \n",
       "\n",
       "        Rear_to_Front_Space_Headway  v_Class_Name Vehicle_combination  \\\n",
       "8654867                    3.518408           Car             Car-Car   \n",
       "8654868                   18.488152           Car             Car-Car   \n",
       "8654869                   23.271480           Car             Car-Car   \n",
       "8654870                         NaN           Car                 NaN   \n",
       "8654871                    3.023616           Car             Car-Car   \n",
       "\n",
       "          LF_pairs Time.per.frame Time_duration  \n",
       "8654867  1355_1351            0.1          92.1  \n",
       "8654868  1474_1468            0.1          63.3  \n",
       "8654869    398_385            0.1          35.0  \n",
       "8654870      599_0            0.1          16.1  \n",
       "8654871  2006_2009            0.1          47.5  \n",
       "\n",
       "[5 rows x 23 columns]"
      ]
     },
     "execution_count": 225,
     "metadata": {},
     "output_type": "execute_result"
    }
   ],
   "source": [
    "df.tail()"
   ]
  },
  {
   "cell_type": "code",
   "execution_count": 260,
   "metadata": {},
   "outputs": [
    {
     "data": {
      "text/plain": [
       "Index(['id', 'Vehicle_ID', 'Preceding', 'Relative_Time', 'Global_Time',\n",
       "       'Local_X', 'Local_Y', 'Global_X', 'Global_Y', 'v_length', 'v_Class',\n",
       "       'v_Vel', 'v_Acc', 'Space_Headway', 'Time_Headway', 'Location',\n",
       "       'Preceding_Vehicle_Class', 'Rear_to_Front_Space_Headway',\n",
       "       'v_Class_Name', 'Vehicle_combination',\n",
       "       'Velocity Difference_Following-Preceding',\n",
       "       'Acceleration Difference_Following-Preceding', 'LF_pairs',\n",
       "       'Time.per.frame', 'Time_duration'],\n",
       "      dtype='object')"
      ]
     },
     "execution_count": 260,
     "metadata": {},
     "output_type": "execute_result"
    }
   ],
   "source": [
    "df.columns"
   ]
  },
  {
   "cell_type": "code",
   "execution_count": 261,
   "metadata": {},
   "outputs": [],
   "source": [
    "df[\"nextframeAcc\"]=df.groupby([\"LF_pairs\"],as_index=False)[\"v_Acc\"].shift(-1)"
   ]
  },
  {
   "cell_type": "code",
   "execution_count": 262,
   "metadata": {},
   "outputs": [],
   "source": [
    "df[\"nextframesvel\"]=df.groupby([\"LF_pairs\"],as_index=False)[\"v_Vel\"].shift(-1)"
   ]
  },
  {
   "cell_type": "code",
   "execution_count": 263,
   "metadata": {},
   "outputs": [],
   "source": [
    "df[\"nextframeposition\"]=df.groupby([\"LF_pairs\"],as_index=False)[\"Local_Y\"].shift(-1)"
   ]
  },
  {
   "cell_type": "code",
   "execution_count": 264,
   "metadata": {},
   "outputs": [
    {
     "data": {
      "text/html": [
       "<div>\n",
       "<style scoped>\n",
       "    .dataframe tbody tr th:only-of-type {\n",
       "        vertical-align: middle;\n",
       "    }\n",
       "\n",
       "    .dataframe tbody tr th {\n",
       "        vertical-align: top;\n",
       "    }\n",
       "\n",
       "    .dataframe thead th {\n",
       "        text-align: right;\n",
       "    }\n",
       "</style>\n",
       "<table border=\"1\" class=\"dataframe\">\n",
       "  <thead>\n",
       "    <tr style=\"text-align: right;\">\n",
       "      <th></th>\n",
       "      <th>id</th>\n",
       "      <th>Vehicle_ID</th>\n",
       "      <th>Preceding</th>\n",
       "      <th>Relative_Time</th>\n",
       "      <th>Global_Time</th>\n",
       "      <th>Local_X</th>\n",
       "      <th>Local_Y</th>\n",
       "      <th>Global_X</th>\n",
       "      <th>Global_Y</th>\n",
       "      <th>v_length</th>\n",
       "      <th>...</th>\n",
       "      <th>v_Class_Name</th>\n",
       "      <th>Vehicle_combination</th>\n",
       "      <th>Velocity Difference_Following-Preceding</th>\n",
       "      <th>Acceleration Difference_Following-Preceding</th>\n",
       "      <th>LF_pairs</th>\n",
       "      <th>Time.per.frame</th>\n",
       "      <th>Time_duration</th>\n",
       "      <th>nextframeAcc</th>\n",
       "      <th>nextframesvel</th>\n",
       "      <th>nextframeposition</th>\n",
       "    </tr>\n",
       "  </thead>\n",
       "  <tbody>\n",
       "    <tr>\n",
       "      <th>147831</th>\n",
       "      <td>3957224</td>\n",
       "      <td>2</td>\n",
       "      <td>0</td>\n",
       "      <td>1.117684e+09</td>\n",
       "      <td>1.118847e+09</td>\n",
       "      <td>16.467</td>\n",
       "      <td>35.381</td>\n",
       "      <td>6451137.641</td>\n",
       "      <td>1873344.962</td>\n",
       "      <td>4.4196</td>\n",
       "      <td>...</td>\n",
       "      <td>Car</td>\n",
       "      <td>NaN</td>\n",
       "      <td>12.192000</td>\n",
       "      <td>0.000000</td>\n",
       "      <td>2_0</td>\n",
       "      <td>0.1</td>\n",
       "      <td>0.0</td>\n",
       "      <td>0.00000</td>\n",
       "      <td>12.192000</td>\n",
       "      <td>39.381</td>\n",
       "    </tr>\n",
       "    <tr>\n",
       "      <th>119377</th>\n",
       "      <td>3380369</td>\n",
       "      <td>2</td>\n",
       "      <td>0</td>\n",
       "      <td>1.117684e+09</td>\n",
       "      <td>1.118847e+09</td>\n",
       "      <td>16.447</td>\n",
       "      <td>39.381</td>\n",
       "      <td>6451140.329</td>\n",
       "      <td>1873342.000</td>\n",
       "      <td>4.4196</td>\n",
       "      <td>...</td>\n",
       "      <td>Car</td>\n",
       "      <td>NaN</td>\n",
       "      <td>12.192000</td>\n",
       "      <td>0.000000</td>\n",
       "      <td>2_0</td>\n",
       "      <td>0.1</td>\n",
       "      <td>0.1</td>\n",
       "      <td>0.00000</td>\n",
       "      <td>12.192000</td>\n",
       "      <td>43.381</td>\n",
       "    </tr>\n",
       "    <tr>\n",
       "      <th>7099</th>\n",
       "      <td>201732</td>\n",
       "      <td>2</td>\n",
       "      <td>0</td>\n",
       "      <td>1.117684e+09</td>\n",
       "      <td>1.118847e+09</td>\n",
       "      <td>16.426</td>\n",
       "      <td>43.381</td>\n",
       "      <td>6451143.018</td>\n",
       "      <td>1873339.038</td>\n",
       "      <td>4.4196</td>\n",
       "      <td>...</td>\n",
       "      <td>Car</td>\n",
       "      <td>NaN</td>\n",
       "      <td>12.192000</td>\n",
       "      <td>0.000000</td>\n",
       "      <td>2_0</td>\n",
       "      <td>0.1</td>\n",
       "      <td>0.2</td>\n",
       "      <td>0.00000</td>\n",
       "      <td>12.192000</td>\n",
       "      <td>47.380</td>\n",
       "    </tr>\n",
       "    <tr>\n",
       "      <th>3685</th>\n",
       "      <td>105387</td>\n",
       "      <td>2</td>\n",
       "      <td>0</td>\n",
       "      <td>1.117684e+09</td>\n",
       "      <td>1.118847e+09</td>\n",
       "      <td>16.405</td>\n",
       "      <td>47.380</td>\n",
       "      <td>6451145.706</td>\n",
       "      <td>1873336.077</td>\n",
       "      <td>4.4196</td>\n",
       "      <td>...</td>\n",
       "      <td>Car</td>\n",
       "      <td>NaN</td>\n",
       "      <td>12.192000</td>\n",
       "      <td>0.000000</td>\n",
       "      <td>2_0</td>\n",
       "      <td>0.1</td>\n",
       "      <td>0.3</td>\n",
       "      <td>0.00000</td>\n",
       "      <td>12.192000</td>\n",
       "      <td>51.381</td>\n",
       "    </tr>\n",
       "    <tr>\n",
       "      <th>22956</th>\n",
       "      <td>652438</td>\n",
       "      <td>2</td>\n",
       "      <td>0</td>\n",
       "      <td>1.117684e+09</td>\n",
       "      <td>1.118847e+09</td>\n",
       "      <td>16.385</td>\n",
       "      <td>51.381</td>\n",
       "      <td>6451148.395</td>\n",
       "      <td>1873333.115</td>\n",
       "      <td>4.4196</td>\n",
       "      <td>...</td>\n",
       "      <td>Car</td>\n",
       "      <td>NaN</td>\n",
       "      <td>12.192000</td>\n",
       "      <td>0.000000</td>\n",
       "      <td>2_0</td>\n",
       "      <td>0.1</td>\n",
       "      <td>0.4</td>\n",
       "      <td>0.00000</td>\n",
       "      <td>12.192000</td>\n",
       "      <td>55.381</td>\n",
       "    </tr>\n",
       "    <tr>\n",
       "      <th>...</th>\n",
       "      <td>...</td>\n",
       "      <td>...</td>\n",
       "      <td>...</td>\n",
       "      <td>...</td>\n",
       "      <td>...</td>\n",
       "      <td>...</td>\n",
       "      <td>...</td>\n",
       "      <td>...</td>\n",
       "      <td>...</td>\n",
       "      <td>...</td>\n",
       "      <td>...</td>\n",
       "      <td>...</td>\n",
       "      <td>...</td>\n",
       "      <td>...</td>\n",
       "      <td>...</td>\n",
       "      <td>...</td>\n",
       "      <td>...</td>\n",
       "      <td>...</td>\n",
       "      <td>...</td>\n",
       "      <td>...</td>\n",
       "      <td>...</td>\n",
       "    </tr>\n",
       "    <tr>\n",
       "      <th>53628</th>\n",
       "      <td>1534610</td>\n",
       "      <td>2</td>\n",
       "      <td>0</td>\n",
       "      <td>1.117686e+09</td>\n",
       "      <td>1.118849e+09</td>\n",
       "      <td>32.732</td>\n",
       "      <td>2146.868</td>\n",
       "      <td>6452675.357</td>\n",
       "      <td>1871945.501</td>\n",
       "      <td>5.1816</td>\n",
       "      <td>...</td>\n",
       "      <td>Car</td>\n",
       "      <td>NaN</td>\n",
       "      <td>10.680192</td>\n",
       "      <td>-0.115824</td>\n",
       "      <td>2_0</td>\n",
       "      <td>0.1</td>\n",
       "      <td>175.3</td>\n",
       "      <td>-0.06096</td>\n",
       "      <td>10.671048</td>\n",
       "      <td>2150.370</td>\n",
       "    </tr>\n",
       "    <tr>\n",
       "      <th>146934</th>\n",
       "      <td>3938838</td>\n",
       "      <td>2</td>\n",
       "      <td>0</td>\n",
       "      <td>1.117686e+09</td>\n",
       "      <td>1.118849e+09</td>\n",
       "      <td>32.729</td>\n",
       "      <td>2150.370</td>\n",
       "      <td>6452678.095</td>\n",
       "      <td>1871943.322</td>\n",
       "      <td>5.1816</td>\n",
       "      <td>...</td>\n",
       "      <td>Car</td>\n",
       "      <td>NaN</td>\n",
       "      <td>10.671048</td>\n",
       "      <td>-0.060960</td>\n",
       "      <td>2_0</td>\n",
       "      <td>0.1</td>\n",
       "      <td>175.4</td>\n",
       "      <td>0.00000</td>\n",
       "      <td>10.671048</td>\n",
       "      <td>2153.868</td>\n",
       "    </tr>\n",
       "    <tr>\n",
       "      <th>26308</th>\n",
       "      <td>749317</td>\n",
       "      <td>2</td>\n",
       "      <td>0</td>\n",
       "      <td>1.117686e+09</td>\n",
       "      <td>1.118849e+09</td>\n",
       "      <td>32.727</td>\n",
       "      <td>2153.868</td>\n",
       "      <td>6452680.834</td>\n",
       "      <td>1871941.142</td>\n",
       "      <td>5.1816</td>\n",
       "      <td>...</td>\n",
       "      <td>Car</td>\n",
       "      <td>NaN</td>\n",
       "      <td>10.671048</td>\n",
       "      <td>0.000000</td>\n",
       "      <td>2_0</td>\n",
       "      <td>0.1</td>\n",
       "      <td>175.5</td>\n",
       "      <td>0.00000</td>\n",
       "      <td>10.671048</td>\n",
       "      <td>2157.369</td>\n",
       "    </tr>\n",
       "    <tr>\n",
       "      <th>39165</th>\n",
       "      <td>1118455</td>\n",
       "      <td>2</td>\n",
       "      <td>0</td>\n",
       "      <td>1.117686e+09</td>\n",
       "      <td>1.118849e+09</td>\n",
       "      <td>32.724</td>\n",
       "      <td>2157.369</td>\n",
       "      <td>6452683.573</td>\n",
       "      <td>1871938.963</td>\n",
       "      <td>5.1816</td>\n",
       "      <td>...</td>\n",
       "      <td>Car</td>\n",
       "      <td>NaN</td>\n",
       "      <td>10.671048</td>\n",
       "      <td>0.000000</td>\n",
       "      <td>2_0</td>\n",
       "      <td>0.1</td>\n",
       "      <td>175.6</td>\n",
       "      <td>0.00000</td>\n",
       "      <td>10.671048</td>\n",
       "      <td>2160.868</td>\n",
       "    </tr>\n",
       "    <tr>\n",
       "      <th>58875</th>\n",
       "      <td>1684079</td>\n",
       "      <td>2</td>\n",
       "      <td>0</td>\n",
       "      <td>1.117686e+09</td>\n",
       "      <td>1.118849e+09</td>\n",
       "      <td>32.722</td>\n",
       "      <td>2160.868</td>\n",
       "      <td>6452686.311</td>\n",
       "      <td>1871936.783</td>\n",
       "      <td>5.1816</td>\n",
       "      <td>...</td>\n",
       "      <td>Car</td>\n",
       "      <td>NaN</td>\n",
       "      <td>10.671048</td>\n",
       "      <td>0.000000</td>\n",
       "      <td>2_0</td>\n",
       "      <td>0.1</td>\n",
       "      <td>175.7</td>\n",
       "      <td>NaN</td>\n",
       "      <td>NaN</td>\n",
       "      <td>NaN</td>\n",
       "    </tr>\n",
       "  </tbody>\n",
       "</table>\n",
       "<p>1758 rows × 28 columns</p>\n",
       "</div>"
      ],
      "text/plain": [
       "             id Vehicle_ID Preceding  Relative_Time   Global_Time  Local_X  \\\n",
       "147831  3957224          2         0   1.117684e+09  1.118847e+09   16.467   \n",
       "119377  3380369          2         0   1.117684e+09  1.118847e+09   16.447   \n",
       "7099     201732          2         0   1.117684e+09  1.118847e+09   16.426   \n",
       "3685     105387          2         0   1.117684e+09  1.118847e+09   16.405   \n",
       "22956    652438          2         0   1.117684e+09  1.118847e+09   16.385   \n",
       "...         ...        ...       ...            ...           ...      ...   \n",
       "53628   1534610          2         0   1.117686e+09  1.118849e+09   32.732   \n",
       "146934  3938838          2         0   1.117686e+09  1.118849e+09   32.729   \n",
       "26308    749317          2         0   1.117686e+09  1.118849e+09   32.727   \n",
       "39165   1118455          2         0   1.117686e+09  1.118849e+09   32.724   \n",
       "58875   1684079          2         0   1.117686e+09  1.118849e+09   32.722   \n",
       "\n",
       "         Local_Y     Global_X     Global_Y  v_length  ...  v_Class_Name  \\\n",
       "147831    35.381  6451137.641  1873344.962    4.4196  ...           Car   \n",
       "119377    39.381  6451140.329  1873342.000    4.4196  ...           Car   \n",
       "7099      43.381  6451143.018  1873339.038    4.4196  ...           Car   \n",
       "3685      47.380  6451145.706  1873336.077    4.4196  ...           Car   \n",
       "22956     51.381  6451148.395  1873333.115    4.4196  ...           Car   \n",
       "...          ...          ...          ...       ...  ...           ...   \n",
       "53628   2146.868  6452675.357  1871945.501    5.1816  ...           Car   \n",
       "146934  2150.370  6452678.095  1871943.322    5.1816  ...           Car   \n",
       "26308   2153.868  6452680.834  1871941.142    5.1816  ...           Car   \n",
       "39165   2157.369  6452683.573  1871938.963    5.1816  ...           Car   \n",
       "58875   2160.868  6452686.311  1871936.783    5.1816  ...           Car   \n",
       "\n",
       "        Vehicle_combination  Velocity Difference_Following-Preceding  \\\n",
       "147831                  NaN                                12.192000   \n",
       "119377                  NaN                                12.192000   \n",
       "7099                    NaN                                12.192000   \n",
       "3685                    NaN                                12.192000   \n",
       "22956                   NaN                                12.192000   \n",
       "...                     ...                                      ...   \n",
       "53628                   NaN                                10.680192   \n",
       "146934                  NaN                                10.671048   \n",
       "26308                   NaN                                10.671048   \n",
       "39165                   NaN                                10.671048   \n",
       "58875                   NaN                                10.671048   \n",
       "\n",
       "        Acceleration Difference_Following-Preceding  LF_pairs Time.per.frame  \\\n",
       "147831                                     0.000000       2_0            0.1   \n",
       "119377                                     0.000000       2_0            0.1   \n",
       "7099                                       0.000000       2_0            0.1   \n",
       "3685                                       0.000000       2_0            0.1   \n",
       "22956                                      0.000000       2_0            0.1   \n",
       "...                                             ...       ...            ...   \n",
       "53628                                     -0.115824       2_0            0.1   \n",
       "146934                                    -0.060960       2_0            0.1   \n",
       "26308                                      0.000000       2_0            0.1   \n",
       "39165                                      0.000000       2_0            0.1   \n",
       "58875                                      0.000000       2_0            0.1   \n",
       "\n",
       "       Time_duration  nextframeAcc nextframesvel nextframeposition  \n",
       "147831           0.0       0.00000     12.192000            39.381  \n",
       "119377           0.1       0.00000     12.192000            43.381  \n",
       "7099             0.2       0.00000     12.192000            47.380  \n",
       "3685             0.3       0.00000     12.192000            51.381  \n",
       "22956            0.4       0.00000     12.192000            55.381  \n",
       "...              ...           ...           ...               ...  \n",
       "53628          175.3      -0.06096     10.671048          2150.370  \n",
       "146934         175.4       0.00000     10.671048          2153.868  \n",
       "26308          175.5       0.00000     10.671048          2157.369  \n",
       "39165          175.6       0.00000     10.671048          2160.868  \n",
       "58875          175.7           NaN           NaN               NaN  \n",
       "\n",
       "[1758 rows x 28 columns]"
      ]
     },
     "execution_count": 264,
     "metadata": {},
     "output_type": "execute_result"
    }
   ],
   "source": [
    "df[df[\"LF_pairs\"]== \"2_0\"].sort_values(['Relative_Time'], ascending=True)"
   ]
  },
  {
   "cell_type": "code",
   "execution_count": 265,
   "metadata": {},
   "outputs": [],
   "source": [
    "def training_pairs(data):\n",
    "    random.seed(2109)\n",
    "    pairs = data[\"LF_pairs\"].unique()\n",
    "    pairs = pairs.tolist()\n",
    "    v = round(len(pairs)*0.7)\n",
    "    pairs = random.sample(pairs, v)\n",
    "    return pairs"
   ]
  },
  {
   "cell_type": "code",
   "execution_count": 266,
   "metadata": {},
   "outputs": [
    {
     "data": {
      "text/plain": [
       "['24_14',\n",
       " '67_53',\n",
       " '37_38',\n",
       " '56_37',\n",
       " '74_71',\n",
       " '49_46',\n",
       " '74_53',\n",
       " '77_0',\n",
       " '80_75',\n",
       " '38_32',\n",
       " '38_0',\n",
       " '99_82',\n",
       " '61_50',\n",
       " '34_26',\n",
       " '48_42',\n",
       " '52_53',\n",
       " '97_91',\n",
       " '18_4',\n",
       " '54_46',\n",
       " '60_48',\n",
       " '85_80',\n",
       " '51_40',\n",
       " '73_76',\n",
       " '49_48',\n",
       " '95_77',\n",
       " '99_79',\n",
       " '44_40',\n",
       " '58_60',\n",
       " '31_18',\n",
       " '4_6',\n",
       " '70_0',\n",
       " '90_74',\n",
       " '63_42',\n",
       " '51_0',\n",
       " '11_3',\n",
       " '86_77',\n",
       " '15_2',\n",
       " '34_0',\n",
       " '35_33',\n",
       " '51_34',\n",
       " '7_3',\n",
       " '5_4',\n",
       " '100_82',\n",
       " '19_0',\n",
       " '61_66',\n",
       " '41_35',\n",
       " '40_20',\n",
       " '96_93',\n",
       " '98_94',\n",
       " '84_99',\n",
       " '77_74',\n",
       " '87_99',\n",
       " '41_0',\n",
       " '83_0',\n",
       " '21_8',\n",
       " '26_0',\n",
       " '8_5',\n",
       " '65_63',\n",
       " '10_0',\n",
       " '50_45',\n",
       " '23_0',\n",
       " '57_0',\n",
       " '73_71',\n",
       " '24_0',\n",
       " '83_81',\n",
       " '81_67',\n",
       " '71_53',\n",
       " '49_0',\n",
       " '37_0',\n",
       " '16_0',\n",
       " '60_53',\n",
       " '80_77',\n",
       " '97_96',\n",
       " '36_0',\n",
       " '80_76',\n",
       " '43_39',\n",
       " '39_45',\n",
       " '28_8',\n",
       " '47_40',\n",
       " '100_95',\n",
       " '26_22',\n",
       " '22_0',\n",
       " '35_28',\n",
       " '82_0',\n",
       " '55_50',\n",
       " '22_16',\n",
       " '60_27',\n",
       " '30_27',\n",
       " '75_68',\n",
       " '26_21',\n",
       " '56_51',\n",
       " '72_70',\n",
       " '42_33',\n",
       " '48_43',\n",
       " '90_82',\n",
       " '23_20',\n",
       " '78_75',\n",
       " '79_73',\n",
       " '53_49',\n",
       " '32_0',\n",
       " '9_5',\n",
       " '30_0',\n",
       " '52_0',\n",
       " '53_48',\n",
       " '95_0',\n",
       " '91_86',\n",
       " '6_0',\n",
       " '25_0',\n",
       " '55_48',\n",
       " '39_32',\n",
       " '39_37',\n",
       " '90_91',\n",
       " '74_73',\n",
       " '30_60',\n",
       " '20_0',\n",
       " '83_76',\n",
       " '18_14',\n",
       " '53_35',\n",
       " '34_31',\n",
       " '69_63',\n",
       " '60_58',\n",
       " '62_55',\n",
       " '99_0',\n",
       " '70_64',\n",
       " '33_14',\n",
       " '18_6',\n",
       " '45_0',\n",
       " '68_60',\n",
       " '68_65',\n",
       " '61_28',\n",
       " '97_0',\n",
       " '100_93',\n",
       " '53_0',\n",
       " '48_35',\n",
       " '79_72',\n",
       " '37_31',\n",
       " '37_36',\n",
       " '72_57',\n",
       " '71_69',\n",
       " '20_14',\n",
       " '96_94',\n",
       " '88_84',\n",
       " '54_60',\n",
       " '41_38',\n",
       " '6_4',\n",
       " '12_0',\n",
       " '5_1',\n",
       " '83_99',\n",
       " '25_21',\n",
       " '33_35',\n",
       " '76_72',\n",
       " '78_69',\n",
       " '99_94',\n",
       " '11_10',\n",
       " '31_35',\n",
       " '64_57',\n",
       " '91_0',\n",
       " '93_87',\n",
       " '54_0',\n",
       " '27_23',\n",
       " '97_88',\n",
       " '31_14',\n",
       " '12_10',\n",
       " '99_84',\n",
       " '78_0',\n",
       " '97_99',\n",
       " '32_29',\n",
       " '27_0',\n",
       " '20_21',\n",
       " '99_90',\n",
       " '21_16',\n",
       " '99_87',\n",
       " '82_75',\n",
       " '67_57',\n",
       " '60_49',\n",
       " '15_9',\n",
       " '85_0',\n",
       " '84_75',\n",
       " '57_35',\n",
       " '72_68',\n",
       " '74_63',\n",
       " '74_0',\n",
       " '82_79',\n",
       " '80_0',\n",
       " '54_48',\n",
       " '42_36',\n",
       " '54_30',\n",
       " '81_76',\n",
       " '16_10',\n",
       " '33_18',\n",
       " '38_34',\n",
       " '83_90',\n",
       " '97_92',\n",
       " '99_92',\n",
       " '14_11',\n",
       " '42_0',\n",
       " '53_50',\n",
       " '60_68',\n",
       " '97_90',\n",
       " '71_64',\n",
       " '49_42',\n",
       " '91_99',\n",
       " '91_87',\n",
       " '21_18',\n",
       " '47_37',\n",
       " '68_0',\n",
       " '86_80',\n",
       " '92_89',\n",
       " '59_52',\n",
       " '60_0',\n",
       " '94_84',\n",
       " '61_49',\n",
       " '84_81',\n",
       " '51_47',\n",
       " '59_57',\n",
       " '95_94',\n",
       " '71_66',\n",
       " '59_56',\n",
       " '26_20',\n",
       " '17_0',\n",
       " '36_31',\n",
       " '91_79',\n",
       " '15_7',\n",
       " '48_33',\n",
       " '8_1',\n",
       " '39_27',\n",
       " '13_5',\n",
       " '76_66',\n",
       " '35_42',\n",
       " '25_20',\n",
       " '27_22',\n",
       " '29_60',\n",
       " '12_9',\n",
       " '79_0',\n",
       " '69_60',\n",
       " '50_47',\n",
       " '9_6',\n",
       " '75_74',\n",
       " '9_4',\n",
       " '87_0',\n",
       " '90_85',\n",
       " '57_53',\n",
       " '90_0',\n",
       " '53_28',\n",
       " '92_88',\n",
       " '96_91',\n",
       " '18_0',\n",
       " '98_96',\n",
       " '85_79',\n",
       " '62_58',\n",
       " '99_81',\n",
       " '14_10',\n",
       " '92_99',\n",
       " '72_69',\n",
       " '35_0',\n",
       " '43_37',\n",
       " '46_0',\n",
       " '13_0',\n",
       " '67_71',\n",
       " '50_49',\n",
       " '82_74',\n",
       " '53_47',\n",
       " '48_50',\n",
       " '61_48',\n",
       " '80_74',\n",
       " '17_5',\n",
       " '75_60',\n",
       " '66_62',\n",
       " '9_2',\n",
       " '25_19',\n",
       " '49_44',\n",
       " '44_43',\n",
       " '64_56',\n",
       " '88_78',\n",
       " '35_18',\n",
       " '47_20',\n",
       " '81_0',\n",
       " '56_55',\n",
       " '49_59',\n",
       " '26_14',\n",
       " '57_52',\n",
       " '28_0',\n",
       " '28_23',\n",
       " '33_28',\n",
       " '61_57',\n",
       " '63_53',\n",
       " '15_0',\n",
       " '73_62',\n",
       " '67_61',\n",
       " '66_0',\n",
       " '78_77',\n",
       " '89_77',\n",
       " '6_1',\n",
       " '6_2',\n",
       " '88_99',\n",
       " '20_8',\n",
       " '76_0',\n",
       " '54_44',\n",
       " '39_0',\n",
       " '99_98',\n",
       " '56_49',\n",
       " '44_39',\n",
       " '93_0',\n",
       " '48_44',\n",
       " '47_44',\n",
       " '32_30',\n",
       " '67_69',\n",
       " '75_63',\n",
       " '91_73',\n",
       " '63_0',\n",
       " '14_4',\n",
       " '81_72',\n",
       " '84_0',\n",
       " '57_51',\n",
       " '74_69',\n",
       " '60_63',\n",
       " '78_71',\n",
       " '7_0',\n",
       " '79_83',\n",
       " '46_42',\n",
       " '44_46',\n",
       " '60_43',\n",
       " '27_19',\n",
       " '43_60',\n",
       " '72_0',\n",
       " '94_90',\n",
       " '56_32',\n",
       " '81_71',\n",
       " '2_0',\n",
       " '15_4',\n",
       " '35_25',\n",
       " '61_53',\n",
       " '89_80',\n",
       " '11_0',\n",
       " '9_0',\n",
       " '68_62',\n",
       " '63_62',\n",
       " '4_0',\n",
       " '36_33',\n",
       " '11_7',\n",
       " '67_0',\n",
       " '60_54',\n",
       " '24_22',\n",
       " '98_99',\n",
       " '55_60',\n",
       " '63_57',\n",
       " '47_41',\n",
       " '89_76',\n",
       " '97_78',\n",
       " '17_12',\n",
       " '21_0',\n",
       " '76_71',\n",
       " '60_62',\n",
       " '55_0',\n",
       " '97_74',\n",
       " '17_13',\n",
       " '88_0',\n",
       " '89_0',\n",
       " '49_45',\n",
       " '37_47',\n",
       " '64_49',\n",
       " '63_60',\n",
       " '64_0',\n",
       " '20_17',\n",
       " '13_8',\n",
       " '10_2',\n",
       " '99_88',\n",
       " '99_97',\n",
       " '56_44',\n",
       " '58_0',\n",
       " '16_12',\n",
       " '22_13',\n",
       " '71_76',\n",
       " '48_36',\n",
       " '71_67',\n",
       " '87_82',\n",
       " '18_13',\n",
       " '40_33',\n",
       " '13_2',\n",
       " '51_49']"
      ]
     },
     "execution_count": 266,
     "metadata": {},
     "output_type": "execute_result"
    }
   ],
   "source": [
    "training_pairs(df)"
   ]
  },
  {
   "cell_type": "code",
   "execution_count": 267,
   "metadata": {},
   "outputs": [],
   "source": [
    "import random"
   ]
  },
  {
   "cell_type": "code",
   "execution_count": 268,
   "metadata": {},
   "outputs": [
    {
     "data": {
      "text/plain": [
       "Index(['id', 'Vehicle_ID', 'Preceding', 'Relative_Time', 'Global_Time',\n",
       "       'Local_X', 'Local_Y', 'Global_X', 'Global_Y', 'v_length', 'v_Class',\n",
       "       'v_Vel', 'v_Acc', 'Space_Headway', 'Time_Headway', 'Location',\n",
       "       'Preceding_Vehicle_Class', 'Rear_to_Front_Space_Headway',\n",
       "       'v_Class_Name', 'Vehicle_combination',\n",
       "       'Velocity Difference_Following-Preceding',\n",
       "       'Acceleration Difference_Following-Preceding', 'LF_pairs',\n",
       "       'Time.per.frame', 'Time_duration', 'nextframeAcc', 'nextframesvel',\n",
       "       'nextframeposition'],\n",
       "      dtype='object')"
      ]
     },
     "execution_count": 268,
     "metadata": {},
     "output_type": "execute_result"
    }
   ],
   "source": [
    "df.columns"
   ]
  },
  {
   "cell_type": "code",
   "execution_count": 235,
   "metadata": {},
   "outputs": [],
   "source": [
    "#df = df.drop(['nextframeAcc','nextframesvel','nextframeposition'], axis=1)"
   ]
  },
  {
   "cell_type": "code",
   "execution_count": 269,
   "metadata": {},
   "outputs": [],
   "source": [
    "df[\"Reaction_time_1.0_acc\"]=df.groupby([\"LF_pairs\"],as_index=False)[\"v_Acc\"].shift(-10)\n",
    "df[\"Reaction_time_1.0_position\"]=df.groupby([\"LF_pairs\"],as_index=False)[\"Local_Y\"].shift(-10)\n",
    "df[\"Reaction_time_1.0_vel\"]=df.groupby([\"LF_pairs\"],as_index=False)[\"v_Vel\"].shift(-10)"
   ]
  },
  {
   "cell_type": "code",
   "execution_count": 270,
   "metadata": {},
   "outputs": [
    {
     "name": "stdout",
     "output_type": "stream",
     "text": [
      "356\n"
     ]
    }
   ],
   "source": [
    "df = df[df[\"Reaction_time_1.0_acc\"].notna()]\n",
    "#Random Pairs selections\n",
    "my_pairs=training_pairs(df)\n",
    "print(len(my_pairs))"
   ]
  },
  {
   "cell_type": "code",
   "execution_count": 271,
   "metadata": {},
   "outputs": [
    {
     "data": {
      "text/plain": [
       "id                                                 0\n",
       "Vehicle_ID                                         0\n",
       "Preceding                                          0\n",
       "Relative_Time                                      0\n",
       "Global_Time                                        0\n",
       "Local_X                                            0\n",
       "Local_Y                                            0\n",
       "Global_X                                           0\n",
       "Global_Y                                           0\n",
       "v_length                                           0\n",
       "v_Class                                            0\n",
       "v_Vel                                              0\n",
       "v_Acc                                              0\n",
       "Space_Headway                                      0\n",
       "Time_Headway                                       0\n",
       "Location                                           0\n",
       "Preceding_Vehicle_Class                        15544\n",
       "Rear_to_Front_Space_Headway                    15544\n",
       "v_Class_Name                                       0\n",
       "Vehicle_combination                            15544\n",
       "Velocity Difference_Following-Preceding            0\n",
       "Acceleration Difference_Following-Preceding        0\n",
       "LF_pairs                                           0\n",
       "Time.per.frame                                     0\n",
       "Time_duration                                      0\n",
       "nextframeAcc                                       0\n",
       "nextframesvel                                      0\n",
       "nextframeposition                                  0\n",
       "Reaction_time_1.0_acc                              0\n",
       "Reaction_time_1.0_position                         0\n",
       "Reaction_time_1.0_vel                              0\n",
       "dtype: int64"
      ]
     },
     "execution_count": 271,
     "metadata": {},
     "output_type": "execute_result"
    }
   ],
   "source": [
    "df.isnull().sum()"
   ]
  },
  {
   "cell_type": "code",
   "execution_count": 272,
   "metadata": {},
   "outputs": [],
   "source": [
    "df = df[df[\"Preceding_Vehicle_Class\"].notna()]"
   ]
  },
  {
   "cell_type": "code",
   "execution_count": 273,
   "metadata": {},
   "outputs": [
    {
     "data": {
      "text/plain": [
       "id                                             0\n",
       "Vehicle_ID                                     0\n",
       "Preceding                                      0\n",
       "Relative_Time                                  0\n",
       "Global_Time                                    0\n",
       "Local_X                                        0\n",
       "Local_Y                                        0\n",
       "Global_X                                       0\n",
       "Global_Y                                       0\n",
       "v_length                                       0\n",
       "v_Class                                        0\n",
       "v_Vel                                          0\n",
       "v_Acc                                          0\n",
       "Space_Headway                                  0\n",
       "Time_Headway                                   0\n",
       "Location                                       0\n",
       "Preceding_Vehicle_Class                        0\n",
       "Rear_to_Front_Space_Headway                    0\n",
       "v_Class_Name                                   0\n",
       "Vehicle_combination                            0\n",
       "Velocity Difference_Following-Preceding        0\n",
       "Acceleration Difference_Following-Preceding    0\n",
       "LF_pairs                                       0\n",
       "Time.per.frame                                 0\n",
       "Time_duration                                  0\n",
       "nextframeAcc                                   0\n",
       "nextframesvel                                  0\n",
       "nextframeposition                              0\n",
       "Reaction_time_1.0_acc                          0\n",
       "Reaction_time_1.0_position                     0\n",
       "Reaction_time_1.0_vel                          0\n",
       "dtype: int64"
      ]
     },
     "execution_count": 273,
     "metadata": {},
     "output_type": "execute_result"
    }
   ],
   "source": [
    "df.isnull().sum()"
   ]
  },
  {
   "cell_type": "code",
   "execution_count": 274,
   "metadata": {},
   "outputs": [],
   "source": [
    "#Train and Test datasets\n",
    "data70 = pd.DataFrame()\n",
    "data30 = pd.DataFrame()"
   ]
  },
  {
   "cell_type": "code",
   "execution_count": 275,
   "metadata": {},
   "outputs": [],
   "source": [
    "data70 = df[df['LF_pairs'].isin(my_pairs)]\n",
    "\n",
    "data30 = df[~df['LF_pairs'].isin(my_pairs)]"
   ]
  },
  {
   "cell_type": "code",
   "execution_count": 276,
   "metadata": {},
   "outputs": [
    {
     "data": {
      "text/plain": [
       "Index(['id', 'Vehicle_ID', 'Preceding', 'Relative_Time', 'Global_Time',\n",
       "       'Local_X', 'Local_Y', 'Global_X', 'Global_Y', 'v_length', 'v_Class',\n",
       "       'v_Vel', 'v_Acc', 'Space_Headway', 'Time_Headway', 'Location',\n",
       "       'Preceding_Vehicle_Class', 'Rear_to_Front_Space_Headway',\n",
       "       'v_Class_Name', 'Vehicle_combination',\n",
       "       'Velocity Difference_Following-Preceding',\n",
       "       'Acceleration Difference_Following-Preceding', 'LF_pairs',\n",
       "       'Time.per.frame', 'Time_duration', 'nextframeAcc', 'nextframesvel',\n",
       "       'nextframeposition', 'Reaction_time_1.0_acc',\n",
       "       'Reaction_time_1.0_position', 'Reaction_time_1.0_vel'],\n",
       "      dtype='object')"
      ]
     },
     "execution_count": 276,
     "metadata": {},
     "output_type": "execute_result"
    }
   ],
   "source": [
    "df.columns"
   ]
  },
  {
   "cell_type": "code",
   "execution_count": 284,
   "metadata": {},
   "outputs": [],
   "source": [
    "X_train = data70[[\"Rear_to_Front_Space_Headway\",'Velocity Difference_Following-Preceding','v_Vel','Acceleration Difference_Following-Preceding',\n",
    "       'nextframesvel', 'nextframeposition','Time_duration','Vehicle_ID','Local_Y']]\n",
    "y_train= data70['nextframeAcc']\n",
    "X_test = data30[[\"Rear_to_Front_Space_Headway\",'Velocity Difference_Following-Preceding','v_Vel','Acceleration Difference_Following-Preceding',\n",
    "       'nextframesvel', 'nextframeposition','Time_duration','Vehicle_ID','Local_Y']]\n",
    "y_test= data30['nextframeAcc']"
   ]
  },
  {
   "cell_type": "code",
   "execution_count": 278,
   "metadata": {},
   "outputs": [],
   "source": [
    "rf = RandomForestRegressor(n_estimators = 150,n_jobs=-1)"
   ]
  },
  {
   "cell_type": "code",
   "execution_count": 287,
   "metadata": {},
   "outputs": [
    {
     "data": {
      "text/plain": [
       "RandomForestRegressor(n_estimators=150, n_jobs=-1)"
      ]
     },
     "execution_count": 287,
     "metadata": {},
     "output_type": "execute_result"
    }
   ],
   "source": [
    "rf.fit(X_train,y_train)"
   ]
  },
  {
   "cell_type": "code",
   "execution_count": 288,
   "metadata": {},
   "outputs": [
    {
     "data": {
      "text/plain": [
       "0.9411798989191448"
      ]
     },
     "execution_count": 288,
     "metadata": {},
     "output_type": "execute_result"
    }
   ],
   "source": [
    "rf.score(X_train,y_train)"
   ]
  },
  {
   "cell_type": "code",
   "execution_count": 289,
   "metadata": {},
   "outputs": [
    {
     "data": {
      "text/plain": [
       "array([0.06807166, 0.12854003, 0.11409679, 0.36477251, 0.11318439,\n",
       "       0.05168303, 0.06143558, 0.04842769, 0.04978832])"
      ]
     },
     "execution_count": 289,
     "metadata": {},
     "output_type": "execute_result"
    }
   ],
   "source": [
    "rf.feature_importances_"
   ]
  },
  {
   "cell_type": "code",
   "execution_count": 290,
   "metadata": {},
   "outputs": [
    {
     "data": {
      "text/plain": [
       "<BarContainer object of 9 artists>"
      ]
     },
     "execution_count": 290,
     "metadata": {},
     "output_type": "execute_result"
    },
    {
     "data": {
      "image/png": "[encoded data removed]",
      "text/plain": [
       "<Figure size 432x288 with 1 Axes>"
      ]
     },
     "metadata": {
      "needs_background": "light"
     },
     "output_type": "display_data"
    }
   ],
   "source": [
    "plt.barh(X_train.columns,rf.feature_importances_)"
   ]
  },
  {
   "cell_type": "code",
   "execution_count": 291,
   "metadata": {},
   "outputs": [
    {
     "name": "stdout",
     "output_type": "stream",
     "text": [
      "0.8838986997612635\n",
      "0.9401588694264728\n"
     ]
    }
   ],
   "source": [
    "prediction = rf.predict(X_test)\n",
    "mse = mean_squared_error(y_test, prediction)\n",
    "rmse = mse**.5\n",
    "print(mse)\n",
    "print(rmse)"
   ]
  },
  {
   "cell_type": "code",
   "execution_count": null,
   "metadata": {},
   "outputs": [],
   "source": []
  },
  {
   "cell_type": "code",
   "execution_count": null,
   "metadata": {},
   "outputs": [],
   "source": []
  },
  {
   "cell_type": "code",
   "execution_count": null,
   "metadata": {},
   "outputs": [],
   "source": []
  },
  {
   "cell_type": "code",
   "execution_count": null,
   "metadata": {},
   "outputs": [],
   "source": []
  },
  {
   "cell_type": "code",
   "execution_count": null,
   "metadata": {},
   "outputs": [],
   "source": []
  },
  {
   "cell_type": "code",
   "execution_count": null,
   "metadata": {},
   "outputs": [],
   "source": []
  },
  {
   "cell_type": "code",
   "execution_count": null,
   "metadata": {},
   "outputs": [],
   "source": []
  },
  {
   "cell_type": "code",
   "execution_count": null,
   "metadata": {},
   "outputs": [],
   "source": []
  },
  {
   "cell_type": "code",
   "execution_count": null,
   "metadata": {},
   "outputs": [],
   "source": []
  },
  {
   "cell_type": "code",
   "execution_count": 107,
   "metadata": {},
   "outputs": [
    {
     "name": "stdout",
     "output_type": "stream",
     "text": [
      "['13_2', '22_13', '32_26', '35_31', '34_25', '40_34', '47_20', '55_51', '49_37', '74_60', '71_56', '57_49', '37_32', '77_72', '91_82', '10_2', '54_43', '56_44', '96_83', '100_90', '99_91', '48_42', '63_53', '60_48', '74_53', '75_63', '34_31', '64_49', '71_64', '55_34', '51_47', '63_62', '97_82', '76_64', '71_76', '47_37', '96_79', '79_83', '97_78', '9_5', '12_9', '11_7', '15_11', '18_13', '16_6', '26_20', '28_23', '34_26', '32_30', '29_24', '33_29', '52_47', '54_46', '55_43', '62_51', '59_52', '49_59', '60_49', '56_55', '71_53', '69_63', '67_69', '61_66', '10_6', '67_61', '49_45', '50_49', '73_71', '89_81', '87_82', '48_43', '76_61', '67_66', '61_71', '81_76', '54_48', '43_36', '95_90', '52_53', '53_47', '61_50', '44_46', '97_99', '55_44', '80_76', '88_99', '32_29', '15_9', '38_32', '41_38', '21_18', '22_16', '27_22', '25_19', '75_68', '76_70', '85_79', '43_30', '8_1', '84_75']\n"
     ]
    }
   ],
   "source": [
    "def data_in_parts(data30,rangefrom,rangeto):\n",
    "    a=data30['LF_pairs'].unique()\n",
    "    b = a.tolist()\n",
    "    b = b[rangefrom:rangeto]\n",
    "    c= len(a)/30\n",
    "    return c,b \n",
    "c, b = data_in_parts(data30,0,100)\n",
    "print(b)"
   ]
  },
  {
   "cell_type": "code",
   "execution_count": 129,
   "metadata": {},
   "outputs": [
    {
     "data": {
      "text/plain": [
       "Index(['id', 'Vehicle_ID', 'Preceding', 'Relative_Time', 'Global_Time',\n",
       "       'Local_X', 'Local_Y', 'Global_X', 'Global_Y', 'v_length', 'v_Class',\n",
       "       'v_Vel', 'v_Acc', 'Space_Headway', 'Time_Headway', 'Location',\n",
       "       'Preceding_Vehicle_Class', 'Rear_to_Front_Space_Headway',\n",
       "       'v_Class_Name', 'Vehicle_combination',\n",
       "       'Velocity Difference_Following-Preceding',\n",
       "       'Acceleration Difference_Following-Preceding', 'LF_pairs',\n",
       "       'Time.per.frame', 'Time_duration', 'Reaction_time_1.0_acc',\n",
       "       'Reaction_time_1.0_position', 'Reaction_time_1.0_vel'],\n",
       "      dtype='object')"
      ]
     },
     "execution_count": 129,
     "metadata": {},
     "output_type": "execute_result"
    }
   ],
   "source": [
    "data70.columns"
   ]
  },
  {
   "cell_type": "code",
   "execution_count": 171,
   "metadata": {},
   "outputs": [],
   "source": [
    "X_train = data70[[ 'Vehicle_ID', 'Preceding', 'Relative_Time',\n",
    "       'Local_X', 'Local_Y', 'Global_X', 'Global_Y', 'v_length', 'v_Class',\n",
    "       'v_Vel', 'Space_Headway', 'Time_Headway', 'Rear_to_Front_Space_Headway',\n",
    "       'Velocity Difference_Following-Preceding','Time_duration']]\n",
    "       ##'Acceleration Difference_Following-Preceding']]\n",
    "y_train= data70['v_Acc']"
   ]
  },
  {
   "cell_type": "code",
   "execution_count": 172,
   "metadata": {},
   "outputs": [
    {
     "data": {
      "text/plain": [
       "RandomForestRegressor(n_estimators=150, n_jobs=-1)"
      ]
     },
     "execution_count": 172,
     "metadata": {},
     "output_type": "execute_result"
    }
   ],
   "source": [
    "rf.fit(X_train, y_train)"
   ]
  },
  {
   "cell_type": "code",
   "execution_count": 173,
   "metadata": {},
   "outputs": [
    {
     "data": {
      "text/plain": [
       "<BarContainer object of 15 artists>"
      ]
     },
     "execution_count": 173,
     "metadata": {},
     "output_type": "execute_result"
    },
    {
     "data": {
      "image/png": "[encoded data removed]",
      "text/plain": [
       "<Figure size 432x288 with 1 Axes>"
      ]
     },
     "metadata": {
      "needs_background": "light"
     },
     "output_type": "display_data"
    }
   ],
   "source": [
    "plt.barh(X_train.columns,rf.feature_importances_)"
   ]
  },
  {
   "cell_type": "code",
   "execution_count": 174,
   "metadata": {},
   "outputs": [],
   "source": [
    "y_test = data30[\"v_Acc\"]"
   ]
  },
  {
   "cell_type": "code",
   "execution_count": 175,
   "metadata": {},
   "outputs": [
    {
     "name": "stdout",
     "output_type": "stream",
     "text": [
      "1.5416757915005284\n",
      "1.2416423766530074\n"
     ]
    }
   ],
   "source": [
    "X_test = data30[[ 'Vehicle_ID', 'Preceding', 'Relative_Time',\n",
    "       'Local_X', 'Local_Y', 'Global_X', 'Global_Y', 'v_length', 'v_Class',\n",
    "       'v_Vel', 'Space_Headway', 'Time_Headway', 'Rear_to_Front_Space_Headway',\n",
    "       'Velocity Difference_Following-Preceding','Time_duration']]\n",
    "       ##'Acceleration Difference_Following-Preceding']]\n",
    "prediction = rf.predict(X_test)\n",
    "mse = mean_squared_error(y_test, prediction)\n",
    "rmse = mse**.5\n",
    "print(mse)\n",
    "print(rmse)"
   ]
  },
  {
   "cell_type": "code",
   "execution_count": 138,
   "metadata": {},
   "outputs": [],
   "source": [
    "from sklearn.metrics import mean_squared_error"
   ]
  },
  {
   "cell_type": "code",
   "execution_count": 178,
   "metadata": {},
   "outputs": [],
   "source": [
    "X_train = data70[[ 'Vehicle_ID', 'Preceding', 'Relative_Time',\n",
    "       'Local_X', 'Local_Y', 'Global_X', 'Global_Y', 'v_length','Time_duration', 'v_Class', 'Space_Headway', 'Time_Headway', 'Rear_to_Front_Space_Headway','Time_duration']]\n",
    "       ##'Acceleration Difference_Following-Preceding']]\n",
    "y_train= data70['v_Vel']"
   ]
  },
  {
   "cell_type": "code",
   "execution_count": 179,
   "metadata": {},
   "outputs": [],
   "source": [
    "X_test = data30[[ 'Vehicle_ID', 'Preceding', 'Relative_Time',\n",
    "       'Local_X', 'Local_Y', 'Global_X', 'Global_Y', 'v_length', 'v_Class', 'Space_Headway', 'Time_Headway', 'Rear_to_Front_Space_Headway','Time_duration']]\n",
    "       ##'Acceleration Difference_Following-Preceding']]\n",
    "y_test= data30['v_Vel']"
   ]
  },
  {
   "cell_type": "code",
   "execution_count": 180,
   "metadata": {},
   "outputs": [
    {
     "data": {
      "text/plain": [
       "RandomForestRegressor(n_estimators=150, n_jobs=-1)"
      ]
     },
     "execution_count": 180,
     "metadata": {},
     "output_type": "execute_result"
    }
   ],
   "source": [
    "rf.fit(X_train, y_train)"
   ]
  },
  {
   "cell_type": "code",
   "execution_count": 181,
   "metadata": {},
   "outputs": [
    {
     "data": {
      "text/plain": [
       "<BarContainer object of 14 artists>"
      ]
     },
     "execution_count": 181,
     "metadata": {},
     "output_type": "execute_result"
    },
    {
     "data": {
      "image/png": "[encoded data removed]",
      "text/plain": [
       "<Figure size 432x288 with 1 Axes>"
      ]
     },
     "metadata": {
      "needs_background": "light"
     },
     "output_type": "display_data"
    }
   ],
   "source": [
    "plt.barh(X_train.columns,rf.feature_importances_)"
   ]
  },
  {
   "cell_type": "code",
   "execution_count": 182,
   "metadata": {},
   "outputs": [
    {
     "ename": "ValueError",
     "evalue": "X has 13 features, but RandomForestRegressor is expecting 14 features as input.",
     "output_type": "error",
     "traceback": [
      "\u001b[1;31m---------------------------------------------------------------------------\u001b[0m",
      "\u001b[1;31mValueError\u001b[0m                                Traceback (most recent call last)",
      "\u001b[1;32mc:\\Users\\neels\\car following model\\DataDrivenCarFollowing-1\\datadrivencarfollowing-v1\\scripts\\RandomeForest_NC.ipynb Cell 53'\u001b[0m in \u001b[0;36m<cell line: 1>\u001b[1;34m()\u001b[0m\n\u001b[1;32m----> <a href='vscode-notebook-cell:/c%3A/Users/neels/car%20following%20model/DataDrivenCarFollowing-1/datadrivencarfollowing-v1/scripts/RandomeForest_NC.ipynb#ch0000064?line=0'>1</a>\u001b[0m prediction \u001b[39m=\u001b[39m rf\u001b[39m.\u001b[39;49mpredict(X_test)\n\u001b[0;32m      <a href='vscode-notebook-cell:/c%3A/Users/neels/car%20following%20model/DataDrivenCarFollowing-1/datadrivencarfollowing-v1/scripts/RandomeForest_NC.ipynb#ch0000064?line=1'>2</a>\u001b[0m mse \u001b[39m=\u001b[39m mean_squared_error(y_test, prediction)\n\u001b[0;32m      <a href='vscode-notebook-cell:/c%3A/Users/neels/car%20following%20model/DataDrivenCarFollowing-1/datadrivencarfollowing-v1/scripts/RandomeForest_NC.ipynb#ch0000064?line=2'>3</a>\u001b[0m rmse \u001b[39m=\u001b[39m mse\u001b[39m*\u001b[39m\u001b[39m*\u001b[39m\u001b[39m.5\u001b[39m\n",
      "File \u001b[1;32mc:\\Users\\neels\\anaconda3\\lib\\site-packages\\sklearn\\ensemble\\_forest.py:971\u001b[0m, in \u001b[0;36mForestRegressor.predict\u001b[1;34m(self, X)\u001b[0m\n\u001b[0;32m    969\u001b[0m check_is_fitted(\u001b[39mself\u001b[39m)\n\u001b[0;32m    970\u001b[0m \u001b[39m# Check data\u001b[39;00m\n\u001b[1;32m--> 971\u001b[0m X \u001b[39m=\u001b[39m \u001b[39mself\u001b[39;49m\u001b[39m.\u001b[39;49m_validate_X_predict(X)\n\u001b[0;32m    973\u001b[0m \u001b[39m# Assign chunk of trees to jobs\u001b[39;00m\n\u001b[0;32m    974\u001b[0m n_jobs, _, _ \u001b[39m=\u001b[39m _partition_estimators(\u001b[39mself\u001b[39m\u001b[39m.\u001b[39mn_estimators, \u001b[39mself\u001b[39m\u001b[39m.\u001b[39mn_jobs)\n",
      "File \u001b[1;32mc:\\Users\\neels\\anaconda3\\lib\\site-packages\\sklearn\\ensemble\\_forest.py:579\u001b[0m, in \u001b[0;36mBaseForest._validate_X_predict\u001b[1;34m(self, X)\u001b[0m\n\u001b[0;32m    576\u001b[0m \u001b[39m\"\"\"\u001b[39;00m\n\u001b[0;32m    577\u001b[0m \u001b[39mValidate X whenever one tries to predict, apply, predict_proba.\"\"\"\u001b[39;00m\n\u001b[0;32m    578\u001b[0m check_is_fitted(\u001b[39mself\u001b[39m)\n\u001b[1;32m--> 579\u001b[0m X \u001b[39m=\u001b[39m \u001b[39mself\u001b[39;49m\u001b[39m.\u001b[39;49m_validate_data(X, dtype\u001b[39m=\u001b[39;49mDTYPE, accept_sparse\u001b[39m=\u001b[39;49m\u001b[39m\"\u001b[39;49m\u001b[39mcsr\u001b[39;49m\u001b[39m\"\u001b[39;49m, reset\u001b[39m=\u001b[39;49m\u001b[39mFalse\u001b[39;49;00m)\n\u001b[0;32m    580\u001b[0m \u001b[39mif\u001b[39;00m issparse(X) \u001b[39mand\u001b[39;00m (X\u001b[39m.\u001b[39mindices\u001b[39m.\u001b[39mdtype \u001b[39m!=\u001b[39m np\u001b[39m.\u001b[39mintc \u001b[39mor\u001b[39;00m X\u001b[39m.\u001b[39mindptr\u001b[39m.\u001b[39mdtype \u001b[39m!=\u001b[39m np\u001b[39m.\u001b[39mintc):\n\u001b[0;32m    581\u001b[0m     \u001b[39mraise\u001b[39;00m \u001b[39mValueError\u001b[39;00m(\u001b[39m\"\u001b[39m\u001b[39mNo support for np.int64 index based sparse matrices\u001b[39m\u001b[39m\"\u001b[39m)\n",
      "File \u001b[1;32mc:\\Users\\neels\\anaconda3\\lib\\site-packages\\sklearn\\base.py:585\u001b[0m, in \u001b[0;36mBaseEstimator._validate_data\u001b[1;34m(self, X, y, reset, validate_separately, **check_params)\u001b[0m\n\u001b[0;32m    582\u001b[0m     out \u001b[39m=\u001b[39m X, y\n\u001b[0;32m    584\u001b[0m \u001b[39mif\u001b[39;00m \u001b[39mnot\u001b[39;00m no_val_X \u001b[39mand\u001b[39;00m check_params\u001b[39m.\u001b[39mget(\u001b[39m\"\u001b[39m\u001b[39mensure_2d\u001b[39m\u001b[39m\"\u001b[39m, \u001b[39mTrue\u001b[39;00m):\n\u001b[1;32m--> 585\u001b[0m     \u001b[39mself\u001b[39;49m\u001b[39m.\u001b[39;49m_check_n_features(X, reset\u001b[39m=\u001b[39;49mreset)\n\u001b[0;32m    587\u001b[0m \u001b[39mreturn\u001b[39;00m out\n",
      "File \u001b[1;32mc:\\Users\\neels\\anaconda3\\lib\\site-packages\\sklearn\\base.py:400\u001b[0m, in \u001b[0;36mBaseEstimator._check_n_features\u001b[1;34m(self, X, reset)\u001b[0m\n\u001b[0;32m    397\u001b[0m     \u001b[39mreturn\u001b[39;00m\n\u001b[0;32m    399\u001b[0m \u001b[39mif\u001b[39;00m n_features \u001b[39m!=\u001b[39m \u001b[39mself\u001b[39m\u001b[39m.\u001b[39mn_features_in_:\n\u001b[1;32m--> 400\u001b[0m     \u001b[39mraise\u001b[39;00m \u001b[39mValueError\u001b[39;00m(\n\u001b[0;32m    401\u001b[0m         \u001b[39mf\u001b[39m\u001b[39m\"\u001b[39m\u001b[39mX has \u001b[39m\u001b[39m{\u001b[39;00mn_features\u001b[39m}\u001b[39;00m\u001b[39m features, but \u001b[39m\u001b[39m{\u001b[39;00m\u001b[39mself\u001b[39m\u001b[39m.\u001b[39m\u001b[39m__class__\u001b[39m\u001b[39m.\u001b[39m\u001b[39m__name__\u001b[39m\u001b[39m}\u001b[39;00m\u001b[39m \u001b[39m\u001b[39m\"\u001b[39m\n\u001b[0;32m    402\u001b[0m         \u001b[39mf\u001b[39m\u001b[39m\"\u001b[39m\u001b[39mis expecting \u001b[39m\u001b[39m{\u001b[39;00m\u001b[39mself\u001b[39m\u001b[39m.\u001b[39mn_features_in_\u001b[39m}\u001b[39;00m\u001b[39m features as input.\u001b[39m\u001b[39m\"\u001b[39m\n\u001b[0;32m    403\u001b[0m     )\n",
      "\u001b[1;31mValueError\u001b[0m: X has 13 features, but RandomForestRegressor is expecting 14 features as input."
     ]
    }
   ],
   "source": [
    "prediction = rf.predict(X_test)\n",
    "mse = mean_squared_error(y_test, prediction)\n",
    "rmse = mse**.5\n",
    "print(mse)\n",
    "print(rmse)"
   ]
  },
  {
   "cell_type": "code",
   "execution_count": 183,
   "metadata": {},
   "outputs": [
    {
     "data": {
      "image/png": "[encoded data removed]",
      "text/plain": [
       "<Figure size 360x504 with 1 Axes>"
      ]
     },
     "metadata": {
      "needs_background": "light"
     },
     "output_type": "display_data"
    }
   ],
   "source": [
    "import seaborn as sns\n",
    "plt.figure(figsize=(5, 7))\n",
    "\n",
    "\n",
    "ax = sns.lineplot(x=data30[\"Time_duration\"], y = y_test, color=\"r\", label=\"Actual Value\")\n",
    "sns.lineplot(x=data30[\"Time_duration\"], y =prediction,  color=\"b\", label=\"Fitted Values\" )\n",
    "\n",
    "\n",
    "plt.title('Actual vs Fitted Values for Price')\n",
    "\n",
    "\n",
    "plt.show()\n",
    "plt.close()"
   ]
  },
  {
   "cell_type": "code",
   "execution_count": 176,
   "metadata": {},
   "outputs": [
    {
     "data": {
      "image/png": "[encoded data removed]",
      "text/plain": [
       "<Figure size 360x504 with 1 Axes>"
      ]
     },
     "metadata": {
      "needs_background": "light"
     },
     "output_type": "display_data"
    }
   ],
   "source": [
    "import seaborn as sns\n",
    "plt.figure(figsize=(5, 7))\n",
    "\n",
    "\n",
    "ax = sns.lineplot(x=data30[\"Time_duration\"], y = y_test, color=\"r\", label=\"Actual Value\")\n",
    "sns.lineplot(x=data30[\"Time_duration\"], y =prediction,  color=\"b\", label=\"Fitted Values\" , ax=ax)\n",
    "\n",
    "\n",
    "plt.title('Actual vs Fitted Values for Price')\n",
    "\n",
    "\n",
    "plt.show()\n",
    "plt.close()"
   ]
  },
  {
   "cell_type": "code",
   "execution_count": 161,
   "metadata": {},
   "outputs": [
    {
     "ename": "NameError",
     "evalue": "name 'oob_baseline' is not defined",
     "output_type": "error",
     "traceback": [
      "\u001b[1;31m---------------------------------------------------------------------------\u001b[0m",
      "\u001b[1;31mNameError\u001b[0m                                 Traceback (most recent call last)",
      "\u001b[1;32mc:\\Users\\neels\\car following model\\DataDrivenCarFollowing-1\\datadrivencarfollowing-v1\\scripts\\RandomeForest_NC.ipynb Cell 56'\u001b[0m in \u001b[0;36m<cell line: 2>\u001b[1;34m()\u001b[0m\n\u001b[0;32m      <a href='vscode-notebook-cell:/c%3A/Users/neels/car%20following%20model/DataDrivenCarFollowing-1/datadrivencarfollowing-v1/scripts/RandomeForest_NC.ipynb#ch0000068?line=0'>1</a>\u001b[0m \u001b[39mfrom\u001b[39;00m \u001b[39msklearn\u001b[39;00m\u001b[39m.\u001b[39;00m\u001b[39mmetrics\u001b[39;00m \u001b[39mimport\u001b[39;00m mean_absolute_error, r2_score\n\u001b[1;32m----> <a href='vscode-notebook-cell:/c%3A/Users/neels/car%20following%20model/DataDrivenCarFollowing-1/datadrivencarfollowing-v1/scripts/RandomeForest_NC.ipynb#ch0000068?line=1'>2</a>\u001b[0m oob_baseline\u001b[39m.\u001b[39mappend(rf\u001b[39m.\u001b[39moob_score_)\n",
      "\u001b[1;31mNameError\u001b[0m: name 'oob_baseline' is not defined"
     ]
    }
   ],
   "source": []
  }
 ],
 "metadata": {
  "kernelspec": {
   "display_name": "Python 3.9.12 ('base')",
   "language": "python",
   "name": "python3"
  },
  "language_info": {
   "codemirror_mode": {
    "name": "ipython",
    "version": 3
   },
   "file_extension": ".py",
   "mimetype": "text/x-python",
   "name": "python",
   "nbconvert_exporter": "python",
   "pygments_lexer": "ipython3",
   "version": "3.9.12"
  },
  "orig_nbformat": 4,
  "vscode": {
   "interpreter": {
    "hash": "aa044723cc8c9a32e1f63c8c7d0ac0a1c9d2e4bf3cb98725963159024f0e908a"
   }
  }
 },
 "nbformat": 4,
 "nbformat_minor": 2
}
