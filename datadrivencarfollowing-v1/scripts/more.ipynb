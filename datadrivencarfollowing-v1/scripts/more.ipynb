{
 "cells": [
  {
   "cell_type": "code",
   "execution_count": 1,
   "metadata": {},
   "outputs": [
    {
     "name": "stdout",
     "output_type": "stream",
     "text": [
      "original File path: c:\\Users\\StudentAccount\\Python\\Capstone\\gitcodelocation\\DataDrivenCarFollowing\\datadrivencarfollowing-v1\\scripts\n",
      "Data File path: c:\\Users\\StudentAccount\\Python\\Capstone\\gitcodelocation\\DataDrivenCarFollowing\\datadrivencarfollowing-v1\\data\n"
     ]
    }
   ],
   "source": [
    "import pandas as pd\n",
    "import numpy as np\n",
    "\n",
    "#import src\n",
    "import FileProcessing\n",
    "import ModelClass\n",
    "\n",
    "\n",
    "fileProcessing=FileProcessing.FileProcessing()\n",
    "\n",
    "file_name='Cleaned_NGSIM_Data'\n",
    "ngsim=fileProcessing.read_input(file_name)\n",
    "\n",
    "filtered_ngsim=ngsim[((ngsim['L-F_Pair'] == '598-605' ) )]\n",
    "#fileProcessing.export_file(filtered_ngsim,'verify_cleaned_file')\n"
   ]
  },
  {
   "cell_type": "code",
   "execution_count": 4,
   "metadata": {},
   "outputs": [
    {
     "name": "stdout",
     "output_type": "stream",
     "text": [
      "original File path: c:\\Users\\StudentAccount\\Python\\Capstone\\gitcodelocation\\DataDrivenCarFollowing\\datadrivencarfollowing-v1\\scripts\n",
      "Data File path: c:\\Users\\StudentAccount\\Python\\Capstone\\gitcodelocation\\DataDrivenCarFollowing\\datadrivencarfollowing-v1\\data\n"
     ]
    }
   ],
   "source": [
    "file_name='Next_Generation_Simulation__NGSIM__Vehicle_Trajectories_and_Supporting_Data'\n",
    "ngsim1=fileProcessing.read_input(file_name)\n",
    "\n",
    "filtered_ngsim1=ngsim1[((ngsim1['Vehicle_ID'] == 605 ) )]\n",
    "#fileProcessing.export_file(filtered_ngsim,'verify_cleaned_file')\n",
    "\n",
    "\n",
    "filtered_ngsim1"
   ]
  },
  {
   "cell_type": "code",
   "execution_count": null,
   "metadata": {},
   "outputs": [],
   "source": []
  }
 ],
 "metadata": {
  "kernelspec": {
   "display_name": "Python 3.8.13 ('Project')",
   "language": "python",
   "name": "python3"
  },
  "language_info": {
   "codemirror_mode": {
    "name": "ipython",
    "version": 3
   },
   "file_extension": ".py",
   "mimetype": "text/x-python",
   "name": "python",
   "nbconvert_exporter": "python",
   "pygments_lexer": "ipython3",
   "version": "3.8.13"
  },
  "orig_nbformat": 4,
  "vscode": {
   "interpreter": {
    "hash": "32f9b5c64a9ffdfd44c75ce715a0c18d651d70bac5b5e0fedf911a0bbec25f03"
   }
  }
 },
 "nbformat": 4,
 "nbformat_minor": 2
}
