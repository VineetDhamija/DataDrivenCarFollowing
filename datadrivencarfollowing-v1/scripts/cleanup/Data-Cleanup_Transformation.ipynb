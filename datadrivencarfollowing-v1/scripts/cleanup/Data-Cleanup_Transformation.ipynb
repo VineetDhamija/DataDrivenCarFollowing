{
 "cells": [
  {
   "cell_type": "code",
   "execution_count": 1,
   "metadata": {},
   "outputs": [],
   "source": [
    "import numpy as np \n",
    "import pandas as pd \n",
    "import warnings\n",
    "warnings.filterwarnings(\"ignore\")\n",
    "from pathlib import Path\n",
    "#from millify import millify"
   ]
  },
  {
   "cell_type": "markdown",
   "metadata": {},
   "source": [
    "Read the File from Data folder and remove all duplicates. "
   ]
  },
  {
   "cell_type": "code",
   "execution_count": 2,
   "metadata": {},
   "outputs": [
    {
     "name": "stdout",
     "output_type": "stream",
     "text": [
      "original File path: c:\\Users\\StudentAccount\\Python\\Capstone\\gitcodelocation\\DataDrivenCarFollowing\\datadrivencarfollowing-v1\\scripts\\cleanup\n",
      "Updated File Path to pick from Data Library: c:\\Users\\StudentAccount\\Python\\Capstone\\gitcodelocation\\DataDrivenCarFollowing\\datadrivencarfollowing-v1\\scripts\\data\n"
     ]
    },
    {
     "ename": "FileNotFoundError",
     "evalue": "[Errno 2] No such file or directory: 'c:\\\\Users\\\\StudentAccount\\\\Python\\\\Capstone\\\\gitcodelocation\\\\DataDrivenCarFollowing\\\\datadrivencarfollowing-v1\\\\scripts\\\\data/Next_Generation_Simulation__NGSIM__Vehicle_Trajectories_and_Supporting_Data.csv'",
     "output_type": "error",
     "traceback": [
      "\u001b[1;31m---------------------------------------------------------------------------\u001b[0m",
      "\u001b[1;31mFileNotFoundError\u001b[0m                         Traceback (most recent call last)",
      "\u001b[1;32mc:\\Users\\StudentAccount\\Python\\Capstone\\gitcodelocation\\DataDrivenCarFollowing\\datadrivencarfollowing-v1\\scripts\\cleanup\\Data-Cleanup_Transformation.ipynb Cell 3'\u001b[0m in \u001b[0;36m<cell line: 6>\u001b[1;34m()\u001b[0m\n\u001b[0;32m      <a href='vscode-notebook-cell:/c%3A/Users/StudentAccount/Python/Capstone/gitcodelocation/DataDrivenCarFollowing/datadrivencarfollowing-v1/scripts/cleanup/Data-Cleanup_Transformation.ipynb#ch0000002?line=3'>4</a>\u001b[0m \u001b[39mprint\u001b[39m(\u001b[39mf\u001b[39m\u001b[39m\"\u001b[39m\u001b[39mUpdated File Path to pick from Data Library: \u001b[39m\u001b[39m{\u001b[39;00m stringpath\u001b[39m}\u001b[39;00m\u001b[39m\"\u001b[39m)\n\u001b[0;32m      <a href='vscode-notebook-cell:/c%3A/Users/StudentAccount/Python/Capstone/gitcodelocation/DataDrivenCarFollowing/datadrivencarfollowing-v1/scripts/cleanup/Data-Cleanup_Transformation.ipynb#ch0000002?line=4'>5</a>\u001b[0m ngsimfile\u001b[39m=\u001b[39mstringpath \u001b[39m+\u001b[39m \u001b[39m'\u001b[39m\u001b[39m/\u001b[39m\u001b[39m'\u001b[39m \u001b[39m+\u001b[39m \u001b[39m'\u001b[39m\u001b[39mNext_Generation_Simulation__NGSIM__Vehicle_Trajectories_and_Supporting_Data.csv\u001b[39m\u001b[39m'\u001b[39m\n\u001b[1;32m----> <a href='vscode-notebook-cell:/c%3A/Users/StudentAccount/Python/Capstone/gitcodelocation/DataDrivenCarFollowing/datadrivencarfollowing-v1/scripts/cleanup/Data-Cleanup_Transformation.ipynb#ch0000002?line=5'>6</a>\u001b[0m ngsim_orig \u001b[39m=\u001b[39m pd\u001b[39m.\u001b[39;49mread_csv(ngsimfile,low_memory\u001b[39m=\u001b[39;49m\u001b[39mFalse\u001b[39;49;00m)\n",
      "File \u001b[1;32mc:\\Users\\StudentAccount\\anaconda\\envs\\Project\\lib\\site-packages\\pandas\\util\\_decorators.py:311\u001b[0m, in \u001b[0;36mdeprecate_nonkeyword_arguments.<locals>.decorate.<locals>.wrapper\u001b[1;34m(*args, **kwargs)\u001b[0m\n\u001b[0;32m    305\u001b[0m \u001b[39mif\u001b[39;00m \u001b[39mlen\u001b[39m(args) \u001b[39m>\u001b[39m num_allow_args:\n\u001b[0;32m    306\u001b[0m     warnings\u001b[39m.\u001b[39mwarn(\n\u001b[0;32m    307\u001b[0m         msg\u001b[39m.\u001b[39mformat(arguments\u001b[39m=\u001b[39marguments),\n\u001b[0;32m    308\u001b[0m         \u001b[39mFutureWarning\u001b[39;00m,\n\u001b[0;32m    309\u001b[0m         stacklevel\u001b[39m=\u001b[39mstacklevel,\n\u001b[0;32m    310\u001b[0m     )\n\u001b[1;32m--> 311\u001b[0m \u001b[39mreturn\u001b[39;00m func(\u001b[39m*\u001b[39margs, \u001b[39m*\u001b[39m\u001b[39m*\u001b[39mkwargs)\n",
      "File \u001b[1;32mc:\\Users\\StudentAccount\\anaconda\\envs\\Project\\lib\\site-packages\\pandas\\io\\parsers\\readers.py:680\u001b[0m, in \u001b[0;36mread_csv\u001b[1;34m(filepath_or_buffer, sep, delimiter, header, names, index_col, usecols, squeeze, prefix, mangle_dupe_cols, dtype, engine, converters, true_values, false_values, skipinitialspace, skiprows, skipfooter, nrows, na_values, keep_default_na, na_filter, verbose, skip_blank_lines, parse_dates, infer_datetime_format, keep_date_col, date_parser, dayfirst, cache_dates, iterator, chunksize, compression, thousands, decimal, lineterminator, quotechar, quoting, doublequote, escapechar, comment, encoding, encoding_errors, dialect, error_bad_lines, warn_bad_lines, on_bad_lines, delim_whitespace, low_memory, memory_map, float_precision, storage_options)\u001b[0m\n\u001b[0;32m    665\u001b[0m kwds_defaults \u001b[39m=\u001b[39m _refine_defaults_read(\n\u001b[0;32m    666\u001b[0m     dialect,\n\u001b[0;32m    667\u001b[0m     delimiter,\n\u001b[1;32m   (...)\u001b[0m\n\u001b[0;32m    676\u001b[0m     defaults\u001b[39m=\u001b[39m{\u001b[39m\"\u001b[39m\u001b[39mdelimiter\u001b[39m\u001b[39m\"\u001b[39m: \u001b[39m\"\u001b[39m\u001b[39m,\u001b[39m\u001b[39m\"\u001b[39m},\n\u001b[0;32m    677\u001b[0m )\n\u001b[0;32m    678\u001b[0m kwds\u001b[39m.\u001b[39mupdate(kwds_defaults)\n\u001b[1;32m--> 680\u001b[0m \u001b[39mreturn\u001b[39;00m _read(filepath_or_buffer, kwds)\n",
      "File \u001b[1;32mc:\\Users\\StudentAccount\\anaconda\\envs\\Project\\lib\\site-packages\\pandas\\io\\parsers\\readers.py:575\u001b[0m, in \u001b[0;36m_read\u001b[1;34m(filepath_or_buffer, kwds)\u001b[0m\n\u001b[0;32m    572\u001b[0m _validate_names(kwds\u001b[39m.\u001b[39mget(\u001b[39m\"\u001b[39m\u001b[39mnames\u001b[39m\u001b[39m\"\u001b[39m, \u001b[39mNone\u001b[39;00m))\n\u001b[0;32m    574\u001b[0m \u001b[39m# Create the parser.\u001b[39;00m\n\u001b[1;32m--> 575\u001b[0m parser \u001b[39m=\u001b[39m TextFileReader(filepath_or_buffer, \u001b[39m*\u001b[39m\u001b[39m*\u001b[39mkwds)\n\u001b[0;32m    577\u001b[0m \u001b[39mif\u001b[39;00m chunksize \u001b[39mor\u001b[39;00m iterator:\n\u001b[0;32m    578\u001b[0m     \u001b[39mreturn\u001b[39;00m parser\n",
      "File \u001b[1;32mc:\\Users\\StudentAccount\\anaconda\\envs\\Project\\lib\\site-packages\\pandas\\io\\parsers\\readers.py:933\u001b[0m, in \u001b[0;36mTextFileReader.__init__\u001b[1;34m(self, f, engine, **kwds)\u001b[0m\n\u001b[0;32m    930\u001b[0m     \u001b[39mself\u001b[39m\u001b[39m.\u001b[39moptions[\u001b[39m\"\u001b[39m\u001b[39mhas_index_names\u001b[39m\u001b[39m\"\u001b[39m] \u001b[39m=\u001b[39m kwds[\u001b[39m\"\u001b[39m\u001b[39mhas_index_names\u001b[39m\u001b[39m\"\u001b[39m]\n\u001b[0;32m    932\u001b[0m \u001b[39mself\u001b[39m\u001b[39m.\u001b[39mhandles: IOHandles \u001b[39m|\u001b[39m \u001b[39mNone\u001b[39;00m \u001b[39m=\u001b[39m \u001b[39mNone\u001b[39;00m\n\u001b[1;32m--> 933\u001b[0m \u001b[39mself\u001b[39m\u001b[39m.\u001b[39m_engine \u001b[39m=\u001b[39m \u001b[39mself\u001b[39;49m\u001b[39m.\u001b[39;49m_make_engine(f, \u001b[39mself\u001b[39;49m\u001b[39m.\u001b[39;49mengine)\n",
      "File \u001b[1;32mc:\\Users\\StudentAccount\\anaconda\\envs\\Project\\lib\\site-packages\\pandas\\io\\parsers\\readers.py:1217\u001b[0m, in \u001b[0;36mTextFileReader._make_engine\u001b[1;34m(self, f, engine)\u001b[0m\n\u001b[0;32m   1213\u001b[0m     mode \u001b[39m=\u001b[39m \u001b[39m\"\u001b[39m\u001b[39mrb\u001b[39m\u001b[39m\"\u001b[39m\n\u001b[0;32m   1214\u001b[0m \u001b[39m# error: No overload variant of \"get_handle\" matches argument types\u001b[39;00m\n\u001b[0;32m   1215\u001b[0m \u001b[39m# \"Union[str, PathLike[str], ReadCsvBuffer[bytes], ReadCsvBuffer[str]]\"\u001b[39;00m\n\u001b[0;32m   1216\u001b[0m \u001b[39m# , \"str\", \"bool\", \"Any\", \"Any\", \"Any\", \"Any\", \"Any\"\u001b[39;00m\n\u001b[1;32m-> 1217\u001b[0m \u001b[39mself\u001b[39m\u001b[39m.\u001b[39mhandles \u001b[39m=\u001b[39m get_handle(  \u001b[39m# type: ignore[call-overload]\u001b[39;49;00m\n\u001b[0;32m   1218\u001b[0m     f,\n\u001b[0;32m   1219\u001b[0m     mode,\n\u001b[0;32m   1220\u001b[0m     encoding\u001b[39m=\u001b[39;49m\u001b[39mself\u001b[39;49m\u001b[39m.\u001b[39;49moptions\u001b[39m.\u001b[39;49mget(\u001b[39m\"\u001b[39;49m\u001b[39mencoding\u001b[39;49m\u001b[39m\"\u001b[39;49m, \u001b[39mNone\u001b[39;49;00m),\n\u001b[0;32m   1221\u001b[0m     compression\u001b[39m=\u001b[39;49m\u001b[39mself\u001b[39;49m\u001b[39m.\u001b[39;49moptions\u001b[39m.\u001b[39;49mget(\u001b[39m\"\u001b[39;49m\u001b[39mcompression\u001b[39;49m\u001b[39m\"\u001b[39;49m, \u001b[39mNone\u001b[39;49;00m),\n\u001b[0;32m   1222\u001b[0m     memory_map\u001b[39m=\u001b[39;49m\u001b[39mself\u001b[39;49m\u001b[39m.\u001b[39;49moptions\u001b[39m.\u001b[39;49mget(\u001b[39m\"\u001b[39;49m\u001b[39mmemory_map\u001b[39;49m\u001b[39m\"\u001b[39;49m, \u001b[39mFalse\u001b[39;49;00m),\n\u001b[0;32m   1223\u001b[0m     is_text\u001b[39m=\u001b[39;49mis_text,\n\u001b[0;32m   1224\u001b[0m     errors\u001b[39m=\u001b[39;49m\u001b[39mself\u001b[39;49m\u001b[39m.\u001b[39;49moptions\u001b[39m.\u001b[39;49mget(\u001b[39m\"\u001b[39;49m\u001b[39mencoding_errors\u001b[39;49m\u001b[39m\"\u001b[39;49m, \u001b[39m\"\u001b[39;49m\u001b[39mstrict\u001b[39;49m\u001b[39m\"\u001b[39;49m),\n\u001b[0;32m   1225\u001b[0m     storage_options\u001b[39m=\u001b[39;49m\u001b[39mself\u001b[39;49m\u001b[39m.\u001b[39;49moptions\u001b[39m.\u001b[39;49mget(\u001b[39m\"\u001b[39;49m\u001b[39mstorage_options\u001b[39;49m\u001b[39m\"\u001b[39;49m, \u001b[39mNone\u001b[39;49;00m),\n\u001b[0;32m   1226\u001b[0m )\n\u001b[0;32m   1227\u001b[0m \u001b[39massert\u001b[39;00m \u001b[39mself\u001b[39m\u001b[39m.\u001b[39mhandles \u001b[39mis\u001b[39;00m \u001b[39mnot\u001b[39;00m \u001b[39mNone\u001b[39;00m\n\u001b[0;32m   1228\u001b[0m f \u001b[39m=\u001b[39m \u001b[39mself\u001b[39m\u001b[39m.\u001b[39mhandles\u001b[39m.\u001b[39mhandle\n",
      "File \u001b[1;32mc:\\Users\\StudentAccount\\anaconda\\envs\\Project\\lib\\site-packages\\pandas\\io\\common.py:789\u001b[0m, in \u001b[0;36mget_handle\u001b[1;34m(path_or_buf, mode, encoding, compression, memory_map, is_text, errors, storage_options)\u001b[0m\n\u001b[0;32m    784\u001b[0m \u001b[39melif\u001b[39;00m \u001b[39misinstance\u001b[39m(handle, \u001b[39mstr\u001b[39m):\n\u001b[0;32m    785\u001b[0m     \u001b[39m# Check whether the filename is to be opened in binary mode.\u001b[39;00m\n\u001b[0;32m    786\u001b[0m     \u001b[39m# Binary mode does not support 'encoding' and 'newline'.\u001b[39;00m\n\u001b[0;32m    787\u001b[0m     \u001b[39mif\u001b[39;00m ioargs\u001b[39m.\u001b[39mencoding \u001b[39mand\u001b[39;00m \u001b[39m\"\u001b[39m\u001b[39mb\u001b[39m\u001b[39m\"\u001b[39m \u001b[39mnot\u001b[39;00m \u001b[39min\u001b[39;00m ioargs\u001b[39m.\u001b[39mmode:\n\u001b[0;32m    788\u001b[0m         \u001b[39m# Encoding\u001b[39;00m\n\u001b[1;32m--> 789\u001b[0m         handle \u001b[39m=\u001b[39m \u001b[39mopen\u001b[39;49m(\n\u001b[0;32m    790\u001b[0m             handle,\n\u001b[0;32m    791\u001b[0m             ioargs\u001b[39m.\u001b[39;49mmode,\n\u001b[0;32m    792\u001b[0m             encoding\u001b[39m=\u001b[39;49mioargs\u001b[39m.\u001b[39;49mencoding,\n\u001b[0;32m    793\u001b[0m             errors\u001b[39m=\u001b[39;49merrors,\n\u001b[0;32m    794\u001b[0m             newline\u001b[39m=\u001b[39;49m\u001b[39m\"\u001b[39;49m\u001b[39m\"\u001b[39;49m,\n\u001b[0;32m    795\u001b[0m         )\n\u001b[0;32m    796\u001b[0m     \u001b[39melse\u001b[39;00m:\n\u001b[0;32m    797\u001b[0m         \u001b[39m# Binary mode\u001b[39;00m\n\u001b[0;32m    798\u001b[0m         handle \u001b[39m=\u001b[39m \u001b[39mopen\u001b[39m(handle, ioargs\u001b[39m.\u001b[39mmode)\n",
      "\u001b[1;31mFileNotFoundError\u001b[0m: [Errno 2] No such file or directory: 'c:\\\\Users\\\\StudentAccount\\\\Python\\\\Capstone\\\\gitcodelocation\\\\DataDrivenCarFollowing\\\\datadrivencarfollowing-v1\\\\scripts\\\\data/Next_Generation_Simulation__NGSIM__Vehicle_Trajectories_and_Supporting_Data.csv'"
     ]
    }
   ],
   "source": [
    "p = Path().cwd()\n",
    "print(f\"original File path: {p}\")\n",
    "stringpath= str(p)[0:str(p).rfind('\\\\')] + '\\\\data'\n",
    "print(f\"Updated File Path to pick from Data Library: { stringpath}\")\n",
    "ngsimfile=stringpath + '/' + 'Next_Generation_Simulation__NGSIM__Vehicle_Trajectories_and_Supporting_Data.csv'\n",
    "ngsim_orig = pd.read_csv(ngsimfile,low_memory=False)\n"
   ]
  },
  {
   "cell_type": "code",
   "execution_count": null,
   "metadata": {},
   "outputs": [
    {
     "name": "stdout",
     "output_type": "stream",
     "text": [
      "704000 duplicate values have been removed\n"
     ]
    }
   ],
   "source": [
    "ngsim=ngsim_orig\n",
    "print(f\"{ngsim.duplicated().sum()} duplicate values have been removed\")\n",
    "ngsim.drop_duplicates(inplace=True)"
   ]
  },
  {
   "cell_type": "markdown",
   "metadata": {},
   "source": [
    "Feet to Metres:\n",
    "\n",
    "Below Four parametrs consider distance in Feet and they are converted to metre. Speed to Metre/ second from Feet/second and acceleration from feet/second Square to Metre/Second Square. \n",
    "\n",
    "Drop the columns we wont use in the model.\n",
    "Add Relative time which is the time from the first timframe in the dataset. This is calculated by using the minimum value ofGlobal time(absolute time from 1970)"
   ]
  },
  {
   "cell_type": "code",
   "execution_count": null,
   "metadata": {},
   "outputs": [],
   "source": [
    "ngsim['v_length']= ngsim['v_length']*0.3048\n",
    "ngsim['Space_Headway']= ngsim['Space_Headway']*0.3048\n",
    "ngsim['v_Vel']= ngsim['v_Vel']*0.3048\n",
    "ngsim['v_Acc']= ngsim['v_Acc']*0.3048\n",
    "ngsim['Relative_Time']= ngsim['Global_Time'] - ngsim['Global_Time'].min() + 1\n",
    "ngsim= ngsim.drop(columns=['Movement', 'Direction','Section_ID','Int_ID','D_Zone','O_Zone','Following','v_Width','Total_Frames'])\n"
   ]
  },
  {
   "cell_type": "markdown",
   "metadata": {},
   "source": [
    "Create Placeholders for the user defined columns we will be populating later, to be used in the model. \n",
    "Map the Vehicle classes to their english equivalent. \n",
    "Filter the original file into US-101 and I-80 to perform and populate the required fields later. These files contain same values of Vehicle ID used for multiple vehicles based on the highway. \n",
    "\n"
   ]
  },
  {
   "cell_type": "code",
   "execution_count": null,
   "metadata": {},
   "outputs": [],
   "source": [
    "#filtered_ngsim= ngsim[((ngsim['Location'] == 'us-101') | (ngsim['Location'] == 'i-80')) & (ngsim['Preceding']>0) & (ngsim['Following']>0) ]\n",
    "ngsim['Preceding_Vehicle_Class'] = np.NaN\n",
    "ngsim['Rear_to_Front_Space_Headway'] = np.NaN\n",
    "ngsim['Front_To_Rear_Time_Headway'] = np.NaN\n",
    "ngsim['L-F_Pair'] = ngsim['Preceding'].astype(str) + '-' + ngsim['Vehicle_ID'].astype(str)\n",
    "ngsim['Velocity Difference_Following-Preceding'] = np.NaN\n",
    "ngsim['Acceleration Difference_Following-Preceding'] = np.NaN\n",
    "\n",
    "ngsim[\"v_Class_Name\"] = ngsim[\"v_Class\"].map({1:\"Motorcycle\", 2: \"Car\", 3: \"Heavy Vehicle\"})\n",
    "filtered_ngsim_U= ngsim[((ngsim['Location'] == 'us-101')) ]\n",
    "#These two vehicles have a bad trajectory and keep on following each other in a single lane in a matter of \n",
    "filtered_ngsim_I= ngsim[(ngsim['Location'] == 'i-80') & ( ((ngsim['Vehicle_ID'] != 1748 )  & (ngsim['Preceding'] != 1734 )) &(  (ngsim['Vehicle_ID'] != 1734 )  & (ngsim['Preceding'] != 1748 )))]\n"
   ]
  },
  {
   "cell_type": "markdown",
   "metadata": {},
   "source": [
    "Need to dig deeper into this as Preceding is greater than 0 but the space between the Lead and Follower have no space. "
   ]
  },
  {
   "cell_type": "code",
   "execution_count": null,
   "metadata": {},
   "outputs": [
    {
     "data": {
      "text/html": [
       "<div>\n",
       "<style scoped>\n",
       "    .dataframe tbody tr th:only-of-type {\n",
       "        vertical-align: middle;\n",
       "    }\n",
       "\n",
       "    .dataframe tbody tr th {\n",
       "        vertical-align: top;\n",
       "    }\n",
       "\n",
       "    .dataframe thead th {\n",
       "        text-align: right;\n",
       "    }\n",
       "</style>\n",
       "<table border=\"1\" class=\"dataframe\">\n",
       "  <thead>\n",
       "    <tr style=\"text-align: right;\">\n",
       "      <th></th>\n",
       "      <th>Vehicle_ID</th>\n",
       "      <th>Frame_ID</th>\n",
       "      <th>Global_Time</th>\n",
       "      <th>Local_X</th>\n",
       "      <th>Local_Y</th>\n",
       "      <th>Global_X</th>\n",
       "      <th>Global_Y</th>\n",
       "      <th>v_length</th>\n",
       "      <th>v_Class</th>\n",
       "      <th>v_Vel</th>\n",
       "      <th>...</th>\n",
       "      <th>Time_Headway</th>\n",
       "      <th>Location</th>\n",
       "      <th>Relative_Time</th>\n",
       "      <th>Preceding_Vehicle_Class</th>\n",
       "      <th>Rear_to_Front_Space_Headway</th>\n",
       "      <th>Front_To_Rear_Time_Headway</th>\n",
       "      <th>L-F_Pair</th>\n",
       "      <th>Velocity Difference_Following-Preceding</th>\n",
       "      <th>Acceleration Difference_Following-Preceding</th>\n",
       "      <th>v_Class_Name</th>\n",
       "    </tr>\n",
       "  </thead>\n",
       "  <tbody>\n",
       "    <tr>\n",
       "      <th>76361</th>\n",
       "      <td>99</td>\n",
       "      <td>1065</td>\n",
       "      <td>1118847948500</td>\n",
       "      <td>12.942</td>\n",
       "      <td>1420.624</td>\n",
       "      <td>6452132.084</td>\n",
       "      <td>1872437.889</td>\n",
       "      <td>2.5908</td>\n",
       "      <td>1</td>\n",
       "      <td>17.373600</td>\n",
       "      <td>...</td>\n",
       "      <td>0.0</td>\n",
       "      <td>us-101</td>\n",
       "      <td>1117684929401</td>\n",
       "      <td>NaN</td>\n",
       "      <td>NaN</td>\n",
       "      <td>NaN</td>\n",
       "      <td>92-99</td>\n",
       "      <td>NaN</td>\n",
       "      <td>NaN</td>\n",
       "      <td>Motorcycle</td>\n",
       "    </tr>\n",
       "    <tr>\n",
       "      <th>107058</th>\n",
       "      <td>806</td>\n",
       "      <td>3878</td>\n",
       "      <td>1118848229800</td>\n",
       "      <td>6.699</td>\n",
       "      <td>796.216</td>\n",
       "      <td>6451666.005</td>\n",
       "      <td>1872853.511</td>\n",
       "      <td>4.4196</td>\n",
       "      <td>2</td>\n",
       "      <td>2.795016</td>\n",
       "      <td>...</td>\n",
       "      <td>0.0</td>\n",
       "      <td>us-101</td>\n",
       "      <td>1117685210701</td>\n",
       "      <td>NaN</td>\n",
       "      <td>NaN</td>\n",
       "      <td>NaN</td>\n",
       "      <td>814-806</td>\n",
       "      <td>NaN</td>\n",
       "      <td>NaN</td>\n",
       "      <td>Car</td>\n",
       "    </tr>\n",
       "    <tr>\n",
       "      <th>452347</th>\n",
       "      <td>366</td>\n",
       "      <td>2149</td>\n",
       "      <td>1118848971900</td>\n",
       "      <td>12.613</td>\n",
       "      <td>835.132</td>\n",
       "      <td>6451695.487</td>\n",
       "      <td>1872819.732</td>\n",
       "      <td>2.1336</td>\n",
       "      <td>1</td>\n",
       "      <td>8.695944</td>\n",
       "      <td>...</td>\n",
       "      <td>0.0</td>\n",
       "      <td>us-101</td>\n",
       "      <td>1117685952801</td>\n",
       "      <td>NaN</td>\n",
       "      <td>NaN</td>\n",
       "      <td>NaN</td>\n",
       "      <td>370-366</td>\n",
       "      <td>NaN</td>\n",
       "      <td>NaN</td>\n",
       "      <td>Motorcycle</td>\n",
       "    </tr>\n",
       "    <tr>\n",
       "      <th>3595333</th>\n",
       "      <td>2871</td>\n",
       "      <td>8411</td>\n",
       "      <td>1118847820000</td>\n",
       "      <td>7.631</td>\n",
       "      <td>547.070</td>\n",
       "      <td>6451508.896</td>\n",
       "      <td>1872991.251</td>\n",
       "      <td>3.9624</td>\n",
       "      <td>2</td>\n",
       "      <td>2.944368</td>\n",
       "      <td>...</td>\n",
       "      <td>0.0</td>\n",
       "      <td>us-101</td>\n",
       "      <td>1117684800901</td>\n",
       "      <td>NaN</td>\n",
       "      <td>NaN</td>\n",
       "      <td>NaN</td>\n",
       "      <td>2876-2871</td>\n",
       "      <td>NaN</td>\n",
       "      <td>NaN</td>\n",
       "      <td>Car</td>\n",
       "    </tr>\n",
       "    <tr>\n",
       "      <th>5900431</th>\n",
       "      <td>2964</td>\n",
       "      <td>8731</td>\n",
       "      <td>1118847852000</td>\n",
       "      <td>4.868</td>\n",
       "      <td>309.729</td>\n",
       "      <td>6451336.355</td>\n",
       "      <td>1873154.258</td>\n",
       "      <td>5.0292</td>\n",
       "      <td>2</td>\n",
       "      <td>2.618232</td>\n",
       "      <td>...</td>\n",
       "      <td>0.0</td>\n",
       "      <td>us-101</td>\n",
       "      <td>1117684832901</td>\n",
       "      <td>NaN</td>\n",
       "      <td>NaN</td>\n",
       "      <td>NaN</td>\n",
       "      <td>2956-2964</td>\n",
       "      <td>NaN</td>\n",
       "      <td>NaN</td>\n",
       "      <td>Car</td>\n",
       "    </tr>\n",
       "  </tbody>\n",
       "</table>\n",
       "<p>5 rows × 24 columns</p>\n",
       "</div>"
      ],
      "text/plain": [
       "         Vehicle_ID  Frame_ID    Global_Time  Local_X   Local_Y     Global_X  \\\n",
       "76361            99      1065  1118847948500   12.942  1420.624  6452132.084   \n",
       "107058          806      3878  1118848229800    6.699   796.216  6451666.005   \n",
       "452347          366      2149  1118848971900   12.613   835.132  6451695.487   \n",
       "3595333        2871      8411  1118847820000    7.631   547.070  6451508.896   \n",
       "5900431        2964      8731  1118847852000    4.868   309.729  6451336.355   \n",
       "\n",
       "            Global_Y  v_length  v_Class      v_Vel  ...  Time_Headway  \\\n",
       "76361    1872437.889    2.5908        1  17.373600  ...           0.0   \n",
       "107058   1872853.511    4.4196        2   2.795016  ...           0.0   \n",
       "452347   1872819.732    2.1336        1   8.695944  ...           0.0   \n",
       "3595333  1872991.251    3.9624        2   2.944368  ...           0.0   \n",
       "5900431  1873154.258    5.0292        2   2.618232  ...           0.0   \n",
       "\n",
       "         Location  Relative_Time  Preceding_Vehicle_Class  \\\n",
       "76361      us-101  1117684929401                      NaN   \n",
       "107058     us-101  1117685210701                      NaN   \n",
       "452347     us-101  1117685952801                      NaN   \n",
       "3595333    us-101  1117684800901                      NaN   \n",
       "5900431    us-101  1117684832901                      NaN   \n",
       "\n",
       "         Rear_to_Front_Space_Headway Front_To_Rear_Time_Headway   L-F_Pair  \\\n",
       "76361                            NaN                        NaN      92-99   \n",
       "107058                           NaN                        NaN    814-806   \n",
       "452347                           NaN                        NaN    370-366   \n",
       "3595333                          NaN                        NaN  2876-2871   \n",
       "5900431                          NaN                        NaN  2956-2964   \n",
       "\n",
       "         Velocity Difference_Following-Preceding  \\\n",
       "76361                                        NaN   \n",
       "107058                                       NaN   \n",
       "452347                                       NaN   \n",
       "3595333                                      NaN   \n",
       "5900431                                      NaN   \n",
       "\n",
       "         Acceleration Difference_Following-Preceding  v_Class_Name  \n",
       "76361                                            NaN    Motorcycle  \n",
       "107058                                           NaN           Car  \n",
       "452347                                           NaN    Motorcycle  \n",
       "3595333                                          NaN           Car  \n",
       "5900431                                          NaN           Car  \n",
       "\n",
       "[5 rows x 24 columns]"
      ]
     },
     "execution_count": 6,
     "metadata": {},
     "output_type": "execute_result"
    }
   ],
   "source": [
    "filtered_ngsim_U[((filtered_ngsim_U['Space_Headway'] == 0 ) & (filtered_ngsim_U['Preceding'] > 0 )) ]"
   ]
  },
  {
   "cell_type": "code",
   "execution_count": null,
   "metadata": {},
   "outputs": [
    {
     "data": {
      "text/html": [
       "<div>\n",
       "<style scoped>\n",
       "    .dataframe tbody tr th:only-of-type {\n",
       "        vertical-align: middle;\n",
       "    }\n",
       "\n",
       "    .dataframe tbody tr th {\n",
       "        vertical-align: top;\n",
       "    }\n",
       "\n",
       "    .dataframe thead th {\n",
       "        text-align: right;\n",
       "    }\n",
       "</style>\n",
       "<table border=\"1\" class=\"dataframe\">\n",
       "  <thead>\n",
       "    <tr style=\"text-align: right;\">\n",
       "      <th></th>\n",
       "      <th>Vehicle_ID</th>\n",
       "      <th>Frame_ID</th>\n",
       "      <th>Global_Time</th>\n",
       "      <th>Local_X</th>\n",
       "      <th>Local_Y</th>\n",
       "      <th>Global_X</th>\n",
       "      <th>Global_Y</th>\n",
       "      <th>v_length</th>\n",
       "      <th>v_Class</th>\n",
       "      <th>v_Vel</th>\n",
       "      <th>...</th>\n",
       "      <th>Time_Headway</th>\n",
       "      <th>Location</th>\n",
       "      <th>Relative_Time</th>\n",
       "      <th>Preceding_Vehicle_Class</th>\n",
       "      <th>Rear_to_Front_Space_Headway</th>\n",
       "      <th>Front_To_Rear_Time_Headway</th>\n",
       "      <th>L-F_Pair</th>\n",
       "      <th>Velocity Difference_Following-Preceding</th>\n",
       "      <th>Acceleration Difference_Following-Preceding</th>\n",
       "      <th>v_Class_Name</th>\n",
       "    </tr>\n",
       "  </thead>\n",
       "  <tbody>\n",
       "    <tr>\n",
       "      <th>5910808</th>\n",
       "      <td>2506</td>\n",
       "      <td>7263</td>\n",
       "      <td>1113437493200</td>\n",
       "      <td>53.343</td>\n",
       "      <td>380.297</td>\n",
       "      <td>6042837.478</td>\n",
       "      <td>2133451.781</td>\n",
       "      <td>4.35864</td>\n",
       "      <td>2</td>\n",
       "      <td>3.514344</td>\n",
       "      <td>...</td>\n",
       "      <td>0.00</td>\n",
       "      <td>i-80</td>\n",
       "      <td>1112274474101</td>\n",
       "      <td>NaN</td>\n",
       "      <td>NaN</td>\n",
       "      <td>NaN</td>\n",
       "      <td>2512-2506</td>\n",
       "      <td>NaN</td>\n",
       "      <td>NaN</td>\n",
       "      <td>Car</td>\n",
       "    </tr>\n",
       "    <tr>\n",
       "      <th>6759942</th>\n",
       "      <td>2491</td>\n",
       "      <td>7916</td>\n",
       "      <td>1113437558500</td>\n",
       "      <td>17.161</td>\n",
       "      <td>598.884</td>\n",
       "      <td>6042774.601</td>\n",
       "      <td>2133664.163</td>\n",
       "      <td>4.66344</td>\n",
       "      <td>2</td>\n",
       "      <td>3.453384</td>\n",
       "      <td>...</td>\n",
       "      <td>0.00</td>\n",
       "      <td>i-80</td>\n",
       "      <td>1112274539401</td>\n",
       "      <td>NaN</td>\n",
       "      <td>NaN</td>\n",
       "      <td>NaN</td>\n",
       "      <td>2486-2491</td>\n",
       "      <td>NaN</td>\n",
       "      <td>NaN</td>\n",
       "      <td>Car</td>\n",
       "    </tr>\n",
       "    <tr>\n",
       "      <th>9365776</th>\n",
       "      <td>572</td>\n",
       "      <td>3292</td>\n",
       "      <td>1113437894100</td>\n",
       "      <td>17.928</td>\n",
       "      <td>1485.487</td>\n",
       "      <td>6042644.407</td>\n",
       "      <td>2134541.664</td>\n",
       "      <td>4.35864</td>\n",
       "      <td>2</td>\n",
       "      <td>0.000000</td>\n",
       "      <td>...</td>\n",
       "      <td>9999.99</td>\n",
       "      <td>i-80</td>\n",
       "      <td>1112274875001</td>\n",
       "      <td>NaN</td>\n",
       "      <td>NaN</td>\n",
       "      <td>NaN</td>\n",
       "      <td>566-572</td>\n",
       "      <td>NaN</td>\n",
       "      <td>NaN</td>\n",
       "      <td>Car</td>\n",
       "    </tr>\n",
       "    <tr>\n",
       "      <th>9803270</th>\n",
       "      <td>1394</td>\n",
       "      <td>4030</td>\n",
       "      <td>1113437169900</td>\n",
       "      <td>76.566</td>\n",
       "      <td>444.910</td>\n",
       "      <td>6042852.523</td>\n",
       "      <td>2133518.460</td>\n",
       "      <td>4.51104</td>\n",
       "      <td>2</td>\n",
       "      <td>1.865376</td>\n",
       "      <td>...</td>\n",
       "      <td>0.00</td>\n",
       "      <td>i-80</td>\n",
       "      <td>1112274150801</td>\n",
       "      <td>NaN</td>\n",
       "      <td>NaN</td>\n",
       "      <td>NaN</td>\n",
       "      <td>1407-1394</td>\n",
       "      <td>NaN</td>\n",
       "      <td>NaN</td>\n",
       "      <td>Car</td>\n",
       "    </tr>\n",
       "  </tbody>\n",
       "</table>\n",
       "<p>4 rows × 24 columns</p>\n",
       "</div>"
      ],
      "text/plain": [
       "         Vehicle_ID  Frame_ID    Global_Time  Local_X   Local_Y     Global_X  \\\n",
       "5910808        2506      7263  1113437493200   53.343   380.297  6042837.478   \n",
       "6759942        2491      7916  1113437558500   17.161   598.884  6042774.601   \n",
       "9365776         572      3292  1113437894100   17.928  1485.487  6042644.407   \n",
       "9803270        1394      4030  1113437169900   76.566   444.910  6042852.523   \n",
       "\n",
       "            Global_Y  v_length  v_Class     v_Vel  ...  Time_Headway  \\\n",
       "5910808  2133451.781   4.35864        2  3.514344  ...          0.00   \n",
       "6759942  2133664.163   4.66344        2  3.453384  ...          0.00   \n",
       "9365776  2134541.664   4.35864        2  0.000000  ...       9999.99   \n",
       "9803270  2133518.460   4.51104        2  1.865376  ...          0.00   \n",
       "\n",
       "         Location  Relative_Time  Preceding_Vehicle_Class  \\\n",
       "5910808      i-80  1112274474101                      NaN   \n",
       "6759942      i-80  1112274539401                      NaN   \n",
       "9365776      i-80  1112274875001                      NaN   \n",
       "9803270      i-80  1112274150801                      NaN   \n",
       "\n",
       "         Rear_to_Front_Space_Headway Front_To_Rear_Time_Headway   L-F_Pair  \\\n",
       "5910808                          NaN                        NaN  2512-2506   \n",
       "6759942                          NaN                        NaN  2486-2491   \n",
       "9365776                          NaN                        NaN    566-572   \n",
       "9803270                          NaN                        NaN  1407-1394   \n",
       "\n",
       "         Velocity Difference_Following-Preceding  \\\n",
       "5910808                                      NaN   \n",
       "6759942                                      NaN   \n",
       "9365776                                      NaN   \n",
       "9803270                                      NaN   \n",
       "\n",
       "         Acceleration Difference_Following-Preceding  v_Class_Name  \n",
       "5910808                                          NaN           Car  \n",
       "6759942                                          NaN           Car  \n",
       "9365776                                          NaN           Car  \n",
       "9803270                                          NaN           Car  \n",
       "\n",
       "[4 rows x 24 columns]"
      ]
     },
     "execution_count": 7,
     "metadata": {},
     "output_type": "execute_result"
    }
   ],
   "source": [
    "filtered_ngsim_I[((filtered_ngsim_I['Space_Headway'] == 0 ) & (filtered_ngsim_I['Preceding'] > 0 )) ]"
   ]
  },
  {
   "cell_type": "markdown",
   "metadata": {},
   "source": [
    "Create Sets to use and create the L-F Pairs. "
   ]
  },
  {
   "cell_type": "code",
   "execution_count": null,
   "metadata": {},
   "outputs": [],
   "source": [
    "filtered_vClass_U= filtered_ngsim_U[['Vehicle_ID','v_Class','v_length']].drop_duplicates().sort_values('v_Class')\n",
    "v_Class_M_U     =set(filtered_vClass_U[(filtered_vClass_U['v_Class'] == 1 )  ]['Vehicle_ID'])\n",
    "v_Class_C_U     =set(filtered_vClass_U[(filtered_vClass_U['v_Class'] == 2 )  ]['Vehicle_ID'])\n",
    "v_Class_HV_U    =set(filtered_vClass_U[(filtered_vClass_U['v_Class'] == 3 )  ]['Vehicle_ID'])\n",
    "\n",
    "\n",
    "filtered_vClass_I= filtered_ngsim_I[['Vehicle_ID','v_Class','v_length']].drop_duplicates().sort_values('v_Class')\n",
    "v_Class_M_I     =set(filtered_vClass_I[(filtered_vClass_I['v_Class'] == 1 )  ]['Vehicle_ID'])\n",
    "v_Class_C_I     =set(filtered_vClass_I[(filtered_vClass_I['v_Class'] == 2 )  ]['Vehicle_ID'])\n",
    "v_Class_HV_I    =set(filtered_vClass_I[(filtered_vClass_I['v_Class'] == 3 )  ]['Vehicle_ID'])"
   ]
  },
  {
   "cell_type": "markdown",
   "metadata": {},
   "source": [
    "Add the Preceding Vehicle Class to the new previous class column"
   ]
  },
  {
   "cell_type": "code",
   "execution_count": null,
   "metadata": {},
   "outputs": [],
   "source": [
    "result = []\n",
    "\n",
    "for i in filtered_ngsim_U.index:\n",
    "    if filtered_ngsim_U['Preceding'][i] in v_Class_C_U:\n",
    "        result.append('Car')\n",
    "    elif filtered_ngsim_U['Preceding'][i] in v_Class_HV_U:\n",
    "        result.append('Heavy Vehicle')\n",
    "    elif filtered_ngsim_U['Preceding'][i] in v_Class_M_U:\n",
    "        result.append('Motorcycle')\n",
    "    else: \n",
    "        result.append('Free Flow')\n",
    "filtered_ngsim_U['Preceding_Vehicle_Class'] = result\n",
    "\n",
    "result = []\n",
    "\n",
    "for i in filtered_ngsim_I.index:\n",
    "    if filtered_ngsim_I['Preceding'][i] in v_Class_C_I:\n",
    "        result.append('Car')\n",
    "    elif filtered_ngsim_I['Preceding'][i] in v_Class_HV_I:\n",
    "        result.append('Heavy Vehicle')\n",
    "    elif filtered_ngsim_I['Preceding'][i] in v_Class_M_I:\n",
    "        result.append('Motorcycle')\n",
    "    else: \n",
    "        result.append('Free Flow')\n",
    "filtered_ngsim_I['Preceding_Vehicle_Class'] = result"
   ]
  },
  {
   "cell_type": "markdown",
   "metadata": {},
   "source": [
    "Map the Vehicle Length of the previous vehicle into the row. "
   ]
  },
  {
   "cell_type": "code",
   "execution_count": null,
   "metadata": {},
   "outputs": [
    {
     "name": "stdout",
     "output_type": "stream",
     "text": [
      "4093130 duplicate values have been removed\n",
      "(5803, 2)\n"
     ]
    }
   ],
   "source": [
    "vehicle_lengths_U= filtered_ngsim_U[['Vehicle_ID','v_length']]\n",
    "print(f\"{vehicle_lengths_U.duplicated().sum()} duplicate values have been removed\")\n",
    "vehicle_lengths_U.drop_duplicates(inplace=True)\n",
    "print(vehicle_lengths_U.shape)\n",
    "x_U=vehicle_lengths_U.groupby(['Vehicle_ID']).mean()\n",
    "dict_U=x_U.to_dict()['v_length']\n",
    "filtered_ngsim_U[\"previous_Vehicle_length\"] = filtered_ngsim_U[\"Preceding\"].map(dict_U)"
   ]
  },
  {
   "cell_type": "code",
   "execution_count": null,
   "metadata": {},
   "outputs": [
    {
     "name": "stdout",
     "output_type": "stream",
     "text": [
      "4550407 duplicate values have been removed\n",
      "(5532, 2)\n"
     ]
    }
   ],
   "source": [
    "vehicle_lengths_I= filtered_ngsim_I[['Vehicle_ID','v_length']]\n",
    "print(f\"{vehicle_lengths_I.duplicated().sum()} duplicate values have been removed\")\n",
    "vehicle_lengths_I.drop_duplicates(inplace=True)\n",
    "print(vehicle_lengths_I.shape)\n",
    "x_I=vehicle_lengths_I.groupby(['Vehicle_ID']).mean()\n",
    "dict_I=x_I.to_dict()['v_length']\n",
    "filtered_ngsim_I[\"previous_Vehicle_length\"] = filtered_ngsim_I[\"Preceding\"].map(dict_I)\n"
   ]
  },
  {
   "cell_type": "code",
   "execution_count": null,
   "metadata": {},
   "outputs": [],
   "source": [
    "filtered_ngsim_U[\"previous_Vehicle_length\"]= filtered_ngsim_U[\"previous_Vehicle_length\"].fillna(0)\n",
    "filtered_ngsim_I[\"previous_Vehicle_length\"]= filtered_ngsim_I[\"previous_Vehicle_length\"].fillna(0)"
   ]
  },
  {
   "cell_type": "markdown",
   "metadata": {},
   "source": [
    "Convert the Front to Front Space Headway to Back Bumper (preceding Vehicle) to front Bumper(of Following ) Headway. This will give the actual distance between the vehicle ignoring the vehicle length."
   ]
  },
  {
   "cell_type": "code",
   "execution_count": null,
   "metadata": {},
   "outputs": [],
   "source": [
    "filtered_ngsim_U['Rear_to_Front_Space_Headway']=filtered_ngsim_U['Space_Headway'] - filtered_ngsim_U['previous_Vehicle_length']\n",
    "filtered_ngsim_I['Rear_to_Front_Space_Headway']=filtered_ngsim_I['Space_Headway'] - filtered_ngsim_I['previous_Vehicle_length']"
   ]
  },
  {
   "cell_type": "markdown",
   "metadata": {},
   "source": [
    "Find the time it would take for the Following vehicle to reach the rear Bumper of the Preceding Vehicle. "
   ]
  },
  {
   "cell_type": "code",
   "execution_count": null,
   "metadata": {},
   "outputs": [],
   "source": [
    "filtered_ngsim_U['Front_To_Rear_Time_Headway'] = filtered_ngsim_U['Rear_to_Front_Space_Headway']  / filtered_ngsim_U['v_Vel'] \n",
    "filtered_ngsim_I['Front_To_Rear_Time_Headway'] = filtered_ngsim_I['Rear_to_Front_Space_Headway']  / filtered_ngsim_I['v_Vel'] "
   ]
  },
  {
   "cell_type": "markdown",
   "metadata": {},
   "source": [
    "Vehicle Combination of the Preceding and the Following Vehicle. "
   ]
  },
  {
   "cell_type": "code",
   "execution_count": null,
   "metadata": {},
   "outputs": [],
   "source": [
    "filtered_ngsim_U['Vehicle_combination']= filtered_ngsim_U['Preceding_Vehicle_Class'] + '-' + filtered_ngsim_U['v_Class_Name']\n",
    "filtered_ngsim_I['Vehicle_combination']= filtered_ngsim_I['Preceding_Vehicle_Class'] + '-' + filtered_ngsim_I['v_Class_Name']"
   ]
  },
  {
   "cell_type": "code",
   "execution_count": null,
   "metadata": {},
   "outputs": [
    {
     "name": "stdout",
     "output_type": "stream",
     "text": [
      "US-101:621 cars dont change lanes\n",
      "US-101:2226 cars Change lanes\n",
      "I-80:817 cars dont change lanes\n",
      "I-80:2182 cars Change lanes\n"
     ]
    }
   ],
   "source": [
    "lane_verify= filtered_ngsim_U[['Vehicle_ID','Lane_ID']]\n",
    "#print(f\"{lane_verify.duplicated().sum()} duplicate values have been removed\")\n",
    "lane_verify.drop_duplicates(inplace=True)\n",
    "lane_verify=lane_verify.groupby(['Vehicle_ID'],as_index=False).count()\n",
    "#print(lane_verify.shape)\n",
    "lane_change_vehicles_U= set(lane_verify[lane_verify[\"Lane_ID\"]>1]['Vehicle_ID'])\n",
    "filtered_ngsim_U['lane_changes']=filtered_ngsim_U['Vehicle_ID'].isin(lane_change_vehicles_U)\n",
    "print(f\"US-101:{filtered_ngsim_U[(filtered_ngsim_U['lane_changes'] == False) ]['Vehicle_ID'].unique().size} cars dont change lanes\")\n",
    "print(f\"US-101:{filtered_ngsim_U[(filtered_ngsim_U['lane_changes'] == True) ]['Vehicle_ID'].unique().size} cars Change lanes\")\n",
    "lane_verify= filtered_ngsim_I[['Vehicle_ID','Lane_ID']]\n",
    "#print(f\"{lane_verify.duplicated().sum()} duplicate values have been removed\")\n",
    "lane_verify.drop_duplicates(inplace=True)\n",
    "lane_verify=lane_verify.groupby(['Vehicle_ID'],as_index=False).count()\n",
    "#print(lane_verify.shape)\n",
    "lane_change_vehicles_I= set(lane_verify[lane_verify[\"Lane_ID\"]>1]['Vehicle_ID'])\n",
    "filtered_ngsim_I['lane_changes']=filtered_ngsim_I['Vehicle_ID'].isin(lane_change_vehicles_I)\n",
    "print(f\"I-80:{filtered_ngsim_I[(filtered_ngsim_I['lane_changes'] == False) ]['Vehicle_ID'].unique().size} cars dont change lanes\")\n",
    "print(f\"I-80:{filtered_ngsim_I[(filtered_ngsim_I['lane_changes'] == True) ]['Vehicle_ID'].unique().size} cars Change lanes\")\n",
    "#lane_verify"
   ]
  },
  {
   "cell_type": "markdown",
   "metadata": {},
   "source": [
    "\n",
    "1. Velocity difference of the Lead minus Preceding Vehicle.\n",
    "2. Acceleration difference of the Lead minus Preceding Vehicle.\n",
    "3. Find the Pair details of the Lead_following \n",
    "4. Find the cumulative time the Pair runs within the highway as a pair. "
   ]
  },
  {
   "cell_type": "code",
   "execution_count": null,
   "metadata": {},
   "outputs": [],
   "source": [
    "right_filtered_ngsim_U=filtered_ngsim_U[['Preceding','Relative_Time','v_Vel','v_Acc','lane_changes']]\n",
    "right_filtered_ngsim_U.rename(columns={'Preceding':'Prec_Vehicle_ID','v_Vel':'previous_Vehicle_Velocity','v_Acc':'previous_Vehicle_Acceleration',\"lane_changes\":\"previous_car_lane_changes\"}, inplace=True)\n",
    "filtered_ngsim_U['Prec_Vehicle_ID']=filtered_ngsim_U['Vehicle_ID']\n",
    "filtered_ngsim_U=filtered_ngsim_U.merge(right=right_filtered_ngsim_U,how='left', on=('Prec_Vehicle_ID','Relative_Time'))\n",
    "filtered_ngsim_U['previous_Vehicle_Velocity']=filtered_ngsim_U['previous_Vehicle_Velocity'].fillna(0)\n",
    "filtered_ngsim_U['previous_Vehicle_Acceleration']=filtered_ngsim_U['previous_Vehicle_Acceleration'].fillna(0)\n",
    "filtered_ngsim_U['previous_car_lane_changes']=filtered_ngsim_U['previous_car_lane_changes'].fillna(False)\n"
   ]
  },
  {
   "cell_type": "code",
   "execution_count": null,
   "metadata": {},
   "outputs": [],
   "source": [
    "filtered_ngsim_U['Velocity Difference_Following-Preceding'] = filtered_ngsim_U['v_Vel'] - filtered_ngsim_U['previous_Vehicle_Velocity']\n",
    "filtered_ngsim_U['Acceleration Difference_Following-Preceding'] = filtered_ngsim_U['v_Acc'] - filtered_ngsim_U['previous_Vehicle_Acceleration']\n",
    "filtered_ngsim_U=filtered_ngsim_U.sort_values(by=['Relative_Time'],ascending=True,ignore_index=True)\n",
    "filtered_ngsim_U['pair_Time_Duration']=(filtered_ngsim_U.groupby(['L-F_Pair'],as_index=False).cumcount()*0.1)\n"
   ]
  },
  {
   "cell_type": "code",
   "execution_count": null,
   "metadata": {},
   "outputs": [],
   "source": [
    "x_U=(filtered_ngsim_U[['L-F_Pair','pair_Time_Duration']].groupby(['L-F_Pair'],as_index=False).max(['pair_Time_Duration'])) \n",
    "dict_lenght_U=dict(zip(x_U['L-F_Pair'],x_U['pair_Time_Duration']))\n",
    "filtered_ngsim_U[\"total_pair_duration\"] = filtered_ngsim_U[\"L-F_Pair\"].map(dict_lenght_U)"
   ]
  },
  {
   "cell_type": "code",
   "execution_count": null,
   "metadata": {},
   "outputs": [
    {
     "data": {
      "text/plain": [
       "Int64Index([      0,       1,       2,       3,       4,       5,       6,\n",
       "                  7,       8,       9,\n",
       "            ...\n",
       "            4098900, 4098901, 4098902, 4098903, 4098904, 4098905, 4098906,\n",
       "            4098907, 4098908, 4098909],\n",
       "           dtype='int64', length=3975769)"
      ]
     },
     "execution_count": 20,
     "metadata": {},
     "output_type": "execute_result"
    }
   ],
   "source": [
    "filtered_ngsim_U[\"total_pair_duration\"].dtype\n",
    "total_duration_less_than_minute_U=filtered_ngsim_U[(filtered_ngsim_U['total_pair_duration']  >= 6)  ]\n",
    "total_duration_less_than_minute_U.index"
   ]
  },
  {
   "cell_type": "code",
   "execution_count": null,
   "metadata": {},
   "outputs": [
    {
     "name": "stdout",
     "output_type": "stream",
     "text": [
      "(4098933, 33)\n",
      "(719729, 33)\n",
      "(36238, 33)\n",
      "(76867, 33)\n",
      "2069319 rows removed for the first and last 5 seconds of the cars that changed lanes\n"
     ]
    },
    {
     "data": {
      "text/plain": [
       "0"
      ]
     },
     "execution_count": 21,
     "metadata": {},
     "output_type": "execute_result"
    }
   ],
   "source": [
    "both_lane_change_U=filtered_ngsim_U[(filtered_ngsim_U['previous_car_lane_changes'] == True) & (filtered_ngsim_U['lane_changes'] == True) & ((filtered_ngsim_U['pair_Time_Duration'] <=5) | (filtered_ngsim_U['pair_Time_Duration']  >= (filtered_ngsim_U['total_pair_duration'] - 5)   )) ]\n",
    "lead_change_U=filtered_ngsim_U[(filtered_ngsim_U['previous_car_lane_changes'] == True) & (filtered_ngsim_U['lane_changes'] == False) & ((filtered_ngsim_U['pair_Time_Duration'] <=5) ) ]\n",
    "subject_change_U=filtered_ngsim_U[(filtered_ngsim_U['previous_car_lane_changes'] == False) & (filtered_ngsim_U['lane_changes'] == True) & (filtered_ngsim_U['pair_Time_Duration']  >= (filtered_ngsim_U['total_pair_duration'] - 5) ) ]\n",
    "total_duration_less_than_minute_U=filtered_ngsim_U[(filtered_ngsim_U['total_pair_duration']  < 60)  ]\n",
    "before=filtered_ngsim_U.shape\n",
    "print(filtered_ngsim_U.shape)\n",
    "print(both_lane_change_U.shape)\n",
    "print(lead_change_U.shape)\n",
    "print(subject_change_U.shape)\n",
    "'''\n",
    "filtered_ngsim_U.drop(labels=both_lane_change_U.index,inplace=True)\n",
    "filtered_ngsim_U.drop(labels=lead_change_U.index,inplace=True)\n",
    "filtered_ngsim_U.drop(labels=subject_change_U.index,inplace=True)\n",
    "filtered_ngsim_U.drop(labels=total_duration_less_than_minute_U.index,inplace=True)\n",
    "print(filtered_ngsim_U.shape)\n",
    "after=filtered_ngsim_U.shape\n",
    "print(f\"{after-before} rows removed for the first and last 5 seconds of the cars that changed lanes\")\n",
    "filtered_ngsim_U['Vehicle_ID'].isna().sum()\n",
    "'''\n",
    "remove=pd.concat([both_lane_change_U,lead_change_U,subject_change_U,total_duration_less_than_minute_U])\n",
    "\n",
    "filtered_ngsim_U.drop(labels=remove.index,inplace=True)\n",
    "after=filtered_ngsim_U.shape\n",
    "removed_row_count=before[0]-after[0]\n",
    "print(f\"{removed_row_count} rows removed for the first and last 5 seconds of the cars that changed lanes\")\n",
    "filtered_ngsim_U['Vehicle_ID'].isna().sum()"
   ]
  },
  {
   "cell_type": "code",
   "execution_count": null,
   "metadata": {},
   "outputs": [
    {
     "data": {
      "text/plain": [
       "2029614"
      ]
     },
     "execution_count": 22,
     "metadata": {},
     "output_type": "execute_result"
    }
   ],
   "source": [
    "after[0]"
   ]
  },
  {
   "cell_type": "code",
   "execution_count": null,
   "metadata": {},
   "outputs": [],
   "source": [
    "#print(filtered_ngsim_I['Velocity Difference_Following-Preceding'].isna().sum())\n",
    "\n",
    "#print(filtered_ngsim_U['previous_Vehicle_Velocity'].isna().sum())"
   ]
  },
  {
   "cell_type": "code",
   "execution_count": null,
   "metadata": {},
   "outputs": [],
   "source": [
    "right_filtered_ngsim_I=filtered_ngsim_I[['Preceding','Relative_Time','v_Vel','v_Acc','lane_changes']]\n",
    "right_filtered_ngsim_I.rename(columns={'Preceding':'Prec_Vehicle_ID','v_Vel':'previous_Vehicle_Velocity','v_Acc':'previous_Vehicle_Acceleration',\"lane_changes\":\"previous_car_lane_changes\"}, inplace=True)\n",
    "filtered_ngsim_I['Prec_Vehicle_ID']=filtered_ngsim_I['Vehicle_ID']\n",
    "filtered_ngsim_I=filtered_ngsim_I.merge(right=right_filtered_ngsim_I,how='left', on=('Prec_Vehicle_ID','Relative_Time'))\n"
   ]
  },
  {
   "cell_type": "code",
   "execution_count": null,
   "metadata": {},
   "outputs": [],
   "source": [
    "filtered_ngsim_I['previous_Vehicle_Velocity']=filtered_ngsim_I['previous_Vehicle_Velocity'].fillna(0)\n",
    "filtered_ngsim_I['previous_Vehicle_Acceleration']=filtered_ngsim_I['previous_Vehicle_Acceleration'].fillna(0)\n",
    "filtered_ngsim_I['previous_car_lane_changes']=filtered_ngsim_I['previous_car_lane_changes'].fillna(False)\n",
    "filtered_ngsim_I['Velocity Difference_Following-Preceding'] = filtered_ngsim_I['v_Vel'] - filtered_ngsim_I['previous_Vehicle_Velocity']\n",
    "filtered_ngsim_I['Acceleration Difference_Following-Preceding'] = filtered_ngsim_I['v_Acc'] - filtered_ngsim_I['previous_Vehicle_Acceleration']\n",
    "filtered_ngsim_I=filtered_ngsim_I.sort_values(by=['Relative_Time'],ascending=True,ignore_index=True)\n",
    "filtered_ngsim_I['pair_Time_Duration']=(filtered_ngsim_I.groupby(['L-F_Pair'],as_index=False).cumcount()*0.1) \n"
   ]
  },
  {
   "cell_type": "code",
   "execution_count": null,
   "metadata": {},
   "outputs": [
    {
     "name": "stdout",
     "output_type": "stream",
     "text": [
      "(4555939, 33)\n",
      "(794940, 33)\n",
      "(41235, 33)\n",
      "(81598, 33)\n"
     ]
    }
   ],
   "source": [
    "x_I=(filtered_ngsim_I[['L-F_Pair','pair_Time_Duration']].groupby(['L-F_Pair'],as_index=False).max(['pair_Time_Duration'])) \n",
    "dict_lenght_I=dict(zip(x_I['L-F_Pair'],x_I['pair_Time_Duration']))\n",
    "filtered_ngsim_I[\"total_pair_duration\"] = filtered_ngsim_I[\"L-F_Pair\"].map(dict_lenght_I)\n",
    "both_lane_change_I=filtered_ngsim_I[(filtered_ngsim_I['previous_car_lane_changes'] == True) & (filtered_ngsim_I['lane_changes'] == True) & ((filtered_ngsim_I['pair_Time_Duration'] <=5) | (filtered_ngsim_I['pair_Time_Duration']  >= (filtered_ngsim_I['total_pair_duration'] - 5)   )) ]\n",
    "lead_change_I=filtered_ngsim_I[(filtered_ngsim_I['previous_car_lane_changes'] == True) & (filtered_ngsim_I['lane_changes'] == False) & ((filtered_ngsim_I['pair_Time_Duration'] <=5) ) ]\n",
    "subject_change_I=filtered_ngsim_I[(filtered_ngsim_I['previous_car_lane_changes'] == False) & (filtered_ngsim_I['lane_changes'] == True) & (filtered_ngsim_I['pair_Time_Duration']  >= (filtered_ngsim_I['total_pair_duration'] - 5) ) ]\n",
    "total_duration_less_than_minute_I=filtered_ngsim_I[(filtered_ngsim_I['total_pair_duration']  < 60)  ]\n",
    "before=filtered_ngsim_I.shape[0]\n",
    "print(filtered_ngsim_I.shape)\n",
    "print(both_lane_change_I.shape)\n",
    "print(lead_change_I.shape)\n",
    "print(subject_change_I.shape)"
   ]
  },
  {
   "cell_type": "code",
   "execution_count": null,
   "metadata": {},
   "outputs": [
    {
     "data": {
      "text/plain": [
       "'\\nfiltered_ngsim_I.drop(labels=both_lane_change_I.index,inplace=True)\\nfiltered_ngsim_I.drop(labels=lead_change_I.index,inplace=True)\\nfiltered_ngsim_I.drop(labels=subject_change_I.index,inplace=True)\\nfiltered_ngsim_I.drop(labels=total_duration_less_than_minute_I.index,inplace=True)\\nafter=filtered_ngsim_I.shape\\nprint(f\"{after-before} rows removed for the first and last 5 seconds of the cars that changed lanes\")\\nfiltered_ngsim_I[\\'Vehicle_ID\\'].isna().sum()\\n'"
      ]
     },
     "execution_count": 27,
     "metadata": {},
     "output_type": "execute_result"
    }
   ],
   "source": [
    "'''\n",
    "filtered_ngsim_I.drop(labels=both_lane_change_I.index,inplace=True)\n",
    "filtered_ngsim_I.drop(labels=lead_change_I.index,inplace=True)\n",
    "filtered_ngsim_I.drop(labels=subject_change_I.index,inplace=True)\n",
    "filtered_ngsim_I.drop(labels=total_duration_less_than_minute_I.index,inplace=True)\n",
    "after=filtered_ngsim_I.shape\n",
    "print(f\"{after-before} rows removed for the first and last 5 seconds of the cars that changed lanes\")\n",
    "filtered_ngsim_I['Vehicle_ID'].isna().sum()\n",
    "'''"
   ]
  },
  {
   "cell_type": "code",
   "execution_count": null,
   "metadata": {},
   "outputs": [
    {
     "name": "stdout",
     "output_type": "stream",
     "text": [
      "2442698 rows removed for the first and last 5 seconds of the cars that changed lanes and if total trajectory is less than 60 seconds. \n"
     ]
    },
    {
     "data": {
      "text/plain": [
       "0"
      ]
     },
     "execution_count": 28,
     "metadata": {},
     "output_type": "execute_result"
    }
   ],
   "source": [
    "remove=pd.concat([both_lane_change_I,lead_change_I,subject_change_I,total_duration_less_than_minute_I])\n",
    "\n",
    "filtered_ngsim_I.drop(labels=remove.index,inplace=True)\n",
    "after=filtered_ngsim_I.shape[0]\n",
    "#removed_row_count=after[0]-before[0]\n",
    "print(f\"{before- after} rows removed for the first and last 5 seconds of the cars that changed lanes and if total trajectory is less than 60 seconds. \")\n",
    "filtered_ngsim_I['Vehicle_ID'].isna().sum()"
   ]
  },
  {
   "cell_type": "code",
   "execution_count": null,
   "metadata": {},
   "outputs": [],
   "source": [
    "#filtered_ngsim_U[(filtered_ngsim_U['L-F_Pair'].isin((change_lane_U['L-F_Pair']).values)  )]\n",
    " #& (filtered_ngsim_U['Pair_Time_Duration']<5) | (filtered_ngsim_U['Pair_Time_Duration']< (change_lane_U['L-F_Pair']-5)) ]"
   ]
  },
  {
   "cell_type": "code",
   "execution_count": null,
   "metadata": {},
   "outputs": [
    {
     "name": "stdout",
     "output_type": "stream",
     "text": [
      "2029614\n",
      "2113241\n",
      "4142855\n"
     ]
    }
   ],
   "source": [
    "filtered_ngsim= pd.concat([filtered_ngsim_U , filtered_ngsim_I])\n",
    "print(filtered_ngsim_U.shape[0])\n",
    "print(filtered_ngsim_I.shape[0])\n",
    "print(filtered_ngsim.shape[0])\n",
    "stringpath= str(p)[0:str(p).rfind('\\\\')] + '\\\\data'\n",
    "ngsimfilteredfile=stringpath + '\\\\' + 'Cleaned_NGSIM_Data.csv'\n",
    "filtered_ngsim.to_csv(ngsimfilteredfile, index = False)"
   ]
  },
  {
   "cell_type": "code",
   "execution_count": null,
   "metadata": {},
   "outputs": [
    {
     "name": "stdout",
     "output_type": "stream",
     "text": [
      "2497 cars Change lanes\n",
      "2593 cars DonT\n"
     ]
    }
   ],
   "source": [
    "print(f\"{filtered_ngsim[(filtered_ngsim['previous_car_lane_changes'] == True) ]['Vehicle_ID'].unique().size} cars Change lanes\")\n",
    "print(f\"{filtered_ngsim[(filtered_ngsim['previous_car_lane_changes'] == False) ]['Vehicle_ID'].unique().size} cars DonT\")"
   ]
  },
  {
   "cell_type": "code",
   "execution_count": null,
   "metadata": {},
   "outputs": [],
   "source": [
    "filtered_ngsim[((filtered_ngsim['Vehicle_ID'] <= 100 )  ) & ((filtered_ngsim['Preceding'] <= 100 )  )].to_csv('NonClassVERIFYFILE.CSV', index = False)"
   ]
  },
  {
   "cell_type": "code",
   "execution_count": null,
   "metadata": {},
   "outputs": [
    {
     "data": {
      "text/html": [
       "<div>\n",
       "<style scoped>\n",
       "    .dataframe tbody tr th:only-of-type {\n",
       "        vertical-align: middle;\n",
       "    }\n",
       "\n",
       "    .dataframe tbody tr th {\n",
       "        vertical-align: top;\n",
       "    }\n",
       "\n",
       "    .dataframe thead th {\n",
       "        text-align: right;\n",
       "    }\n",
       "</style>\n",
       "<table border=\"1\" class=\"dataframe\">\n",
       "  <thead>\n",
       "    <tr style=\"text-align: right;\">\n",
       "      <th></th>\n",
       "      <th>Vehicle_ID</th>\n",
       "      <th>Frame_ID</th>\n",
       "      <th>Global_Time</th>\n",
       "      <th>Local_X</th>\n",
       "      <th>Local_Y</th>\n",
       "      <th>Global_X</th>\n",
       "      <th>Global_Y</th>\n",
       "      <th>v_length</th>\n",
       "      <th>v_Class</th>\n",
       "      <th>v_Vel</th>\n",
       "      <th>...</th>\n",
       "      <th>v_Class_Name</th>\n",
       "      <th>previous_Vehicle_length</th>\n",
       "      <th>Vehicle_combination</th>\n",
       "      <th>lane_changes</th>\n",
       "      <th>Prec_Vehicle_ID</th>\n",
       "      <th>previous_Vehicle_Velocity</th>\n",
       "      <th>previous_Vehicle_Acceleration</th>\n",
       "      <th>previous_car_lane_changes</th>\n",
       "      <th>pair_Time_Duration</th>\n",
       "      <th>total_pair_duration</th>\n",
       "    </tr>\n",
       "  </thead>\n",
       "  <tbody>\n",
       "    <tr>\n",
       "      <th>0</th>\n",
       "      <td>5</td>\n",
       "      <td>8</td>\n",
       "      <td>1118846979700</td>\n",
       "      <td>39.788</td>\n",
       "      <td>39.154</td>\n",
       "      <td>6451122.815</td>\n",
       "      <td>1873326.569</td>\n",
       "      <td>5.18160</td>\n",
       "      <td>2</td>\n",
       "      <td>12.1920</td>\n",
       "      <td>...</td>\n",
       "      <td>Car</td>\n",
       "      <td>0.00000</td>\n",
       "      <td>Free Flow-Car</td>\n",
       "      <td>True</td>\n",
       "      <td>5</td>\n",
       "      <td>0.0</td>\n",
       "      <td>0.0</td>\n",
       "      <td>False</td>\n",
       "      <td>0.0</td>\n",
       "      <td>160.8</td>\n",
       "    </tr>\n",
       "    <tr>\n",
       "      <th>1</th>\n",
       "      <td>5</td>\n",
       "      <td>9</td>\n",
       "      <td>1118846979800</td>\n",
       "      <td>39.767</td>\n",
       "      <td>43.153</td>\n",
       "      <td>6451125.503</td>\n",
       "      <td>1873323.608</td>\n",
       "      <td>5.18160</td>\n",
       "      <td>2</td>\n",
       "      <td>12.1920</td>\n",
       "      <td>...</td>\n",
       "      <td>Car</td>\n",
       "      <td>0.00000</td>\n",
       "      <td>Free Flow-Car</td>\n",
       "      <td>True</td>\n",
       "      <td>5</td>\n",
       "      <td>0.0</td>\n",
       "      <td>0.0</td>\n",
       "      <td>False</td>\n",
       "      <td>0.1</td>\n",
       "      <td>160.8</td>\n",
       "    </tr>\n",
       "    <tr>\n",
       "      <th>2</th>\n",
       "      <td>5</td>\n",
       "      <td>10</td>\n",
       "      <td>1118846979900</td>\n",
       "      <td>39.747</td>\n",
       "      <td>47.154</td>\n",
       "      <td>6451128.192</td>\n",
       "      <td>1873320.646</td>\n",
       "      <td>5.18160</td>\n",
       "      <td>2</td>\n",
       "      <td>12.1920</td>\n",
       "      <td>...</td>\n",
       "      <td>Car</td>\n",
       "      <td>0.00000</td>\n",
       "      <td>Free Flow-Car</td>\n",
       "      <td>True</td>\n",
       "      <td>5</td>\n",
       "      <td>0.0</td>\n",
       "      <td>0.0</td>\n",
       "      <td>False</td>\n",
       "      <td>0.2</td>\n",
       "      <td>160.8</td>\n",
       "    </tr>\n",
       "    <tr>\n",
       "      <th>3</th>\n",
       "      <td>5</td>\n",
       "      <td>11</td>\n",
       "      <td>1118846980000</td>\n",
       "      <td>39.726</td>\n",
       "      <td>51.154</td>\n",
       "      <td>6451130.881</td>\n",
       "      <td>1873317.684</td>\n",
       "      <td>5.18160</td>\n",
       "      <td>2</td>\n",
       "      <td>12.1920</td>\n",
       "      <td>...</td>\n",
       "      <td>Car</td>\n",
       "      <td>0.00000</td>\n",
       "      <td>Free Flow-Car</td>\n",
       "      <td>True</td>\n",
       "      <td>5</td>\n",
       "      <td>0.0</td>\n",
       "      <td>0.0</td>\n",
       "      <td>False</td>\n",
       "      <td>0.3</td>\n",
       "      <td>160.8</td>\n",
       "    </tr>\n",
       "    <tr>\n",
       "      <th>4</th>\n",
       "      <td>5</td>\n",
       "      <td>12</td>\n",
       "      <td>1118846980100</td>\n",
       "      <td>39.705</td>\n",
       "      <td>55.153</td>\n",
       "      <td>6451133.569</td>\n",
       "      <td>1873314.723</td>\n",
       "      <td>5.18160</td>\n",
       "      <td>2</td>\n",
       "      <td>12.1920</td>\n",
       "      <td>...</td>\n",
       "      <td>Car</td>\n",
       "      <td>0.00000</td>\n",
       "      <td>Free Flow-Car</td>\n",
       "      <td>True</td>\n",
       "      <td>5</td>\n",
       "      <td>0.0</td>\n",
       "      <td>0.0</td>\n",
       "      <td>False</td>\n",
       "      <td>0.4</td>\n",
       "      <td>160.8</td>\n",
       "    </tr>\n",
       "    <tr>\n",
       "      <th>...</th>\n",
       "      <td>...</td>\n",
       "      <td>...</td>\n",
       "      <td>...</td>\n",
       "      <td>...</td>\n",
       "      <td>...</td>\n",
       "      <td>...</td>\n",
       "      <td>...</td>\n",
       "      <td>...</td>\n",
       "      <td>...</td>\n",
       "      <td>...</td>\n",
       "      <td>...</td>\n",
       "      <td>...</td>\n",
       "      <td>...</td>\n",
       "      <td>...</td>\n",
       "      <td>...</td>\n",
       "      <td>...</td>\n",
       "      <td>...</td>\n",
       "      <td>...</td>\n",
       "      <td>...</td>\n",
       "      <td>...</td>\n",
       "      <td>...</td>\n",
       "    </tr>\n",
       "    <tr>\n",
       "      <th>4555791</th>\n",
       "      <td>2485</td>\n",
       "      <td>11599</td>\n",
       "      <td>1113438724800</td>\n",
       "      <td>54.755</td>\n",
       "      <td>1595.253</td>\n",
       "      <td>6042663.224</td>\n",
       "      <td>2134655.863</td>\n",
       "      <td>4.20624</td>\n",
       "      <td>2</td>\n",
       "      <td>0.0762</td>\n",
       "      <td>...</td>\n",
       "      <td>Car</td>\n",
       "      <td>4.52628</td>\n",
       "      <td>Car-Car</td>\n",
       "      <td>True</td>\n",
       "      <td>2485</td>\n",
       "      <td>0.0</td>\n",
       "      <td>0.0</td>\n",
       "      <td>False</td>\n",
       "      <td>122.9</td>\n",
       "      <td>128.4</td>\n",
       "    </tr>\n",
       "    <tr>\n",
       "      <th>4555792</th>\n",
       "      <td>2485</td>\n",
       "      <td>11600</td>\n",
       "      <td>1113438724900</td>\n",
       "      <td>54.755</td>\n",
       "      <td>1595.278</td>\n",
       "      <td>6042663.220</td>\n",
       "      <td>2134655.888</td>\n",
       "      <td>4.20624</td>\n",
       "      <td>2</td>\n",
       "      <td>0.0762</td>\n",
       "      <td>...</td>\n",
       "      <td>Car</td>\n",
       "      <td>4.52628</td>\n",
       "      <td>Car-Car</td>\n",
       "      <td>True</td>\n",
       "      <td>2485</td>\n",
       "      <td>0.0</td>\n",
       "      <td>0.0</td>\n",
       "      <td>False</td>\n",
       "      <td>123.0</td>\n",
       "      <td>128.4</td>\n",
       "    </tr>\n",
       "    <tr>\n",
       "      <th>4555794</th>\n",
       "      <td>2485</td>\n",
       "      <td>11601</td>\n",
       "      <td>1113438725000</td>\n",
       "      <td>54.755</td>\n",
       "      <td>1595.303</td>\n",
       "      <td>6042663.216</td>\n",
       "      <td>2134655.912</td>\n",
       "      <td>4.20624</td>\n",
       "      <td>2</td>\n",
       "      <td>0.0762</td>\n",
       "      <td>...</td>\n",
       "      <td>Car</td>\n",
       "      <td>4.52628</td>\n",
       "      <td>Car-Car</td>\n",
       "      <td>True</td>\n",
       "      <td>2485</td>\n",
       "      <td>0.0</td>\n",
       "      <td>0.0</td>\n",
       "      <td>False</td>\n",
       "      <td>123.1</td>\n",
       "      <td>128.4</td>\n",
       "    </tr>\n",
       "    <tr>\n",
       "      <th>4555796</th>\n",
       "      <td>2485</td>\n",
       "      <td>11602</td>\n",
       "      <td>1113438725100</td>\n",
       "      <td>54.756</td>\n",
       "      <td>1595.328</td>\n",
       "      <td>6042663.213</td>\n",
       "      <td>2134655.937</td>\n",
       "      <td>4.20624</td>\n",
       "      <td>2</td>\n",
       "      <td>0.0762</td>\n",
       "      <td>...</td>\n",
       "      <td>Car</td>\n",
       "      <td>4.52628</td>\n",
       "      <td>Car-Car</td>\n",
       "      <td>True</td>\n",
       "      <td>2485</td>\n",
       "      <td>0.0</td>\n",
       "      <td>0.0</td>\n",
       "      <td>False</td>\n",
       "      <td>123.2</td>\n",
       "      <td>128.4</td>\n",
       "    </tr>\n",
       "    <tr>\n",
       "      <th>4555799</th>\n",
       "      <td>2485</td>\n",
       "      <td>11603</td>\n",
       "      <td>1113438725200</td>\n",
       "      <td>54.756</td>\n",
       "      <td>1595.353</td>\n",
       "      <td>6042663.209</td>\n",
       "      <td>2134655.962</td>\n",
       "      <td>4.20624</td>\n",
       "      <td>2</td>\n",
       "      <td>0.0762</td>\n",
       "      <td>...</td>\n",
       "      <td>Car</td>\n",
       "      <td>4.52628</td>\n",
       "      <td>Car-Car</td>\n",
       "      <td>True</td>\n",
       "      <td>2485</td>\n",
       "      <td>0.0</td>\n",
       "      <td>0.0</td>\n",
       "      <td>False</td>\n",
       "      <td>123.3</td>\n",
       "      <td>128.4</td>\n",
       "    </tr>\n",
       "  </tbody>\n",
       "</table>\n",
       "<p>4142855 rows × 33 columns</p>\n",
       "</div>"
      ],
      "text/plain": [
       "         Vehicle_ID  Frame_ID    Global_Time  Local_X   Local_Y     Global_X  \\\n",
       "0                 5         8  1118846979700   39.788    39.154  6451122.815   \n",
       "1                 5         9  1118846979800   39.767    43.153  6451125.503   \n",
       "2                 5        10  1118846979900   39.747    47.154  6451128.192   \n",
       "3                 5        11  1118846980000   39.726    51.154  6451130.881   \n",
       "4                 5        12  1118846980100   39.705    55.153  6451133.569   \n",
       "...             ...       ...            ...      ...       ...          ...   \n",
       "4555791        2485     11599  1113438724800   54.755  1595.253  6042663.224   \n",
       "4555792        2485     11600  1113438724900   54.755  1595.278  6042663.220   \n",
       "4555794        2485     11601  1113438725000   54.755  1595.303  6042663.216   \n",
       "4555796        2485     11602  1113438725100   54.756  1595.328  6042663.213   \n",
       "4555799        2485     11603  1113438725200   54.756  1595.353  6042663.209   \n",
       "\n",
       "            Global_Y  v_length  v_Class    v_Vel  ...  v_Class_Name  \\\n",
       "0        1873326.569   5.18160        2  12.1920  ...           Car   \n",
       "1        1873323.608   5.18160        2  12.1920  ...           Car   \n",
       "2        1873320.646   5.18160        2  12.1920  ...           Car   \n",
       "3        1873317.684   5.18160        2  12.1920  ...           Car   \n",
       "4        1873314.723   5.18160        2  12.1920  ...           Car   \n",
       "...              ...       ...      ...      ...  ...           ...   \n",
       "4555791  2134655.863   4.20624        2   0.0762  ...           Car   \n",
       "4555792  2134655.888   4.20624        2   0.0762  ...           Car   \n",
       "4555794  2134655.912   4.20624        2   0.0762  ...           Car   \n",
       "4555796  2134655.937   4.20624        2   0.0762  ...           Car   \n",
       "4555799  2134655.962   4.20624        2   0.0762  ...           Car   \n",
       "\n",
       "         previous_Vehicle_length  Vehicle_combination  lane_changes  \\\n",
       "0                        0.00000        Free Flow-Car          True   \n",
       "1                        0.00000        Free Flow-Car          True   \n",
       "2                        0.00000        Free Flow-Car          True   \n",
       "3                        0.00000        Free Flow-Car          True   \n",
       "4                        0.00000        Free Flow-Car          True   \n",
       "...                          ...                  ...           ...   \n",
       "4555791                  4.52628              Car-Car          True   \n",
       "4555792                  4.52628              Car-Car          True   \n",
       "4555794                  4.52628              Car-Car          True   \n",
       "4555796                  4.52628              Car-Car          True   \n",
       "4555799                  4.52628              Car-Car          True   \n",
       "\n",
       "         Prec_Vehicle_ID previous_Vehicle_Velocity  \\\n",
       "0                      5                       0.0   \n",
       "1                      5                       0.0   \n",
       "2                      5                       0.0   \n",
       "3                      5                       0.0   \n",
       "4                      5                       0.0   \n",
       "...                  ...                       ...   \n",
       "4555791             2485                       0.0   \n",
       "4555792             2485                       0.0   \n",
       "4555794             2485                       0.0   \n",
       "4555796             2485                       0.0   \n",
       "4555799             2485                       0.0   \n",
       "\n",
       "         previous_Vehicle_Acceleration previous_car_lane_changes  \\\n",
       "0                                  0.0                     False   \n",
       "1                                  0.0                     False   \n",
       "2                                  0.0                     False   \n",
       "3                                  0.0                     False   \n",
       "4                                  0.0                     False   \n",
       "...                                ...                       ...   \n",
       "4555791                            0.0                     False   \n",
       "4555792                            0.0                     False   \n",
       "4555794                            0.0                     False   \n",
       "4555796                            0.0                     False   \n",
       "4555799                            0.0                     False   \n",
       "\n",
       "         pair_Time_Duration  total_pair_duration  \n",
       "0                       0.0                160.8  \n",
       "1                       0.1                160.8  \n",
       "2                       0.2                160.8  \n",
       "3                       0.3                160.8  \n",
       "4                       0.4                160.8  \n",
       "...                     ...                  ...  \n",
       "4555791               122.9                128.4  \n",
       "4555792               123.0                128.4  \n",
       "4555794               123.1                128.4  \n",
       "4555796               123.2                128.4  \n",
       "4555799               123.3                128.4  \n",
       "\n",
       "[4142855 rows x 33 columns]"
      ]
     },
     "execution_count": 33,
     "metadata": {},
     "output_type": "execute_result"
    }
   ],
   "source": [
    "filtered_ngsim"
   ]
  },
  {
   "cell_type": "code",
   "execution_count": null,
   "metadata": {},
   "outputs": [],
   "source": []
  },
  {
   "cell_type": "code",
   "execution_count": null,
   "metadata": {},
   "outputs": [],
   "source": []
  }
 ],
 "metadata": {
  "interpreter": {
   "hash": "66102dfb9f2e5b7365bdb29c60f74c4733e59ed799f4b54b51820e6de3573383"
  },
  "kernelspec": {
   "display_name": "Python 3.9.12 ('Project')",
   "language": "python",
   "name": "python3"
  },
  "language_info": {
   "codemirror_mode": {
    "name": "ipython",
    "version": 3
   },
   "file_extension": ".py",
   "mimetype": "text/x-python",
   "name": "python",
   "nbconvert_exporter": "python",
   "pygments_lexer": "ipython3",
   "version": "3.9.12"
  },
  "orig_nbformat": 4
 },
 "nbformat": 4,
 "nbformat_minor": 2
}
