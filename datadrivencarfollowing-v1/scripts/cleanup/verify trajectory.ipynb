version https://git-lfs.github.com/spec/v1
oid sha256:6faaf0f46bb4de22189357c2e192569c3695c1d58e0ce0641b5023fe008bc5aa
size 403298
