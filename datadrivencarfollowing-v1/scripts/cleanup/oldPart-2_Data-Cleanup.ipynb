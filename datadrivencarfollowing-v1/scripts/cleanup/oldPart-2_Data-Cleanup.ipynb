{
 "cells": [
  {
   "cell_type": "code",
   "execution_count": 170,
   "metadata": {},
   "outputs": [],
   "source": [
    "import numpy as np \n",
    "import pandas as pd \n",
    "import warnings\n",
    "warnings.filterwarnings(\"ignore\")\n",
    "from millify import millify"
   ]
  },
  {
   "cell_type": "code",
   "execution_count": 171,
   "metadata": {},
   "outputs": [
    {
     "name": "stdout",
     "output_type": "stream",
     "text": [
      "original File path: c:\\Users\\StudentAccount\\Python\\Capstone\\gitcodelocation\\DataDrivenCarFollowing\\datadrivencarfollowing-v1\\scripts\n",
      "Updated File Path to pick from Data Library: c:\\Users\\StudentAccount\\Python\\Capstone\\gitcodelocation\\DataDrivenCarFollowing\\datadrivencarfollowing-v1\\data\n",
      "0 duplicate values have been removed\n"
     ]
    }
   ],
   "source": [
    "from pathlib import Path\n",
    "p = Path().cwd()\n",
    "print(f\"original File path: {p}\")\n",
    "stringpath= str(p)[0:str(p).rfind('\\\\')] + '\\\\data'\n",
    "print(f\"Updated File Path to pick from Data Library: { stringpath}\")\n",
    "ngsimfile=stringpath + '/' + 'Cleaned_NGSIM_Data_Part_1.csv'\n",
    "\n",
    "ngsim = pd.read_csv(ngsimfile,low_memory=False)\n",
    "print(f\"{ngsim.duplicated().sum()} duplicate values have been removed\")\n",
    "ngsim.drop_duplicates(inplace=True)"
   ]
  },
  {
   "cell_type": "code",
   "execution_count": 172,
   "metadata": {},
   "outputs": [],
   "source": [
    "ngsim['Velocity Difference_Following-Preceding'] = np.NaN\n",
    "ngsim['Acceleration Difference_Following-Preceding'] = np.NaN\n",
    "filtered_ngsim_U= ngsim[((ngsim['Location'] == 'us-101'))  ]\n",
    "\n",
    "filtered_ngsim_U= ngsim[((ngsim['Location'] == 'us-101')) & ((ngsim['Vehicle_ID'] <= 100 )  ) & ((ngsim['Preceding'] <= 100 )  )]\n",
    "filtered_ngsim_I= ngsim[(ngsim['Location'] == 'i-80') ]\n"
   ]
  },
  {
   "cell_type": "code",
   "execution_count": 173,
   "metadata": {},
   "outputs": [
    {
     "data": {
      "text/plain": [
       "(154804, 21)"
      ]
     },
     "execution_count": 173,
     "metadata": {},
     "output_type": "execute_result"
    }
   ],
   "source": [
    "filtered_ngsim_U.shape"
   ]
  },
  {
   "cell_type": "code",
   "execution_count": 174,
   "metadata": {},
   "outputs": [
    {
     "name": "stdout",
     "output_type": "stream",
     "text": [
      "True\n"
     ]
    }
   ],
   "source": [
    "filtered_ngsim_U.set_index(['Vehicle_ID', 'Preceding','Relative_Time'], append=True,inplace=True)\n",
    "filtered_ngsim_U=filtered_ngsim_U.sort_index()\n",
    "print(filtered_ngsim_U.index.is_monotonic_increasing)"
   ]
  },
  {
   "cell_type": "code",
   "execution_count": 175,
   "metadata": {},
   "outputs": [
    {
     "data": {
      "text/plain": [
       "MultiIndex([(     11,  5,  0, 1117684841001),\n",
       "            (     44, 52, 48, 1117685817401),\n",
       "            (     51, 73, 67, 1117684928901),\n",
       "            (     91,  6,  2, 1117685787801),\n",
       "            (    112, 41, 35, 1117684872901),\n",
       "            (    122, 77, 72, 1117685822701),\n",
       "            (    133, 14, 10, 1117684889001),\n",
       "            (    139, 73, 63, 1117684012201),\n",
       "            (    176, 26, 22, 1117683969901),\n",
       "            (    189, 62, 58, 1117684893801),\n",
       "            ...\n",
       "            (4098616, 91, 86, 1117685859701),\n",
       "            (4098632, 83, 67, 1117684011101),\n",
       "            (4098637, 11,  3, 1117685766501),\n",
       "            (4098661, 74, 73, 1117685787201),\n",
       "            (4098664, 85, 80, 1117684887001),\n",
       "            (4098686, 14, 11, 1117685780801),\n",
       "            (4098797, 83, 76, 1117683997501),\n",
       "            (4098811, 83, 90, 1117684899701),\n",
       "            (4098864, 39, 32, 1117684866701),\n",
       "            (4098873, 75, 68, 1117685841201)],\n",
       "           names=['id', 'Vehicle_ID', 'Preceding', 'Relative_Time'], length=154804)"
      ]
     },
     "execution_count": 175,
     "metadata": {},
     "output_type": "execute_result"
    }
   ],
   "source": [
    "filtered_ngsim_U.index.rename(['id', 'Vehicle_ID', 'Preceding', 'Relative_Time'], inplace=True)\n",
    "filtered_ngsim_U.index"
   ]
  },
  {
   "cell_type": "code",
   "execution_count": 176,
   "metadata": {},
   "outputs": [
    {
     "name": "stdout",
     "output_type": "stream",
     "text": [
      "row count90.00k processed\n",
      "row count360.00k processed\n",
      "row count510.00k processed\n",
      "row count1.69M processed\n",
      "row count1.94M processed\n",
      "row count3.15M processed\n",
      "row count3.36M processed\n",
      "row count3.67M processed\n"
     ]
    }
   ],
   "source": [
    "velocity_diff=[]\n",
    "acceleration_diff=[]\n",
    "\n",
    "for i in filtered_ngsim_U.index.get_level_values(0):\n",
    "    if i%10000==0:\n",
    "        print(f\"row count{millify(i, precision=2, drop_nulls=False)} processed\")\n",
    "    previous_Vehicle_ID=filtered_ngsim_U[(filtered_ngsim_U.index.get_level_values(\"id\") == i )].index.get_level_values(\"Preceding\").values[0]\n",
    "    current_time=filtered_ngsim_U[(filtered_ngsim_U.index.get_level_values(\"id\") == i )].index.get_level_values(\"Relative_Time\")[0]\n",
    "    #print(f\"i:{i}\")\n",
    "    #print(f\"previous_Vehicle_ID: {previous_Vehicle_ID}\")\n",
    "    #print(f\"current_time: {current_time}\")\n",
    "    if previous_Vehicle_ID > 0:\n",
    "        preceding_corresponding_ix=filtered_ngsim_U.xs((current_time,previous_Vehicle_ID),level=(\"Relative_Time\",'Vehicle_ID')).index.get_level_values('id').values[0] \n",
    "        velocity = filtered_ngsim_U['v_Vel'][(filtered_ngsim_U.index.get_level_values('id') == i ) ].values - filtered_ngsim_U['v_Vel'][(filtered_ngsim_U.index.get_level_values('id') == preceding_corresponding_ix ) ].values\n",
    "        acceleration = filtered_ngsim_U['v_Acc'][(filtered_ngsim_U.index.get_level_values('id') == i ) ].values - filtered_ngsim_U['v_Acc'][(filtered_ngsim_U.index.get_level_values('id') == preceding_corresponding_ix ) ].values\n",
    "    else:\n",
    "        velocity = filtered_ngsim_U['v_Vel'][(filtered_ngsim_U.index.get_level_values('id') == i ) ].values - 0\n",
    "        acceleration = filtered_ngsim_U['v_Acc'][(filtered_ngsim_U.index.get_level_values('id') == i ) ].values - 0\n",
    "    #print(preceding_corresponding_ix)\n",
    "    #print(f\"velocity previous :{ filtered_ngsim_U['v_Vel'][(filtered_ngsim_U.index.get_level_values('id') == preceding_corresponding_id ) ].values}\")\n",
    "    #print(f\"velocity current : { filtered_ngsim_U['v_Vel'][(filtered_ngsim_U.index.get_level_values('id') == i ) ].values}\")\n",
    "#    if i >= 1000:\n",
    "#        break    \n",
    "    velocity_diff.append(velocity[0])\n",
    "    acceleration_diff.append(acceleration[0])"
   ]
  },
  {
   "cell_type": "code",
   "execution_count": 177,
   "metadata": {},
   "outputs": [],
   "source": [
    "filtered_ngsim_U['Velocity Difference_Following-Preceding'] = velocity_diff\n",
    "filtered_ngsim_U['Acceleration Difference_Following-Preceding'] = acceleration_diff"
   ]
  },
  {
   "cell_type": "code",
   "execution_count": null,
   "metadata": {},
   "outputs": [],
   "source": []
  },
  {
   "cell_type": "code",
   "execution_count": 178,
   "metadata": {},
   "outputs": [],
   "source": [
    "#filtered_ngsim_U.xs((1117685909701,242),level=(\"Relative_Time\",'Vehicle_ID')).index.get_level_values('id').values[0] "
   ]
  },
  {
   "cell_type": "code",
   "execution_count": 179,
   "metadata": {},
   "outputs": [
    {
     "data": {
      "text/plain": [
       "'\\ni=546\\nprevious_Vehicle_ID=filtered_ngsim_U[(filtered_ngsim_U.index.get_level_values(\"id\") == i )].index.get_level_values(\"Preceding\").values[0]\\ncurrent_time=filtered_ngsim_U[(filtered_ngsim_U.index.get_level_values(\"id\") == i )].index.get_level_values(\"Relative_Time\")[0]\\nprint(f\"i:{i}\")\\nprint(f\"previous_Vehicle_ID: {previous_Vehicle_ID}\")\\nprint(f\"current_time: {current_time}\")\\nif previous_Vehicle_ID > 0:\\n    preceding_corresponding_ix=filtered_ngsim_U.xs((current_time,previous_Vehicle_ID),level=(\"Relative_Time\",\\'Vehicle_ID\\')).index.get_level_values(\\'id\\').values[0] \\n    velocity = filtered_ngsim_U[\\'v_Vel\\'][(filtered_ngsim_U.index.get_level_values(\\'id\\') == i ) ].values - filtered_ngsim_U[\\'v_Vel\\'][(filtered_ngsim_U.index.get_level_values(\\'id\\') == preceding_corresponding_ix ) ].values\\nelse:\\n    velocity = filtered_ngsim_U[\\'v_Vel\\'][(filtered_ngsim_U.index.get_level_values(\\'id\\') == i ) ].values - 0\\n\\n'"
      ]
     },
     "execution_count": 179,
     "metadata": {},
     "output_type": "execute_result"
    }
   ],
   "source": [
    "'''\n",
    "i=546\n",
    "previous_Vehicle_ID=filtered_ngsim_U[(filtered_ngsim_U.index.get_level_values(\"id\") == i )].index.get_level_values(\"Preceding\").values[0]\n",
    "current_time=filtered_ngsim_U[(filtered_ngsim_U.index.get_level_values(\"id\") == i )].index.get_level_values(\"Relative_Time\")[0]\n",
    "print(f\"i:{i}\")\n",
    "print(f\"previous_Vehicle_ID: {previous_Vehicle_ID}\")\n",
    "print(f\"current_time: {current_time}\")\n",
    "if previous_Vehicle_ID > 0:\n",
    "    preceding_corresponding_ix=filtered_ngsim_U.xs((current_time,previous_Vehicle_ID),level=(\"Relative_Time\",'Vehicle_ID')).index.get_level_values('id').values[0] \n",
    "    velocity = filtered_ngsim_U['v_Vel'][(filtered_ngsim_U.index.get_level_values('id') == i ) ].values - filtered_ngsim_U['v_Vel'][(filtered_ngsim_U.index.get_level_values('id') == preceding_corresponding_ix ) ].values\n",
    "else:\n",
    "    velocity = filtered_ngsim_U['v_Vel'][(filtered_ngsim_U.index.get_level_values('id') == i ) ].values - 0\n",
    "\n",
    "'''\n"
   ]
  },
  {
   "cell_type": "code",
   "execution_count": null,
   "metadata": {},
   "outputs": [],
   "source": []
  },
  {
   "cell_type": "code",
   "execution_count": 180,
   "metadata": {},
   "outputs": [
    {
     "data": {
      "text/plain": [
       "'\\nfiltered_ngsim_U.xs((filtered_ngsim_U[(filtered_ngsim_U.index.get_level_values(\"id\") == 546 )].index.get_level_values(\"Relative_Time\")[0],filtered_ngsim_U[(filtered_ngsim_U.index.get_level_values(\"id\") == 546 )].index.get_level_values(\"Preceding\").values[0]),level=(\"Relative_Time\",\\'Vehicle_ID\\')).index.get_level_values(\\'id\\').values[0] \\nngsim[(ngsim[\\'Vehicle_ID\\'] == 242)& (ngsim[\\'Relative_Time\\'] == 1117685909701) ]\\nfiltered_ngsim_U.xs((filtered_ngsim_U[(filtered_ngsim_U.index.get_level_values(\"id\") == 0 )].index.get_level_values(\"Relative_Time\")[0],filtered_ngsim_U[(filtered_ngsim_U.index.get_level_values(\"id\") == 0 )].index.get_level_values(\"Preceding\").values[0]),level=(\"Relative_Time\",\\'Vehicle_ID\\')).index.get_level_values(\\'id\\').values[0] \\nfiltered_ngsim_U.index.get_level_values(\"Preceding\")\\nngsim[(ngsim[\\'Vehicle_ID\\'] == 242)|(ngsim[\\'Preceding\\'] == 242) ].to_csv(\\'ng\\', index = True)\\nfiltered_ngsim_U[(filtered_ngsim_U.index.get_level_values(\"Vehicle_ID\") == 242 )].sort_values(\"Relative_Time\").to_csv(\\'test\\', index = True)\\n                            #1117685909701\\n'"
      ]
     },
     "execution_count": 180,
     "metadata": {},
     "output_type": "execute_result"
    }
   ],
   "source": [
    "'''\n",
    "filtered_ngsim_U.xs((filtered_ngsim_U[(filtered_ngsim_U.index.get_level_values(\"id\") == 546 )].index.get_level_values(\"Relative_Time\")[0],filtered_ngsim_U[(filtered_ngsim_U.index.get_level_values(\"id\") == 546 )].index.get_level_values(\"Preceding\").values[0]),level=(\"Relative_Time\",'Vehicle_ID')).index.get_level_values('id').values[0] \n",
    "ngsim[(ngsim['Vehicle_ID'] == 242)& (ngsim['Relative_Time'] == 1117685909701) ]\n",
    "filtered_ngsim_U.xs((filtered_ngsim_U[(filtered_ngsim_U.index.get_level_values(\"id\") == 0 )].index.get_level_values(\"Relative_Time\")[0],filtered_ngsim_U[(filtered_ngsim_U.index.get_level_values(\"id\") == 0 )].index.get_level_values(\"Preceding\").values[0]),level=(\"Relative_Time\",'Vehicle_ID')).index.get_level_values('id').values[0] \n",
    "filtered_ngsim_U.index.get_level_values(\"Preceding\")\n",
    "ngsim[(ngsim['Vehicle_ID'] == 242)|(ngsim['Preceding'] == 242) ].to_csv('ng', index = True)\n",
    "filtered_ngsim_U[(filtered_ngsim_U.index.get_level_values(\"Vehicle_ID\") == 242 )].sort_values(\"Relative_Time\").to_csv('test', index = True)\n",
    "                            #1117685909701\n",
    "'''"
   ]
  },
  {
   "cell_type": "code",
   "execution_count": 181,
   "metadata": {},
   "outputs": [],
   "source": [
    "filtered_ngsim= filtered_ngsim_U"
   ]
  },
  {
   "cell_type": "code",
   "execution_count": 182,
   "metadata": {},
   "outputs": [],
   "source": [
    "stringpath= str(p)[0:str(p).rfind('\\\\')] + '\\\\data'\n",
    "ngsimfilteredfile=stringpath + '\\\\' + 'Sample_Cleaned_NGSIM_Data_Part_2.csv'\n",
    "filtered_ngsim.to_csv(ngsimfilteredfile, index = True)"
   ]
  },
  {
   "cell_type": "code",
   "execution_count": null,
   "metadata": {},
   "outputs": [],
   "source": []
  }
 ],
 "metadata": {
  "interpreter": {
   "hash": "66102dfb9f2e5b7365bdb29c60f74c4733e59ed799f4b54b51820e6de3573383"
  },
  "kernelspec": {
   "display_name": "Python 3.9.12 ('Project')",
   "language": "python",
   "name": "python3"
  },
  "language_info": {
   "codemirror_mode": {
    "name": "ipython",
    "version": 3
   },
   "file_extension": ".py",
   "mimetype": "text/x-python",
   "name": "python",
   "nbconvert_exporter": "python",
   "pygments_lexer": "ipython3",
   "version": "3.9.12"
  },
  "orig_nbformat": 4
 },
 "nbformat": 4,
 "nbformat_minor": 2
}
