version https://git-lfs.github.com/spec/v1
oid sha256:c69930400aa12485b4d38bc8717d22f012179eb47908d76175567c1e0ed4688b
size 2342508
