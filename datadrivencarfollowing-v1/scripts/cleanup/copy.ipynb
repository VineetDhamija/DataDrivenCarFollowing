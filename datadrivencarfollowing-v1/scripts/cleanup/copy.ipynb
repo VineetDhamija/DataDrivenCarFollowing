{
  "cells": [
    {
      "cell_type": "raw",
      "metadata": {},
      "source": [
        "---\n",
        "title: \"Car following: EDA for NGSIM Dataset\"\n",
        "author: \"Section C Group 5: Vineet Dhamija, Neel Chaudhari, Rakesh Singh\"\n",
        "bibliography: references.bib\n",
        "toc: true\n",
        "number-sections: true\n",
        "highlight-style: pygments\n",
        "format:\n",
        "  html:\n",
        "    code-fold: true\n",
        "    code-summary: \"Show the code\"\n",
        "---"
      ],
      "id": "3266a5f2"
    },
    {
      "cell_type": "markdown",
      "metadata": {},
      "source": [
        "## Overview\n",
        "\n",
        "The data being analyzed in the EDA is NGSIM Dataset. Researchers for the Next Generation Simulation (NGSIM) program collected detailed vehicle trajectory data on southbound US 101 and Lankershim Boulevard in Los Angeles, CA, eastbound I-80 in Emeryville, CA and Peachtree Street in Atlanta, Georgia. Data was collected through a network of synchronized digital video cameras. NGVIDEO, a customized software application developed for the NGSIM program, transcribed the vehicle trajectory data from the video. This vehicle trajectory data provided the precise location of each vehicle within the study area every one-tenth of a second, resulting in detailed lane positions and locations relative to other vehicles[@NGSIM].\n"
      ],
      "id": "5e58e89d"
    },
    {
      "cell_type": "code",
      "metadata": {},
      "source": [
        "#Import all the libraries\n",
        "import numpy as np \n",
        "import pandas as pd\n",
        "import matplotlib.pyplot as plt\n",
        "import seaborn as sns\n",
        "import warnings\n",
        "warnings.filterwarnings(\"ignore\")\n",
        "def sniff(df ):\n",
        "    with pd.option_context(\"display.max_colwidth\", 20):\n",
        "        info = pd.DataFrame()\n",
        "        info['data type'] = df.dtypes\n",
        "        info['percent missing'] = df.isnull().sum()*100/len(df)\n",
        "        info['No. unique'] = df.apply(lambda x: len(x.unique()))\n",
        "        info['Min Value'] = df.apply(lambda x: np.nanmin(x))\n",
        "        info['Max Value'] = df.apply(lambda x: np.nanmax(x))\n",
        "        info['unique values'] = df.apply(lambda x: x.unique())\n",
        "        return info.sort_values('data type')"
      ],
      "id": "15510ba5",
      "execution_count": null,
      "outputs": []
    },
    {
      "cell_type": "markdown",
      "metadata": {},
      "source": [
        "Below is a quick overview of all the Columns of the Data, including their Data Type, Minimum value, Maximum value, No. of Unique values and their small list of unique Values. Apart from a few fields all rows have values populated. There exists a total of 3233 unique vehicle information for which data has been collected for a 0.1 second interval which has been collected on 4 different US motorways(See @fig-Location in @sec-EDA). The missing information exists for US-101 and I-80 highway as the details do not exist on those motorways. The data is consistent to the dictionary available and as per the Data Type. Detailed Descrition of the observations and data sanctity is discussed in the @sec-EDA\n"
      ],
      "id": "3811cb59"
    },
    {
      "cell_type": "code",
      "metadata": {},
      "source": [
        "#Generic path so that we dont need to upload data to git. \n",
        "from pathlib import Path\n",
        "p = Path().cwd()\n",
        "stringpath= str(p)[0:str(p).rfind('\\\\')] + '\\\\data'\n",
        "ngsimfile=stringpath + '/' + 'Next_Generation_Simulation__NGSIM__Vehicle_Trajectories_and_Supporting_Data.csv'\n",
        "ngsim = pd.read_csv(ngsimfile,low_memory=False)\n",
        "sniffed_data= sniff(ngsim)\n",
        "sniffed_data"
      ],
      "id": "7d59be74",
      "execution_count": null,
      "outputs": []
    },
    {
      "cell_type": "markdown",
      "metadata": {},
      "source": [
        "## Fitness\n",
        "\n",
        "The Data is sufficient to meet \n",
        "\n",
        "## Ethical Assessment\n",
        "\n",
        "## EDA {#sec-EDA}"
      ],
      "id": "78ef0aa5"
    },
    {
      "cell_type": "code",
      "metadata": {},
      "source": [
        "#| label: fig-Location\n",
        "#| fig-cap: Location of Highway\n",
        "\n",
        "sns.countplot(data=ngsim,x='Location')\n",
        "plt.show()  "
      ],
      "id": "fig-Location",
      "execution_count": null,
      "outputs": []
    },
    {
      "cell_type": "markdown",
      "metadata": {},
      "source": [
        "Observations:\n",
        "1. Even though there are 3233 vehicles but the range is present from vehicle ID 1 to ID 3366.\n",
        "2. Frame ID exist from 1-11691 with frame difference of 1. \n",
        "3. There are a total of 1837 frames with range from 2-2434 with missing frame numbers but no row with missing frame details. \n",
        "4. Even though there are only 3366 Cars in Vehicle ID, there exists 1 additional in Following Car Id, additional value is 0, which is present in Following.\n",
        "5. Even though there are only 3366 Cars in Vehicle ID, there exists 1 additional in Preceding Car Id, additional value is 0, which is present in Preceding but not in IDs. There are 6 Car IDs which are not preceding any vehicle.\n",
        "6. Vehicle type and info based on Class:\n",
        "    1. Vehicle Class 1: These have short length(~10) and width(4). \n",
        "    2. Vehicle Class 2: These have Medium length(~15) and medium to large width(6-7). \n",
        "    3. Vehicle Class 3: These have large length(>30) and largest width(>8). \n",
        "7. Most vehicles drive very close to the Preceeding vehicle. There are very less cases of big Space between vehicles in Class Type 1, increases slightly with Class Type 2 and even more with Class Type 3 \n",
        "8. For Most cases, Space and Time headway have positive relationship, if one increases, so does the other> however there are scenarios where even with very big space the timeheadway is almost zero.  \n"
      ],
      "id": "a1ee3bf5"
    },
    {
      "cell_type": "code",
      "metadata": {},
      "source": [
        "ngsim[\"Vehicle_class\"] = ngsim[\"v_Class\"].map({1:\"motorcycle\", 2: \"auto\", 3: \"truck\"})\n",
        "sns.scatterplot(data=ngsim,x='Space_Headway',y='Time_Headway',hue='v_Class')\n",
        "plt.show()\n",
        "sns.scatterplot(data=ngsim,x='Space_Headway',y='v_length',hue='v_Class')\n",
        "plt.show()\n",
        "sns.boxplot(data=ngsim,y='v_length',x='v_Class')\n",
        "plt.show()\n",
        "sns.boxplot(data=ngsim,y='v_Width',x='v_Class')\n",
        "plt.show()\n",
        "sns.boxplot(data=ngsim,y='Space_Headway',x='v_Class')\n",
        "plt.show()\n",
        "sns.scatterplot(data=ngsim, x='v_Width', y='Space_Headway')\n",
        "plt.show()\n",
        "sns.scatterplot(data=ngsim, x='v_Width', y='Space_Headway', hue = \"Location\")\n",
        "plt.show()\n",
        "PrecedingButNoID = set(ngsim[\"Preceding\"].unique()) - set(ngsim[\"Vehicle_ID\"].unique())\n",
        "IDButNoPreceding = set(ngsim[\"Vehicle_ID\"].unique()) - set(ngsim[\"Preceding\"].unique())\n",
        "FollowingButNoID = set(ngsim[\"Following\"].unique()) - set(ngsim[\"Vehicle_ID\"].unique())\n",
        "IDButNoFollowing = set(ngsim[\"Vehicle_ID\"].unique()) - set(ngsim[\"Following\"].unique())\n",
        "print(f\"Preceding Vehicle But Not in ID: {PrecedingButNoID}\")\n",
        "print(f\"ID But Not in Preceding Vehicle: {IDButNoPreceding}\")\n",
        "print(f\"Following Vehicle But Not in ID: {FollowingButNoID}\")\n",
        "print(f\"ID But Not in Following Vehicle: {IDButNoFollowing}\")\n",
        "sns.countplot(data=ngsim,x='v_Class')\n",
        "plt.show()  \n",
        "sns.countplot(data=ngsim,x='Lane_ID')\n",
        "plt.show()  \n",
        "sns.countplot(data=ngsim,x='Location')\n",
        "plt.show()  "
      ],
      "id": "40b66a07",
      "execution_count": null,
      "outputs": []
    },
    {
      "cell_type": "code",
      "metadata": {},
      "source": [
        "sns.boxplot(data=ngsim,y='Space_Headway',x='Location')\n",
        "plt.show()\n",
        "#Box plots for accerelation vs. relevent categorical varible\n",
        "sns.boxplot(data=ngsim, x='v_Class', y='v_Vel')\n",
        "plt.show()\n",
        "sns.boxplot(data=ngsim, x='Location', y='v_Vel')\n",
        "plt.show()\n",
        "sns.boxplot(data=ngsim, x='Direction', y='v_Vel')\n",
        "plt.show()\n",
        "sns.boxplot(data=ngsim, x='Movement', y='v_Vel')\n",
        "plt.show()\n",
        "sns.boxplot(data=ngsim, x='Lane_ID', y='v_Vel')\n",
        "plt.show()\n",
        "#Box plots for accerelation vs. relevent categorical varible\n",
        "sns.boxplot(data=ngsim, x='v_Class', y='v_Acc')\n",
        "plt.show()\n",
        "sns.boxplot(data=ngsim, x='Location', y='v_Acc')\n",
        "plt.show()\n",
        "sns.boxplot(data=ngsim, x='Direction', y='v_Acc')\n",
        "plt.show()\n",
        "sns.boxplot(data=ngsim, x='Movement', y='v_Acc')\n",
        "plt.show()\n",
        "sns.boxplot(data=ngsim, x='Lane_ID', y='v_Acc')\n",
        "plt.show()"
      ],
      "id": "f3d90bcc",
      "execution_count": null,
      "outputs": []
    },
    {
      "cell_type": "markdown",
      "metadata": {},
      "source": [
        "## References"
      ],
      "id": "4780c455"
    }
  ],
  "metadata": {
    "kernelspec": {
      "name": "python3",
      "language": "python",
      "display_name": "Python 3 (ipykernel)"
    }
  },
  "nbformat": 4,
  "nbformat_minor": 5
}