{
 "cells": [
  {
   "cell_type": "markdown",
   "metadata": {},
   "source": [
    "Importing required libraries to predict acceleration using random forest, calculate RMSE (RootMeanSquaredError), and create plots to compare predicted and actual acceleration"
   ]
  },
  {
   "cell_type": "code",
   "execution_count": 1,
   "metadata": {},
   "outputs": [],
   "source": [
    "from sklearn.ensemble import RandomForestRegressor\n",
    "from sklearn.metrics import mean_absolute_error, r2_score\n",
    "import pandas as pd\n",
    "import numpy as np\n",
    "import matplotlib.pyplot as plt\n",
    "import seaborn as sns\n",
    "from pathlib import Path \n",
    "import warnings\n",
    "warnings.filterwarnings(\"ignore\")\n",
    "import pyreadr\n",
    "import random\n",
    "from sklearn.preprocessing import OneHotEncoder\n",
    "import FileProcessing\n",
    "import RandomForest"
   ]
  },
  {
   "cell_type": "markdown",
   "metadata": {},
   "source": [
    "Loading the cleaned ngsim data using pandas"
   ]
  },
  {
   "cell_type": "code",
   "execution_count": 2,
   "metadata": {},
   "outputs": [],
   "source": [
    "p = Path().cwd()\n",
    "stringpath= str(p)[0:str(p).rfind('\\\\')] + '\\\\data'\n",
    "ngsimfile=stringpath + '/' + 'Cleaned_NGSIM_Data.csv'\n",
    "ngsim = pd.read_csv(ngsimfile,low_memory=False)"
   ]
  },
  {
   "cell_type": "markdown",
   "metadata": {},
   "source": [
    "Adding new columns nextframe acceleration, velocity, and position which will be our target features."
   ]
  },
  {
   "cell_type": "code",
   "execution_count": 3,
   "metadata": {},
   "outputs": [],
   "source": [
    "ngsim[\"nextframeAcc\"]=ngsim.groupby([\"L-F_Pair\"],as_index=False)[\"v_Acc\"].shift(-1)\n",
    "ngsim[\"nextframesvel\"]=ngsim.groupby([\"L-F_Pair\"],as_index=False)[\"v_Vel\"].shift(-1)\n",
    "ngsim[\"nextframeposition\"]=ngsim.groupby([\"L-F_Pair\"],as_index=False)[\"Local_Y\"].shift(-1)"
   ]
  },
  {
   "cell_type": "markdown",
   "metadata": {},
   "source": [
    "Removing null values from added column as we have taken v_acc one step above in nextframeAcc in each pairs. "
   ]
  },
  {
   "cell_type": "code",
   "execution_count": 4,
   "metadata": {},
   "outputs": [],
   "source": [
    "ngsim = ngsim[ngsim[\"nextframeAcc\"].notna()]"
   ]
  },
  {
   "cell_type": "code",
   "execution_count": 5,
   "metadata": {},
   "outputs": [],
   "source": [
    "\n",
    "ngsim[\"Front_To_Rear_Time_Headway\"] = ngsim[\"Front_To_Rear_Time_Headway\"].replace(np.nan, 9999)"
   ]
  },
  {
   "cell_type": "code",
   "execution_count": null,
   "metadata": {},
   "outputs": [],
   "source": []
  },
  {
   "cell_type": "code",
   "execution_count": 6,
   "metadata": {},
   "outputs": [],
   "source": [
    "ngsim[\"Vehicle_combination_cat\"] = ngsim[\"Vehicle_combination\"].astype(\"category\").cat.codes"
   ]
  },
  {
   "cell_type": "markdown",
   "metadata": {},
   "source": [
    "Spliting data into 70% training and 30% testing"
   ]
  },
  {
   "cell_type": "code",
   "execution_count": 7,
   "metadata": {},
   "outputs": [],
   "source": [
    "def training_pairs(data):\n",
    "    random.seed(2109)\n",
    "    pairs = data[\"L-F_Pair\"].unique()\n",
    "    pairs = pairs.tolist()\n",
    "    v = round(len(pairs)*0.7)   \n",
    "    pairs = random.sample(pairs, v)\n",
    "    return pairs\n",
    "my_pairs=training_pairs(ngsim)"
   ]
  },
  {
   "cell_type": "code",
   "execution_count": 8,
   "metadata": {},
   "outputs": [],
   "source": [
    "#converting the total dataset to 70/30% pair for train and test. \n",
    "train = ngsim[ngsim['L-F_Pair'].isin(my_pairs)]\n",
    "\n",
    "test = ngsim[~ngsim['L-F_Pair'].isin(my_pairs)]"
   ]
  },
  {
   "cell_type": "code",
   "execution_count": 9,
   "metadata": {},
   "outputs": [],
   "source": [
    "#train = train.head(1000000)"
   ]
  },
  {
   "cell_type": "code",
   "execution_count": 10,
   "metadata": {},
   "outputs": [],
   "source": [
    "#test = test.head(300000)"
   ]
  },
  {
   "cell_type": "code",
   "execution_count": 11,
   "metadata": {},
   "outputs": [
    {
     "data": {
      "text/plain": [
       "Vehicle_ID                                     0\n",
       "Frame_ID                                       0\n",
       "Global_Time                                    0\n",
       "Local_X                                        0\n",
       "Local_Y                                        0\n",
       "Global_X                                       0\n",
       "Global_Y                                       0\n",
       "v_length                                       0\n",
       "v_Class                                        0\n",
       "v_Vel                                          0\n",
       "v_Acc                                          0\n",
       "Lane_ID                                        0\n",
       "Preceding                                      0\n",
       "Space_Headway                                  0\n",
       "Time_Headway                                   0\n",
       "Location                                       0\n",
       "Preceding_Vehicle_Class                        0\n",
       "Rear_to_Front_Space_Headway                    0\n",
       "Front_To_Rear_Time_Headway                     0\n",
       "Velocity Difference_Following-Preceding        0\n",
       "Acceleration Difference_Following-Preceding    0\n",
       "L-F_Pair                                       0\n",
       "v_Class_Name                                   0\n",
       "Relative_Time                                  0\n",
       "Vehicle_combination                            0\n",
       "preceding_vehicle_length                       0\n",
       "lane_changes                                   0\n",
       "Prec_Vehicle_ID                                0\n",
       "previous_Vehicle_Velocity                      0\n",
       "previous_Vehicle_Acceleration                  0\n",
       "previous_car_lane_changes                      0\n",
       "pair_Time_Duration                             0\n",
       "total_pair_duration                            0\n",
       "nextframeAcc                                   0\n",
       "nextframesvel                                  0\n",
       "nextframeposition                              0\n",
       "Vehicle_combination_cat                        0\n",
       "dtype: int64"
      ]
     },
     "execution_count": 11,
     "metadata": {},
     "output_type": "execute_result"
    }
   ],
   "source": [
    "train.isnull().sum()"
   ]
  },
  {
   "cell_type": "code",
   "execution_count": 12,
   "metadata": {},
   "outputs": [
    {
     "data": {
      "text/plain": [
       "RandomForestRegressor(n_estimators=150, n_jobs=-1)"
      ]
     },
     "execution_count": 12,
     "metadata": {},
     "output_type": "execute_result"
    }
   ],
   "source": [
    "X_train = train[[\"Rear_to_Front_Space_Headway\",'Vehicle_combination_cat','Local_Y','Velocity Difference_Following-Preceding','v_Vel']]\n",
    "y_train= train['nextframeAcc']\n",
    "X_test = test[[\"Rear_to_Front_Space_Headway\",'Vehicle_combination_cat','Local_Y','Velocity Difference_Following-Preceding','v_Vel']]\n",
    "y_test= test['nextframeAcc']\n",
    "rf = RandomForestRegressor(n_estimators = 150,n_jobs=-1)\n",
    "rf.fit(X_train,y_train)"
   ]
  },
  {
   "cell_type": "code",
   "execution_count": 13,
   "metadata": {},
   "outputs": [],
   "source": [
    "def data_in_parts(test,rangefrom,rangeto):\n",
    "    a=test['L-F_Pair'].unique()\n",
    "    b = a.tolist()\n",
    "    b = b[rangefrom:rangeto]\n",
    "    c= len(a)/30\n",
    "    return c,b \n",
    "\n",
    "\n",
    "def prediction(test,b,target_variable,RFReg):\n",
    "    F_df = []\n",
    "    r = []\n",
    "    Q = pd.DataFrame()\n",
    "# b is the test range\n",
    "    for i in b:\n",
    "# Q this is the input data frame\n",
    "        Q = test[test['L-F_Pair']== i]\n",
    "        vel=np.zeros(Q.shape[0])\n",
    "        Vehicle_combination = np.zeros(Q.shape[0])\n",
    "        Local_Y =  np.zeros(Q.shape[0])\n",
    "        spacing = np.zeros(Q.shape[0])\n",
    "        dv = np.zeros(Q.shape[0])\n",
    "\n",
    "        pred_acc = np.zeros(Q.shape[0])\n",
    "        \n",
    "    \n",
    "        #adding first value of the vehicle\n",
    "        vel[0]=Q.iloc[0]['v_Vel']\n",
    "        spacing[0] = Q.iloc[0]['Rear_to_Front_Space_Headway']\n",
    "        Vehicle_combination[0] = Q.iloc[0]['Vehicle_combination_cat']\n",
    "        Local_Y[0] =  Q.iloc[0]['Local_Y']\n",
    "        dv[0] = Q.iloc[0]['Velocity Difference_Following-Preceding']   \n",
    "            \n",
    "        pred_acc[0] = Q.iloc[1][target_variable]\n",
    "     \n",
    "    \n",
    "\n",
    "#     #predicting first value of acceleration\n",
    "            #check here\n",
    "        pred_acc[1]= rf.predict(np.array([vel[0],Vehicle_combination[0],Local_Y[0],dv[0],spacing[0]]).reshape(1,-1))\n",
    "            \n",
    "\n",
    "#     #calculating vel,frspacing,local.y,dv from the predicted acceleration.\n",
    "            #check here\n",
    "    \n",
    "    \n",
    "        for j in range(2,len(Q)):\n",
    "#         ########\n",
    "#         #print(j)\n",
    "#         ########\n",
    "            vel[j] = vel[j-1]+(pred_acc[j]*0.1)\n",
    "            dv[j] = vel[j] - Q.iloc[j]['previous_Vehicle_Velocity']\n",
    "            #spacing[j] = spacing[j-1]+((vel[j-1]*0.1)+ (0.5*pred_acc[j]*pow(0.1,2)))\n",
    "            spacing[j] = (vel[j-1]*0.1)+ (0.5*pred_acc[j]*pow(0.1,2))\n",
    "            Local_Y[j]= Local_Y[j-1]\n",
    "            Vehicle_combination[j]=Vehicle_combination[j-1]\n",
    "#         ########\n",
    "#         ## localy: s = ut + 0.5*a*t^2\n",
    "#         ########\n",
    "            \n",
    "            if j == len(Q)-1:\n",
    "                break\n",
    "            pred_acc[j+1] = rf.predict(np.array([Vehicle_combination[j],Local_Y[j],vel[j],dv[j],spacing[j]]).reshape(1, -1))\n",
    "#         ########\n",
    "#         #print(pred_acc)\n",
    "#         ########\n",
    "        Q['pacc']=pred_acc\n",
    "        Q['pvel']=vel\n",
    "\n",
    "        F_df.append(Q)\n",
    "        result = pd.concat(F_df)\n",
    "        #r.append(r2_score(Q[target_variable], Q['pacc']))\n",
    "        \n",
    " \n",
    "    return result\n"
   ]
  },
  {
   "cell_type": "code",
   "execution_count": 14,
   "metadata": {},
   "outputs": [
    {
     "name": "stdout",
     "output_type": "stream",
     "text": [
      "['2939-2948', '2964-2971', '2940-2945', '2941-2943', '2945-2950', '2861-2870', '2958-2961', '2967-2978', '2993-3006', '3006-3009', '2988-3004', '3009-3018', '3018-3025', '3014-3022', '3002-3015', '35-41', '285-288', '376-377', '422-428', '877-887']\n"
     ]
    }
   ],
   "source": [
    "c, b = data_in_parts(test,100,120)\n",
    "print(b)\n",
    "\n",
    "\n",
    "#Predicted acceleration\n",
    "target_variable = 'nextframeAcc'\n",
    "F = prediction(test, b, target_variable, rf)"
   ]
  },
  {
   "cell_type": "code",
   "execution_count": 19,
   "metadata": {},
   "outputs": [
    {
     "name": "stdout",
     "output_type": "stream",
     "text": [
      "Collecting tensorflow\n",
      "  Downloading tensorflow-2.9.1-cp39-cp39-win_amd64.whl (444.0 MB)\n",
      "Collecting tensorflow-io-gcs-filesystem>=0.23.1\n",
      "  Downloading tensorflow_io_gcs_filesystem-0.26.0-cp39-cp39-win_amd64.whl (1.5 MB)\n",
      "Requirement already satisfied: numpy>=1.20 in c:\\users\\studentaccount\\anaconda\\envs\\project\\lib\\site-packages (from tensorflow) (1.22.3)\n",
      "Requirement already satisfied: packaging in c:\\users\\studentaccount\\anaconda\\envs\\project\\lib\\site-packages (from tensorflow) (21.3)\n",
      "Collecting h5py>=2.9.0\n",
      "  Downloading h5py-3.7.0-cp39-cp39-win_amd64.whl (2.6 MB)\n",
      "Collecting astunparse>=1.6.0\n",
      "  Downloading astunparse-1.6.3-py2.py3-none-any.whl (12 kB)\n",
      "Requirement already satisfied: wrapt>=1.11.0 in c:\\users\\studentaccount\\anaconda\\envs\\project\\lib\\site-packages (from tensorflow) (1.13.3)\n",
      "Collecting keras-preprocessing>=1.1.1\n",
      "  Downloading Keras_Preprocessing-1.1.2-py2.py3-none-any.whl (42 kB)\n",
      "Collecting grpcio<2.0,>=1.24.3\n",
      "  Downloading grpcio-1.47.0-cp39-cp39-win_amd64.whl (3.6 MB)\n",
      "Requirement already satisfied: six>=1.12.0 in c:\\users\\studentaccount\\anaconda\\envs\\project\\lib\\site-packages (from tensorflow) (1.16.0)\n",
      "Collecting absl-py>=1.0.0\n",
      "  Downloading absl_py-1.1.0-py3-none-any.whl (123 kB)\n",
      "Collecting termcolor>=1.1.0\n",
      "  Downloading termcolor-1.1.0.tar.gz (3.9 kB)\n",
      "Collecting google-pasta>=0.1.1\n",
      "  Downloading google_pasta-0.2.0-py3-none-any.whl (57 kB)\n",
      "Collecting tensorflow-estimator<2.10.0,>=2.9.0rc0\n",
      "  Downloading tensorflow_estimator-2.9.0-py2.py3-none-any.whl (438 kB)\n",
      "Collecting protobuf<3.20,>=3.9.2\n",
      "  Downloading protobuf-3.19.4-cp39-cp39-win_amd64.whl (895 kB)\n",
      "Collecting libclang>=13.0.0\n",
      "  Downloading libclang-14.0.1-py2.py3-none-win_amd64.whl (14.2 MB)\n",
      "Collecting gast<=0.4.0,>=0.2.1\n",
      "  Downloading gast-0.4.0-py3-none-any.whl (9.8 kB)\n",
      "Requirement already satisfied: setuptools in c:\\users\\studentaccount\\anaconda\\envs\\project\\lib\\site-packages (from tensorflow) (61.2.0)\n",
      "Collecting keras<2.10.0,>=2.9.0rc0\n",
      "  Downloading keras-2.9.0-py2.py3-none-any.whl (1.6 MB)\n",
      "Collecting flatbuffers<2,>=1.12\n",
      "  Downloading flatbuffers-1.12-py2.py3-none-any.whl (15 kB)\n",
      "Requirement already satisfied: typing-extensions>=3.6.6 in c:\\users\\studentaccount\\anaconda\\envs\\project\\lib\\site-packages (from tensorflow) (4.1.1)\n",
      "Collecting tensorboard<2.10,>=2.9\n",
      "  Downloading tensorboard-2.9.1-py3-none-any.whl (5.8 MB)\n",
      "Collecting opt-einsum>=2.3.2\n",
      "  Downloading opt_einsum-3.3.0-py3-none-any.whl (65 kB)\n",
      "Requirement already satisfied: wheel<1.0,>=0.23.0 in c:\\users\\studentaccount\\anaconda\\envs\\project\\lib\\site-packages (from astunparse>=1.6.0->tensorflow) (0.37.1)\n",
      "Collecting google-auth<3,>=1.6.3\n",
      "  Downloading google_auth-2.9.0-py2.py3-none-any.whl (167 kB)\n",
      "Collecting tensorboard-data-server<0.7.0,>=0.6.0\n",
      "  Downloading tensorboard_data_server-0.6.1-py3-none-any.whl (2.4 kB)\n",
      "Collecting tensorboard-plugin-wit>=1.6.0\n",
      "  Downloading tensorboard_plugin_wit-1.8.1-py3-none-any.whl (781 kB)\n",
      "Collecting google-auth-oauthlib<0.5,>=0.4.1\n",
      "  Downloading google_auth_oauthlib-0.4.6-py2.py3-none-any.whl (18 kB)\n",
      "Requirement already satisfied: requests<3,>=2.21.0 in c:\\users\\studentaccount\\anaconda\\envs\\project\\lib\\site-packages (from tensorboard<2.10,>=2.9->tensorflow) (2.27.1)\n",
      "Collecting markdown>=2.6.8\n",
      "  Downloading Markdown-3.3.7-py3-none-any.whl (97 kB)\n",
      "Collecting werkzeug>=1.0.1\n",
      "  Downloading Werkzeug-2.1.2-py3-none-any.whl (224 kB)\n",
      "Collecting cachetools<6.0,>=2.0.0\n",
      "  Downloading cachetools-5.2.0-py3-none-any.whl (9.3 kB)\n",
      "Collecting rsa<5,>=3.1.4\n",
      "  Downloading rsa-4.8-py3-none-any.whl (39 kB)\n",
      "Collecting pyasn1-modules>=0.2.1\n",
      "  Downloading pyasn1_modules-0.2.8-py2.py3-none-any.whl (155 kB)\n",
      "Collecting requests-oauthlib>=0.7.0\n",
      "  Downloading requests_oauthlib-1.3.1-py2.py3-none-any.whl (23 kB)\n",
      "Requirement already satisfied: importlib-metadata>=4.4 in c:\\users\\studentaccount\\anaconda\\envs\\project\\lib\\site-packages (from markdown>=2.6.8->tensorboard<2.10,>=2.9->tensorflow) (4.11.3)\n",
      "Requirement already satisfied: zipp>=0.5 in c:\\users\\studentaccount\\anaconda\\envs\\project\\lib\\site-packages (from importlib-metadata>=4.4->markdown>=2.6.8->tensorboard<2.10,>=2.9->tensorflow) (3.8.0)\n",
      "Collecting pyasn1<0.5.0,>=0.4.6\n",
      "  Downloading pyasn1-0.4.8-py2.py3-none-any.whl (77 kB)\n",
      "Requirement already satisfied: certifi>=2017.4.17 in c:\\users\\studentaccount\\anaconda\\envs\\project\\lib\\site-packages (from requests<3,>=2.21.0->tensorboard<2.10,>=2.9->tensorflow) (2022.6.15)\n",
      "Requirement already satisfied: urllib3<1.27,>=1.21.1 in c:\\users\\studentaccount\\anaconda\\envs\\project\\lib\\site-packages (from requests<3,>=2.21.0->tensorboard<2.10,>=2.9->tensorflow) (1.26.9)\n",
      "Requirement already satisfied: idna<4,>=2.5 in c:\\users\\studentaccount\\anaconda\\envs\\project\\lib\\site-packages (from requests<3,>=2.21.0->tensorboard<2.10,>=2.9->tensorflow) (3.3)\n",
      "Requirement already satisfied: charset-normalizer~=2.0.0 in c:\\users\\studentaccount\\anaconda\\envs\\project\\lib\\site-packages (from requests<3,>=2.21.0->tensorboard<2.10,>=2.9->tensorflow) (2.0.4)\n",
      "Collecting oauthlib>=3.0.0\n",
      "  Downloading oauthlib-3.2.0-py3-none-any.whl (151 kB)\n",
      "Requirement already satisfied: pyparsing!=3.0.5,>=2.0.2 in c:\\users\\studentaccount\\anaconda\\envs\\project\\lib\\site-packages (from packaging->tensorflow) (3.0.4)\n",
      "Building wheels for collected packages: termcolor\n",
      "  Building wheel for termcolor (setup.py): started\n",
      "  Building wheel for termcolor (setup.py): finished with status 'done'\n",
      "  Created wheel for termcolor: filename=termcolor-1.1.0-py3-none-any.whl size=4848 sha256=0b4d29445c3e89a9a09c140ef7cd8d9b4fa6b6f35f112028c706c6a21c9cafb1\n",
      "  Stored in directory: c:\\users\\studentaccount\\appdata\\local\\pip\\cache\\wheels\\b6\\0d\\90\\0d1bbd99855f99cb2f6c2e5ff96f8023fad8ec367695f7d72d\n",
      "Successfully built termcolor\n",
      "Installing collected packages: pyasn1, rsa, pyasn1-modules, oauthlib, cachetools, requests-oauthlib, google-auth, werkzeug, tensorboard-plugin-wit, tensorboard-data-server, protobuf, markdown, grpcio, google-auth-oauthlib, absl-py, termcolor, tensorflow-io-gcs-filesystem, tensorflow-estimator, tensorboard, opt-einsum, libclang, keras-preprocessing, keras, h5py, google-pasta, gast, flatbuffers, astunparse, tensorflow\n",
      "Successfully installed absl-py-1.1.0 astunparse-1.6.3 cachetools-5.2.0 flatbuffers-1.12 gast-0.4.0 google-auth-2.9.0 google-auth-oauthlib-0.4.6 google-pasta-0.2.0 grpcio-1.47.0 h5py-3.7.0 keras-2.9.0 keras-preprocessing-1.1.2 libclang-14.0.1 markdown-3.3.7 oauthlib-3.2.0 opt-einsum-3.3.0 protobuf-3.19.4 pyasn1-0.4.8 pyasn1-modules-0.2.8 requests-oauthlib-1.3.1 rsa-4.8 tensorboard-2.9.1 tensorboard-data-server-0.6.1 tensorboard-plugin-wit-1.8.1 tensorflow-2.9.1 tensorflow-estimator-2.9.0 tensorflow-io-gcs-filesystem-0.26.0 termcolor-1.1.0 werkzeug-2.1.2\n"
     ]
    }
   ],
   "source": [
    "F1 = F[F[\"L-F_Pair\"]==\"2939-2948\"]\n",
    "!pip install tensorflow"
   ]
  },
  {
   "cell_type": "code",
   "execution_count": 16,
   "metadata": {},
   "outputs": [
    {
     "data": {
      "image/png": "[encoded data removed]",
      "text/plain": [
       "<Figure size 360x504 with 1 Axes>"
      ]
     },
     "metadata": {
      "needs_background": "light"
     },
     "output_type": "display_data"
    }
   ],
   "source": [
    "import seaborn as sns\n",
    "plt.figure(figsize=(5, 7))\n",
    "\n",
    "\n",
    "ax = sns.lineplot(x=F1[\"pair_Time_Duration\"], y = F1[\"nextframeAcc\"], color=\"r\", label=\"Actual Value\")\n",
    "sns.lineplot(x=F1[\"pair_Time_Duration\"], y =F1[\"pacc\"],  color=\"b\", label=\"Fitted Values\" )\n",
    "\n",
    "\n",
    "plt.title('Actual vs Fitted Values')\n",
    "\n",
    "\n",
    "plt.show()\n",
    "plt.close()"
   ]
  },
  {
   "cell_type": "code",
   "execution_count": 17,
   "metadata": {},
   "outputs": [
    {
     "data": {
      "image/png": "[encoded data removed]",
      "text/plain": [
       "<Figure size 360x504 with 1 Axes>"
      ]
     },
     "metadata": {
      "needs_background": "light"
     },
     "output_type": "display_data"
    }
   ],
   "source": [
    "plt.figure(figsize=(5, 7))\n",
    "\n",
    "\n",
    "ax = sns.lineplot(x=F1[\"pair_Time_Duration\"], y = F1[\"nextframeAcc\"], color=\"r\", label=\"Actual Value\")\n",
    "sns.lineplot(x=F1[\"pair_Time_Duration\"], y =F1[\"pacc\"],  color=\"b\", label=\"Fitted Values\" )\n",
    "\n",
    "\n",
    "plt.title('Actual vs Fitted Values')\n",
    "\n",
    "\n",
    "plt.show()\n",
    "plt.close()"
   ]
  },
  {
   "cell_type": "code",
   "execution_count": 18,
   "metadata": {},
   "outputs": [
    {
     "data": {
      "text/plain": [
       "Index(['Vehicle_ID', 'Frame_ID', 'Global_Time', 'Local_X', 'Local_Y',\n",
       "       'Global_X', 'Global_Y', 'v_length', 'v_Class', 'v_Vel', 'v_Acc',\n",
       "       'Lane_ID', 'Preceding', 'Space_Headway', 'Time_Headway', 'Location',\n",
       "       'Preceding_Vehicle_Class', 'Rear_to_Front_Space_Headway',\n",
       "       'Front_To_Rear_Time_Headway', 'Velocity Difference_Following-Preceding',\n",
       "       'Acceleration Difference_Following-Preceding', 'L-F_Pair',\n",
       "       'v_Class_Name', 'Relative_Time', 'Vehicle_combination',\n",
       "       'preceding_vehicle_length', 'lane_changes', 'Prec_Vehicle_ID',\n",
       "       'previous_Vehicle_Velocity', 'previous_Vehicle_Acceleration',\n",
       "       'previous_car_lane_changes', 'pair_Time_Duration',\n",
       "       'total_pair_duration', 'nextframeAcc', 'nextframesvel',\n",
       "       'nextframeposition', 'Vehicle_combination_cat'],\n",
       "      dtype='object')"
      ]
     },
     "execution_count": 18,
     "metadata": {},
     "output_type": "execute_result"
    }
   ],
   "source": [
    "ngsim.columns"
   ]
  }
 ],
 "metadata": {
  "kernelspec": {
   "display_name": "Python 3.9.12 ('Project')",
   "language": "python",
   "name": "python3"
  },
  "language_info": {
   "codemirror_mode": {
    "name": "ipython",
    "version": 3
   },
   "file_extension": ".py",
   "mimetype": "text/x-python",
   "name": "python",
   "nbconvert_exporter": "python",
   "pygments_lexer": "ipython3",
   "version": "3.9.12"
  },
  "orig_nbformat": 4,
  "vscode": {
   "interpreter": {
    "hash": "66102dfb9f2e5b7365bdb29c60f74c4733e59ed799f4b54b51820e6de3573383"
   }
  }
 },
 "nbformat": 4,
 "nbformat_minor": 2
}
