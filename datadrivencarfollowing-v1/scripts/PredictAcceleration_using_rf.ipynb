{
 "cells": [
  {
   "cell_type": "markdown",
   "metadata": {},
   "source": [
    "Importing required libraries to predict acceleration using random forest, calculate RMSE (RootMeanSquaredError), and create plots to compare predicted and actual acceleration"
   ]
  },
  {
   "cell_type": "code",
   "execution_count": 1,
   "metadata": {},
   "outputs": [],
   "source": [
    "from sklearn.ensemble import RandomForestRegressor\n",
    "from sklearn.metrics import mean_absolute_error, r2_score\n",
    "import pandas as pd\n",
    "import numpy as np\n",
    "import matplotlib.pyplot as plt\n",
    "import seaborn as sns\n",
    "from pathlib import Path \n",
    "import warnings\n",
    "warnings.filterwarnings(\"ignore\")\n",
    "import pyreadr\n",
    "import random\n",
    "from sklearn.preprocessing import OneHotEncoder"
   ]
  },
  {
   "cell_type": "markdown",
   "metadata": {},
   "source": [
    "Loading the cleaned ngsim data using pandas"
   ]
  },
  {
   "cell_type": "code",
   "execution_count": 2,
   "metadata": {},
   "outputs": [],
   "source": [
    "p = Path().cwd()\n",
    "stringpath= str(p)[0:str(p).rfind('\\\\')] + '\\\\data'\n",
    "ngsimfile=stringpath + '/' + 'Cleaned_NGSIM_Data.csv'\n",
    "ngsim = pd.read_csv(ngsimfile,low_memory=False)"
   ]
  },
  {
   "cell_type": "markdown",
   "metadata": {},
   "source": [
    "Adding new columns nextframe acceleration, velocity, and position which will be our target features."
   ]
  },
  {
   "cell_type": "code",
   "execution_count": 4,
   "metadata": {},
   "outputs": [],
   "source": [
    "ngsim[\"nextframeAcc\"]=ngsim.groupby([\"L-F_Pair\"],as_index=False)[\"v_Acc\"].shift(-1)\n",
    "ngsim[\"nextframesvel\"]=ngsim.groupby([\"L-F_Pair\"],as_index=False)[\"v_Vel\"].shift(-1)\n",
    "ngsim[\"nextframeposition\"]=ngsim.groupby([\"L-F_Pair\"],as_index=False)[\"Local_Y\"].shift(-1)"
   ]
  },
  {
   "cell_type": "markdown",
   "metadata": {},
   "source": [
    "Removing null values from added column as we have taken v_acc one step above in nextframeAcc in each pairs. "
   ]
  },
  {
   "cell_type": "code",
   "execution_count": 5,
   "metadata": {},
   "outputs": [],
   "source": [
    "ngsim = ngsim[ngsim[\"nextframeAcc\"].notna()]"
   ]
  },
  {
   "cell_type": "code",
   "execution_count": 6,
   "metadata": {},
   "outputs": [],
   "source": [
    "\n",
    "ngsim[\"Front_To_Rear_Time_Headway\"] = ngsim[\"Front_To_Rear_Time_Headway\"].replace(np.nan, 9999)"
   ]
  },
  {
   "cell_type": "code",
   "execution_count": null,
   "metadata": {},
   "outputs": [],
   "source": []
  },
  {
   "cell_type": "code",
   "execution_count": 7,
   "metadata": {},
   "outputs": [],
   "source": [
    "ngsim[\"Vehicle_combination_cat\"] = ngsim[\"Vehicle_combination\"].astype(\"category\").cat.codes"
   ]
  },
  {
   "cell_type": "markdown",
   "metadata": {},
   "source": [
    "Spliting data into 70% training and 30% testing"
   ]
  },
  {
   "cell_type": "code",
   "execution_count": 8,
   "metadata": {},
   "outputs": [],
   "source": [
    "def training_pairs(data):\n",
    "    random.seed(2109)\n",
    "    pairs = data[\"L-F_Pair\"].unique()\n",
    "    pairs = pairs.tolist()\n",
    "    v = round(len(pairs)*0.7)   \n",
    "    pairs = random.sample(pairs, v)\n",
    "    return pairs\n",
    "my_pairs=training_pairs(ngsim)"
   ]
  },
  {
   "cell_type": "code",
   "execution_count": 9,
   "metadata": {},
   "outputs": [],
   "source": [
    "#converting the total dataset to 70/30% pair for train and test. \n",
    "train = ngsim[ngsim['L-F_Pair'].isin(my_pairs)]\n",
    "\n",
    "test = ngsim[~ngsim['L-F_Pair'].isin(my_pairs)]"
   ]
  },
  {
   "cell_type": "code",
   "execution_count": 15,
   "metadata": {},
   "outputs": [],
   "source": [
    "train = train.head(1000000)"
   ]
  },
  {
   "cell_type": "code",
   "execution_count": 16,
   "metadata": {},
   "outputs": [],
   "source": [
    "test = test.head(300000)"
   ]
  },
  {
   "cell_type": "code",
   "execution_count": 12,
   "metadata": {},
   "outputs": [
    {
     "data": {
      "text/plain": [
       "Vehicle_ID                                     0\n",
       "Frame_ID                                       0\n",
       "Global_Time                                    0\n",
       "Local_X                                        0\n",
       "Local_Y                                        0\n",
       "Global_X                                       0\n",
       "Global_Y                                       0\n",
       "v_length                                       0\n",
       "v_Class                                        0\n",
       "v_Vel                                          0\n",
       "v_Acc                                          0\n",
       "Lane_ID                                        0\n",
       "Preceding                                      0\n",
       "Space_Headway                                  0\n",
       "Time_Headway                                   0\n",
       "Location                                       0\n",
       "Relative_Time                                  0\n",
       "Preceding_Vehicle_Class                        0\n",
       "Rear_to_Front_Space_Headway                    0\n",
       "Front_To_Rear_Time_Headway                     0\n",
       "L-F_Pair                                       0\n",
       "Velocity Difference_Following-Preceding        0\n",
       "Acceleration Difference_Following-Preceding    0\n",
       "v_Class_Name                                   0\n",
       "previous_Vehicle_length                        0\n",
       "Vehicle_combination                            0\n",
       "lane_changes                                   0\n",
       "Prec_Vehicle_ID                                0\n",
       "previous_Vehicle_Velocity                      0\n",
       "previous_Vehicle_Acceleration                  0\n",
       "previous_car_lane_changes                      0\n",
       "pair_Time_Duration                             0\n",
       "total_pair_duration                            0\n",
       "nextframeAcc                                   0\n",
       "nextframesvel                                  0\n",
       "nextframeposition                              0\n",
       "Vehicle_combination_cat                        0\n",
       "dtype: int64"
      ]
     },
     "execution_count": 12,
     "metadata": {},
     "output_type": "execute_result"
    }
   ],
   "source": [
    "train.isnull().sum()"
   ]
  },
  {
   "cell_type": "code",
   "execution_count": 20,
   "metadata": {},
   "outputs": [
    {
     "data": {
      "text/plain": [
       "RandomForestRegressor(n_estimators=150, n_jobs=-1)"
      ]
     },
     "execution_count": 20,
     "metadata": {},
     "output_type": "execute_result"
    }
   ],
   "source": [
    "X_train = train[[\"Rear_to_Front_Space_Headway\",'Vehicle_combination_cat','Local_Y','Velocity Difference_Following-Preceding','v_Vel']]\n",
    "y_train= train['nextframeAcc']\n",
    "X_test = test[[\"Rear_to_Front_Space_Headway\",'Vehicle_combination_cat','Local_Y','Velocity Difference_Following-Preceding','v_Vel']]\n",
    "y_test= test['nextframeAcc']\n",
    "rf = RandomForestRegressor(n_estimators = 150,n_jobs=-1)\n",
    "rf.fit(X_train,y_train)"
   ]
  },
  {
   "cell_type": "code",
   "execution_count": 41,
   "metadata": {},
   "outputs": [],
   "source": [
    "def data_in_parts(test,rangefrom,rangeto):\n",
    "    a=test['L-F_Pair'].unique()\n",
    "    b = a.tolist()\n",
    "    b = b[rangefrom:rangeto]\n",
    "    c= len(a)/30\n",
    "    return c,b \n",
    "\n",
    "\n",
    "def prediction(test,b,target_variable,RFReg):\n",
    "    F_df = []\n",
    "    r = []\n",
    "    Q = pd.DataFrame()\n",
    "# b is the test range\n",
    "    for i in b:\n",
    "# Q this is the input data frame\n",
    "        Q = test[test['L-F_Pair']== i]\n",
    "        vel=np.zeros(Q.shape[0])\n",
    "        Vehicle_combination = np.zeros(Q.shape[0])\n",
    "        Local_Y =  np.zeros(Q.shape[0])\n",
    "        spacing = np.zeros(Q.shape[0])\n",
    "        dv = np.zeros(Q.shape[0])\n",
    "\n",
    "        pred_acc = np.zeros(Q.shape[0])\n",
    "        \n",
    "    \n",
    "        #adding first value of the vehicle\n",
    "        vel[0]=Q.iloc[0]['v_Vel']\n",
    "        spacing[0] = Q.iloc[0]['Rear_to_Front_Space_Headway']\n",
    "        Vehicle_combination[0] = Q.iloc[0]['Vehicle_combination_cat']\n",
    "        Local_Y[0] =  Q.iloc[0]['Local_Y']\n",
    "        dv[0] = Q.iloc[0]['Velocity Difference_Following-Preceding']   \n",
    "            \n",
    "        pred_acc[0] = Q.iloc[1][target_variable]\n",
    "     \n",
    "    \n",
    "\n",
    "#     #predicting first value of acceleration\n",
    "            #check here\n",
    "        pred_acc[1]= rf.predict(np.array([vel[0],Vehicle_combination[0],Local_Y[0],dv[0],spacing[0]]).reshape(1,-1))\n",
    "            \n",
    "\n",
    "#     #calculating vel,frspacing,local.y,dv from the predicted acceleration.\n",
    "            #check here\n",
    "    \n",
    "    \n",
    "        for j in range(2,len(Q)):\n",
    "#         ########\n",
    "#         #print(j)\n",
    "#         ########\n",
    "            vel[j] = vel[j-1]+(pred_acc[j]*0.1)\n",
    "            dv[j] = vel[j] - Q.iloc[j]['previous_Vehicle_Velocity']\n",
    "            #spacing[j] = spacing[j-1]+((vel[j-1]*0.1)+ (0.5*pred_acc[j]*pow(0.1,2)))\n",
    "            spacing[j] = (vel[j-1]*0.1)+ (0.5*pred_acc[j]*pow(0.1,2))\n",
    "            Local_Y[j]= Local_Y[j-1]\n",
    "            Vehicle_combination[j]=Vehicle_combination[j-1]\n",
    "#         ########\n",
    "#         ## localy: s = ut + 0.5*a*t^2\n",
    "#         ########\n",
    "            \n",
    "            if j == len(Q)-1:\n",
    "                break\n",
    "            pred_acc[j+1] = rf.predict(np.array([Vehicle_combination[j],Local_Y[j],vel[j],dv[j],spacing[j]]).reshape(1, -1))\n",
    "#         ########\n",
    "#         #print(pred_acc)\n",
    "#         ########\n",
    "        Q['pacc']=pred_acc\n",
    "        Q['pvel']=vel\n",
    "\n",
    "        F_df.append(Q)\n",
    "        result = pd.concat(F_df)\n",
    "        #r.append(r2_score(Q[target_variable], Q['pacc']))\n",
    "        \n",
    " \n",
    "    return result\n"
   ]
  },
  {
   "cell_type": "code",
   "execution_count": 45,
   "metadata": {},
   "outputs": [
    {
     "name": "stdout",
     "output_type": "stream",
     "text": [
      "['2033-2041', '1942-1948', '2073-2079', '2079-2092', '2042-2054', '2092-2105', '2118-2130', '2071-2082', '2134-2140', '2140-2144', '2156-2162', '2125-2128', '2175-2181', '2190-2200', '2200-2202', '2202-2209', '2209-2214', '2093-2102', '2219-2226', '2241-2246']\n"
     ]
    }
   ],
   "source": [
    "c, b = data_in_parts(test,100,120)\n",
    "print(b)\n",
    "\n",
    "\n",
    "#Predicted acceleration\n",
    "target_variable = 'nextframeAcc'\n",
    "F = prediction(test, b, target_variable, rf)"
   ]
  },
  {
   "cell_type": "code",
   "execution_count": 56,
   "metadata": {},
   "outputs": [],
   "source": [
    "F1 = F[F[\"L-F_Pair\"]==\"2033-2041\"]"
   ]
  },
  {
   "cell_type": "code",
   "execution_count": 57,
   "metadata": {},
   "outputs": [
    {
     "data": {
      "image/png": "[encoded data removed]",
      "text/plain": [
       "<Figure size 360x504 with 1 Axes>"
      ]
     },
     "metadata": {
      "needs_background": "light"
     },
     "output_type": "display_data"
    }
   ],
   "source": [
    "import seaborn as sns\n",
    "plt.figure(figsize=(5, 7))\n",
    "\n",
    "\n",
    "ax = sns.lineplot(x=F1[\"pair_Time_Duration\"], y = F1[\"nextframeAcc\"], color=\"r\", label=\"Actual Value\")\n",
    "sns.lineplot(x=F1[\"pair_Time_Duration\"], y =F1[\"pacc\"],  color=\"b\", label=\"Fitted Values\" )\n",
    "\n",
    "\n",
    "plt.title('Actual vs Fitted Values')\n",
    "\n",
    "\n",
    "plt.show()\n",
    "plt.close()"
   ]
  },
  {
   "cell_type": "code",
   "execution_count": 44,
   "metadata": {},
   "outputs": [
    {
     "data": {
      "image/png": "[encoded data removed]",
      "text/plain": [
       "<Figure size 360x504 with 1 Axes>"
      ]
     },
     "metadata": {
      "needs_background": "light"
     },
     "output_type": "display_data"
    }
   ],
   "source": [
    "plt.figure(figsize=(5, 7))\n",
    "\n",
    "\n",
    "ax = sns.lineplot(x=F1[\"pair_Time_Duration\"], y = F1[\"nextframeAcc\"], color=\"r\", label=\"Actual Value\")\n",
    "sns.lineplot(x=F1[\"pair_Time_Duration\"], y =F1[\"pacc\"],  color=\"b\", label=\"Fitted Values\" )\n",
    "\n",
    "\n",
    "plt.title('Actual vs Fitted Values')\n",
    "\n",
    "\n",
    "plt.show()\n",
    "plt.close()"
   ]
  },
  {
   "cell_type": "code",
   "execution_count": 4,
   "metadata": {},
   "outputs": [
    {
     "data": {
      "text/plain": [
       "Index(['Vehicle_ID', 'Frame_ID', 'Global_Time', 'Local_X', 'Local_Y',\n",
       "       'Global_X', 'Global_Y', 'v_length', 'v_Class', 'v_Vel', 'v_Acc',\n",
       "       'Lane_ID', 'Preceding', 'Space_Headway', 'Time_Headway', 'Location',\n",
       "       'Relative_Time', 'Preceding_Vehicle_Class',\n",
       "       'Rear_to_Front_Space_Headway', 'Front_To_Rear_Time_Headway', 'L-F_Pair',\n",
       "       'Velocity Difference_Following-Preceding',\n",
       "       'Acceleration Difference_Following-Preceding', 'v_Class_Name',\n",
       "       'previous_Vehicle_length', 'Vehicle_combination', 'lane_changes',\n",
       "       'Prec_Vehicle_ID', 'previous_Vehicle_Velocity',\n",
       "       'previous_Vehicle_Acceleration', 'previous_car_lane_changes',\n",
       "       'pair_Time_Duration', 'total_pair_duration'],\n",
       "      dtype='object')"
      ]
     },
     "execution_count": 4,
     "metadata": {},
     "output_type": "execute_result"
    }
   ],
   "source": [
    "ngsim.columns"
   ]
  }
 ],
 "metadata": {
  "kernelspec": {
   "display_name": "Python 3.9.12 ('base')",
   "language": "python",
   "name": "python3"
  },
  "language_info": {
   "codemirror_mode": {
    "name": "ipython",
    "version": 3
   },
   "file_extension": ".py",
   "mimetype": "text/x-python",
   "name": "python",
   "nbconvert_exporter": "python",
   "pygments_lexer": "ipython3",
   "version": "3.9.12"
  },
  "orig_nbformat": 4,
  "vscode": {
   "interpreter": {
    "hash": "aa044723cc8c9a32e1f63c8c7d0ac0a1c9d2e4bf3cb98725963159024f0e908a"
   }
  }
 },
 "nbformat": 4,
 "nbformat_minor": 2
}
