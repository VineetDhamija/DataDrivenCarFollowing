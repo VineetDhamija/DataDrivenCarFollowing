{
 "cells": [
  {
   "cell_type": "code",
   "execution_count": 6,
   "metadata": {},
   "outputs": [
    {
     "name": "stdout",
     "output_type": "stream",
     "text": [
      "original File path: c:\\Users\\StudentAccount\\Python\\Capstone\\gitcodelocation\\DataDrivenCarFollowing\\datadrivencarfollowing-v1\\scripts\n",
      "Data File path: c:\\Users\\StudentAccount\\Python\\Capstone\\gitcodelocation\\DataDrivenCarFollowing\\datadrivencarfollowing-v1\\data\n"
     ]
    }
   ],
   "source": [
    "import numpy as np \n",
    "import pandas as pd \n",
    "import warnings\n",
    "warnings.filterwarnings(\"ignore\")\n",
    "\n",
    "#import src\n",
    "import Cleanup\n",
    "import Transformation\n",
    "import FileProcessing\n",
    "#define the objects to be called later. \n",
    "cleanup=Cleanup.Cleanup()\n",
    "transform=Transformation.Transformation()\n",
    "fileProcessing=FileProcessing.FileProcessing()\n",
    "\n",
    "file_name='Next_Generation_Simulation__NGSIM__Vehicle_Trajectories_and_Supporting_Data'\n",
    "ngsim=fileProcessing.read_input(file_name)\n"
   ]
  },
  {
   "cell_type": "code",
   "execution_count": 7,
   "metadata": {},
   "outputs": [],
   "source": [
    "#define the objects to be called later. \n",
    "cleanup=Cleanup.Cleanup()\n",
    "transform=Transformation.Transformation()\n",
    "fileProcessing=FileProcessing.FileProcessing()"
   ]
  },
  {
   "cell_type": "code",
   "execution_count": 8,
   "metadata": {},
   "outputs": [
    {
     "name": "stdout",
     "output_type": "stream",
     "text": [
      "original File path: c:\\Users\\StudentAccount\\Python\\Capstone\\gitcodelocation\\DataDrivenCarFollowing\\datadrivencarfollowing-v1\\scripts\n",
      "Data File path: c:\\Users\\StudentAccount\\Python\\Capstone\\gitcodelocation\\DataDrivenCarFollowing\\datadrivencarfollowing-v1\\data\n"
     ]
    }
   ],
   "source": [
    "file_name='Next_Generation_Simulation__NGSIM__Vehicle_Trajectories_and_Supporting_Data'\n",
    "ngsim=fileProcessing.read_input(file_name)"
   ]
  },
  {
   "cell_type": "code",
   "execution_count": 9,
   "metadata": {},
   "outputs": [],
   "source": [
    "filtered=ngsim[(ngsim['Vehicle_ID'] == 2876)| ( ngsim['Global_Time'] == 1118847795200) ]"
   ]
  },
  {
   "cell_type": "code",
   "execution_count": 10,
   "metadata": {},
   "outputs": [
    {
     "data": {
      "text/plain": [
       "True"
      ]
     },
     "execution_count": 10,
     "metadata": {},
     "output_type": "execute_result"
    }
   ],
   "source": [
    "fileProcessing.export_file(filtered,'verify_file')"
   ]
  }
 ],
 "metadata": {
  "kernelspec": {
   "display_name": "Python 3.8.13 ('Project')",
   "language": "python",
   "name": "python3"
  },
  "language_info": {
   "codemirror_mode": {
    "name": "ipython",
    "version": 3
   },
   "file_extension": ".py",
   "mimetype": "text/x-python",
   "name": "python",
   "nbconvert_exporter": "python",
   "pygments_lexer": "ipython3",
   "version": "3.8.13"
  },
  "orig_nbformat": 4,
  "vscode": {
   "interpreter": {
    "hash": "32f9b5c64a9ffdfd44c75ce715a0c18d651d70bac5b5e0fedf911a0bbec25f03"
   }
  }
 },
 "nbformat": 4,
 "nbformat_minor": 2
}
