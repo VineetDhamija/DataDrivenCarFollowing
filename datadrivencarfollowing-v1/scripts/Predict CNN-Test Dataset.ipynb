{
    "cells": [
        {
            "cell_type": "markdown",
            "metadata": {},
            "source": [
                "Importing required libraries to predict acceleration using random forest, calculate RMSE (RootMeanSquaredError), and create plots to compare predicted and actual acceleration"
            ]
        },
        {
            "cell_type": "code",
            "execution_count": 1,
            "metadata": {},
            "outputs": [
                {
                    "name": "stdout",
                    "output_type": "stream",
                    "text": [
                        "original File path: c:\\Users\\StudentAccount\\Python\\Capstone\\gitcodelocation\\DataDrivenCarFollowing\\datadrivencarfollowing-v1\\scripts\n",
                        "Data File path: c:\\Users\\StudentAccount\\Python\\Capstone\\gitcodelocation\\DataDrivenCarFollowing\\datadrivencarfollowing-v1\\data\n"
                    ]
                }
            ],
            "source": [
                "import ModelClass"
            ]
        },
        {
            "cell_type": "code",
            "execution_count": 2,
            "metadata": {},
            "outputs": [],
            "source": [
                "model_obj=ModelClass.ModelClass()\n",
                "file_name='cnn_test_df_' "
            ]
        },
        {
            "cell_type": "code",
            "execution_count": 3,
            "metadata": {},
            "outputs": [],
            "source": [
                "model_name='neural_network_model'"
            ]
        },
        {
            "cell_type": "code",
            "execution_count": 4,
            "metadata": {},
            "outputs": [
                {
                    "name": "stdout",
                    "output_type": "stream",
                    "text": [
                        "Running test Set on :Plot_Pairs_NGSIM_Data, Reaction Time 0.1 for Model: knn\n",
                        "File Read Complete: c:\\Users\\StudentAccount\\Python\\Capstone\\gitcodelocation\\DataDrivenCarFollowing\\datadrivencarfollowing-v1\\data/Plot_Pairs_NGSIM_Data.csv\n",
                        "Model Load Completed: c:\\Users\\StudentAccount\\Python\\Capstone\\gitcodelocation\\DataDrivenCarFollowing\\datadrivencarfollowing-v1\\data/knn0.1.pkg\n",
                        "Total number of unique Pairs in Test Dataset: 9\n",
                        "\n",
                        "\n",
                        "knn, Reaction Time:0.1 Statistics Below:\n",
                        "r_square: -0.228186320832789\n",
                        "rmse: 1.5494997061343252\n"
                    ]
                }
            ],
            "source": [
                "delta_time=0.1\n",
                "cnn_r_square_0_1 ,cnn_r_square_rmse_0_1= model_obj.predict_test_dataset(file_name,delta_time,model_name)"
            ]
        },
        {
            "cell_type": "code",
            "execution_count": 5,
            "metadata": {},
            "outputs": [
                {
                    "name": "stdout",
                    "output_type": "stream",
                    "text": [
                        "Running test Set on :Plot_Pairs_NGSIM_Data, Reaction Time 0.5 for Model: knn\n",
                        "File Read Complete: c:\\Users\\StudentAccount\\Python\\Capstone\\gitcodelocation\\DataDrivenCarFollowing\\datadrivencarfollowing-v1\\data/Plot_Pairs_NGSIM_Data.csv\n",
                        "Model Load Completed: c:\\Users\\StudentAccount\\Python\\Capstone\\gitcodelocation\\DataDrivenCarFollowing\\datadrivencarfollowing-v1\\data/knn0.5.pkg\n",
                        "Total number of unique Pairs in Test Dataset: 9\n",
                        "\n",
                        "\n",
                        "knn, Reaction Time:0.5 Statistics Below:\n",
                        "r_square: -0.1345679606082082\n",
                        "rmse: 1.4897811449331682\n"
                    ]
                }
            ],
            "source": [
                "delta_time=0.5\n",
                "cnn_r_square_0_5 ,cnn_r_square_rmse_0_5= model_obj.predict_test_dataset(file_name,delta_time,model_name)\n"
            ]
        },
        {
            "cell_type": "code",
            "execution_count": 6,
            "metadata": {},
            "outputs": [
                {
                    "name": "stdout",
                    "output_type": "stream",
                    "text": [
                        "Running test Set on :Plot_Pairs_NGSIM_Data, Reaction Time 1 for Model: knn\n",
                        "File Read Complete: c:\\Users\\StudentAccount\\Python\\Capstone\\gitcodelocation\\DataDrivenCarFollowing\\datadrivencarfollowing-v1\\data/Plot_Pairs_NGSIM_Data.csv\n",
                        "Model Load Completed: c:\\Users\\StudentAccount\\Python\\Capstone\\gitcodelocation\\DataDrivenCarFollowing\\datadrivencarfollowing-v1\\data/knn1.pkg\n",
                        "Total number of unique Pairs in Test Dataset: 9\n",
                        "\n",
                        "\n",
                        "knn, Reaction Time:1 Statistics Below:\n",
                        "r_square: -0.12183959113925158\n",
                        "rmse: 1.4799852308736736\n"
                    ]
                }
            ],
            "source": [
                "delta_time=1\n",
                "cnn_r_square_1 ,cnn_r_square_rmse_1= model_obj.predict_test_dataset(file_name,delta_time,model_name)\n"
            ]
        },
        {
            "cell_type": "code",
            "execution_count": 7,
            "metadata": {},
            "outputs": [
                {
                    "name": "stdout",
                    "output_type": "stream",
                    "text": [
                        "Running test Set on :Plot_Pairs_NGSIM_Data, Reaction Time 2 for Model: knn\n",
                        "File Read Complete: c:\\Users\\StudentAccount\\Python\\Capstone\\gitcodelocation\\DataDrivenCarFollowing\\datadrivencarfollowing-v1\\data/Plot_Pairs_NGSIM_Data.csv\n",
                        "Model Load Completed: c:\\Users\\StudentAccount\\Python\\Capstone\\gitcodelocation\\DataDrivenCarFollowing\\datadrivencarfollowing-v1\\data/knn2.pkg\n",
                        "Total number of unique Pairs in Test Dataset: 9\n",
                        "\n",
                        "\n",
                        "knn, Reaction Time:2 Statistics Below:\n",
                        "r_square: -0.21186876488122341\n",
                        "rmse: 1.533019598714897\n"
                    ]
                }
            ],
            "source": [
                "delta_time=2\n",
                "cnn_r_square_2 ,cnn_r_square_rmse_2= model_obj.predict_test_dataset(file_name,delta_time,model_name)\n"
            ]
        },
        {
            "cell_type": "code",
            "execution_count": 8,
            "metadata": {},
            "outputs": [
                {
                    "name": "stdout",
                    "output_type": "stream",
                    "text": [
                        "Running test Set on :Plot_Pairs_NGSIM_Data, Reaction Time 5 for Model: knn\n",
                        "File Read Complete: c:\\Users\\StudentAccount\\Python\\Capstone\\gitcodelocation\\DataDrivenCarFollowing\\datadrivencarfollowing-v1\\data/Plot_Pairs_NGSIM_Data.csv\n",
                        "Model Load Completed: c:\\Users\\StudentAccount\\Python\\Capstone\\gitcodelocation\\DataDrivenCarFollowing\\datadrivencarfollowing-v1\\data/knn5.pkg\n",
                        "Total number of unique Pairs in Test Dataset: 9\n",
                        "\n",
                        "\n",
                        "knn, Reaction Time:5 Statistics Below:\n",
                        "r_square: -0.3670793977658795\n",
                        "rmse: 1.6238035627309735\n"
                    ]
                }
            ],
            "source": [
                "delta_time=5\n",
                "cnn_r_square_5 ,cnn_r_square_rmse_5= model_obj.predict_test_dataset(file_name,delta_time,model_name)\n"
            ]
        },
        {
            "cell_type": "code",
            "execution_count": 9,
            "metadata": {},
            "outputs": [
                {
                    "name": "stdout",
                    "output_type": "stream",
                    "text": [
                        "Running test Set on :Plot_Pairs_NGSIM_Data, Reaction Time 10 for Model: knn\n",
                        "File Read Complete: c:\\Users\\StudentAccount\\Python\\Capstone\\gitcodelocation\\DataDrivenCarFollowing\\datadrivencarfollowing-v1\\data/Plot_Pairs_NGSIM_Data.csv\n",
                        "Model Load Completed: c:\\Users\\StudentAccount\\Python\\Capstone\\gitcodelocation\\DataDrivenCarFollowing\\datadrivencarfollowing-v1\\data/knn10.pkg\n",
                        "Total number of unique Pairs in Test Dataset: 9\n",
                        "\n",
                        "\n",
                        "knn, Reaction Time:10 Statistics Below:\n",
                        "r_square: -0.22807588835106452\n",
                        "rmse: 1.5355859329641326\n"
                    ]
                }
            ],
            "source": [
                "delta_time=10\n",
                "cnn_r_square_10 ,cnn_r_square_rmse_10= model_obj.predict_test_dataset(file_name,delta_time,model_name)"
            ]
        }
    ],
    "metadata": {
        "kernelspec": {
            "display_name": "Python 3.8.13 ('Project')",
            "language": "python",
            "name": "python3"
        },
        "language_info": {
            "codemirror_mode": {
                "name": "ipython",
                "version": 3
            },
            "file_extension": ".py",
            "mimetype": "text/x-python",
            "name": "python",
            "nbconvert_exporter": "python",
            "pygments_lexer": "ipython3",
            "version": "3.8.13"
        },
        "orig_nbformat": 4,
        "vscode": {
            "interpreter": {
                "hash": "32f9b5c64a9ffdfd44c75ce715a0c18d651d70bac5b5e0fedf911a0bbec25f03"
            }
        }
    },
    "nbformat": 4,
    "nbformat_minor": 2
}
