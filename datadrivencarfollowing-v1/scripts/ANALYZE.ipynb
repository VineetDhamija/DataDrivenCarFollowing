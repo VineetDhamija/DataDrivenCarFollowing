{
 "cells": [
  {
   "cell_type": "code",
   "execution_count": 1,
   "metadata": {},
   "outputs": [],
   "source": [
    "import numpy as np \n",
    "import pandas as pd \n",
    "import warnings\n",
    "warnings.filterwarnings(\"ignore\")\n",
    "from pathlib import Path\n",
    "#from millify import millify"
   ]
  },
  {
   "cell_type": "markdown",
   "metadata": {},
   "source": [
    "1. vEHICLE vELOCITY 0 LEADS TO time headway of 99999\n",
    "2. Verify the cars which change lanes. == 2226/2847 Cars change lanes at least once in US-101. 2182 out of 2999 in I-80\n",
    "4. same vehicle ID has multiple class as well. 164 vehicle IDs have 2 classes in US-101. 219 in I-80.  Bad Data or calculate/fix vehicle length based on their class and frame ID. \n",
    "5. "
   ]
  },
  {
   "cell_type": "code",
   "execution_count": 18,
   "metadata": {},
   "outputs": [
    {
     "name": "stdout",
     "output_type": "stream",
     "text": [
      "original File path: c:\\Users\\StudentAccount\\Python\\Capstone\\gitcodelocation\\DataDrivenCarFollowing\\datadrivencarfollowing-v1\\scripts\n",
      "Updated File Path to pick from Data Library: c:\\Users\\StudentAccount\\Python\\Capstone\\gitcodelocation\\DataDrivenCarFollowing\\datadrivencarfollowing-v1\\data\n",
      "0 duplicate values have been removed\n"
     ]
    }
   ],
   "source": [
    "p = Path().cwd()\n",
    "print(f\"original File path: {p}\")\n",
    "stringpath= str(p)[0:str(p).rfind('\\\\')] + '\\\\data'\n",
    "print(f\"Updated File Path to pick from Data Library: { stringpath}\")\n",
    "ngsimfile=stringpath + '/' + 'VERIFYFILE.CSV'\n",
    "ngsim = pd.read_csv(ngsimfile,low_memory=False)\n",
    "print(f\"{ngsim.duplicated().sum()} duplicate values have been removed\")\n",
    "ngsim.drop_duplicates(inplace=True)"
   ]
  },
  {
   "cell_type": "code",
   "execution_count": null,
   "metadata": {},
   "outputs": [],
   "source": [
    "\n"
   ]
  },
  {
   "cell_type": "code",
   "execution_count": 3,
   "metadata": {},
   "outputs": [],
   "source": [
    "\n",
    "filtered_ngsim_U= ngsim[((ngsim['Location'] == 'us-101')) ]\n",
    "#These two vehicles have a bad trajectory and keep on following each other in a single lane in a matter of \n",
    "filtered_ngsim_I= ngsim[(ngsim['Location'] == 'i-80') ]\n"
   ]
  },
  {
   "cell_type": "code",
   "execution_count": 19,
   "metadata": {},
   "outputs": [
    {
     "name": "stdout",
     "output_type": "stream",
     "text": [
      "4091308 duplicate values have been removed\n",
      "(2847, 2)\n"
     ]
    },
    {
     "data": {
      "text/plain": [
       "0          1\n",
       "1          2\n",
       "2          3\n",
       "3          4\n",
       "4          5\n",
       "        ... \n",
       "2838    3101\n",
       "2839    3102\n",
       "2842    3105\n",
       "2844    3107\n",
       "2845    3108\n",
       "Name: Vehicle_ID, Length: 2226, dtype: int64"
      ]
     },
     "execution_count": 19,
     "metadata": {},
     "output_type": "execute_result"
    }
   ],
   "source": [
    "lane_verify= filtered_ngsim_U[['Vehicle_ID','Lane_ID']]\n",
    "print(f\"{lane_verify.duplicated().sum()} duplicate values have been removed\")\n",
    "lane_verify.drop_duplicates(inplace=True)\n",
    "lane_verify=lane_verify.groupby(['Vehicle_ID'],as_index=False).count()\n",
    "print(lane_verify.shape)\n",
    "lane_verify[lane_verify[\"Lane_ID\"]>1]['Vehicle_ID']"
   ]
  },
  {
   "cell_type": "code",
   "execution_count": 17,
   "metadata": {},
   "outputs": [
    {
     "name": "stdout",
     "output_type": "stream",
     "text": [
      "4548622 duplicate values have been removed\n",
      "(2999, 2)\n"
     ]
    },
    {
     "data": {
      "text/plain": [
       "2          3\n",
       "3          4\n",
       "4          5\n",
       "6          7\n",
       "9         10\n",
       "        ... \n",
       "2990    3355\n",
       "2994    3362\n",
       "2995    3363\n",
       "2996    3364\n",
       "2997    3365\n",
       "Name: Vehicle_ID, Length: 2182, dtype: int64"
      ]
     },
     "execution_count": 17,
     "metadata": {},
     "output_type": "execute_result"
    }
   ],
   "source": [
    "lane_verify= filtered_ngsim_I[['Vehicle_ID','Lane_ID']]\n",
    "print(f\"{lane_verify.duplicated().sum()} duplicate values have been removed\")\n",
    "lane_verify.drop_duplicates(inplace=True)\n",
    "lane_verify=lane_verify.groupby(['Vehicle_ID'],as_index=False).count()\n",
    "print(lane_verify.shape)\n",
    "lane_verify[lane_verify[\"Lane_ID\"]>1]['Vehicle_ID']"
   ]
  },
  {
   "cell_type": "code",
   "execution_count": 22,
   "metadata": {},
   "outputs": [
    {
     "name": "stdout",
     "output_type": "stream",
     "text": [
      "4095921 duplicate values have been removed\n",
      "(2847, 2)\n"
     ]
    },
    {
     "data": {
      "text/html": [
       "<div>\n",
       "<style scoped>\n",
       "    .dataframe tbody tr th:only-of-type {\n",
       "        vertical-align: middle;\n",
       "    }\n",
       "\n",
       "    .dataframe tbody tr th {\n",
       "        vertical-align: top;\n",
       "    }\n",
       "\n",
       "    .dataframe thead th {\n",
       "        text-align: right;\n",
       "    }\n",
       "</style>\n",
       "<table border=\"1\" class=\"dataframe\">\n",
       "  <thead>\n",
       "    <tr style=\"text-align: right;\">\n",
       "      <th></th>\n",
       "      <th>Vehicle_ID</th>\n",
       "      <th>v_Class</th>\n",
       "    </tr>\n",
       "  </thead>\n",
       "  <tbody>\n",
       "    <tr>\n",
       "      <th>0</th>\n",
       "      <td>1</td>\n",
       "      <td>2</td>\n",
       "    </tr>\n",
       "    <tr>\n",
       "      <th>13</th>\n",
       "      <td>14</td>\n",
       "      <td>2</td>\n",
       "    </tr>\n",
       "    <tr>\n",
       "      <th>48</th>\n",
       "      <td>49</td>\n",
       "      <td>2</td>\n",
       "    </tr>\n",
       "    <tr>\n",
       "      <th>59</th>\n",
       "      <td>60</td>\n",
       "      <td>2</td>\n",
       "    </tr>\n",
       "    <tr>\n",
       "      <th>85</th>\n",
       "      <td>86</td>\n",
       "      <td>2</td>\n",
       "    </tr>\n",
       "    <tr>\n",
       "      <th>...</th>\n",
       "      <td>...</td>\n",
       "      <td>...</td>\n",
       "    </tr>\n",
       "    <tr>\n",
       "      <th>2485</th>\n",
       "      <td>2543</td>\n",
       "      <td>2</td>\n",
       "    </tr>\n",
       "    <tr>\n",
       "      <th>2488</th>\n",
       "      <td>2548</td>\n",
       "      <td>2</td>\n",
       "    </tr>\n",
       "    <tr>\n",
       "      <th>2530</th>\n",
       "      <td>2592</td>\n",
       "      <td>2</td>\n",
       "    </tr>\n",
       "    <tr>\n",
       "      <th>2537</th>\n",
       "      <td>2599</td>\n",
       "      <td>2</td>\n",
       "    </tr>\n",
       "    <tr>\n",
       "      <th>2548</th>\n",
       "      <td>2613</td>\n",
       "      <td>2</td>\n",
       "    </tr>\n",
       "  </tbody>\n",
       "</table>\n",
       "<p>164 rows × 2 columns</p>\n",
       "</div>"
      ],
      "text/plain": [
       "      Vehicle_ID  v_Class\n",
       "0              1        2\n",
       "13            14        2\n",
       "48            49        2\n",
       "59            60        2\n",
       "85            86        2\n",
       "...          ...      ...\n",
       "2485        2543        2\n",
       "2488        2548        2\n",
       "2530        2592        2\n",
       "2537        2599        2\n",
       "2548        2613        2\n",
       "\n",
       "[164 rows x 2 columns]"
      ]
     },
     "execution_count": 22,
     "metadata": {},
     "output_type": "execute_result"
    }
   ],
   "source": [
    "lane_verify= filtered_ngsim_U[['Vehicle_ID','v_Class']]\n",
    "print(f\"{lane_verify.duplicated().sum()} duplicate values have been removed\")\n",
    "lane_verify.drop_duplicates(inplace=True)\n",
    "lane_verify=lane_verify.groupby(['Vehicle_ID'],as_index=False).count()\n",
    "print(lane_verify.shape)\n",
    "lane_verify[lane_verify[\"v_Class\"]>1]"
   ]
  },
  {
   "cell_type": "code",
   "execution_count": 23,
   "metadata": {},
   "outputs": [
    {
     "name": "stdout",
     "output_type": "stream",
     "text": [
      "4552721 duplicate values have been removed\n",
      "(2999, 2)\n"
     ]
    },
    {
     "data": {
      "text/html": [
       "<div>\n",
       "<style scoped>\n",
       "    .dataframe tbody tr th:only-of-type {\n",
       "        vertical-align: middle;\n",
       "    }\n",
       "\n",
       "    .dataframe tbody tr th {\n",
       "        vertical-align: top;\n",
       "    }\n",
       "\n",
       "    .dataframe thead th {\n",
       "        text-align: right;\n",
       "    }\n",
       "</style>\n",
       "<table border=\"1\" class=\"dataframe\">\n",
       "  <thead>\n",
       "    <tr style=\"text-align: right;\">\n",
       "      <th></th>\n",
       "      <th>Vehicle_ID</th>\n",
       "      <th>v_Class</th>\n",
       "    </tr>\n",
       "  </thead>\n",
       "  <tbody>\n",
       "    <tr>\n",
       "      <th>19</th>\n",
       "      <td>24</td>\n",
       "      <td>2</td>\n",
       "    </tr>\n",
       "    <tr>\n",
       "      <th>28</th>\n",
       "      <td>36</td>\n",
       "      <td>2</td>\n",
       "    </tr>\n",
       "    <tr>\n",
       "      <th>43</th>\n",
       "      <td>51</td>\n",
       "      <td>2</td>\n",
       "    </tr>\n",
       "    <tr>\n",
       "      <th>74</th>\n",
       "      <td>86</td>\n",
       "      <td>2</td>\n",
       "    </tr>\n",
       "    <tr>\n",
       "      <th>95</th>\n",
       "      <td>108</td>\n",
       "      <td>2</td>\n",
       "    </tr>\n",
       "    <tr>\n",
       "      <th>...</th>\n",
       "      <td>...</td>\n",
       "      <td>...</td>\n",
       "    </tr>\n",
       "    <tr>\n",
       "      <th>2637</th>\n",
       "      <td>2866</td>\n",
       "      <td>2</td>\n",
       "    </tr>\n",
       "    <tr>\n",
       "      <th>2643</th>\n",
       "      <td>2872</td>\n",
       "      <td>2</td>\n",
       "    </tr>\n",
       "    <tr>\n",
       "      <th>2736</th>\n",
       "      <td>3001</td>\n",
       "      <td>2</td>\n",
       "    </tr>\n",
       "    <tr>\n",
       "      <th>2738</th>\n",
       "      <td>3003</td>\n",
       "      <td>2</td>\n",
       "    </tr>\n",
       "    <tr>\n",
       "      <th>2742</th>\n",
       "      <td>3007</td>\n",
       "      <td>2</td>\n",
       "    </tr>\n",
       "  </tbody>\n",
       "</table>\n",
       "<p>219 rows × 2 columns</p>\n",
       "</div>"
      ],
      "text/plain": [
       "      Vehicle_ID  v_Class\n",
       "19            24        2\n",
       "28            36        2\n",
       "43            51        2\n",
       "74            86        2\n",
       "95           108        2\n",
       "...          ...      ...\n",
       "2637        2866        2\n",
       "2643        2872        2\n",
       "2736        3001        2\n",
       "2738        3003        2\n",
       "2742        3007        2\n",
       "\n",
       "[219 rows x 2 columns]"
      ]
     },
     "execution_count": 23,
     "metadata": {},
     "output_type": "execute_result"
    }
   ],
   "source": [
    "lane_verify= filtered_ngsim_I[['Vehicle_ID','v_Class']]\n",
    "print(f\"{lane_verify.duplicated().sum()} duplicate values have been removed\")\n",
    "lane_verify.drop_duplicates(inplace=True)\n",
    "lane_verify=lane_verify.groupby(['Vehicle_ID'],as_index=False).count()\n",
    "print(lane_verify.shape)\n",
    "lane_verify[lane_verify[\"v_Class\"]>1]"
   ]
  }
 ],
 "metadata": {
  "interpreter": {
   "hash": "66102dfb9f2e5b7365bdb29c60f74c4733e59ed799f4b54b51820e6de3573383"
  },
  "kernelspec": {
   "display_name": "Python 3.9.12 ('Project')",
   "language": "python",
   "name": "python3"
  },
  "language_info": {
   "codemirror_mode": {
    "name": "ipython",
    "version": 3
   },
   "file_extension": ".py",
   "mimetype": "text/x-python",
   "name": "python",
   "nbconvert_exporter": "python",
   "pygments_lexer": "ipython3",
   "version": "3.9.12"
  },
  "orig_nbformat": 4
 },
 "nbformat": 4,
 "nbformat_minor": 2
}
