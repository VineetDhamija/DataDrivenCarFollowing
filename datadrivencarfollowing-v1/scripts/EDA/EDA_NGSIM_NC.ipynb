version https://git-lfs.github.com/spec/v1
oid sha256:70d60e6333a0dc4e140dac5d5190064e2269d4a56a0d0306a132ceaa973e9a64
size 2461461
