{
    "cells": [
        {
            "cell_type": "code",
            "execution_count": 2,
            "metadata": {},
            "outputs": [],
            "source": [
                "import numpy as np \n",
                "import pandas as pd \n",
                "import warnings\n",
                "warnings.filterwarnings(\"ignore\")\n",
                "\n",
                "#import src\n",
                "import Cleanup\n",
                "import Transformation\n",
                "import FileProcessing"
            ]
        },
        {
            "cell_type": "code",
            "execution_count": 3,
            "metadata": {},
            "outputs": [],
            "source": [
                "#define the objects to be called later. \n",
                "cleanup=Cleanup.Cleanup()\n",
                "transform=Transformation.Transformation()\n",
                "fileProcessing=FileProcessing.FileProcessing()"
            ]
        },
        {
            "cell_type": "markdown",
            "metadata": {},
            "source": [
                "Read the File from Data folder and remove all duplicates. "
            ]
        },
        {
            "cell_type": "code",
            "execution_count": 4,
            "metadata": {},
            "outputs": [
                {
                    "name": "stdout",
                    "output_type": "stream",
                    "text": [
                        "original File path: c:\\Users\\StudentAccount\\Python\\Capstone\\gitcodelocation\\DataDrivenCarFollowing\\datadrivencarfollowing-v1\\scripts\n",
                        "Data File path: c:\\Users\\StudentAccount\\Python\\Capstone\\gitcodelocation\\DataDrivenCarFollowing\\datadrivencarfollowing-v1\\data\n"
                    ]
                }
            ],
            "source": [
                "file_name='Next_Generation_Simulation__NGSIM__Vehicle_Trajectories_and_Supporting_Data'\n",
                "ngsim=fileProcessing.read_input(file_name)"
            ]
        },
        {
            "cell_type": "markdown",
            "metadata": {},
            "source": [
                "Remove any Duplicate records from the original File. "
            ]
        },
        {
            "cell_type": "code",
            "execution_count": 5,
            "metadata": {},
            "outputs": [
                {
                    "name": "stdout",
                    "output_type": "stream",
                    "text": [
                        "704000 duplicate values have been removed\n"
                    ]
                },
                {
                    "data": {
                        "text/html": [
                            "<div>\n",
                            "<style scoped>\n",
                            "    .dataframe tbody tr th:only-of-type {\n",
                            "        vertical-align: middle;\n",
                            "    }\n",
                            "\n",
                            "    .dataframe tbody tr th {\n",
                            "        vertical-align: top;\n",
                            "    }\n",
                            "\n",
                            "    .dataframe thead th {\n",
                            "        text-align: right;\n",
                            "    }\n",
                            "</style>\n",
                            "<table border=\"1\" class=\"dataframe\">\n",
                            "  <thead>\n",
                            "    <tr style=\"text-align: right;\">\n",
                            "      <th></th>\n",
                            "      <th>Vehicle_ID</th>\n",
                            "      <th>Frame_ID</th>\n",
                            "      <th>Total_Frames</th>\n",
                            "      <th>Global_Time</th>\n",
                            "      <th>Local_X</th>\n",
                            "      <th>Local_Y</th>\n",
                            "      <th>Global_X</th>\n",
                            "      <th>Global_Y</th>\n",
                            "      <th>v_length</th>\n",
                            "      <th>v_Width</th>\n",
                            "      <th>...</th>\n",
                            "      <th>D_Zone</th>\n",
                            "      <th>Int_ID</th>\n",
                            "      <th>Section_ID</th>\n",
                            "      <th>Direction</th>\n",
                            "      <th>Movement</th>\n",
                            "      <th>Preceding</th>\n",
                            "      <th>Following</th>\n",
                            "      <th>Space_Headway</th>\n",
                            "      <th>Time_Headway</th>\n",
                            "      <th>Location</th>\n",
                            "    </tr>\n",
                            "  </thead>\n",
                            "  <tbody>\n",
                            "    <tr>\n",
                            "      <th>0</th>\n",
                            "      <td>515</td>\n",
                            "      <td>2330</td>\n",
                            "      <td>1123</td>\n",
                            "      <td>1118848075000</td>\n",
                            "      <td>30.034</td>\n",
                            "      <td>188.062</td>\n",
                            "      <td>6451203.729</td>\n",
                            "      <td>1873252.549</td>\n",
                            "      <td>13.0</td>\n",
                            "      <td>6.9</td>\n",
                            "      <td>...</td>\n",
                            "      <td>NaN</td>\n",
                            "      <td>NaN</td>\n",
                            "      <td>NaN</td>\n",
                            "      <td>NaN</td>\n",
                            "      <td>NaN</td>\n",
                            "      <td>500</td>\n",
                            "      <td>523</td>\n",
                            "      <td>119.10</td>\n",
                            "      <td>5.11</td>\n",
                            "      <td>us-101</td>\n",
                            "    </tr>\n",
                            "    <tr>\n",
                            "      <th>2</th>\n",
                            "      <td>2224</td>\n",
                            "      <td>6548</td>\n",
                            "      <td>1902</td>\n",
                            "      <td>1113437421700</td>\n",
                            "      <td>41.429</td>\n",
                            "      <td>472.901</td>\n",
                            "      <td>6042814.264</td>\n",
                            "      <td>2133542.012</td>\n",
                            "      <td>14.3</td>\n",
                            "      <td>6.9</td>\n",
                            "      <td>...</td>\n",
                            "      <td>NaN</td>\n",
                            "      <td>NaN</td>\n",
                            "      <td>NaN</td>\n",
                            "      <td>NaN</td>\n",
                            "      <td>NaN</td>\n",
                            "      <td>2208</td>\n",
                            "      <td>2211</td>\n",
                            "      <td>53.34</td>\n",
                            "      <td>2.01</td>\n",
                            "      <td>i-80</td>\n",
                            "    </tr>\n",
                            "    <tr>\n",
                            "      <th>3</th>\n",
                            "      <td>2127</td>\n",
                            "      <td>6459</td>\n",
                            "      <td>567</td>\n",
                            "      <td>1118847624800</td>\n",
                            "      <td>19.632</td>\n",
                            "      <td>1775.614</td>\n",
                            "      <td>6452425.122</td>\n",
                            "      <td>1872172.475</td>\n",
                            "      <td>13.5</td>\n",
                            "      <td>6.9</td>\n",
                            "      <td>...</td>\n",
                            "      <td>NaN</td>\n",
                            "      <td>NaN</td>\n",
                            "      <td>NaN</td>\n",
                            "      <td>NaN</td>\n",
                            "      <td>NaN</td>\n",
                            "      <td>2124</td>\n",
                            "      <td>2132</td>\n",
                            "      <td>48.92</td>\n",
                            "      <td>1.30</td>\n",
                            "      <td>us-101</td>\n",
                            "    </tr>\n",
                            "    <tr>\n",
                            "      <th>4</th>\n",
                            "      <td>1033</td>\n",
                            "      <td>4827</td>\n",
                            "      <td>592</td>\n",
                            "      <td>1118848324700</td>\n",
                            "      <td>6.202</td>\n",
                            "      <td>1701.144</td>\n",
                            "      <td>6452347.673</td>\n",
                            "      <td>1872258.452</td>\n",
                            "      <td>13.5</td>\n",
                            "      <td>4.4</td>\n",
                            "      <td>...</td>\n",
                            "      <td>NaN</td>\n",
                            "      <td>NaN</td>\n",
                            "      <td>NaN</td>\n",
                            "      <td>NaN</td>\n",
                            "      <td>NaN</td>\n",
                            "      <td>1029</td>\n",
                            "      <td>1040</td>\n",
                            "      <td>38.81</td>\n",
                            "      <td>0.92</td>\n",
                            "      <td>us-101</td>\n",
                            "    </tr>\n",
                            "    <tr>\n",
                            "      <th>6</th>\n",
                            "      <td>1890</td>\n",
                            "      <td>9157</td>\n",
                            "      <td>628</td>\n",
                            "      <td>1118849672700</td>\n",
                            "      <td>53.514</td>\n",
                            "      <td>817.521</td>\n",
                            "      <td>6451655.238</td>\n",
                            "      <td>1872800.663</td>\n",
                            "      <td>24.0</td>\n",
                            "      <td>8.5</td>\n",
                            "      <td>...</td>\n",
                            "      <td>NaN</td>\n",
                            "      <td>NaN</td>\n",
                            "      <td>NaN</td>\n",
                            "      <td>NaN</td>\n",
                            "      <td>NaN</td>\n",
                            "      <td>1882</td>\n",
                            "      <td>1897</td>\n",
                            "      <td>102.65</td>\n",
                            "      <td>2.27</td>\n",
                            "      <td>us-101</td>\n",
                            "    </tr>\n",
                            "    <tr>\n",
                            "      <th>...</th>\n",
                            "      <td>...</td>\n",
                            "      <td>...</td>\n",
                            "      <td>...</td>\n",
                            "      <td>...</td>\n",
                            "      <td>...</td>\n",
                            "      <td>...</td>\n",
                            "      <td>...</td>\n",
                            "      <td>...</td>\n",
                            "      <td>...</td>\n",
                            "      <td>...</td>\n",
                            "      <td>...</td>\n",
                            "      <td>...</td>\n",
                            "      <td>...</td>\n",
                            "      <td>...</td>\n",
                            "      <td>...</td>\n",
                            "      <td>...</td>\n",
                            "      <td>...</td>\n",
                            "      <td>...</td>\n",
                            "      <td>...</td>\n",
                            "      <td>...</td>\n",
                            "      <td>...</td>\n",
                            "    </tr>\n",
                            "    <tr>\n",
                            "      <th>11850521</th>\n",
                            "      <td>1355</td>\n",
                            "      <td>5622</td>\n",
                            "      <td>938</td>\n",
                            "      <td>1113438127100</td>\n",
                            "      <td>18.275</td>\n",
                            "      <td>1464.336</td>\n",
                            "      <td>6042648.149</td>\n",
                            "      <td>2134520.896</td>\n",
                            "      <td>12.3</td>\n",
                            "      <td>6.8</td>\n",
                            "      <td>...</td>\n",
                            "      <td>NaN</td>\n",
                            "      <td>NaN</td>\n",
                            "      <td>NaN</td>\n",
                            "      <td>NaN</td>\n",
                            "      <td>NaN</td>\n",
                            "      <td>1351</td>\n",
                            "      <td>1361</td>\n",
                            "      <td>26.91</td>\n",
                            "      <td>15.92</td>\n",
                            "      <td>i-80</td>\n",
                            "    </tr>\n",
                            "    <tr>\n",
                            "      <th>11850522</th>\n",
                            "      <td>1474</td>\n",
                            "      <td>5688</td>\n",
                            "      <td>401</td>\n",
                            "      <td>1113438133700</td>\n",
                            "      <td>5.509</td>\n",
                            "      <td>560.412</td>\n",
                            "      <td>6042767.840</td>\n",
                            "      <td>2133624.549</td>\n",
                            "      <td>17.8</td>\n",
                            "      <td>7.9</td>\n",
                            "      <td>...</td>\n",
                            "      <td>NaN</td>\n",
                            "      <td>NaN</td>\n",
                            "      <td>NaN</td>\n",
                            "      <td>NaN</td>\n",
                            "      <td>NaN</td>\n",
                            "      <td>1468</td>\n",
                            "      <td>1480</td>\n",
                            "      <td>74.49</td>\n",
                            "      <td>1.73</td>\n",
                            "      <td>i-80</td>\n",
                            "    </tr>\n",
                            "    <tr>\n",
                            "      <th>11850523</th>\n",
                            "      <td>398</td>\n",
                            "      <td>2368</td>\n",
                            "      <td>654</td>\n",
                            "      <td>1113437801700</td>\n",
                            "      <td>18.903</td>\n",
                            "      <td>635.841</td>\n",
                            "      <td>6042771.741</td>\n",
                            "      <td>2133701.076</td>\n",
                            "      <td>15.2</td>\n",
                            "      <td>8.5</td>\n",
                            "      <td>...</td>\n",
                            "      <td>NaN</td>\n",
                            "      <td>NaN</td>\n",
                            "      <td>NaN</td>\n",
                            "      <td>NaN</td>\n",
                            "      <td>NaN</td>\n",
                            "      <td>385</td>\n",
                            "      <td>406</td>\n",
                            "      <td>90.95</td>\n",
                            "      <td>3.77</td>\n",
                            "      <td>i-80</td>\n",
                            "    </tr>\n",
                            "    <tr>\n",
                            "      <th>11850524</th>\n",
                            "      <td>599</td>\n",
                            "      <td>875</td>\n",
                            "      <td>577</td>\n",
                            "      <td>1113436854400</td>\n",
                            "      <td>77.094</td>\n",
                            "      <td>621.358</td>\n",
                            "      <td>6042831.282</td>\n",
                            "      <td>2133693.854</td>\n",
                            "      <td>15.3</td>\n",
                            "      <td>6.4</td>\n",
                            "      <td>...</td>\n",
                            "      <td>NaN</td>\n",
                            "      <td>NaN</td>\n",
                            "      <td>NaN</td>\n",
                            "      <td>NaN</td>\n",
                            "      <td>NaN</td>\n",
                            "      <td>0</td>\n",
                            "      <td>611</td>\n",
                            "      <td>0.00</td>\n",
                            "      <td>0.00</td>\n",
                            "      <td>i-80</td>\n",
                            "    </tr>\n",
                            "    <tr>\n",
                            "      <th>11850525</th>\n",
                            "      <td>2006</td>\n",
                            "      <td>6461</td>\n",
                            "      <td>879</td>\n",
                            "      <td>1113437413000</td>\n",
                            "      <td>73.816</td>\n",
                            "      <td>695.035</td>\n",
                            "      <td>6042818.859</td>\n",
                            "      <td>2133766.666</td>\n",
                            "      <td>14.8</td>\n",
                            "      <td>6.9</td>\n",
                            "      <td>...</td>\n",
                            "      <td>NaN</td>\n",
                            "      <td>NaN</td>\n",
                            "      <td>NaN</td>\n",
                            "      <td>NaN</td>\n",
                            "      <td>NaN</td>\n",
                            "      <td>2009</td>\n",
                            "      <td>2014</td>\n",
                            "      <td>25.47</td>\n",
                            "      <td>2.26</td>\n",
                            "      <td>i-80</td>\n",
                            "    </tr>\n",
                            "  </tbody>\n",
                            "</table>\n",
                            "<p>11146526 rows × 25 columns</p>\n",
                            "</div>"
                        ],
                        "text/plain": [
                            "          Vehicle_ID  Frame_ID  Total_Frames    Global_Time  Local_X  \\\n",
                            "0                515      2330          1123  1118848075000   30.034   \n",
                            "2               2224      6548          1902  1113437421700   41.429   \n",
                            "3               2127      6459           567  1118847624800   19.632   \n",
                            "4               1033      4827           592  1118848324700    6.202   \n",
                            "6               1890      9157           628  1118849672700   53.514   \n",
                            "...              ...       ...           ...            ...      ...   \n",
                            "11850521        1355      5622           938  1113438127100   18.275   \n",
                            "11850522        1474      5688           401  1113438133700    5.509   \n",
                            "11850523         398      2368           654  1113437801700   18.903   \n",
                            "11850524         599       875           577  1113436854400   77.094   \n",
                            "11850525        2006      6461           879  1113437413000   73.816   \n",
                            "\n",
                            "           Local_Y     Global_X     Global_Y  v_length  v_Width  ...  D_Zone  \\\n",
                            "0          188.062  6451203.729  1873252.549      13.0      6.9  ...     NaN   \n",
                            "2          472.901  6042814.264  2133542.012      14.3      6.9  ...     NaN   \n",
                            "3         1775.614  6452425.122  1872172.475      13.5      6.9  ...     NaN   \n",
                            "4         1701.144  6452347.673  1872258.452      13.5      4.4  ...     NaN   \n",
                            "6          817.521  6451655.238  1872800.663      24.0      8.5  ...     NaN   \n",
                            "...            ...          ...          ...       ...      ...  ...     ...   \n",
                            "11850521  1464.336  6042648.149  2134520.896      12.3      6.8  ...     NaN   \n",
                            "11850522   560.412  6042767.840  2133624.549      17.8      7.9  ...     NaN   \n",
                            "11850523   635.841  6042771.741  2133701.076      15.2      8.5  ...     NaN   \n",
                            "11850524   621.358  6042831.282  2133693.854      15.3      6.4  ...     NaN   \n",
                            "11850525   695.035  6042818.859  2133766.666      14.8      6.9  ...     NaN   \n",
                            "\n",
                            "          Int_ID  Section_ID  Direction  Movement  Preceding  Following  \\\n",
                            "0            NaN         NaN        NaN       NaN        500        523   \n",
                            "2            NaN         NaN        NaN       NaN       2208       2211   \n",
                            "3            NaN         NaN        NaN       NaN       2124       2132   \n",
                            "4            NaN         NaN        NaN       NaN       1029       1040   \n",
                            "6            NaN         NaN        NaN       NaN       1882       1897   \n",
                            "...          ...         ...        ...       ...        ...        ...   \n",
                            "11850521     NaN         NaN        NaN       NaN       1351       1361   \n",
                            "11850522     NaN         NaN        NaN       NaN       1468       1480   \n",
                            "11850523     NaN         NaN        NaN       NaN        385        406   \n",
                            "11850524     NaN         NaN        NaN       NaN          0        611   \n",
                            "11850525     NaN         NaN        NaN       NaN       2009       2014   \n",
                            "\n",
                            "          Space_Headway  Time_Headway  Location  \n",
                            "0                119.10          5.11    us-101  \n",
                            "2                 53.34          2.01      i-80  \n",
                            "3                 48.92          1.30    us-101  \n",
                            "4                 38.81          0.92    us-101  \n",
                            "6                102.65          2.27    us-101  \n",
                            "...                 ...           ...       ...  \n",
                            "11850521          26.91         15.92      i-80  \n",
                            "11850522          74.49          1.73      i-80  \n",
                            "11850523          90.95          3.77      i-80  \n",
                            "11850524           0.00          0.00      i-80  \n",
                            "11850525          25.47          2.26      i-80  \n",
                            "\n",
                            "[11146526 rows x 25 columns]"
                        ]
                    },
                    "execution_count": 5,
                    "metadata": {},
                    "output_type": "execute_result"
                }
            ],
            "source": [
                "cleanup.remove_dups(ngsim)"
            ]
        },
        {
            "cell_type": "markdown",
            "metadata": {},
            "source": [
                "Feet to Metres:\n",
                "\n",
                "Below Four parametrs consider distance in Feet and they are converted to metre. Speed to Metre/ second from Feet/second and acceleration from feet/second Square to Metre/Second Square. \n",
                "\n",
                "Drop the columns we wont use in the model.\n",
                "Add Relative time which is the time from the first timframe in the dataset. This is calculated by using the minimum value ofGlobal time(absolute time from 1970)"
            ]
        },
        {
            "cell_type": "code",
            "execution_count": 6,
            "metadata": {},
            "outputs": [],
            "source": [
                "ngsim=transform.convert_feet_to_metre(ngsim)"
            ]
        },
        {
            "cell_type": "code",
            "execution_count": 7,
            "metadata": {},
            "outputs": [
                {
                    "data": {
                        "text/plain": [
                            "(11146526, 25)"
                        ]
                    },
                    "execution_count": 7,
                    "metadata": {},
                    "output_type": "execute_result"
                }
            ],
            "source": [
                "ngsim.shape"
            ]
        },
        {
            "cell_type": "code",
            "execution_count": 8,
            "metadata": {},
            "outputs": [],
            "source": [
                "ngsim=transform.drop_not_required_columns(ngsim)"
            ]
        },
        {
            "cell_type": "markdown",
            "metadata": {},
            "source": [
                "Create Placeholders for the user defined columns we will be populating later, to be used in the model. \n",
                "Map the Vehicle classes to their english equivalent. \n",
                "Filter the original file into US-101 and I-80 to perform and populate the required fields later. These files contain same values of Vehicle ID used for multiple vehicles based on the highway. \n",
                "\n"
            ]
        },
        {
            "cell_type": "code",
            "execution_count": 9,
            "metadata": {},
            "outputs": [],
            "source": [
                "#filtered_ngsim= ngsim[((ngsim['Location'] == 'us-101') | (ngsim['Location'] == 'i-80')) & (ngsim['Preceding']>0) & (ngsim['Following']>0) ]\n",
                "ngsim=transform.create_column_placeholders(ngsim)"
            ]
        },
        {
            "cell_type": "markdown",
            "metadata": {},
            "source": [
                "Split data into US-101 and I-80 specific dataframes."
            ]
        },
        {
            "cell_type": "code",
            "execution_count": 10,
            "metadata": {},
            "outputs": [],
            "source": [
                "filtered_ngsim_U,filtered_ngsim_I = transform.bifurcate_highways(ngsim)"
            ]
        },
        {
            "cell_type": "markdown",
            "metadata": {},
            "source": [
                "Create Sets to use and create the L-F Pairs. "
            ]
        },
        {
            "cell_type": "code",
            "execution_count": 11,
            "metadata": {},
            "outputs": [],
            "source": [
                "v_Class_M_U,v_Class_C_U,v_Class_HV_U = transform.class_vehicle_sets(filtered_ngsim_U)\n",
                "v_Class_M_I,v_Class_C_I,v_Class_HV_I = transform.class_vehicle_sets(filtered_ngsim_I)\n"
            ]
        },
        {
            "cell_type": "markdown",
            "metadata": {},
            "source": [
                "Add the Preceding Vehicle Class to the new previous class column"
            ]
        },
        {
            "cell_type": "code",
            "execution_count": 12,
            "metadata": {},
            "outputs": [],
            "source": [
                "filtered_ngsim_U=transform.preceding_vehicle_class(filtered_ngsim_U,v_Class_M_U,v_Class_C_U,v_Class_HV_U)\n",
                "filtered_ngsim_I=transform.preceding_vehicle_class(filtered_ngsim_I,v_Class_M_I,v_Class_C_I,v_Class_HV_I)"
            ]
        },
        {
            "cell_type": "markdown",
            "metadata": {},
            "source": [
                "Map the Vehicle Length of the previous vehicle into the row. "
            ]
        },
        {
            "cell_type": "code",
            "execution_count": null,
            "metadata": {},
            "outputs": [],
            "source": []
        },
        {
            "cell_type": "code",
            "execution_count": 13,
            "metadata": {},
            "outputs": [],
            "source": [
                "filtered_ngsim_U=transform.preceding_vehicle_length(filtered_ngsim_U)\n",
                "filtered_ngsim_I=transform.preceding_vehicle_length(filtered_ngsim_I)"
            ]
        },
        {
            "cell_type": "markdown",
            "metadata": {},
            "source": [
                "Convert the Front to Front Space Headway to Back Bumper (preceding Vehicle) to front Bumper(of Following ) Headway. This will give the actual distance between the vehicle ignoring the vehicle length.\n",
                "Find the time it would take for the Following vehicle to reach the rear Bumper of the Preceding Vehicle. "
            ]
        },
        {
            "cell_type": "code",
            "execution_count": 14,
            "metadata": {},
            "outputs": [],
            "source": [
                "filtered_ngsim_U= transform.front_to_front_bumper_details_changed_to_rear_to_front_bumper_details(filtered_ngsim_U)\n",
                "filtered_ngsim_I= transform.front_to_front_bumper_details_changed_to_rear_to_front_bumper_details(filtered_ngsim_I)"
            ]
        },
        {
            "cell_type": "code",
            "execution_count": 15,
            "metadata": {},
            "outputs": [
                {
                    "data": {
                        "text/plain": [
                            "Index(['Vehicle_ID', 'Frame_ID', 'Global_Time', 'Local_X', 'Local_Y',\n",
                            "       'v_length', 'v_Class', 'v_Vel', 'v_Acc', 'Lane_ID', 'Preceding',\n",
                            "       'Following', 'Space_Headway', 'Time_Headway', 'Location',\n",
                            "       'Preceding_Vehicle_Class', 'Rear_to_Front_Space_Headway',\n",
                            "       'Front_To_Rear_Time_Headway', 'Velocity Difference_Following-Preceding',\n",
                            "       'Acceleration Difference_Following-Preceding', 'L-F_Pair',\n",
                            "       'v_Class_Name', 'Vehicle_combination', 'preceding_vehicle_length'],\n",
                            "      dtype='object')"
                        ]
                    },
                    "execution_count": 15,
                    "metadata": {},
                    "output_type": "execute_result"
                }
            ],
            "source": [
                "filtered_ngsim_U.columns"
            ]
        },
        {
            "cell_type": "markdown",
            "metadata": {},
            "source": [
                "Vehicle Combination of the Preceding and the Following Vehicle. "
            ]
        },
        {
            "cell_type": "code",
            "execution_count": 16,
            "metadata": {},
            "outputs": [
                {
                    "name": "stdout",
                    "output_type": "stream",
                    "text": [
                        "us-101::621 cars dont change lanes\n",
                        "us-101::2226 cars Change lanes\n",
                        "i-80::817 cars dont change lanes\n",
                        "i-80::2184 cars Change lanes\n"
                    ]
                }
            ],
            "source": [
                "filtered_ngsim_U=transform.map_preceding_vehicle_details(filtered_ngsim_U)\n",
                "filtered_ngsim_I=transform.map_preceding_vehicle_details(filtered_ngsim_I)"
            ]
        },
        {
            "cell_type": "code",
            "execution_count": 17,
            "metadata": {},
            "outputs": [],
            "source": [
                "filtered_ngsim_U=transform.map_pairs(filtered_ngsim_U)\n",
                "filtered_ngsim_I=transform.map_pairs(filtered_ngsim_I)"
            ]
        },
        {
            "cell_type": "code",
            "execution_count": null,
            "metadata": {},
            "outputs": [],
            "source": []
        },
        {
            "cell_type": "code",
            "execution_count": 18,
            "metadata": {},
            "outputs": [
                {
                    "name": "stdout",
                    "output_type": "stream",
                    "text": [
                        " Merged Record Count:8665320, df1:4098933, df2:4566387\n"
                    ]
                }
            ],
            "source": [
                "filtered_ngsim= fileProcessing.merge_files(filtered_ngsim_U , filtered_ngsim_I)\n",
                "\n",
                "verify_pairs = filtered_ngsim[['L-F_Pair', 'Location']]\n",
                "\n",
                "verify_pairs.drop_duplicates(inplace=True)\n",
                "verify_pairs = verify_pairs.groupby(\n",
                "    ['L-F_Pair'], as_index=False).count()\n",
                "# print(lane_verify.shape)\n",
                "duplicate_pairs = set(\n",
                "    verify_pairs[verify_pairs[\"Location\"] > 1]['L-F_Pair'])\n"
            ]
        },
        {
            "cell_type": "code",
            "execution_count": 19,
            "metadata": {},
            "outputs": [
                {
                    "name": "stdout",
                    "output_type": "stream",
                    "text": [
                        "853964\n",
                        "907929\n"
                    ]
                }
            ],
            "source": [
                "print(filtered_ngsim_U[filtered_ngsim_U['L-F_Pair'].isin(duplicate_pairs)]['Vehicle_ID'].count())\n",
                "print(filtered_ngsim_I[filtered_ngsim_I['L-F_Pair'].isin(duplicate_pairs)]['Vehicle_ID'].count())"
            ]
        },
        {
            "cell_type": "code",
            "execution_count": 20,
            "metadata": {},
            "outputs": [],
            "source": [
                "#len(duplicate_pairs)"
            ]
        },
        {
            "cell_type": "code",
            "execution_count": 21,
            "metadata": {},
            "outputs": [],
            "source": [
                "#len(filtered_ngsim['L-F_Pair'].unique())"
            ]
        },
        {
            "cell_type": "code",
            "execution_count": null,
            "metadata": {},
            "outputs": [],
            "source": []
        },
        {
            "cell_type": "code",
            "execution_count": null,
            "metadata": {},
            "outputs": [],
            "source": []
        },
        {
            "cell_type": "code",
            "execution_count": null,
            "metadata": {},
            "outputs": [],
            "source": []
        },
        {
            "cell_type": "code",
            "execution_count": 22,
            "metadata": {},
            "outputs": [
                {
                    "name": "stdout",
                    "output_type": "stream",
                    "text": [
                        "dataset before Row Removal(4098933, 33)\n",
                        "us-101: 157194 vehicles first and Last 5 seconds removed from Lane 1 due to lane changing\n",
                        "us-101: 10594 vehicles first and Last 5 seconds removed from Lane 2 due to lane changing\n",
                        "us-101: 8027 vehicles first and Last 5 seconds removed from Lane 3 due to lane changing\n",
                        "us-101: 8961 vehicles first and Last 5 seconds removed from Lane 4 due to lane changing\n",
                        "us-101: 9343 vehicles first and Last 5 seconds removed from Lane 5 due to lane changing\n",
                        "us-101: 3589 vehicles first and Last 5 seconds removed from Lane 6 due to lane changing\n",
                        "us-101: 2755 vehicles first and Last 5 seconds removed from Lane 7 due to lane changing\n",
                        "us-101: 1027 vehicles first and Last 5 seconds removed from Lane 8 due to lane changing\n",
                        "us-101: 271468 have multiple lengths and classes for same Vehicle ID\n",
                        "us-101: 780619 have total car following less than 30 seconds\n",
                        "us-101: 266321 have time Headway less than 5 seconds\n",
                        "us-101: 18010 have Lane ID as 7 or 8 which are the Ramps\n",
                        "us-101: 1136316 rows removed using above criterias\n",
                        "dataset before Row Removal(4566387, 33)\n",
                        "i-80: 155906 vehicles first and Last 5 seconds removed from Lane 1 due to lane changing\n",
                        "i-80: 7461 vehicles first and Last 5 seconds removed from Lane 2 due to lane changing\n",
                        "i-80: 6096 vehicles first and Last 5 seconds removed from Lane 3 due to lane changing\n",
                        "i-80: 6461 vehicles first and Last 5 seconds removed from Lane 4 due to lane changing\n",
                        "i-80: 7033 vehicles first and Last 5 seconds removed from Lane 5 due to lane changing\n",
                        "i-80: 8468 vehicles first and Last 5 seconds removed from Lane 6 due to lane changing\n",
                        "i-80: 4977 vehicles first and Last 5 seconds removed from Lane 7 due to lane changing\n",
                        "i-80: 0 vehicles first and Last 5 seconds removed from Lane 8 due to lane changing\n",
                        "i-80: 423561 have multiple lengths and classes for same Vehicle ID\n",
                        "i-80: 940574 have total car following less than 30 seconds\n",
                        "i-80: 252611 have time Headway less than 5 seconds\n",
                        "i-80: 154397 have Lane ID as 7 or 8 which are the Ramps\n",
                        "i-80: 1431812 rows removed using above criterias\n"
                    ]
                }
            ],
            "source": [
                "filtered_ngsim_U=cleanup.filter_records_for_model(filtered_ngsim_U)\n",
                "filtered_ngsim_I=cleanup.filter_records_for_model(filtered_ngsim_I)\n",
                "\n",
                "filtered_ngsim_U.drop(columns=[\"total_pair_duration\",'pair_Time_Duration'],axis=1,inplace=True)\n",
                "filtered_ngsim_I.drop(columns=[\"total_pair_duration\",'pair_Time_Duration'],axis=1,inplace=True)\n",
                "filtered_ngsim_U=transform.map_pairs(filtered_ngsim_U)\n",
                "filtered_ngsim_I=transform.map_pairs(filtered_ngsim_I)"
            ]
        },
        {
            "cell_type": "markdown",
            "metadata": {},
            "source": [
                "\n",
                "1. Velocity difference of the Lead minus Preceding Vehicle.\n",
                "2. Acceleration difference of the Lead minus Preceding Vehicle.\n",
                "3. Find the Pair details of the Lead_following \n",
                "4. Find the cumulative time the Pair runs within the highway as a pair. "
            ]
        },
        {
            "cell_type": "code",
            "execution_count": 23,
            "metadata": {},
            "outputs": [
                {
                    "name": "stdout",
                    "output_type": "stream",
                    "text": [
                        " Merged Record Count:6097192, df1:2962617, df2:3134575\n",
                        "550234\n",
                        "560111\n"
                    ]
                }
            ],
            "source": [
                "filtered_ngsim= fileProcessing.merge_files(filtered_ngsim_U , filtered_ngsim_I)\n",
                "print(filtered_ngsim_U[filtered_ngsim_U['L-F_Pair'].isin(duplicate_pairs)]['Vehicle_ID'].count())\n",
                "print(filtered_ngsim_I[filtered_ngsim_I['L-F_Pair'].isin(duplicate_pairs)]['Vehicle_ID'].count())\n",
                "#print(filtered_ngsim_U[filtered_ngsim_U['L-F_Pair'].isin(duplicate_pairs)]['Vehicle_ID'].count())\n",
                "#print(filtered_ngsim_I[filtered_ngsim_I['L-F_Pair'].isin(duplicate_pairs)]['Vehicle_ID'].count())\n",
                "\n",
                "#fileProcessing.export_file(filtered_ngsim,'Cleaned_NGSIM_Data')"
            ]
        },
        {
            "cell_type": "code",
            "execution_count": 24,
            "metadata": {},
            "outputs": [
                {
                    "data": {
                        "text/plain": [
                            "Index(['Vehicle_ID', 'Frame_ID', 'Global_Time', 'Local_X', 'Local_Y',\n",
                            "       'v_length', 'v_Class', 'v_Vel', 'v_Acc', 'Lane_ID', 'Preceding',\n",
                            "       'Following', 'Space_Headway', 'Time_Headway', 'Location',\n",
                            "       'Preceding_Vehicle_Class', 'Rear_to_Front_Space_Headway',\n",
                            "       'Front_To_Rear_Time_Headway', 'Velocity Difference_Following-Preceding',\n",
                            "       'Acceleration Difference_Following-Preceding', 'L-F_Pair',\n",
                            "       'v_Class_Name', 'Vehicle_combination', 'preceding_vehicle_length',\n",
                            "       'lane_changes', 'Prec_Vehicle_ID', 'preceding_Vehicle_Velocity',\n",
                            "       'preceding_Vehicle_Acceleration', 'preceding_car_lane_changes',\n",
                            "       'preceding_Local_Y', 'preceding_v_Class', 'pair_Time_Duration',\n",
                            "       'total_pair_duration'],\n",
                            "      dtype='object')"
                        ]
                    },
                    "execution_count": 24,
                    "metadata": {},
                    "output_type": "execute_result"
                }
            ],
            "source": [
                "filtered_ngsim.columns"
            ]
        },
        {
            "cell_type": "code",
            "execution_count": 25,
            "metadata": {},
            "outputs": [
                {
                    "name": "stdout",
                    "output_type": "stream",
                    "text": [
                        "2746 cars Change lanes\n",
                        "1280 cars DonT\n"
                    ]
                }
            ],
            "source": [
                "print(f\"{filtered_ngsim[(filtered_ngsim['preceding_car_lane_changes'] == True) ]['Vehicle_ID'].unique().size} cars Change lanes\")\n",
                "print(f\"{filtered_ngsim[(filtered_ngsim['preceding_car_lane_changes'] == False) ]['Vehicle_ID'].unique().size} cars DonT\")"
            ]
        },
        {
            "cell_type": "code",
            "execution_count": 26,
            "metadata": {},
            "outputs": [],
            "source": [
                "#filtered_ngsim[((filtered_ngsim['Vehicle_ID'] <= 100 )  ) & ((filtered_ngsim['Preceding'] <= 100 )  )].to_csv('classVERIFYFILE.CSV', index = False)"
            ]
        },
        {
            "cell_type": "code",
            "execution_count": 27,
            "metadata": {},
            "outputs": [
                {
                    "data": {
                        "text/html": [
                            "<div>\n",
                            "<style scoped>\n",
                            "    .dataframe tbody tr th:only-of-type {\n",
                            "        vertical-align: middle;\n",
                            "    }\n",
                            "\n",
                            "    .dataframe tbody tr th {\n",
                            "        vertical-align: top;\n",
                            "    }\n",
                            "\n",
                            "    .dataframe thead th {\n",
                            "        text-align: right;\n",
                            "    }\n",
                            "</style>\n",
                            "<table border=\"1\" class=\"dataframe\">\n",
                            "  <thead>\n",
                            "    <tr style=\"text-align: right;\">\n",
                            "      <th></th>\n",
                            "      <th>Vehicle_ID</th>\n",
                            "      <th>Frame_ID</th>\n",
                            "      <th>Global_Time</th>\n",
                            "      <th>Local_X</th>\n",
                            "      <th>Local_Y</th>\n",
                            "      <th>v_length</th>\n",
                            "      <th>v_Class</th>\n",
                            "      <th>v_Vel</th>\n",
                            "      <th>v_Acc</th>\n",
                            "      <th>Lane_ID</th>\n",
                            "      <th>...</th>\n",
                            "      <th>preceding_vehicle_length</th>\n",
                            "      <th>lane_changes</th>\n",
                            "      <th>Prec_Vehicle_ID</th>\n",
                            "      <th>preceding_Vehicle_Velocity</th>\n",
                            "      <th>preceding_Vehicle_Acceleration</th>\n",
                            "      <th>preceding_car_lane_changes</th>\n",
                            "      <th>preceding_Local_Y</th>\n",
                            "      <th>preceding_v_Class</th>\n",
                            "      <th>pair_Time_Duration</th>\n",
                            "      <th>total_pair_duration</th>\n",
                            "    </tr>\n",
                            "  </thead>\n",
                            "  <tbody>\n",
                            "    <tr>\n",
                            "      <th>0</th>\n",
                            "      <td>8</td>\n",
                            "      <td>29</td>\n",
                            "      <td>1118846981800</td>\n",
                            "      <td>11.236757</td>\n",
                            "      <td>11.727485</td>\n",
                            "      <td>4.72440</td>\n",
                            "      <td>2</td>\n",
                            "      <td>13.716000</td>\n",
                            "      <td>0.000000</td>\n",
                            "      <td>4</td>\n",
                            "      <td>...</td>\n",
                            "      <td>4.67360</td>\n",
                            "      <td>True</td>\n",
                            "      <td>5</td>\n",
                            "      <td>11.783568</td>\n",
                            "      <td>-3.322320</td>\n",
                            "      <td>True</td>\n",
                            "      <td>37.322150</td>\n",
                            "      <td>2.0</td>\n",
                            "      <td>0.0</td>\n",
                            "      <td>65.8</td>\n",
                            "    </tr>\n",
                            "    <tr>\n",
                            "      <th>1</th>\n",
                            "      <td>8</td>\n",
                            "      <td>30</td>\n",
                            "      <td>1118846981900</td>\n",
                            "      <td>11.230051</td>\n",
                            "      <td>13.099085</td>\n",
                            "      <td>4.72440</td>\n",
                            "      <td>2</td>\n",
                            "      <td>13.716000</td>\n",
                            "      <td>0.000000</td>\n",
                            "      <td>4</td>\n",
                            "      <td>...</td>\n",
                            "      <td>4.67360</td>\n",
                            "      <td>True</td>\n",
                            "      <td>5</td>\n",
                            "      <td>11.430000</td>\n",
                            "      <td>-3.413760</td>\n",
                            "      <td>True</td>\n",
                            "      <td>38.482219</td>\n",
                            "      <td>2.0</td>\n",
                            "      <td>0.1</td>\n",
                            "      <td>65.8</td>\n",
                            "    </tr>\n",
                            "    <tr>\n",
                            "      <th>2</th>\n",
                            "      <td>8</td>\n",
                            "      <td>31</td>\n",
                            "      <td>1118846982000</td>\n",
                            "      <td>11.222736</td>\n",
                            "      <td>14.470685</td>\n",
                            "      <td>4.72440</td>\n",
                            "      <td>2</td>\n",
                            "      <td>13.716000</td>\n",
                            "      <td>0.000000</td>\n",
                            "      <td>4</td>\n",
                            "      <td>...</td>\n",
                            "      <td>4.67360</td>\n",
                            "      <td>True</td>\n",
                            "      <td>5</td>\n",
                            "      <td>11.076432</td>\n",
                            "      <td>-3.319272</td>\n",
                            "      <td>True</td>\n",
                            "      <td>39.607846</td>\n",
                            "      <td>2.0</td>\n",
                            "      <td>0.2</td>\n",
                            "      <td>65.8</td>\n",
                            "    </tr>\n",
                            "    <tr>\n",
                            "      <th>3</th>\n",
                            "      <td>8</td>\n",
                            "      <td>32</td>\n",
                            "      <td>1118846982100</td>\n",
                            "      <td>11.215726</td>\n",
                            "      <td>15.842285</td>\n",
                            "      <td>4.72440</td>\n",
                            "      <td>2</td>\n",
                            "      <td>13.716000</td>\n",
                            "      <td>0.000000</td>\n",
                            "      <td>4</td>\n",
                            "      <td>...</td>\n",
                            "      <td>4.67360</td>\n",
                            "      <td>True</td>\n",
                            "      <td>5</td>\n",
                            "      <td>10.820400</td>\n",
                            "      <td>-1.886712</td>\n",
                            "      <td>True</td>\n",
                            "      <td>40.689581</td>\n",
                            "      <td>2.0</td>\n",
                            "      <td>0.3</td>\n",
                            "      <td>65.8</td>\n",
                            "    </tr>\n",
                            "    <tr>\n",
                            "      <th>4</th>\n",
                            "      <td>8</td>\n",
                            "      <td>33</td>\n",
                            "      <td>1118846982200</td>\n",
                            "      <td>11.208715</td>\n",
                            "      <td>17.213885</td>\n",
                            "      <td>4.72440</td>\n",
                            "      <td>2</td>\n",
                            "      <td>13.716000</td>\n",
                            "      <td>0.000000</td>\n",
                            "      <td>4</td>\n",
                            "      <td>...</td>\n",
                            "      <td>4.67360</td>\n",
                            "      <td>True</td>\n",
                            "      <td>5</td>\n",
                            "      <td>10.689336</td>\n",
                            "      <td>-0.569976</td>\n",
                            "      <td>True</td>\n",
                            "      <td>41.753333</td>\n",
                            "      <td>2.0</td>\n",
                            "      <td>0.4</td>\n",
                            "      <td>65.8</td>\n",
                            "    </tr>\n",
                            "    <tr>\n",
                            "      <th>...</th>\n",
                            "      <td>...</td>\n",
                            "      <td>...</td>\n",
                            "      <td>...</td>\n",
                            "      <td>...</td>\n",
                            "      <td>...</td>\n",
                            "      <td>...</td>\n",
                            "      <td>...</td>\n",
                            "      <td>...</td>\n",
                            "      <td>...</td>\n",
                            "      <td>...</td>\n",
                            "      <td>...</td>\n",
                            "      <td>...</td>\n",
                            "      <td>...</td>\n",
                            "      <td>...</td>\n",
                            "      <td>...</td>\n",
                            "      <td>...</td>\n",
                            "      <td>...</td>\n",
                            "      <td>...</td>\n",
                            "      <td>...</td>\n",
                            "      <td>...</td>\n",
                            "      <td>...</td>\n",
                            "    </tr>\n",
                            "    <tr>\n",
                            "      <th>3134570</th>\n",
                            "      <td>2485</td>\n",
                            "      <td>11650</td>\n",
                            "      <td>1113438729900</td>\n",
                            "      <td>16.713403</td>\n",
                            "      <td>489.215278</td>\n",
                            "      <td>4.20624</td>\n",
                            "      <td>2</td>\n",
                            "      <td>1.069848</td>\n",
                            "      <td>0.332232</td>\n",
                            "      <td>5</td>\n",
                            "      <td>...</td>\n",
                            "      <td>4.52628</td>\n",
                            "      <td>True</td>\n",
                            "      <td>2460</td>\n",
                            "      <td>1.947672</td>\n",
                            "      <td>0.826008</td>\n",
                            "      <td>True</td>\n",
                            "      <td>498.871342</td>\n",
                            "      <td>2.0</td>\n",
                            "      <td>128.0</td>\n",
                            "      <td>128.4</td>\n",
                            "    </tr>\n",
                            "    <tr>\n",
                            "      <th>3134571</th>\n",
                            "      <td>2485</td>\n",
                            "      <td>11651</td>\n",
                            "      <td>1113438730000</td>\n",
                            "      <td>16.714013</td>\n",
                            "      <td>489.316776</td>\n",
                            "      <td>4.20624</td>\n",
                            "      <td>2</td>\n",
                            "      <td>1.170432</td>\n",
                            "      <td>1.487424</td>\n",
                            "      <td>5</td>\n",
                            "      <td>...</td>\n",
                            "      <td>4.52628</td>\n",
                            "      <td>True</td>\n",
                            "      <td>2460</td>\n",
                            "      <td>1.953768</td>\n",
                            "      <td>0.015240</td>\n",
                            "      <td>True</td>\n",
                            "      <td>499.073424</td>\n",
                            "      <td>2.0</td>\n",
                            "      <td>128.1</td>\n",
                            "      <td>128.4</td>\n",
                            "    </tr>\n",
                            "    <tr>\n",
                            "      <th>3134572</th>\n",
                            "      <td>2485</td>\n",
                            "      <td>11652</td>\n",
                            "      <td>1113438730100</td>\n",
                            "      <td>16.714927</td>\n",
                            "      <td>489.431990</td>\n",
                            "      <td>4.20624</td>\n",
                            "      <td>2</td>\n",
                            "      <td>1.383792</td>\n",
                            "      <td>2.868168</td>\n",
                            "      <td>5</td>\n",
                            "      <td>...</td>\n",
                            "      <td>4.52628</td>\n",
                            "      <td>True</td>\n",
                            "      <td>2460</td>\n",
                            "      <td>1.953768</td>\n",
                            "      <td>0.000000</td>\n",
                            "      <td>True</td>\n",
                            "      <td>499.309949</td>\n",
                            "      <td>2.0</td>\n",
                            "      <td>128.2</td>\n",
                            "      <td>128.4</td>\n",
                            "    </tr>\n",
                            "    <tr>\n",
                            "      <th>3134573</th>\n",
                            "      <td>2485</td>\n",
                            "      <td>11653</td>\n",
                            "      <td>1113438730200</td>\n",
                            "      <td>16.717366</td>\n",
                            "      <td>489.581342</td>\n",
                            "      <td>4.20624</td>\n",
                            "      <td>2</td>\n",
                            "      <td>1.694688</td>\n",
                            "      <td>3.413760</td>\n",
                            "      <td>5</td>\n",
                            "      <td>...</td>\n",
                            "      <td>4.52628</td>\n",
                            "      <td>True</td>\n",
                            "      <td>2460</td>\n",
                            "      <td>1.953768</td>\n",
                            "      <td>0.000000</td>\n",
                            "      <td>True</td>\n",
                            "      <td>499.462349</td>\n",
                            "      <td>2.0</td>\n",
                            "      <td>128.3</td>\n",
                            "      <td>128.4</td>\n",
                            "    </tr>\n",
                            "    <tr>\n",
                            "      <th>3134574</th>\n",
                            "      <td>2485</td>\n",
                            "      <td>11654</td>\n",
                            "      <td>1113438730300</td>\n",
                            "      <td>16.717670</td>\n",
                            "      <td>489.770928</td>\n",
                            "      <td>4.20624</td>\n",
                            "      <td>2</td>\n",
                            "      <td>2.002536</td>\n",
                            "      <td>2.877312</td>\n",
                            "      <td>5</td>\n",
                            "      <td>...</td>\n",
                            "      <td>4.52628</td>\n",
                            "      <td>True</td>\n",
                            "      <td>2460</td>\n",
                            "      <td>1.953768</td>\n",
                            "      <td>0.000000</td>\n",
                            "      <td>True</td>\n",
                            "      <td>499.614444</td>\n",
                            "      <td>2.0</td>\n",
                            "      <td>128.4</td>\n",
                            "      <td>128.4</td>\n",
                            "    </tr>\n",
                            "  </tbody>\n",
                            "</table>\n",
                            "<p>6097192 rows × 33 columns</p>\n",
                            "</div>"
                        ],
                        "text/plain": [
                            "         Vehicle_ID  Frame_ID    Global_Time    Local_X     Local_Y  v_length  \\\n",
                            "0                 8        29  1118846981800  11.236757   11.727485   4.72440   \n",
                            "1                 8        30  1118846981900  11.230051   13.099085   4.72440   \n",
                            "2                 8        31  1118846982000  11.222736   14.470685   4.72440   \n",
                            "3                 8        32  1118846982100  11.215726   15.842285   4.72440   \n",
                            "4                 8        33  1118846982200  11.208715   17.213885   4.72440   \n",
                            "...             ...       ...            ...        ...         ...       ...   \n",
                            "3134570        2485     11650  1113438729900  16.713403  489.215278   4.20624   \n",
                            "3134571        2485     11651  1113438730000  16.714013  489.316776   4.20624   \n",
                            "3134572        2485     11652  1113438730100  16.714927  489.431990   4.20624   \n",
                            "3134573        2485     11653  1113438730200  16.717366  489.581342   4.20624   \n",
                            "3134574        2485     11654  1113438730300  16.717670  489.770928   4.20624   \n",
                            "\n",
                            "         v_Class      v_Vel     v_Acc  Lane_ID  ...  preceding_vehicle_length  \\\n",
                            "0              2  13.716000  0.000000        4  ...                   4.67360   \n",
                            "1              2  13.716000  0.000000        4  ...                   4.67360   \n",
                            "2              2  13.716000  0.000000        4  ...                   4.67360   \n",
                            "3              2  13.716000  0.000000        4  ...                   4.67360   \n",
                            "4              2  13.716000  0.000000        4  ...                   4.67360   \n",
                            "...          ...        ...       ...      ...  ...                       ...   \n",
                            "3134570        2   1.069848  0.332232        5  ...                   4.52628   \n",
                            "3134571        2   1.170432  1.487424        5  ...                   4.52628   \n",
                            "3134572        2   1.383792  2.868168        5  ...                   4.52628   \n",
                            "3134573        2   1.694688  3.413760        5  ...                   4.52628   \n",
                            "3134574        2   2.002536  2.877312        5  ...                   4.52628   \n",
                            "\n",
                            "         lane_changes  Prec_Vehicle_ID  preceding_Vehicle_Velocity  \\\n",
                            "0                True                5                   11.783568   \n",
                            "1                True                5                   11.430000   \n",
                            "2                True                5                   11.076432   \n",
                            "3                True                5                   10.820400   \n",
                            "4                True                5                   10.689336   \n",
                            "...               ...              ...                         ...   \n",
                            "3134570          True             2460                    1.947672   \n",
                            "3134571          True             2460                    1.953768   \n",
                            "3134572          True             2460                    1.953768   \n",
                            "3134573          True             2460                    1.953768   \n",
                            "3134574          True             2460                    1.953768   \n",
                            "\n",
                            "        preceding_Vehicle_Acceleration preceding_car_lane_changes  \\\n",
                            "0                            -3.322320                       True   \n",
                            "1                            -3.413760                       True   \n",
                            "2                            -3.319272                       True   \n",
                            "3                            -1.886712                       True   \n",
                            "4                            -0.569976                       True   \n",
                            "...                                ...                        ...   \n",
                            "3134570                       0.826008                       True   \n",
                            "3134571                       0.015240                       True   \n",
                            "3134572                       0.000000                       True   \n",
                            "3134573                       0.000000                       True   \n",
                            "3134574                       0.000000                       True   \n",
                            "\n",
                            "         preceding_Local_Y  preceding_v_Class  pair_Time_Duration  \\\n",
                            "0                37.322150                2.0                 0.0   \n",
                            "1                38.482219                2.0                 0.1   \n",
                            "2                39.607846                2.0                 0.2   \n",
                            "3                40.689581                2.0                 0.3   \n",
                            "4                41.753333                2.0                 0.4   \n",
                            "...                    ...                ...                 ...   \n",
                            "3134570         498.871342                2.0               128.0   \n",
                            "3134571         499.073424                2.0               128.1   \n",
                            "3134572         499.309949                2.0               128.2   \n",
                            "3134573         499.462349                2.0               128.3   \n",
                            "3134574         499.614444                2.0               128.4   \n",
                            "\n",
                            "         total_pair_duration  \n",
                            "0                       65.8  \n",
                            "1                       65.8  \n",
                            "2                       65.8  \n",
                            "3                       65.8  \n",
                            "4                       65.8  \n",
                            "...                      ...  \n",
                            "3134570                128.4  \n",
                            "3134571                128.4  \n",
                            "3134572                128.4  \n",
                            "3134573                128.4  \n",
                            "3134574                128.4  \n",
                            "\n",
                            "[6097192 rows x 33 columns]"
                        ]
                    },
                    "execution_count": 27,
                    "metadata": {},
                    "output_type": "execute_result"
                }
            ],
            "source": [
                "filtered_ngsim"
            ]
        },
        {
            "cell_type": "code",
            "execution_count": 28,
            "metadata": {},
            "outputs": [
                {
                    "data": {
                        "text/plain": [
                            "(9133,)"
                        ]
                    },
                    "execution_count": 28,
                    "metadata": {},
                    "output_type": "execute_result"
                }
            ],
            "source": [
                "filtered_ngsim['L-F_Pair'].unique().shape"
            ]
        },
        {
            "cell_type": "code",
            "execution_count": 29,
            "metadata": {},
            "outputs": [
                {
                    "data": {
                        "text/html": [
                            "<div>\n",
                            "<style scoped>\n",
                            "    .dataframe tbody tr th:only-of-type {\n",
                            "        vertical-align: middle;\n",
                            "    }\n",
                            "\n",
                            "    .dataframe tbody tr th {\n",
                            "        vertical-align: top;\n",
                            "    }\n",
                            "\n",
                            "    .dataframe thead th {\n",
                            "        text-align: right;\n",
                            "    }\n",
                            "</style>\n",
                            "<table border=\"1\" class=\"dataframe\">\n",
                            "  <thead>\n",
                            "    <tr style=\"text-align: right;\">\n",
                            "      <th></th>\n",
                            "      <th>Vehicle_ID</th>\n",
                            "      <th>Frame_ID</th>\n",
                            "      <th>Global_Time</th>\n",
                            "      <th>Local_X</th>\n",
                            "      <th>Local_Y</th>\n",
                            "      <th>v_length</th>\n",
                            "      <th>v_Class</th>\n",
                            "      <th>v_Vel</th>\n",
                            "      <th>v_Acc</th>\n",
                            "      <th>Lane_ID</th>\n",
                            "      <th>...</th>\n",
                            "      <th>preceding_vehicle_length</th>\n",
                            "      <th>lane_changes</th>\n",
                            "      <th>Prec_Vehicle_ID</th>\n",
                            "      <th>preceding_Vehicle_Velocity</th>\n",
                            "      <th>preceding_Vehicle_Acceleration</th>\n",
                            "      <th>preceding_car_lane_changes</th>\n",
                            "      <th>preceding_Local_Y</th>\n",
                            "      <th>preceding_v_Class</th>\n",
                            "      <th>pair_Time_Duration</th>\n",
                            "      <th>total_pair_duration</th>\n",
                            "    </tr>\n",
                            "  </thead>\n",
                            "  <tbody>\n",
                            "    <tr>\n",
                            "      <th>2141580</th>\n",
                            "      <td>572</td>\n",
                            "      <td>3292</td>\n",
                            "      <td>1113437894100</td>\n",
                            "      <td>5.464454</td>\n",
                            "      <td>452.776438</td>\n",
                            "      <td>4.35864</td>\n",
                            "      <td>2</td>\n",
                            "      <td>0.0</td>\n",
                            "      <td>0.0</td>\n",
                            "      <td>2</td>\n",
                            "      <td>...</td>\n",
                            "      <td>4.81584</td>\n",
                            "      <td>True</td>\n",
                            "      <td>566</td>\n",
                            "      <td>0.749808</td>\n",
                            "      <td>0.103632</td>\n",
                            "      <td>True</td>\n",
                            "      <td>452.777657</td>\n",
                            "      <td>2.0</td>\n",
                            "      <td>23.9</td>\n",
                            "      <td>34.2</td>\n",
                            "    </tr>\n",
                            "  </tbody>\n",
                            "</table>\n",
                            "<p>1 rows × 33 columns</p>\n",
                            "</div>"
                        ],
                        "text/plain": [
                            "         Vehicle_ID  Frame_ID    Global_Time   Local_X     Local_Y  v_length  \\\n",
                            "2141580         572      3292  1113437894100  5.464454  452.776438   4.35864   \n",
                            "\n",
                            "         v_Class  v_Vel  v_Acc  Lane_ID  ...  preceding_vehicle_length  \\\n",
                            "2141580        2    0.0    0.0        2  ...                   4.81584   \n",
                            "\n",
                            "         lane_changes  Prec_Vehicle_ID  preceding_Vehicle_Velocity  \\\n",
                            "2141580          True              566                    0.749808   \n",
                            "\n",
                            "        preceding_Vehicle_Acceleration preceding_car_lane_changes  \\\n",
                            "2141580                       0.103632                       True   \n",
                            "\n",
                            "         preceding_Local_Y  preceding_v_Class  pair_Time_Duration  \\\n",
                            "2141580         452.777657                2.0                23.9   \n",
                            "\n",
                            "         total_pair_duration  \n",
                            "2141580                 34.2  \n",
                            "\n",
                            "[1 rows x 33 columns]"
                        ]
                    },
                    "execution_count": 29,
                    "metadata": {},
                    "output_type": "execute_result"
                }
            ],
            "source": [
                "filtered_ngsim[((filtered_ngsim['Space_Headway'] == 0 ) & (filtered_ngsim['Preceding'] > 0 )) ]\n"
            ]
        },
        {
            "cell_type": "code",
            "execution_count": 30,
            "metadata": {},
            "outputs": [
                {
                    "data": {
                        "text/plain": [
                            "(9122,)"
                        ]
                    },
                    "execution_count": 30,
                    "metadata": {},
                    "output_type": "execute_result"
                }
            ],
            "source": [
                "filtered_ngsim[((filtered_ngsim['Time_Headway'] <= 5 ) )]['L-F_Pair'].unique().shape\n"
            ]
        },
        {
            "cell_type": "code",
            "execution_count": 32,
            "metadata": {},
            "outputs": [
                {
                    "data": {
                        "text/plain": [
                            "(9133,)"
                        ]
                    },
                    "execution_count": 32,
                    "metadata": {},
                    "output_type": "execute_result"
                }
            ],
            "source": [
                "filtered_ngsim['L-F_Pair'].unique().shape"
            ]
        },
        {
            "cell_type": "code",
            "execution_count": 31,
            "metadata": {},
            "outputs": [
                {
                    "data": {
                        "text/plain": [
                            "Index(['Vehicle_ID', 'Frame_ID', 'Global_Time', 'Local_X', 'Local_Y',\n",
                            "       'v_length', 'v_Class', 'v_Vel', 'v_Acc', 'Lane_ID', 'Preceding',\n",
                            "       'Following', 'Space_Headway', 'Time_Headway', 'Location',\n",
                            "       'Preceding_Vehicle_Class', 'Rear_to_Front_Space_Headway',\n",
                            "       'Front_To_Rear_Time_Headway', 'Velocity Difference_Following-Preceding',\n",
                            "       'Acceleration Difference_Following-Preceding', 'L-F_Pair',\n",
                            "       'v_Class_Name', 'Vehicle_combination', 'preceding_vehicle_length',\n",
                            "       'lane_changes', 'Prec_Vehicle_ID', 'preceding_Vehicle_Velocity',\n",
                            "       'preceding_Vehicle_Acceleration', 'preceding_car_lane_changes',\n",
                            "       'preceding_Local_Y', 'preceding_v_Class', 'pair_Time_Duration',\n",
                            "       'total_pair_duration'],\n",
                            "      dtype='object')"
                        ]
                    },
                    "execution_count": 31,
                    "metadata": {},
                    "output_type": "execute_result"
                }
            ],
            "source": [
                "filtered_ngsim.columns"
            ]
        },
        {
            "cell_type": "code",
            "execution_count": null,
            "metadata": {},
            "outputs": [],
            "source": []
        }
    ],
    "metadata": {
        "kernelspec": {
            "display_name": "Python 3.8.13 ('Project')",
            "language": "python",
            "name": "python3"
        },
        "language_info": {
            "codemirror_mode": {
                "name": "ipython",
                "version": 3
            },
            "file_extension": ".py",
            "mimetype": "text/x-python",
            "name": "python",
            "nbconvert_exporter": "python",
            "pygments_lexer": "ipython3",
            "version": "3.8.13"
        },
        "orig_nbformat": 4,
        "vscode": {
            "interpreter": {
                "hash": "32f9b5c64a9ffdfd44c75ce715a0c18d651d70bac5b5e0fedf911a0bbec25f03"
            }
        }
    },
    "nbformat": 4,
    "nbformat_minor": 2
}
