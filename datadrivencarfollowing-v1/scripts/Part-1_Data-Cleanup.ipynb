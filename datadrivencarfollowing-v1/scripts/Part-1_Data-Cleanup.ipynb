{
 "cells": [
  {
   "cell_type": "code",
   "execution_count": 13,
   "metadata": {},
   "outputs": [],
   "source": [
    "import numpy as np \n",
    "import pandas as pd \n",
    "import warnings\n",
    "warnings.filterwarnings(\"ignore\")"
   ]
  },
  {
   "cell_type": "code",
   "execution_count": 14,
   "metadata": {},
   "outputs": [
    {
     "name": "stdout",
     "output_type": "stream",
     "text": [
      "original File path: c:\\Users\\StudentAccount\\Python\\Capstone\\gitcodelocation\\DataDrivenCarFollowing\\datadrivencarfollowing-v1\\scripts\n",
      "c:\\Users\\StudentAccount\\Python\\Capstone\\gitcodelocation\\DataDrivenCarFollowing\\datadrivencarfollowing-v1\\scripts\n",
      "Updated File Path to pick from Data Library: c:\\Users\\StudentAccount\\Python\\Capstone\\gitcodelocation\\DataDrivenCarFollowing\\datadrivencarfollowing-v1\\data\n"
     ]
    }
   ],
   "source": [
    "from pathlib import Path\n",
    "p = Path().cwd()\n",
    "print(f\"original File path: {p}\")\n",
    "print(p)\n",
    "\n",
    "stringpath= str(p)[0:str(p).rfind('\\\\')] + '\\\\data'\n",
    "print(f\"Updated File Path to pick from Data Library: { stringpath}\")\n",
    "ngsimfile=stringpath + '/' + 'Next_Generation_Simulation__NGSIM__Vehicle_Trajectories_and_Supporting_Data.csv'\n",
    "ngsim = pd.read_csv(ngsimfile,low_memory=False)"
   ]
  },
  {
   "cell_type": "code",
   "execution_count": 15,
   "metadata": {},
   "outputs": [],
   "source": [
    "filtered_ngsim= ngsim[((ngsim['Location'] == 'us-101') | (ngsim['Location'] == 'i-80')) & (ngsim['Preceding']>0) & (ngsim['Following']>0) ]\n",
    "filtered_ngsim= filtered_ngsim.drop(columns=['Movement', 'Direction','Section_ID','Int_ID','D_Zone','O_Zone','Lane_ID','Following','v_Width'])\n"
   ]
  },
  {
   "cell_type": "code",
   "execution_count": 16,
   "metadata": {},
   "outputs": [],
   "source": [
    "filtered_ngsim['Preceding_Vehicle_Class'] = np.NaN\n",
    "filtered_vClass= filtered_ngsim[['Vehicle_ID','v_Class']].drop_duplicates().sort_values('v_Class')\n",
    "v_Class_M=set(filtered_vClass[(filtered_vClass['v_Class'] == 1)]['Vehicle_ID'])\n",
    "v_Class_C=set(filtered_vClass[(filtered_vClass['v_Class'] == 2)]['Vehicle_ID'])\n",
    "v_Class_HV=set(filtered_vClass[(filtered_vClass['v_Class'] == 3)]['Vehicle_ID'])"
   ]
  },
  {
   "cell_type": "code",
   "execution_count": 17,
   "metadata": {},
   "outputs": [],
   "source": [
    "filtered_ngsim[\"v_Class\"] = filtered_ngsim[\"v_Class\"].map({1:\"Motorcycle\", 2: \"Car\", 3: \"Heavy Vehicle\"})"
   ]
  },
  {
   "cell_type": "code",
   "execution_count": 18,
   "metadata": {},
   "outputs": [],
   "source": [
    "for i in filtered_ngsim.index:\n",
    "    if filtered_ngsim['Preceding'][i] in v_Class_C:\n",
    "        filtered_ngsim['Preceding_Vehicle_Class'][i] = 'Car'\n",
    "    elif filtered_ngsim['Preceding'][i] in v_Class_HV:\n",
    "        filtered_ngsim['Preceding_Vehicle_Class'][i] = 'Heavy Vehicle'\n",
    "    elif filtered_ngsim['Preceding'][i] in v_Class_M:\n",
    "        filtered_ngsim['Preceding_Vehicle_Class'][i] = 'Motorcycle'"
   ]
  },
  {
   "cell_type": "code",
   "execution_count": 19,
   "metadata": {},
   "outputs": [],
   "source": [
    "filtered_ngsim['Vehicle_combination']= filtered_ngsim['Preceding_Vehicle_Class'] + '-' + filtered_ngsim['v_Class']"
   ]
  },
  {
   "cell_type": "code",
   "execution_count": 21,
   "metadata": {},
   "outputs": [],
   "source": [
    "stringpath= str(p)[0:str(p).rfind('\\\\')] + '\\\\data'\n",
    "ngsimfilteredfile=stringpath + '\\\\' + 'Cleaned_NGSIM_Data_Part_1.csv'\n",
    "filtered_ngsim.to_csv(ngsimfilteredfile, index = False)"
   ]
  }
 ],
 "metadata": {
  "interpreter": {
   "hash": "66102dfb9f2e5b7365bdb29c60f74c4733e59ed799f4b54b51820e6de3573383"
  },
  "kernelspec": {
   "display_name": "Python 3.9.12 ('Project')",
   "language": "python",
   "name": "python3"
  },
  "language_info": {
   "codemirror_mode": {
    "name": "ipython",
    "version": 3
   },
   "file_extension": ".py",
   "mimetype": "text/x-python",
   "name": "python",
   "nbconvert_exporter": "python",
   "pygments_lexer": "ipython3",
   "version": "3.9.12"
  },
  "orig_nbformat": 4
 },
 "nbformat": 4,
 "nbformat_minor": 2
}
