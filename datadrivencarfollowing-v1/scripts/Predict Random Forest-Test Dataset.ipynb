{
    "cells": [
        {
            "cell_type": "markdown",
            "metadata": {},
            "source": [
                "Importing required libraries to predict acceleration using random forest, calculate RMSE (RootMeanSquaredError), and create plots to compare predicted and actual acceleration"
            ]
        },
        {
            "cell_type": "code",
            "execution_count": 1,
            "metadata": {},
            "outputs": [
                {
                    "name": "stdout",
                    "output_type": "stream",
                    "text": [
                        "original File path: c:\\Users\\StudentAccount\\Python\\Capstone\\gitcodelocation\\DataDrivenCarFollowing\\datadrivencarfollowing-v1\\scripts\n",
                        "Data File path: c:\\Users\\StudentAccount\\Python\\Capstone\\gitcodelocation\\DataDrivenCarFollowing\\datadrivencarfollowing-v1\\data\n"
                    ]
                }
            ],
            "source": [
                "import ModelClass"
            ]
        },
        {
            "cell_type": "code",
            "execution_count": 2,
            "metadata": {},
            "outputs": [],
            "source": [
                "model_obj=ModelClass.ModelClass()"
            ]
        },
        {
            "cell_type": "code",
            "execution_count": 3,
            "metadata": {},
            "outputs": [],
            "source": [
                "model_name='randomForest'\n",
                "file_name='rf_test_df_' "
            ]
        },
        {
            "cell_type": "code",
            "execution_count": 4,
            "metadata": {},
            "outputs": [
                {
                    "name": "stdout",
                    "output_type": "stream",
                    "text": [
                        "Running test Set on :rf_test_df_0_1, Reaction Time 0.1 for Model: randomForest\n",
                        "File Read Complete: c:\\Users\\StudentAccount\\Python\\Capstone\\gitcodelocation\\DataDrivenCarFollowing\\datadrivencarfollowing-v1\\data/rf_test_df_0_1.csv\n",
                        "Model Load Completed: c:\\Users\\StudentAccount\\Python\\Capstone\\gitcodelocation\\DataDrivenCarFollowing\\datadrivencarfollowing-v1\\data/randomForest0.1.pkg\n",
                        "Total number of unique Pairs in Test Dataset: 1097\n"
                    ]
                },
                {
                    "ename": "KeyboardInterrupt",
                    "evalue": "",
                    "output_type": "error",
                    "traceback": [
                        "\u001b[1;31m---------------------------------------------------------------------------\u001b[0m",
                        "\u001b[1;31mKeyboardInterrupt\u001b[0m                         Traceback (most recent call last)",
                        "\u001b[1;32mc:\\Users\\StudentAccount\\Python\\Capstone\\gitcodelocation\\DataDrivenCarFollowing\\datadrivencarfollowing-v1\\scripts\\Predict Random Forest-Test Dataset.ipynb Cell 5\u001b[0m in \u001b[0;36m<cell line: 2>\u001b[1;34m()\u001b[0m\n\u001b[0;32m      <a href='vscode-notebook-cell:/c%3A/Users/StudentAccount/Python/Capstone/gitcodelocation/DataDrivenCarFollowing/datadrivencarfollowing-v1/scripts/Predict%20Random%20Forest-Test%20Dataset.ipynb#ch0000004?line=0'>1</a>\u001b[0m delta_time\u001b[39m=\u001b[39m\u001b[39m0.1\u001b[39m\n\u001b[1;32m----> <a href='vscode-notebook-cell:/c%3A/Users/StudentAccount/Python/Capstone/gitcodelocation/DataDrivenCarFollowing/datadrivencarfollowing-v1/scripts/Predict%20Random%20Forest-Test%20Dataset.ipynb#ch0000004?line=1'>2</a>\u001b[0m rf_r_square_0_1 ,rf_r_square_rmse_0_1\u001b[39m=\u001b[39m model_obj\u001b[39m.\u001b[39;49mpredict_test_dataset(file_name,delta_time,model_name)\n",
                        "File \u001b[1;32m~\\Python\\Capstone\\gitcodelocation\\DataDrivenCarFollowing\\datadrivencarfollowing-v1\\src\\ModelClass.py:455\u001b[0m, in \u001b[0;36mModelClass.predict_test_dataset\u001b[1;34m(self, file_name, delta_time, model_name)\u001b[0m\n\u001b[0;32m    452\u001b[0m predict_on_pair \u001b[39m=\u001b[39m \u001b[39mself\u001b[39m\u001b[39m.\u001b[39mprediction_test_pairs(predict_data, \u001b[39m0\u001b[39m, \u001b[39m9999\u001b[39m)\n\u001b[0;32m    453\u001b[0m \u001b[39mprint\u001b[39m(\n\u001b[0;32m    454\u001b[0m     \u001b[39mf\u001b[39m\u001b[39m\"\u001b[39m\u001b[39mTotal number of unique Pairs in Test Dataset: \u001b[39m\u001b[39m{\u001b[39;00m\u001b[39mlen\u001b[39m(predict_on_pair)\u001b[39m}\u001b[39;00m\u001b[39m\"\u001b[39m)\n\u001b[1;32m--> 455\u001b[0m predicted_data \u001b[39m=\u001b[39m \u001b[39mself\u001b[39;49m\u001b[39m.\u001b[39;49mprediction(\n\u001b[0;32m    456\u001b[0m     predict_data, predict_on_pair, target_variable, model, delta_time)\n\u001b[0;32m    457\u001b[0m \u001b[39m# predicted_data.columns\u001b[39;00m\n\u001b[0;32m    458\u001b[0m r_square, rmse \u001b[39m=\u001b[39m \u001b[39mself\u001b[39m\u001b[39m.\u001b[39maccuracy(\n\u001b[0;32m    459\u001b[0m     predicted_data, \u001b[39m'\u001b[39m\u001b[39mnextframeAcc\u001b[39m\u001b[39m'\u001b[39m, \u001b[39m'\u001b[39m\u001b[39mpredicted_acceleration\u001b[39m\u001b[39m'\u001b[39m)\n",
                        "File \u001b[1;32m~\\Python\\Capstone\\gitcodelocation\\DataDrivenCarFollowing\\datadrivencarfollowing-v1\\src\\ModelClass.py:381\u001b[0m, in \u001b[0;36mModelClass.prediction\u001b[1;34m(self, test_df, test_range, target_variable, model, time_frame)\u001b[0m\n\u001b[0;32m    377\u001b[0m \u001b[39mfor\u001b[39;00m j \u001b[39min\u001b[39;00m \u001b[39mrange\u001b[39m(\u001b[39m1\u001b[39m, \u001b[39mlen\u001b[39m(input_df)):\n\u001b[0;32m    378\u001b[0m     predict_for_input \u001b[39m=\u001b[39m np\u001b[39m.\u001b[39marray(\n\u001b[0;32m    379\u001b[0m         [spacing[j], preceding_vehicle_class, vehicle_class, dv[j], vel[j]])\u001b[39m.\u001b[39mreshape(\u001b[39m1\u001b[39m, \u001b[39m-\u001b[39m\u001b[39m1\u001b[39m)\n\u001b[1;32m--> 381\u001b[0m     pred_acc[j] \u001b[39m=\u001b[39m model\u001b[39m.\u001b[39;49mpredict(predict_for_input)\n\u001b[0;32m    382\u001b[0m     \u001b[39mif\u001b[39;00m j \u001b[39m==\u001b[39m \u001b[39mlen\u001b[39m(input_df)\u001b[39m-\u001b[39m\u001b[39m1\u001b[39m:\n\u001b[0;32m    383\u001b[0m         \u001b[39mbreak\u001b[39;00m\n",
                        "File \u001b[1;32mc:\\Users\\StudentAccount\\anaconda3\\envs\\Project\\lib\\site-packages\\sklearn\\ensemble\\_forest.py:1004\u001b[0m, in \u001b[0;36mForestRegressor.predict\u001b[1;34m(self, X)\u001b[0m\n\u001b[0;32m   1002\u001b[0m \u001b[39m# Parallel loop\u001b[39;00m\n\u001b[0;32m   1003\u001b[0m lock \u001b[39m=\u001b[39m threading\u001b[39m.\u001b[39mLock()\n\u001b[1;32m-> 1004\u001b[0m Parallel(n_jobs\u001b[39m=\u001b[39;49mn_jobs, verbose\u001b[39m=\u001b[39;49m\u001b[39mself\u001b[39;49m\u001b[39m.\u001b[39;49mverbose, require\u001b[39m=\u001b[39;49m\u001b[39m\"\u001b[39;49m\u001b[39msharedmem\u001b[39;49m\u001b[39m\"\u001b[39;49m)(\n\u001b[0;32m   1005\u001b[0m     delayed(_accumulate_prediction)(e\u001b[39m.\u001b[39;49mpredict, X, [y_hat], lock)\n\u001b[0;32m   1006\u001b[0m     \u001b[39mfor\u001b[39;49;00m e \u001b[39min\u001b[39;49;00m \u001b[39mself\u001b[39;49m\u001b[39m.\u001b[39;49mestimators_\n\u001b[0;32m   1007\u001b[0m )\n\u001b[0;32m   1009\u001b[0m y_hat \u001b[39m/\u001b[39m\u001b[39m=\u001b[39m \u001b[39mlen\u001b[39m(\u001b[39mself\u001b[39m\u001b[39m.\u001b[39mestimators_)\n\u001b[0;32m   1011\u001b[0m \u001b[39mreturn\u001b[39;00m y_hat\n",
                        "File \u001b[1;32mc:\\Users\\StudentAccount\\anaconda3\\envs\\Project\\lib\\site-packages\\joblib\\parallel.py:1043\u001b[0m, in \u001b[0;36mParallel.__call__\u001b[1;34m(self, iterable)\u001b[0m\n\u001b[0;32m   1034\u001b[0m \u001b[39mtry\u001b[39;00m:\n\u001b[0;32m   1035\u001b[0m     \u001b[39m# Only set self._iterating to True if at least a batch\u001b[39;00m\n\u001b[0;32m   1036\u001b[0m     \u001b[39m# was dispatched. In particular this covers the edge\u001b[39;00m\n\u001b[1;32m   (...)\u001b[0m\n\u001b[0;32m   1040\u001b[0m     \u001b[39m# was very quick and its callback already dispatched all the\u001b[39;00m\n\u001b[0;32m   1041\u001b[0m     \u001b[39m# remaining jobs.\u001b[39;00m\n\u001b[0;32m   1042\u001b[0m     \u001b[39mself\u001b[39m\u001b[39m.\u001b[39m_iterating \u001b[39m=\u001b[39m \u001b[39mFalse\u001b[39;00m\n\u001b[1;32m-> 1043\u001b[0m     \u001b[39mif\u001b[39;00m \u001b[39mself\u001b[39;49m\u001b[39m.\u001b[39;49mdispatch_one_batch(iterator):\n\u001b[0;32m   1044\u001b[0m         \u001b[39mself\u001b[39m\u001b[39m.\u001b[39m_iterating \u001b[39m=\u001b[39m \u001b[39mself\u001b[39m\u001b[39m.\u001b[39m_original_iterator \u001b[39mis\u001b[39;00m \u001b[39mnot\u001b[39;00m \u001b[39mNone\u001b[39;00m\n\u001b[0;32m   1046\u001b[0m     \u001b[39mwhile\u001b[39;00m \u001b[39mself\u001b[39m\u001b[39m.\u001b[39mdispatch_one_batch(iterator):\n",
                        "File \u001b[1;32mc:\\Users\\StudentAccount\\anaconda3\\envs\\Project\\lib\\site-packages\\joblib\\parallel.py:861\u001b[0m, in \u001b[0;36mParallel.dispatch_one_batch\u001b[1;34m(self, iterator)\u001b[0m\n\u001b[0;32m    859\u001b[0m     \u001b[39mreturn\u001b[39;00m \u001b[39mFalse\u001b[39;00m\n\u001b[0;32m    860\u001b[0m \u001b[39melse\u001b[39;00m:\n\u001b[1;32m--> 861\u001b[0m     \u001b[39mself\u001b[39;49m\u001b[39m.\u001b[39;49m_dispatch(tasks)\n\u001b[0;32m    862\u001b[0m     \u001b[39mreturn\u001b[39;00m \u001b[39mTrue\u001b[39;00m\n",
                        "File \u001b[1;32mc:\\Users\\StudentAccount\\anaconda3\\envs\\Project\\lib\\site-packages\\joblib\\parallel.py:779\u001b[0m, in \u001b[0;36mParallel._dispatch\u001b[1;34m(self, batch)\u001b[0m\n\u001b[0;32m    777\u001b[0m \u001b[39mwith\u001b[39;00m \u001b[39mself\u001b[39m\u001b[39m.\u001b[39m_lock:\n\u001b[0;32m    778\u001b[0m     job_idx \u001b[39m=\u001b[39m \u001b[39mlen\u001b[39m(\u001b[39mself\u001b[39m\u001b[39m.\u001b[39m_jobs)\n\u001b[1;32m--> 779\u001b[0m     job \u001b[39m=\u001b[39m \u001b[39mself\u001b[39;49m\u001b[39m.\u001b[39;49m_backend\u001b[39m.\u001b[39;49mapply_async(batch, callback\u001b[39m=\u001b[39;49mcb)\n\u001b[0;32m    780\u001b[0m     \u001b[39m# A job can complete so quickly than its callback is\u001b[39;00m\n\u001b[0;32m    781\u001b[0m     \u001b[39m# called before we get here, causing self._jobs to\u001b[39;00m\n\u001b[0;32m    782\u001b[0m     \u001b[39m# grow. To ensure correct results ordering, .insert is\u001b[39;00m\n\u001b[0;32m    783\u001b[0m     \u001b[39m# used (rather than .append) in the following line\u001b[39;00m\n\u001b[0;32m    784\u001b[0m     \u001b[39mself\u001b[39m\u001b[39m.\u001b[39m_jobs\u001b[39m.\u001b[39minsert(job_idx, job)\n",
                        "File \u001b[1;32mc:\\Users\\StudentAccount\\anaconda3\\envs\\Project\\lib\\site-packages\\joblib\\_parallel_backends.py:252\u001b[0m, in \u001b[0;36mPoolManagerMixin.apply_async\u001b[1;34m(self, func, callback)\u001b[0m\n\u001b[0;32m    250\u001b[0m \u001b[39mdef\u001b[39;00m \u001b[39mapply_async\u001b[39m(\u001b[39mself\u001b[39m, func, callback\u001b[39m=\u001b[39m\u001b[39mNone\u001b[39;00m):\n\u001b[0;32m    251\u001b[0m     \u001b[39m\"\"\"Schedule a func to be run\"\"\"\u001b[39;00m\n\u001b[1;32m--> 252\u001b[0m     \u001b[39mreturn\u001b[39;00m \u001b[39mself\u001b[39;49m\u001b[39m.\u001b[39;49m_get_pool()\u001b[39m.\u001b[39mapply_async(\n\u001b[0;32m    253\u001b[0m         SafeFunction(func), callback\u001b[39m=\u001b[39mcallback)\n",
                        "File \u001b[1;32mc:\\Users\\StudentAccount\\anaconda3\\envs\\Project\\lib\\site-packages\\joblib\\_parallel_backends.py:407\u001b[0m, in \u001b[0;36mThreadingBackend._get_pool\u001b[1;34m(self)\u001b[0m\n\u001b[0;32m    401\u001b[0m \u001b[39m\"\"\"Lazily initialize the thread pool\u001b[39;00m\n\u001b[0;32m    402\u001b[0m \n\u001b[0;32m    403\u001b[0m \u001b[39mThe actual pool of worker threads is only initialized at the first\u001b[39;00m\n\u001b[0;32m    404\u001b[0m \u001b[39mcall to apply_async.\u001b[39;00m\n\u001b[0;32m    405\u001b[0m \u001b[39m\"\"\"\u001b[39;00m\n\u001b[0;32m    406\u001b[0m \u001b[39mif\u001b[39;00m \u001b[39mself\u001b[39m\u001b[39m.\u001b[39m_pool \u001b[39mis\u001b[39;00m \u001b[39mNone\u001b[39;00m:\n\u001b[1;32m--> 407\u001b[0m     \u001b[39mself\u001b[39m\u001b[39m.\u001b[39m_pool \u001b[39m=\u001b[39m ThreadPool(\u001b[39mself\u001b[39;49m\u001b[39m.\u001b[39;49m_n_jobs)\n\u001b[0;32m    408\u001b[0m \u001b[39mreturn\u001b[39;00m \u001b[39mself\u001b[39m\u001b[39m.\u001b[39m_pool\n",
                        "File \u001b[1;32mc:\\Users\\StudentAccount\\anaconda3\\envs\\Project\\lib\\multiprocessing\\pool.py:925\u001b[0m, in \u001b[0;36mThreadPool.__init__\u001b[1;34m(self, processes, initializer, initargs)\u001b[0m\n\u001b[0;32m    924\u001b[0m \u001b[39mdef\u001b[39;00m \u001b[39m__init__\u001b[39m(\u001b[39mself\u001b[39m, processes\u001b[39m=\u001b[39m\u001b[39mNone\u001b[39;00m, initializer\u001b[39m=\u001b[39m\u001b[39mNone\u001b[39;00m, initargs\u001b[39m=\u001b[39m()):\n\u001b[1;32m--> 925\u001b[0m     Pool\u001b[39m.\u001b[39;49m\u001b[39m__init__\u001b[39;49m(\u001b[39mself\u001b[39;49m, processes, initializer, initargs)\n",
                        "File \u001b[1;32mc:\\Users\\StudentAccount\\anaconda3\\envs\\Project\\lib\\multiprocessing\\pool.py:212\u001b[0m, in \u001b[0;36mPool.__init__\u001b[1;34m(self, processes, initializer, initargs, maxtasksperchild, context)\u001b[0m\n\u001b[0;32m    210\u001b[0m \u001b[39mself\u001b[39m\u001b[39m.\u001b[39m_processes \u001b[39m=\u001b[39m processes\n\u001b[0;32m    211\u001b[0m \u001b[39mtry\u001b[39;00m:\n\u001b[1;32m--> 212\u001b[0m     \u001b[39mself\u001b[39;49m\u001b[39m.\u001b[39;49m_repopulate_pool()\n\u001b[0;32m    213\u001b[0m \u001b[39mexcept\u001b[39;00m \u001b[39mException\u001b[39;00m:\n\u001b[0;32m    214\u001b[0m     \u001b[39mfor\u001b[39;00m p \u001b[39min\u001b[39;00m \u001b[39mself\u001b[39m\u001b[39m.\u001b[39m_pool:\n",
                        "File \u001b[1;32mc:\\Users\\StudentAccount\\anaconda3\\envs\\Project\\lib\\multiprocessing\\pool.py:303\u001b[0m, in \u001b[0;36mPool._repopulate_pool\u001b[1;34m(self)\u001b[0m\n\u001b[0;32m    302\u001b[0m \u001b[39mdef\u001b[39;00m \u001b[39m_repopulate_pool\u001b[39m(\u001b[39mself\u001b[39m):\n\u001b[1;32m--> 303\u001b[0m     \u001b[39mreturn\u001b[39;00m \u001b[39mself\u001b[39;49m\u001b[39m.\u001b[39;49m_repopulate_pool_static(\u001b[39mself\u001b[39;49m\u001b[39m.\u001b[39;49m_ctx, \u001b[39mself\u001b[39;49m\u001b[39m.\u001b[39;49mProcess,\n\u001b[0;32m    304\u001b[0m                                         \u001b[39mself\u001b[39;49m\u001b[39m.\u001b[39;49m_processes,\n\u001b[0;32m    305\u001b[0m                                         \u001b[39mself\u001b[39;49m\u001b[39m.\u001b[39;49m_pool, \u001b[39mself\u001b[39;49m\u001b[39m.\u001b[39;49m_inqueue,\n\u001b[0;32m    306\u001b[0m                                         \u001b[39mself\u001b[39;49m\u001b[39m.\u001b[39;49m_outqueue, \u001b[39mself\u001b[39;49m\u001b[39m.\u001b[39;49m_initializer,\n\u001b[0;32m    307\u001b[0m                                         \u001b[39mself\u001b[39;49m\u001b[39m.\u001b[39;49m_initargs,\n\u001b[0;32m    308\u001b[0m                                         \u001b[39mself\u001b[39;49m\u001b[39m.\u001b[39;49m_maxtasksperchild,\n\u001b[0;32m    309\u001b[0m                                         \u001b[39mself\u001b[39;49m\u001b[39m.\u001b[39;49m_wrap_exception)\n",
                        "File \u001b[1;32mc:\\Users\\StudentAccount\\anaconda3\\envs\\Project\\lib\\multiprocessing\\pool.py:326\u001b[0m, in \u001b[0;36mPool._repopulate_pool_static\u001b[1;34m(ctx, Process, processes, pool, inqueue, outqueue, initializer, initargs, maxtasksperchild, wrap_exception)\u001b[0m\n\u001b[0;32m    324\u001b[0m w\u001b[39m.\u001b[39mname \u001b[39m=\u001b[39m w\u001b[39m.\u001b[39mname\u001b[39m.\u001b[39mreplace(\u001b[39m'\u001b[39m\u001b[39mProcess\u001b[39m\u001b[39m'\u001b[39m, \u001b[39m'\u001b[39m\u001b[39mPoolWorker\u001b[39m\u001b[39m'\u001b[39m)\n\u001b[0;32m    325\u001b[0m w\u001b[39m.\u001b[39mdaemon \u001b[39m=\u001b[39m \u001b[39mTrue\u001b[39;00m\n\u001b[1;32m--> 326\u001b[0m w\u001b[39m.\u001b[39;49mstart()\n\u001b[0;32m    327\u001b[0m pool\u001b[39m.\u001b[39mappend(w)\n\u001b[0;32m    328\u001b[0m util\u001b[39m.\u001b[39mdebug(\u001b[39m'\u001b[39m\u001b[39madded worker\u001b[39m\u001b[39m'\u001b[39m)\n",
                        "File \u001b[1;32mc:\\Users\\StudentAccount\\anaconda3\\envs\\Project\\lib\\multiprocessing\\dummy\\__init__.py:51\u001b[0m, in \u001b[0;36mDummyProcess.start\u001b[1;34m(self)\u001b[0m\n\u001b[0;32m     49\u001b[0m \u001b[39mif\u001b[39;00m \u001b[39mhasattr\u001b[39m(\u001b[39mself\u001b[39m\u001b[39m.\u001b[39m_parent, \u001b[39m'\u001b[39m\u001b[39m_children\u001b[39m\u001b[39m'\u001b[39m):\n\u001b[0;32m     50\u001b[0m     \u001b[39mself\u001b[39m\u001b[39m.\u001b[39m_parent\u001b[39m.\u001b[39m_children[\u001b[39mself\u001b[39m] \u001b[39m=\u001b[39m \u001b[39mNone\u001b[39;00m\n\u001b[1;32m---> 51\u001b[0m threading\u001b[39m.\u001b[39;49mThread\u001b[39m.\u001b[39;49mstart(\u001b[39mself\u001b[39;49m)\n",
                        "File \u001b[1;32mc:\\Users\\StudentAccount\\anaconda3\\envs\\Project\\lib\\threading.py:857\u001b[0m, in \u001b[0;36mThread.start\u001b[1;34m(self)\u001b[0m\n\u001b[0;32m    855\u001b[0m         \u001b[39mdel\u001b[39;00m _limbo[\u001b[39mself\u001b[39m]\n\u001b[0;32m    856\u001b[0m     \u001b[39mraise\u001b[39;00m\n\u001b[1;32m--> 857\u001b[0m \u001b[39mself\u001b[39;49m\u001b[39m.\u001b[39;49m_started\u001b[39m.\u001b[39;49mwait()\n",
                        "File \u001b[1;32mc:\\Users\\StudentAccount\\anaconda3\\envs\\Project\\lib\\threading.py:558\u001b[0m, in \u001b[0;36mEvent.wait\u001b[1;34m(self, timeout)\u001b[0m\n\u001b[0;32m    556\u001b[0m signaled \u001b[39m=\u001b[39m \u001b[39mself\u001b[39m\u001b[39m.\u001b[39m_flag\n\u001b[0;32m    557\u001b[0m \u001b[39mif\u001b[39;00m \u001b[39mnot\u001b[39;00m signaled:\n\u001b[1;32m--> 558\u001b[0m     signaled \u001b[39m=\u001b[39m \u001b[39mself\u001b[39;49m\u001b[39m.\u001b[39;49m_cond\u001b[39m.\u001b[39;49mwait(timeout)\n\u001b[0;32m    559\u001b[0m \u001b[39mreturn\u001b[39;00m signaled\n",
                        "File \u001b[1;32mc:\\Users\\StudentAccount\\anaconda3\\envs\\Project\\lib\\threading.py:302\u001b[0m, in \u001b[0;36mCondition.wait\u001b[1;34m(self, timeout)\u001b[0m\n\u001b[0;32m    300\u001b[0m \u001b[39mtry\u001b[39;00m:    \u001b[39m# restore state no matter what (e.g., KeyboardInterrupt)\u001b[39;00m\n\u001b[0;32m    301\u001b[0m     \u001b[39mif\u001b[39;00m timeout \u001b[39mis\u001b[39;00m \u001b[39mNone\u001b[39;00m:\n\u001b[1;32m--> 302\u001b[0m         waiter\u001b[39m.\u001b[39;49macquire()\n\u001b[0;32m    303\u001b[0m         gotit \u001b[39m=\u001b[39m \u001b[39mTrue\u001b[39;00m\n\u001b[0;32m    304\u001b[0m     \u001b[39melse\u001b[39;00m:\n",
                        "\u001b[1;31mKeyboardInterrupt\u001b[0m: "
                    ]
                }
            ],
            "source": [
                "delta_time=0.1\n",
                "rf_r_square_0_1 ,rf_r_square_rmse_0_1= model_obj.predict_test_dataset(file_name,delta_time,model_name)"
            ]
        },
        {
            "cell_type": "code",
            "execution_count": null,
            "metadata": {},
            "outputs": [
                {
                    "name": "stdout",
                    "output_type": "stream",
                    "text": [
                        "Running test Set on :knn_test_df_0_5, Reaction Time 0.5 for Model: knn\n",
                        "File Read Complete: c:\\Users\\StudentAccount\\Python\\Capstone\\gitcodelocation\\DataDrivenCarFollowing\\datadrivencarfollowing-v1\\data/knn_test_df_0_5.csv\n",
                        "Model Load Completed: c:\\Users\\StudentAccount\\Python\\Capstone\\gitcodelocation\\DataDrivenCarFollowing\\datadrivencarfollowing-v1\\data/knn0.5.pkg\n",
                        "Total number of unique Pairs in Test Dataset: 1097\n"
                    ]
                },
                {
                    "ename": "KeyboardInterrupt",
                    "evalue": "",
                    "output_type": "error",
                    "traceback": [
                        "\u001b[1;31m---------------------------------------------------------------------------\u001b[0m",
                        "\u001b[1;31mKeyboardInterrupt\u001b[0m                         Traceback (most recent call last)",
                        "\u001b[1;32mc:\\Users\\StudentAccount\\Python\\Capstone\\gitcodelocation\\DataDrivenCarFollowing\\datadrivencarfollowing-v1\\scripts\\Predict KNN-Test Dataset.ipynb Cell 6\u001b[0m in \u001b[0;36m<cell line: 2>\u001b[1;34m()\u001b[0m\n\u001b[0;32m      <a href='vscode-notebook-cell:/c%3A/Users/StudentAccount/Python/Capstone/gitcodelocation/DataDrivenCarFollowing/datadrivencarfollowing-v1/scripts/Predict%20KNN-Test%20Dataset.ipynb#ch0000005?line=0'>1</a>\u001b[0m delta_time\u001b[39m=\u001b[39m\u001b[39m0.5\u001b[39m\n\u001b[1;32m----> <a href='vscode-notebook-cell:/c%3A/Users/StudentAccount/Python/Capstone/gitcodelocation/DataDrivenCarFollowing/datadrivencarfollowing-v1/scripts/Predict%20KNN-Test%20Dataset.ipynb#ch0000005?line=1'>2</a>\u001b[0m knn_r_square_0_5 ,knn_r_square_rmse_0_5\u001b[39m=\u001b[39m model_obj\u001b[39m.\u001b[39;49mpredict_test_dataset(file_name,delta_time,model_name)\n",
                        "File \u001b[1;32m~\\Python\\Capstone\\gitcodelocation\\DataDrivenCarFollowing\\datadrivencarfollowing-v1\\src\\ModelClass.py:452\u001b[0m, in \u001b[0;36mModelClass.predict_test_dataset\u001b[1;34m(self, file_name, delta_time, model_name)\u001b[0m\n\u001b[0;32m    449\u001b[0m predict_data \u001b[39m=\u001b[39m \u001b[39mself\u001b[39m\u001b[39m.\u001b[39mprediction_preprocessing(\n\u001b[0;32m    450\u001b[0m     trajectory_display, delta_time)\n\u001b[0;32m    451\u001b[0m predict_on_pair \u001b[39m=\u001b[39m \u001b[39mself\u001b[39m\u001b[39m.\u001b[39mprediction_test_pairs(predict_data, \u001b[39m0\u001b[39m, \u001b[39m9999\u001b[39m)\n\u001b[1;32m--> 452\u001b[0m \u001b[39mprint\u001b[39m(\n\u001b[0;32m    453\u001b[0m     \u001b[39mf\u001b[39m\u001b[39m\"\u001b[39m\u001b[39mTotal number of unique Pairs in Test Dataset: \u001b[39m\u001b[39m{\u001b[39;00m\u001b[39mlen\u001b[39m(predict_on_pair)\u001b[39m}\u001b[39;00m\u001b[39m\"\u001b[39m)\n\u001b[0;32m    454\u001b[0m predicted_data \u001b[39m=\u001b[39m \u001b[39mself\u001b[39m\u001b[39m.\u001b[39mprediction(\n\u001b[0;32m    455\u001b[0m     predict_data, predict_on_pair, target_variable, model, delta_time)\n\u001b[0;32m    456\u001b[0m \u001b[39m# predicted_data.columns\u001b[39;00m\n",
                        "File \u001b[1;32m~\\Python\\Capstone\\gitcodelocation\\DataDrivenCarFollowing\\datadrivencarfollowing-v1\\src\\ModelClass.py:380\u001b[0m, in \u001b[0;36mModelClass.prediction\u001b[1;34m(self, test_df, test_range, target_variable, model, time_frame)\u001b[0m\n\u001b[0;32m    376\u001b[0m \u001b[39mfor\u001b[39;00m j \u001b[39min\u001b[39;00m \u001b[39mrange\u001b[39m(\u001b[39m1\u001b[39m, \u001b[39mlen\u001b[39m(input_df)):\n\u001b[0;32m    377\u001b[0m     predict_for_input \u001b[39m=\u001b[39m np\u001b[39m.\u001b[39marray(\n\u001b[0;32m    378\u001b[0m         [spacing[j], preceding_vehicle_class, vehicle_class, dv[j], vel[j]])\u001b[39m.\u001b[39mreshape(\u001b[39m1\u001b[39m, \u001b[39m-\u001b[39m\u001b[39m1\u001b[39m)\n\u001b[1;32m--> 380\u001b[0m     pred_acc[j] \u001b[39m=\u001b[39m model\u001b[39m.\u001b[39;49mpredict(predict_for_input)\n\u001b[0;32m    381\u001b[0m     \u001b[39mif\u001b[39;00m j \u001b[39m==\u001b[39m \u001b[39mlen\u001b[39m(input_df)\u001b[39m-\u001b[39m\u001b[39m1\u001b[39m:\n\u001b[0;32m    382\u001b[0m         \u001b[39mbreak\u001b[39;00m\n",
                        "File \u001b[1;32mc:\\Users\\StudentAccount\\anaconda3\\envs\\Project\\lib\\site-packages\\sklearn\\neighbors\\_regression.py:222\u001b[0m, in \u001b[0;36mKNeighborsRegressor.predict\u001b[1;34m(self, X)\u001b[0m\n\u001b[0;32m    206\u001b[0m \u001b[39m\"\"\"Predict the target for the provided data.\u001b[39;00m\n\u001b[0;32m    207\u001b[0m \n\u001b[0;32m    208\u001b[0m \u001b[39mParameters\u001b[39;00m\n\u001b[1;32m   (...)\u001b[0m\n\u001b[0;32m    217\u001b[0m \u001b[39m    Target values.\u001b[39;00m\n\u001b[0;32m    218\u001b[0m \u001b[39m\"\"\"\u001b[39;00m\n\u001b[0;32m    219\u001b[0m \u001b[39mif\u001b[39;00m \u001b[39mself\u001b[39m\u001b[39m.\u001b[39mweights \u001b[39m==\u001b[39m \u001b[39m\"\u001b[39m\u001b[39muniform\u001b[39m\u001b[39m\"\u001b[39m:\n\u001b[0;32m    220\u001b[0m     \u001b[39m# In that case, we do not need the distances to perform\u001b[39;00m\n\u001b[0;32m    221\u001b[0m     \u001b[39m# the weighting so we do not compute them.\u001b[39;00m\n\u001b[1;32m--> 222\u001b[0m     neigh_ind \u001b[39m=\u001b[39m \u001b[39mself\u001b[39;49m\u001b[39m.\u001b[39;49mkneighbors(X, return_distance\u001b[39m=\u001b[39;49m\u001b[39mFalse\u001b[39;49;00m)\n\u001b[0;32m    223\u001b[0m     neigh_dist \u001b[39m=\u001b[39m \u001b[39mNone\u001b[39;00m\n\u001b[0;32m    224\u001b[0m \u001b[39melse\u001b[39;00m:\n",
                        "File \u001b[1;32mc:\\Users\\StudentAccount\\anaconda3\\envs\\Project\\lib\\site-packages\\sklearn\\neighbors\\_base.py:814\u001b[0m, in \u001b[0;36mKNeighborsMixin.kneighbors\u001b[1;34m(self, X, n_neighbors, return_distance)\u001b[0m\n\u001b[0;32m    808\u001b[0m     \u001b[39mif\u001b[39;00m issparse(X):\n\u001b[0;32m    809\u001b[0m         \u001b[39mraise\u001b[39;00m \u001b[39mValueError\u001b[39;00m(\n\u001b[0;32m    810\u001b[0m             \u001b[39m\"\u001b[39m\u001b[39m%s\u001b[39;00m\u001b[39m does not work with sparse matrices. Densify the data, \u001b[39m\u001b[39m\"\u001b[39m\n\u001b[0;32m    811\u001b[0m             \u001b[39m\"\u001b[39m\u001b[39mor set algorithm=\u001b[39m\u001b[39m'\u001b[39m\u001b[39mbrute\u001b[39m\u001b[39m'\u001b[39m\u001b[39m\"\u001b[39m\n\u001b[0;32m    812\u001b[0m             \u001b[39m%\u001b[39m \u001b[39mself\u001b[39m\u001b[39m.\u001b[39m_fit_method\n\u001b[0;32m    813\u001b[0m         )\n\u001b[1;32m--> 814\u001b[0m     chunked_results \u001b[39m=\u001b[39m Parallel(n_jobs, prefer\u001b[39m=\u001b[39;49m\u001b[39m\"\u001b[39;49m\u001b[39mthreads\u001b[39;49m\u001b[39m\"\u001b[39;49m)(\n\u001b[0;32m    815\u001b[0m         delayed(_tree_query_parallel_helper)(\n\u001b[0;32m    816\u001b[0m             \u001b[39mself\u001b[39;49m\u001b[39m.\u001b[39;49m_tree, X[s], n_neighbors, return_distance\n\u001b[0;32m    817\u001b[0m         )\n\u001b[0;32m    818\u001b[0m         \u001b[39mfor\u001b[39;49;00m s \u001b[39min\u001b[39;49;00m gen_even_slices(X\u001b[39m.\u001b[39;49mshape[\u001b[39m0\u001b[39;49m], n_jobs)\n\u001b[0;32m    819\u001b[0m     )\n\u001b[0;32m    820\u001b[0m \u001b[39melse\u001b[39;00m:\n\u001b[0;32m    821\u001b[0m     \u001b[39mraise\u001b[39;00m \u001b[39mValueError\u001b[39;00m(\u001b[39m\"\u001b[39m\u001b[39minternal: _fit_method not recognized\u001b[39m\u001b[39m\"\u001b[39m)\n",
                        "File \u001b[1;32mc:\\Users\\StudentAccount\\anaconda3\\envs\\Project\\lib\\site-packages\\joblib\\parallel.py:1043\u001b[0m, in \u001b[0;36mParallel.__call__\u001b[1;34m(self, iterable)\u001b[0m\n\u001b[0;32m   1034\u001b[0m \u001b[39mtry\u001b[39;00m:\n\u001b[0;32m   1035\u001b[0m     \u001b[39m# Only set self._iterating to True if at least a batch\u001b[39;00m\n\u001b[0;32m   1036\u001b[0m     \u001b[39m# was dispatched. In particular this covers the edge\u001b[39;00m\n\u001b[1;32m   (...)\u001b[0m\n\u001b[0;32m   1040\u001b[0m     \u001b[39m# was very quick and its callback already dispatched all the\u001b[39;00m\n\u001b[0;32m   1041\u001b[0m     \u001b[39m# remaining jobs.\u001b[39;00m\n\u001b[0;32m   1042\u001b[0m     \u001b[39mself\u001b[39m\u001b[39m.\u001b[39m_iterating \u001b[39m=\u001b[39m \u001b[39mFalse\u001b[39;00m\n\u001b[1;32m-> 1043\u001b[0m     \u001b[39mif\u001b[39;00m \u001b[39mself\u001b[39;49m\u001b[39m.\u001b[39;49mdispatch_one_batch(iterator):\n\u001b[0;32m   1044\u001b[0m         \u001b[39mself\u001b[39m\u001b[39m.\u001b[39m_iterating \u001b[39m=\u001b[39m \u001b[39mself\u001b[39m\u001b[39m.\u001b[39m_original_iterator \u001b[39mis\u001b[39;00m \u001b[39mnot\u001b[39;00m \u001b[39mNone\u001b[39;00m\n\u001b[0;32m   1046\u001b[0m     \u001b[39mwhile\u001b[39;00m \u001b[39mself\u001b[39m\u001b[39m.\u001b[39mdispatch_one_batch(iterator):\n",
                        "File \u001b[1;32mc:\\Users\\StudentAccount\\anaconda3\\envs\\Project\\lib\\site-packages\\joblib\\parallel.py:861\u001b[0m, in \u001b[0;36mParallel.dispatch_one_batch\u001b[1;34m(self, iterator)\u001b[0m\n\u001b[0;32m    859\u001b[0m     \u001b[39mreturn\u001b[39;00m \u001b[39mFalse\u001b[39;00m\n\u001b[0;32m    860\u001b[0m \u001b[39melse\u001b[39;00m:\n\u001b[1;32m--> 861\u001b[0m     \u001b[39mself\u001b[39;49m\u001b[39m.\u001b[39;49m_dispatch(tasks)\n\u001b[0;32m    862\u001b[0m     \u001b[39mreturn\u001b[39;00m \u001b[39mTrue\u001b[39;00m\n",
                        "File \u001b[1;32mc:\\Users\\StudentAccount\\anaconda3\\envs\\Project\\lib\\site-packages\\joblib\\parallel.py:779\u001b[0m, in \u001b[0;36mParallel._dispatch\u001b[1;34m(self, batch)\u001b[0m\n\u001b[0;32m    777\u001b[0m \u001b[39mwith\u001b[39;00m \u001b[39mself\u001b[39m\u001b[39m.\u001b[39m_lock:\n\u001b[0;32m    778\u001b[0m     job_idx \u001b[39m=\u001b[39m \u001b[39mlen\u001b[39m(\u001b[39mself\u001b[39m\u001b[39m.\u001b[39m_jobs)\n\u001b[1;32m--> 779\u001b[0m     job \u001b[39m=\u001b[39m \u001b[39mself\u001b[39;49m\u001b[39m.\u001b[39;49m_backend\u001b[39m.\u001b[39;49mapply_async(batch, callback\u001b[39m=\u001b[39;49mcb)\n\u001b[0;32m    780\u001b[0m     \u001b[39m# A job can complete so quickly than its callback is\u001b[39;00m\n\u001b[0;32m    781\u001b[0m     \u001b[39m# called before we get here, causing self._jobs to\u001b[39;00m\n\u001b[0;32m    782\u001b[0m     \u001b[39m# grow. To ensure correct results ordering, .insert is\u001b[39;00m\n\u001b[0;32m    783\u001b[0m     \u001b[39m# used (rather than .append) in the following line\u001b[39;00m\n\u001b[0;32m    784\u001b[0m     \u001b[39mself\u001b[39m\u001b[39m.\u001b[39m_jobs\u001b[39m.\u001b[39minsert(job_idx, job)\n",
                        "File \u001b[1;32mc:\\Users\\StudentAccount\\anaconda3\\envs\\Project\\lib\\site-packages\\joblib\\_parallel_backends.py:208\u001b[0m, in \u001b[0;36mSequentialBackend.apply_async\u001b[1;34m(self, func, callback)\u001b[0m\n\u001b[0;32m    206\u001b[0m \u001b[39mdef\u001b[39;00m \u001b[39mapply_async\u001b[39m(\u001b[39mself\u001b[39m, func, callback\u001b[39m=\u001b[39m\u001b[39mNone\u001b[39;00m):\n\u001b[0;32m    207\u001b[0m     \u001b[39m\"\"\"Schedule a func to be run\"\"\"\u001b[39;00m\n\u001b[1;32m--> 208\u001b[0m     result \u001b[39m=\u001b[39m ImmediateResult(func)\n\u001b[0;32m    209\u001b[0m     \u001b[39mif\u001b[39;00m callback:\n\u001b[0;32m    210\u001b[0m         callback(result)\n",
                        "File \u001b[1;32mc:\\Users\\StudentAccount\\anaconda3\\envs\\Project\\lib\\site-packages\\joblib\\_parallel_backends.py:572\u001b[0m, in \u001b[0;36mImmediateResult.__init__\u001b[1;34m(self, batch)\u001b[0m\n\u001b[0;32m    569\u001b[0m \u001b[39mdef\u001b[39;00m \u001b[39m__init__\u001b[39m(\u001b[39mself\u001b[39m, batch):\n\u001b[0;32m    570\u001b[0m     \u001b[39m# Don't delay the application, to avoid keeping the input\u001b[39;00m\n\u001b[0;32m    571\u001b[0m     \u001b[39m# arguments in memory\u001b[39;00m\n\u001b[1;32m--> 572\u001b[0m     \u001b[39mself\u001b[39m\u001b[39m.\u001b[39mresults \u001b[39m=\u001b[39m batch()\n",
                        "File \u001b[1;32mc:\\Users\\StudentAccount\\anaconda3\\envs\\Project\\lib\\site-packages\\joblib\\parallel.py:262\u001b[0m, in \u001b[0;36mBatchedCalls.__call__\u001b[1;34m(self)\u001b[0m\n\u001b[0;32m    258\u001b[0m \u001b[39mdef\u001b[39;00m \u001b[39m__call__\u001b[39m(\u001b[39mself\u001b[39m):\n\u001b[0;32m    259\u001b[0m     \u001b[39m# Set the default nested backend to self._backend but do not set the\u001b[39;00m\n\u001b[0;32m    260\u001b[0m     \u001b[39m# change the default number of processes to -1\u001b[39;00m\n\u001b[0;32m    261\u001b[0m     \u001b[39mwith\u001b[39;00m parallel_backend(\u001b[39mself\u001b[39m\u001b[39m.\u001b[39m_backend, n_jobs\u001b[39m=\u001b[39m\u001b[39mself\u001b[39m\u001b[39m.\u001b[39m_n_jobs):\n\u001b[1;32m--> 262\u001b[0m         \u001b[39mreturn\u001b[39;00m [func(\u001b[39m*\u001b[39margs, \u001b[39m*\u001b[39m\u001b[39m*\u001b[39mkwargs)\n\u001b[0;32m    263\u001b[0m                 \u001b[39mfor\u001b[39;00m func, args, kwargs \u001b[39min\u001b[39;00m \u001b[39mself\u001b[39m\u001b[39m.\u001b[39mitems]\n",
                        "File \u001b[1;32mc:\\Users\\StudentAccount\\anaconda3\\envs\\Project\\lib\\site-packages\\joblib\\parallel.py:262\u001b[0m, in \u001b[0;36m<listcomp>\u001b[1;34m(.0)\u001b[0m\n\u001b[0;32m    258\u001b[0m \u001b[39mdef\u001b[39;00m \u001b[39m__call__\u001b[39m(\u001b[39mself\u001b[39m):\n\u001b[0;32m    259\u001b[0m     \u001b[39m# Set the default nested backend to self._backend but do not set the\u001b[39;00m\n\u001b[0;32m    260\u001b[0m     \u001b[39m# change the default number of processes to -1\u001b[39;00m\n\u001b[0;32m    261\u001b[0m     \u001b[39mwith\u001b[39;00m parallel_backend(\u001b[39mself\u001b[39m\u001b[39m.\u001b[39m_backend, n_jobs\u001b[39m=\u001b[39m\u001b[39mself\u001b[39m\u001b[39m.\u001b[39m_n_jobs):\n\u001b[1;32m--> 262\u001b[0m         \u001b[39mreturn\u001b[39;00m [func(\u001b[39m*\u001b[39;49margs, \u001b[39m*\u001b[39;49m\u001b[39m*\u001b[39;49mkwargs)\n\u001b[0;32m    263\u001b[0m                 \u001b[39mfor\u001b[39;00m func, args, kwargs \u001b[39min\u001b[39;00m \u001b[39mself\u001b[39m\u001b[39m.\u001b[39mitems]\n",
                        "File \u001b[1;32mc:\\Users\\StudentAccount\\anaconda3\\envs\\Project\\lib\\site-packages\\sklearn\\utils\\fixes.py:117\u001b[0m, in \u001b[0;36m_FuncWrapper.__call__\u001b[1;34m(self, *args, **kwargs)\u001b[0m\n\u001b[0;32m    115\u001b[0m \u001b[39mdef\u001b[39;00m \u001b[39m__call__\u001b[39m(\u001b[39mself\u001b[39m, \u001b[39m*\u001b[39margs, \u001b[39m*\u001b[39m\u001b[39m*\u001b[39mkwargs):\n\u001b[0;32m    116\u001b[0m     \u001b[39mwith\u001b[39;00m config_context(\u001b[39m*\u001b[39m\u001b[39m*\u001b[39m\u001b[39mself\u001b[39m\u001b[39m.\u001b[39mconfig):\n\u001b[1;32m--> 117\u001b[0m         \u001b[39mreturn\u001b[39;00m \u001b[39mself\u001b[39;49m\u001b[39m.\u001b[39;49mfunction(\u001b[39m*\u001b[39;49margs, \u001b[39m*\u001b[39;49m\u001b[39m*\u001b[39;49mkwargs)\n",
                        "File \u001b[1;32mc:\\Users\\StudentAccount\\anaconda3\\envs\\Project\\lib\\site-packages\\sklearn\\neighbors\\_base.py:623\u001b[0m, in \u001b[0;36m_tree_query_parallel_helper\u001b[1;34m(tree, *args, **kwargs)\u001b[0m\n\u001b[0;32m    617\u001b[0m \u001b[39mdef\u001b[39;00m \u001b[39m_tree_query_parallel_helper\u001b[39m(tree, \u001b[39m*\u001b[39margs, \u001b[39m*\u001b[39m\u001b[39m*\u001b[39mkwargs):\n\u001b[0;32m    618\u001b[0m     \u001b[39m\"\"\"Helper for the Parallel calls in KNeighborsMixin.kneighbors.\u001b[39;00m\n\u001b[0;32m    619\u001b[0m \n\u001b[0;32m    620\u001b[0m \u001b[39m    The Cython method tree.query is not directly picklable by cloudpickle\u001b[39;00m\n\u001b[0;32m    621\u001b[0m \u001b[39m    under PyPy.\u001b[39;00m\n\u001b[0;32m    622\u001b[0m \u001b[39m    \"\"\"\u001b[39;00m\n\u001b[1;32m--> 623\u001b[0m     \u001b[39mreturn\u001b[39;00m tree\u001b[39m.\u001b[39;49mquery(\u001b[39m*\u001b[39;49margs, \u001b[39m*\u001b[39;49m\u001b[39m*\u001b[39;49mkwargs)\n",
                        "\u001b[1;31mKeyboardInterrupt\u001b[0m: "
                    ]
                }
            ],
            "source": [
                "delta_time=0.5\n",
                "rf_r_square_0_5 ,rf_r_square_rmse_0_5= model_obj.predict_test_dataset(file_name,delta_time,model_name)\n"
            ]
        },
        {
            "cell_type": "code",
            "execution_count": null,
            "metadata": {},
            "outputs": [
                {
                    "name": "stdout",
                    "output_type": "stream",
                    "text": [
                        "Running test Set on :Plot_Pairs_NGSIM_Data, Reaction Time 1 for Model: knn\n",
                        "File Read Complete: c:\\Users\\StudentAccount\\Python\\Capstone\\gitcodelocation\\DataDrivenCarFollowing\\datadrivencarfollowing-v1\\data/Plot_Pairs_NGSIM_Data.csv\n",
                        "Model Load Completed: c:\\Users\\StudentAccount\\Python\\Capstone\\gitcodelocation\\DataDrivenCarFollowing\\datadrivencarfollowing-v1\\data/knn1.pkg\n",
                        "Total number of unique Pairs in Test Dataset: 9\n",
                        "\n",
                        "\n",
                        "knn, Reaction Time:1 Statistics Below:\n",
                        "r_square: -0.12183959113925158\n",
                        "rmse: 1.4799852308736736\n"
                    ]
                }
            ],
            "source": [
                "delta_time=1\n",
                "rf_r_square_1 ,rf_r_square_rmse_1= model_obj.predict_test_dataset(file_name,delta_time,model_name)\n"
            ]
        },
        {
            "cell_type": "code",
            "execution_count": null,
            "metadata": {},
            "outputs": [
                {
                    "name": "stdout",
                    "output_type": "stream",
                    "text": [
                        "Running test Set on :Plot_Pairs_NGSIM_Data, Reaction Time 2 for Model: knn\n",
                        "File Read Complete: c:\\Users\\StudentAccount\\Python\\Capstone\\gitcodelocation\\DataDrivenCarFollowing\\datadrivencarfollowing-v1\\data/Plot_Pairs_NGSIM_Data.csv\n",
                        "Model Load Completed: c:\\Users\\StudentAccount\\Python\\Capstone\\gitcodelocation\\DataDrivenCarFollowing\\datadrivencarfollowing-v1\\data/knn2.pkg\n",
                        "Total number of unique Pairs in Test Dataset: 9\n",
                        "\n",
                        "\n",
                        "knn, Reaction Time:2 Statistics Below:\n",
                        "r_square: -0.21186876488122341\n",
                        "rmse: 1.533019598714897\n"
                    ]
                }
            ],
            "source": [
                "delta_time=2\n",
                "rf_r_square_2 ,rf_r_square_rmse_2= model_obj.predict_test_dataset(file_name,delta_time,model_name)\n"
            ]
        },
        {
            "cell_type": "code",
            "execution_count": null,
            "metadata": {},
            "outputs": [
                {
                    "name": "stdout",
                    "output_type": "stream",
                    "text": [
                        "Running test Set on :Plot_Pairs_NGSIM_Data, Reaction Time 5 for Model: knn\n",
                        "File Read Complete: c:\\Users\\StudentAccount\\Python\\Capstone\\gitcodelocation\\DataDrivenCarFollowing\\datadrivencarfollowing-v1\\data/Plot_Pairs_NGSIM_Data.csv\n",
                        "Model Load Completed: c:\\Users\\StudentAccount\\Python\\Capstone\\gitcodelocation\\DataDrivenCarFollowing\\datadrivencarfollowing-v1\\data/knn5.pkg\n",
                        "Total number of unique Pairs in Test Dataset: 9\n",
                        "\n",
                        "\n",
                        "knn, Reaction Time:5 Statistics Below:\n",
                        "r_square: -0.3670793977658795\n",
                        "rmse: 1.6238035627309735\n"
                    ]
                }
            ],
            "source": [
                "delta_time=5\n",
                "rf_r_square_5 ,rf_r_square_rmse_5= model_obj.predict_test_dataset(file_name,delta_time,model_name)\n"
            ]
        },
        {
            "cell_type": "code",
            "execution_count": null,
            "metadata": {},
            "outputs": [
                {
                    "name": "stdout",
                    "output_type": "stream",
                    "text": [
                        "Running test Set on :Plot_Pairs_NGSIM_Data, Reaction Time 10 for Model: knn\n",
                        "File Read Complete: c:\\Users\\StudentAccount\\Python\\Capstone\\gitcodelocation\\DataDrivenCarFollowing\\datadrivencarfollowing-v1\\data/Plot_Pairs_NGSIM_Data.csv\n",
                        "Model Load Completed: c:\\Users\\StudentAccount\\Python\\Capstone\\gitcodelocation\\DataDrivenCarFollowing\\datadrivencarfollowing-v1\\data/knn10.pkg\n",
                        "Total number of unique Pairs in Test Dataset: 9\n",
                        "\n",
                        "\n",
                        "knn, Reaction Time:10 Statistics Below:\n",
                        "r_square: -0.22807588835106452\n",
                        "rmse: 1.5355859329641326\n"
                    ]
                }
            ],
            "source": [
                "delta_time=10\n",
                "rf_r_square_10 ,rf_r_square_rmse_10= model_obj.predict_test_dataset(file_name,delta_time,model_name)"
            ]
        }
    ],
    "metadata": {
        "kernelspec": {
            "display_name": "Python 3.8.13 ('Project')",
            "language": "python",
            "name": "python3"
        },
        "language_info": {
            "codemirror_mode": {
                "name": "ipython",
                "version": 3
            },
            "file_extension": ".py",
            "mimetype": "text/x-python",
            "name": "python",
            "nbconvert_exporter": "python",
            "pygments_lexer": "ipython3",
            "version": "3.8.13"
        },
        "orig_nbformat": 4,
        "vscode": {
            "interpreter": {
                "hash": "32f9b5c64a9ffdfd44c75ce715a0c18d651d70bac5b5e0fedf911a0bbec25f03"
            }
        }
    },
    "nbformat": 4,
    "nbformat_minor": 2
}
