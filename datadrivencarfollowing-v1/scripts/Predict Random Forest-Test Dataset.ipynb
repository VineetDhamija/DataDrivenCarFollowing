{
    "cells": [
        {
            "cell_type": "markdown",
            "metadata": {},
            "source": [
                "This notebook Loads the already fitted model on the Test set to view sample dataset for Random Forest Model. \n",
                "\n",
                "Input: Already trained model and Test dataset. Variable value of delta time is the reaction time, based on which the model is loaded and executed.\n",
                "\n",
                "Possible values of delta time are: 0.1,0.2,0.3,0.5,1,2,4. These would exist only when the corresponding Save Model for various Reaction Times-* notebook has ben executed. \n",
                "\n",
                "Output: Predicted Test Dataset file for various reaction times."
            ]
        },
        {
            "cell_type": "code",
            "execution_count": 1,
            "metadata": {},
            "outputs": [
                {
                    "name": "stdout",
                    "output_type": "stream",
                    "text": [
                        "original File path: c:\\Users\\StudentAccount\\Python\\Capstone\\gitcodelocation\\DataDrivenCarFollowing\\datadrivencarfollowing-v1\\scripts\n",
                        "Data File path: c:\\Users\\StudentAccount\\Python\\Capstone\\gitcodelocation\\DataDrivenCarFollowing\\datadrivencarfollowing-v1\\data\n"
                    ]
                }
            ],
            "source": [
                "import ModelClass"
            ]
        },
        {
            "cell_type": "code",
            "execution_count": 2,
            "metadata": {},
            "outputs": [],
            "source": [
                "model_obj=ModelClass.ModelClass()"
            ]
        },
        {
            "cell_type": "code",
            "execution_count": 3,
            "metadata": {},
            "outputs": [],
            "source": [
                "\n",
                "model_name='randomForest'\n",
                "file_name='rf_test_df_' \n",
                "timeSpans=[0.1,0.2,0.3,0.5,1,2,4]"
            ]
        },
        {
            "cell_type": "code",
            "execution_count": 4,
            "metadata": {},
            "outputs": [
                {
                    "name": "stdout",
                    "output_type": "stream",
                    "text": [
                        "Running test Set on :rf_test_df_0_1, Reaction Time 0.1 for Model: randomForest\n",
                        "File Read Complete: c:\\Users\\StudentAccount\\Python\\Capstone\\gitcodelocation\\DataDrivenCarFollowing\\datadrivencarfollowing-v1\\data/rf_test_df_0_1.csv\n"
                    ]
                },
                {
                    "ename": "KeyboardInterrupt",
                    "evalue": "",
                    "output_type": "error",
                    "traceback": [
                        "\u001b[1;31m---------------------------------------------------------------------------\u001b[0m",
                        "\u001b[1;31mKeyboardInterrupt\u001b[0m                         Traceback (most recent call last)",
                        "\u001b[1;32mc:\\Users\\StudentAccount\\Python\\Capstone\\gitcodelocation\\DataDrivenCarFollowing\\datadrivencarfollowing-v1\\scripts\\Predict Random Forest-Test Dataset.ipynb Cell 5\u001b[0m in \u001b[0;36m<cell line: 1>\u001b[1;34m()\u001b[0m\n\u001b[0;32m      <a href='vscode-notebook-cell:/c%3A/Users/StudentAccount/Python/Capstone/gitcodelocation/DataDrivenCarFollowing/datadrivencarfollowing-v1/scripts/Predict%20Random%20Forest-Test%20Dataset.ipynb#ch0000005?line=0'>1</a>\u001b[0m \u001b[39mfor\u001b[39;00m delta_time \u001b[39min\u001b[39;00m timeSpans:\n\u001b[1;32m----> <a href='vscode-notebook-cell:/c%3A/Users/StudentAccount/Python/Capstone/gitcodelocation/DataDrivenCarFollowing/datadrivencarfollowing-v1/scripts/Predict%20Random%20Forest-Test%20Dataset.ipynb#ch0000005?line=1'>2</a>\u001b[0m     knn_r_square ,knn_r_square_rmse\u001b[39m=\u001b[39m model_obj\u001b[39m.\u001b[39;49mpredict_test_dataset(file_name,delta_time,model_name)\n",
                        "File \u001b[1;32m~\\Python\\Capstone\\gitcodelocation\\DataDrivenCarFollowing\\datadrivencarfollowing-v1\\src\\ModelClass.py:447\u001b[0m, in \u001b[0;36mModelClass.predict_test_dataset\u001b[1;34m(self, file_name, delta_time, model_name)\u001b[0m\n\u001b[0;32m    445\u001b[0m     model \u001b[39m=\u001b[39m file\u001b[39m.\u001b[39mread_model(model_name, delta_time, neural\u001b[39m=\u001b[39m\u001b[39mTrue\u001b[39;00m)\n\u001b[0;32m    446\u001b[0m \u001b[39melse\u001b[39;00m:\n\u001b[1;32m--> 447\u001b[0m     model \u001b[39m=\u001b[39m file\u001b[39m.\u001b[39;49mread_model(model_name, delta_time)\n\u001b[0;32m    448\u001b[0m predict_data \u001b[39m=\u001b[39m \u001b[39mself\u001b[39m\u001b[39m.\u001b[39mprediction_preprocessing(\n\u001b[0;32m    449\u001b[0m     trajectory_display, delta_time)\n\u001b[0;32m    450\u001b[0m predict_on_pair \u001b[39m=\u001b[39m \u001b[39mself\u001b[39m\u001b[39m.\u001b[39mprediction_test_pairs(predict_data, \u001b[39m0\u001b[39m, \u001b[39m9999\u001b[39m)\n",
                        "File \u001b[1;32m~\\Python\\Capstone\\gitcodelocation\\DataDrivenCarFollowing\\datadrivencarfollowing-v1\\src\\FileProcessing.py:43\u001b[0m, in \u001b[0;36mFileProcessing.read_model\u001b[1;34m(self, model_name, delta_time, neural)\u001b[0m\n\u001b[0;32m     39\u001b[0m \u001b[39melse\u001b[39;00m:\n\u001b[0;32m     40\u001b[0m     model_package_name \u001b[39m=\u001b[39m \u001b[39mself\u001b[39m\u001b[39m.\u001b[39mstringpath \u001b[39m+\u001b[39m \u001b[39m'\u001b[39m\u001b[39m/\u001b[39m\u001b[39m'\u001b[39m \u001b[39m+\u001b[39m \\\n\u001b[0;32m     41\u001b[0m         model_name \u001b[39m+\u001b[39m \u001b[39mstr\u001b[39m(delta_time) \u001b[39m+\u001b[39m \u001b[39m'\u001b[39m\u001b[39m.pkg\u001b[39m\u001b[39m'\u001b[39m\n\u001b[1;32m---> 43\u001b[0m     model \u001b[39m=\u001b[39m pickle\u001b[39m.\u001b[39;49mload(\u001b[39mopen\u001b[39;49m(model_package_name, \u001b[39m'\u001b[39;49m\u001b[39mrb\u001b[39;49m\u001b[39m'\u001b[39;49m))\n\u001b[0;32m     44\u001b[0m \u001b[39mprint\u001b[39m(\u001b[39mf\u001b[39m\u001b[39m\"\u001b[39m\u001b[39mModel Load Completed: \u001b[39m\u001b[39m{\u001b[39;00mmodel_package_name\u001b[39m}\u001b[39;00m\u001b[39m\"\u001b[39m)\n\u001b[0;32m     45\u001b[0m \u001b[39mreturn\u001b[39;00m model\n",
                        "File \u001b[1;32mc:\\Users\\StudentAccount\\anaconda3\\envs\\Project\\lib\\site-packages\\sklearn\\base.py:325\u001b[0m, in \u001b[0;36mBaseEstimator.__setstate__\u001b[1;34m(self, state)\u001b[0m\n\u001b[0;32m    322\u001b[0m     \u001b[39melse\u001b[39;00m:\n\u001b[0;32m    323\u001b[0m         \u001b[39mreturn\u001b[39;00m state\n\u001b[1;32m--> 325\u001b[0m \u001b[39mdef\u001b[39;00m \u001b[39m__setstate__\u001b[39m(\u001b[39mself\u001b[39m, state):\n\u001b[0;32m    326\u001b[0m     \u001b[39mif\u001b[39;00m \u001b[39mtype\u001b[39m(\u001b[39mself\u001b[39m)\u001b[39m.\u001b[39m\u001b[39m__module__\u001b[39m\u001b[39m.\u001b[39mstartswith(\u001b[39m\"\u001b[39m\u001b[39msklearn.\u001b[39m\u001b[39m\"\u001b[39m):\n\u001b[0;32m    327\u001b[0m         pickle_version \u001b[39m=\u001b[39m state\u001b[39m.\u001b[39mpop(\u001b[39m\"\u001b[39m\u001b[39m_sklearn_version\u001b[39m\u001b[39m\"\u001b[39m, \u001b[39m\"\u001b[39m\u001b[39mpre-0.18\u001b[39m\u001b[39m\"\u001b[39m)\n",
                        "\u001b[1;31mKeyboardInterrupt\u001b[0m: "
                    ]
                }
            ],
            "source": [
                "for delta_time in timeSpans:\n",
                "    rf_r_square ,rf_r_square_rmse= model_obj.predict_test_dataset(file_name,delta_time,model_name)"
            ]
        }
    ],
    "metadata": {
        "kernelspec": {
            "display_name": "Python 3.8.13 ('Project')",
            "language": "python",
            "name": "python3"
        },
        "language_info": {
            "codemirror_mode": {
                "name": "ipython",
                "version": 3
            },
            "file_extension": ".py",
            "mimetype": "text/x-python",
            "name": "python",
            "nbconvert_exporter": "python",
            "pygments_lexer": "ipython3",
            "version": "3.8.13"
        },
        "orig_nbformat": 4,
        "vscode": {
            "interpreter": {
                "hash": "32f9b5c64a9ffdfd44c75ce715a0c18d651d70bac5b5e0fedf911a0bbec25f03"
            }
        }
    },
    "nbformat": 4,
    "nbformat_minor": 2
}
